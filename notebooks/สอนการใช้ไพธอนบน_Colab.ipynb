{
  "nbformat": 4,
  "nbformat_minor": 0,
  "metadata": {
    "colab": {
      "provenance": []
    },
    "kernelspec": {
      "display_name": "Python 3",
      "language": "python",
      "name": "python3"
    },
    "language_info": {
      "codemirror_mode": {
        "name": "ipython",
        "version": 3
      },
      "file_extension": ".py",
      "mimetype": "text/x-python",
      "name": "python",
      "nbconvert_exporter": "python",
      "pygments_lexer": "ipython3",
      "version": "3.7.6"
    }
  },
  "cells": [
    {
      "cell_type": "markdown",
      "metadata": {
        "id": "dzNng6vCL9eP"
      },
      "source": [
        "#CS231n Python Tutorial With Google Colab"
      ]
    },
    {
      "cell_type": "markdown",
      "metadata": {
        "id": "0vJLt3JRL9eR"
      },
      "source": [
        "บทเรียนนี้ถูกเขียนขึ้นในตอนแรกโดย [Justin Johnson](https://web.eecs.umich.edu/~justincj/) สำหรับวิชา cs231n  \n",
        "และได้รับการดัดแปลงให้อยู่ในรูปแบบ Jupyter notebook สำหรับวิชา cs228 โดย  \n",
        "[Volodymyr Kuleshov](http://web.stanford.edu/~kuleshov/) และ [Isaac Caswell](https://symsys.stanford.edu/viewing/symsysaffiliate/21335)\n",
        "\n",
        "เวอร์ชันนี้ได้รับการปรับให้ใช้งานบน Colab โดย Kevin Zakka  \n",
        "สำหรับภาคฤดูใบไม้ผลิ ปี 2020 ของวิชา [cs231n](https://cs231n.github.io/)  \n",
        "โดยใช้ Python 3 เป็นค่าปริยายในการรันโค้ด\n"
      ]
    },
    {
      "cell_type": "markdown",
      "metadata": {
        "id": "qVrTo-LhL9eS"
      },
      "source": [
        "##Introduction"
      ]
    },
    {
      "cell_type": "markdown",
      "metadata": {
        "id": "9t1gKp9PL9eV"
      },
      "source": [
        "Python เป็นภาษาการเขียนโปรแกรมเอนกประสงค์ที่ยอดเยี่ยมในตัวมันเอง  \n",
        "แต่เมื่อรวมกับไลบรารียอดนิยมบางตัว เช่น `numpy`, `scipy`, `matplotlib`  \n",
        "มันจะกลายเป็นสภาพแวดล้อมอันทรงพลังสำหรับการคำนวณทางวิทยาศาสตร์\n",
        "\n",
        "เราคาดว่าผู้เรียนหลายท่านจะมีประสบการณ์กับ Python และ numpy อยู่แล้ว  \n",
        "สำหรับท่านที่ยังใหม่ เนื้อหาส่วนนี้จะเป็นบทสรุปเร่งรัด  \n",
        "ทั้งในแง่พื้นฐานของภาษา Python และการใช้งาน Python ในงานด้านวิทยาการข้อมูลและคำนวณเชิงวิทยาศาสตร์\n",
        "\n",
        "บางท่านอาจมีพื้นฐานจาก Matlab มาก่อน  \n",
        "ในกรณีนี้เราขอแนะนำให้ดูหน้า **numpy for Matlab users** ด้วย  \n",
        "<https://docs.scipy.org/doc/numpy-dev/user/numpy-for-matlab-users.html>\n"
      ]
    },
    {
      "cell_type": "markdown",
      "metadata": {
        "id": "U1PvreR9L9eW"
      },
      "source": [
        "ในบทเรียนนี้ เราจะเรียนรู้เกี่ยวกับหัวข้อหลัก ๆ ดังนี้:\n",
        "\n",
        "* **Python พื้นฐาน**: ชนิดข้อมูลพื้นฐาน (Container, List, Dictionary, Set, Tuple), ฟังก์ชัน (Functions), คลาส (Classes)\n",
        "* **Numpy**: การใช้งานอาเรย์ (Array), การเข้าถึงสมาชิกในอาเรย์ (Indexing), ชนิดข้อมูล, การคำนวณกับอาเรย์, การแพร่กระจายค่า (Broadcasting)\n",
        "* **Matplotlib**: การสร้างกราฟ, การจัดรูปแบบ subplot, การแสดงภาพ (Images)\n",
        "* **IPython**: การสร้างโน้ตบุ๊ก, กระบวนการทำงานทั่วไปในเชิงโต้ตอบ\n"
      ]
    },
    {
      "cell_type": "markdown",
      "metadata": {
        "id": "nxvEkGXPM3Xh"
      },
      "source": [
        "## 🐍 หมายเหตุสั้น ๆ เกี่ยวกับเวอร์ชันของ Python\n",
        "\n",
        "ตั้งแต่วันที่ 1 มกราคม 2020 เป็นต้นมา  \n",
        "Python ได้ [ยุติการสนับสนุนอย่างเป็นทางการ](https://www.python.org/doc/sunset-python-2/) สำหรับ `python2`\n",
        "\n",
        "สำหรับบทเรียนนี้ เราจะใช้ **Python 3.7**  \n",
        "และสามารถตรวจสอบเวอร์ชันของ Python ในเครื่องของคุณได้โดยรันคำสั่งนี้ใน command line:\n",
        "\n",
        "```bash\n",
        "python --version\n",
        "```\n",
        "\n",
        "ใน Google Colab เราสามารถกำหนดเวอร์ชัน Python โดยไปที่เมนู  \n",
        "`Runtime -> Change Runtime Type` แล้วเลือก `python3`\n",
        "\n",
        "หมายเหตุ: ณ เดือนเมษายน 2020  \n",
        "Colab ใช้ **Python 3.6.9** ซึ่งสามารถรันบทเรียนนี้ได้โดยไม่มีปัญหาใด ๆ\n"
      ]
    },
    {
      "cell_type": "code",
      "metadata": {
        "id": "1L4Am0QATgOc",
        "colab": {
          "base_uri": "https://localhost:8080/"
        },
        "outputId": "1e50c4de-8237-48fb-e36f-0d504e2769bb"
      },
      "source": [
        "!python --version"
      ],
      "execution_count": null,
      "outputs": [
        {
          "output_type": "stream",
          "name": "stdout",
          "text": [
            "Python 3.11.13\n"
          ]
        }
      ]
    },
    {
      "cell_type": "markdown",
      "metadata": {
        "id": "JAFKYgrpL9eY"
      },
      "source": [
        "##Basics of Python"
      ]
    },
    {
      "cell_type": "markdown",
      "metadata": {
        "id": "RbFS6tdgL9ea"
      },
      "source": [
        "Python เป็นภาษาการเขียนโปรแกรมระดับสูง มีการกำหนดชนิดข้อมูลแบบไดนามิก และรองรับหลายแนวทางการเขียนโปรแกรม (multiparadigm) โค้ดของ Python มักถูกกล่าวว่า 'เกือบเหมือนกับ pseudocode' เพราะสามารถแสดงแนวคิดที่ทรงพลังได้ในโค้ดเพียงไม่กี่บรรทัด และยังอ่านเข้าใจง่ายอีกด้วย ตัวอย่างเช่น ด้านล่างนี้เป็นการเขียนอัลกอริธึม quicksort แบบคลาสสิกด้วยภาษา Python:"
      ]
    },
    {
      "cell_type": "code",
      "metadata": {
        "id": "cYb0pjh1L9eb",
        "colab": {
          "base_uri": "https://localhost:8080/"
        },
        "outputId": "80d1a76f-b337-4a35-d358-16c1624dea50"
      },
      "source": [
        "def quicksort(arr):\n",
        "    if len(arr) <= 1:\n",
        "        return arr\n",
        "    pivot = arr[len(arr) // 2]\n",
        "    left = [x for x in arr if x < pivot]\n",
        "    middle = [x for x in arr if x == pivot]\n",
        "    right = [x for x in arr if x > pivot]\n",
        "    return quicksort(left) + middle + quicksort(right)\n",
        "\n",
        "print(quicksort([3,6,8,10,1,2,1]))"
      ],
      "execution_count": null,
      "outputs": [
        {
          "output_type": "stream",
          "name": "stdout",
          "text": [
            "[1, 1, 2, 3, 6, 8, 10]\n"
          ]
        }
      ]
    },
    {
      "cell_type": "markdown",
      "metadata": {
        "id": "NwS_hu4xL9eo"
      },
      "source": [
        "###Basic data types (ชนิดข้อมูลพื้นฐาน)"
      ]
    },
    {
      "cell_type": "markdown",
      "metadata": {
        "id": "DL5sMSZ9L9eq"
      },
      "source": [
        "####Numbers"
      ]
    },
    {
      "cell_type": "markdown",
      "metadata": {
        "id": "MGS0XEWoL9er"
      },
      "source": [
        "จำนวนเต็ม (integers) และจำนวนทศนิยม (floats) ทำงานได้เหมือนภาษาอื่น ๆ:\n",
        "\n",
        "หมายถึงพฤติกรรมพื้นฐานของตัวเลขในภาษา Python นั้น สอดคล้องกับภาษาโปรแกรมอื่น เช่น C++, Java หรือ JavaScript โดยทั่วไป เช่น\n",
        "\n",
        "การบวก (+), ลบ (-), คูณ (*), ยกกำลัง (**), หรือหาร (/) ทำงานตามปกติ\n",
        "\n",
        "สามารถนำตัวแปรเหล่านี้มาใช้งานหรือดำเนินการทางคณิตศาสตร์ได้ตรงไปตรงมา"
      ]
    },
    {
      "cell_type": "code",
      "metadata": {
        "id": "KheDr_zDL9es",
        "colab": {
          "base_uri": "https://localhost:8080/"
        },
        "outputId": "e667d4aa-df4b-4632-93b2-9cb1f792914b"
      },
      "source": [
        "x = 3\n",
        "print(x, type(x))"
      ],
      "execution_count": null,
      "outputs": [
        {
          "output_type": "stream",
          "name": "stdout",
          "text": [
            "3 <class 'int'>\n"
          ]
        }
      ]
    },
    {
      "cell_type": "code",
      "metadata": {
        "id": "sk_8DFcuL9ey",
        "colab": {
          "base_uri": "https://localhost:8080/"
        },
        "outputId": "7a6532ef-5341-4296-97b2-19ff2226730d"
      },
      "source": [
        "print(x + 1)   # Addition\n",
        "print(x - 1)   # Subtraction\n",
        "print(x * 2)   # Multiplication\n",
        "print(x ** 2)  # Exponentiation"
      ],
      "execution_count": null,
      "outputs": [
        {
          "output_type": "stream",
          "name": "stdout",
          "text": [
            "4\n",
            "2\n",
            "6\n",
            "9\n"
          ]
        }
      ]
    },
    {
      "cell_type": "code",
      "metadata": {
        "id": "U4Jl8K0tL9e4",
        "colab": {
          "base_uri": "https://localhost:8080/"
        },
        "outputId": "8f29b80e-dfe6-425c-ae52-28b2337d604b"
      },
      "source": [
        "x += 1  # x = x + 1\n",
        "print(x)\n",
        "x *= 2  # x = x * 2\n",
        "print(x)"
      ],
      "execution_count": null,
      "outputs": [
        {
          "output_type": "stream",
          "name": "stdout",
          "text": [
            "4\n",
            "8\n"
          ]
        }
      ]
    },
    {
      "cell_type": "code",
      "metadata": {
        "id": "w-nZ0Sg_L9e9",
        "colab": {
          "base_uri": "https://localhost:8080/"
        },
        "outputId": "22384011-fa9a-4a2c-9d27-7fe76f9ef65b"
      },
      "source": [
        "y = 2.5\n",
        "print(type(y))\n",
        "print(y, y + 1, y * 2, y ** 2)"
      ],
      "execution_count": null,
      "outputs": [
        {
          "output_type": "stream",
          "name": "stdout",
          "text": [
            "<class 'float'>\n",
            "2.5 3.5 5.0 6.25\n"
          ]
        }
      ]
    },
    {
      "cell_type": "markdown",
      "metadata": {
        "id": "r2A9ApyaL9fB"
      },
      "source": [
        "ต่างจากหลายภาษา Python ไม่มีโอเปอเรเตอร์เพิ่มค่าหรือลดค่าทีละหนึ่งในรูปแบบย่อ เช่น x++ หรือ x--\n",
        "\n",
        "นั่นหมายความว่าใน Python ต้องใช้ x += 1 หรือ x -= 1 แทนการเขียนแบบย่อในภาษาอย่าง C, Java หรือ JavaScript\n",
        "\n",
        "Python ยังมีชนิดข้อมูลในตัวสำหรับ \"จำนวนเต็มขนาดใหญ่\" (long integers) และ \"จำนวนเชิงซ้อน\" (complex numbers) สามารถดูรายละเอียดทั้งหมดได้ในเอกสารประกอบภาษา Python [documentation](https://docs.python.org/3.7/library/stdtypes.html#numeric-types-int-float-long-complex)."
      ]
    },
    {
      "cell_type": "markdown",
      "metadata": {
        "id": "EqRS7qhBL9fC"
      },
      "source": [
        "####Booleans"
      ]
    },
    {
      "cell_type": "markdown",
      "metadata": {
        "id": "Nv_LIVOJL9fD"
      },
      "source": [
        "Python มีโอเปอเรเตอร์สำหรับตรรกะบูลีน (Boolean logic) ครบถ้วนตามที่พบในภาษาโปรแกรมทั่วไป แต่ใช้ “คำภาษาอังกฤษ” แทน “สัญลักษณ์” อย่าง &&, || เป็นต้น"
      ]
    },
    {
      "cell_type": "code",
      "metadata": {
        "id": "RvoImwgGL9fE",
        "colab": {
          "base_uri": "https://localhost:8080/"
        },
        "outputId": "4599bfee-219a-4395-8466-c6fcac05bcc7"
      },
      "source": [
        "t, f = True, False\n",
        "print(type(t))"
      ],
      "execution_count": null,
      "outputs": [
        {
          "output_type": "stream",
          "name": "stdout",
          "text": [
            "<class 'bool'>\n"
          ]
        }
      ]
    },
    {
      "cell_type": "markdown",
      "metadata": {
        "id": "YQgmQfOgL9fI"
      },
      "source": [
        "ทดลอง:"
      ]
    },
    {
      "cell_type": "code",
      "metadata": {
        "id": "6zYm7WzCL9fK",
        "colab": {
          "base_uri": "https://localhost:8080/"
        },
        "outputId": "e5e47286-2fb2-4971-be81-f7637835877f"
      },
      "source": [
        "print(t and f) # Logical AND;\n",
        "print(t or f)  # Logical OR;\n",
        "print(not t)   # Logical NOT;\n",
        "print(t != f)  # Logical XOR;"
      ],
      "execution_count": null,
      "outputs": [
        {
          "output_type": "stream",
          "name": "stdout",
          "text": [
            "False\n",
            "True\n",
            "False\n",
            "True\n"
          ]
        }
      ]
    },
    {
      "cell_type": "markdown",
      "metadata": {
        "id": "UQnQWFEyL9fP"
      },
      "source": [
        "####Strings"
      ]
    },
    {
      "cell_type": "code",
      "metadata": {
        "id": "AijEDtPFL9fP",
        "colab": {
          "base_uri": "https://localhost:8080/"
        },
        "outputId": "ece0d51c-f253-4f8c-fb9b-a1ffd4d4bd71"
      },
      "source": [
        "hello = 'สวัสดีครับทุกคน'   # String literals can use single quotes\n",
        "world = \"world\"   # or double quotes; it does not matter\n",
        "print(hello, len(hello))"
      ],
      "execution_count": null,
      "outputs": [
        {
          "output_type": "stream",
          "name": "stdout",
          "text": [
            "สวัสดีครับทุกคน 15\n"
          ]
        }
      ]
    },
    {
      "cell_type": "code",
      "metadata": {
        "id": "saDeaA7hL9fT",
        "colab": {
          "base_uri": "https://localhost:8080/"
        },
        "outputId": "fc65a903-82d0-436e-d8fb-8eba4525f2e3"
      },
      "source": [
        "hw = hello + ' ' + world  # String concatenation\n",
        "print(hw)"
      ],
      "execution_count": null,
      "outputs": [
        {
          "output_type": "stream",
          "name": "stdout",
          "text": [
            "สวัสดีครับทุกคน world\n"
          ]
        }
      ]
    },
    {
      "cell_type": "code",
      "metadata": {
        "id": "Nji1_UjYL9fY",
        "colab": {
          "base_uri": "https://localhost:8080/"
        },
        "outputId": "026f5b40-6576-41ec-dcd5-a2ce4071781c"
      },
      "source": [
        "hw12 = 'ยินดีต้อนรับทุกคนเข้าสู่ห้องเรียนไพธอน {} {} {}'.format(hello, world, 12)  # string formatting\n",
        "print(hw12)"
      ],
      "execution_count": null,
      "outputs": [
        {
          "output_type": "stream",
          "name": "stdout",
          "text": [
            "ยินดีต้อนรับทุกคนเข้าสู่ห้องเรียนไพธอน สวัสดีครับทุกคน world 12\n"
          ]
        }
      ]
    },
    {
      "cell_type": "markdown",
      "metadata": {
        "id": "bUpl35bIL9fc"
      },
      "source": [
        "สตริง (String) ใน Python มีเมทอดที่มีประโยชน์มากมาย:"
      ]
    },
    {
      "cell_type": "code",
      "metadata": {
        "id": "VOxGatlsL9fd",
        "colab": {
          "base_uri": "https://localhost:8080/"
        },
        "outputId": "beb8da79-2c7a-4e8f-c012-1ea5ebc9e1f7"
      },
      "source": [
        "s = \"hello\"\n",
        "print(s.capitalize())         # ทำให้ตัวอักษรตัวแรกเป็นตัวใหญ่ → \"Hello\"\n",
        "print(s.upper())              # แปลงสตริงให้เป็นตัวพิมพ์ใหญ่ทั้งหมด → \"HELLO\"\n",
        "print(s.rjust(7))             # จัดข้อความชิดขวา โดยเพิ่มช่องว่างด้านหน้าให้ครบ 7 ตัวอักษร → \"  hello\"\n",
        "print(s.center(7))            # จัดข้อความให้อยู่ตรงกลาง โดยเว้นช่องว่างด้านซ้าย-ขวา → \" hello \"\n",
        "print(s.replace('l', '(ell)'))# แทนที่ทุกตัว 'l' ด้วย \"(ell)\" → \"he(ell)(ell)o\"\n",
        "print('  world '.strip())     # ลบช่องว่างทั้งด้านซ้ายและขวาของสตริง → \"world\"\n"
      ],
      "execution_count": null,
      "outputs": [
        {
          "output_type": "stream",
          "name": "stdout",
          "text": [
            "Hello\n",
            "HELLO\n",
            "  hello\n",
            " hello \n",
            "he(ell)(ell)o\n",
            "world\n"
          ]
        }
      ]
    },
    {
      "cell_type": "markdown",
      "metadata": {
        "id": "06cayXLtL9fi"
      },
      "source": [
        "คุณสามารถดูรายการเมทอดทั้งหมดของชนิดข้อมูลสตริง (string) ได้ใน  [เอกสารประกอบ](https://docs.python.org/3.7/library/stdtypes.html#string-methods)."
      ]
    },
    {
      "cell_type": "markdown",
      "metadata": {
        "id": "p-6hClFjL9fk"
      },
      "source": [
        "###Containers"
      ]
    },
    {
      "cell_type": "markdown",
      "metadata": {
        "id": "FD9H18eQL9fk"
      },
      "source": [
        "ภาษา Python มีชนิดข้อมูลคอนเทนเนอร์ (container types) ในตัวหลายแบบ ได้แก่: lists, dictionaries, sets, and tuples."
      ]
    },
    {
      "cell_type": "markdown",
      "metadata": {
        "id": "UsIWOe0LL9fn"
      },
      "source": [
        "####Lists"
      ]
    },
    {
      "cell_type": "markdown",
      "metadata": {
        "id": "wzxX7rgWL9fn"
      },
      "source": [
        "ในภาษา Python list เปรียบเสมือน array ในภาษาอื่น ๆ แต่มีความสามารถเพิ่มเติมที่โดดเด่นคือ:\n",
        "\n",
        "สามารถปรับขนาดได้ (resizeable): เพิ่ม หรือลบสมาชิกได้ตามต้องการโดยไม่ต้องกำหนดขนาดล่วงหน้า\n",
        "\n",
        "สามารถเก็บสมาชิกที่มีชนิดข้อมูลต่างกันได้: เช่น ตัวเลข ข้อความ หรือแม้แต่ list ซ้อนภายใน list"
      ]
    },
    {
      "cell_type": "code",
      "metadata": {
        "id": "hk3A8pPcL9fp",
        "colab": {
          "base_uri": "https://localhost:8080/"
        },
        "outputId": "2c8ad8f2-cd4a-42de-e622-f1231c0921fc"
      },
      "source": [
        "xs = [3, 1, 2]   # Create a list\n",
        "print(xs, xs[2])\n",
        "print(xs[-1])     # Negative indices count from the end of the list; prints \"2\""
      ],
      "execution_count": null,
      "outputs": [
        {
          "output_type": "stream",
          "name": "stdout",
          "text": [
            "[3, 1, 2] 2\n",
            "2\n"
          ]
        }
      ]
    },
    {
      "cell_type": "code",
      "metadata": {
        "id": "YCjCy_0_L9ft",
        "colab": {
          "base_uri": "https://localhost:8080/"
        },
        "outputId": "ce535158-cfc0-4c27-d0e2-048ee2390642"
      },
      "source": [
        "xs[2] = 'foo'    # Lists can contain elements of different types\n",
        "print(xs)"
      ],
      "execution_count": null,
      "outputs": [
        {
          "output_type": "stream",
          "name": "stdout",
          "text": [
            "[3, 1, 'foo']\n"
          ]
        }
      ]
    },
    {
      "cell_type": "code",
      "metadata": {
        "id": "vJ0x5cF-L9fx",
        "colab": {
          "base_uri": "https://localhost:8080/"
        },
        "outputId": "c5d742b8-72b1-4888-c1a4-d2cd4ce0a5d5"
      },
      "source": [
        "xs.append('bar') # Add a new element to the end of the list\n",
        "print(xs)"
      ],
      "execution_count": null,
      "outputs": [
        {
          "output_type": "stream",
          "name": "stdout",
          "text": [
            "[3, 1, 'foo', 'bar']\n"
          ]
        }
      ]
    },
    {
      "cell_type": "code",
      "metadata": {
        "id": "cxVCNRTNL9f1",
        "colab": {
          "base_uri": "https://localhost:8080/"
        },
        "outputId": "357848b6-dd12-4db7-9cf6-03fab31d3a23"
      },
      "source": [
        "x = xs.pop()     # Remove and return the last element of the list\n",
        "print(x, xs)"
      ],
      "execution_count": null,
      "outputs": [
        {
          "output_type": "stream",
          "name": "stdout",
          "text": [
            "bar [3, 1, 'foo']\n"
          ]
        }
      ]
    },
    {
      "cell_type": "markdown",
      "metadata": {
        "id": "ilyoyO34L9f4"
      },
      "source": [
        "รายละเอียดเพิมเติม [เอกสารประกอบ](https://docs.python.org/3.7/tutorial/datastructures.html#more-on-lists)."
      ]
    },
    {
      "cell_type": "markdown",
      "metadata": {
        "id": "ovahhxd_L9f5"
      },
      "source": [
        "####Slicing (การเฉือนข้อมูล)"
      ]
    },
    {
      "cell_type": "markdown",
      "metadata": {
        "id": "YeSYKhv9L9f6"
      },
      "source": [
        "นอกจากจะเข้าถึงสมาชิกใน list ทีละตัวแล้ว Python ยังมีไวยากรณ์สั้นๆ ที่ใช้เพื่อเข้าถึง “ช่วงย่อยของ list” (sublists) ได้ด้วย — เทคนิคนี้เรียกว่า slicing (การเฉือน)"
      ]
    },
    {
      "cell_type": "markdown",
      "source": [
        "ตัวอย่างการใช้งาน **Slice**"
      ],
      "metadata": {
        "id": "ub3zbnKteKqd"
      }
    },
    {
      "cell_type": "code",
      "source": [
        "print(list(range(5)))"
      ],
      "metadata": {
        "colab": {
          "base_uri": "https://localhost:8080/"
        },
        "id": "__YX-c-FevvI",
        "outputId": "d7b3b570-ad14-4d72-e40a-9d3d591e7aaf"
      },
      "execution_count": null,
      "outputs": [
        {
          "output_type": "stream",
          "name": "stdout",
          "text": [
            "[0, 1, 2, 3, 4]\n"
          ]
        }
      ]
    },
    {
      "cell_type": "code",
      "metadata": {
        "id": "ninq666bL9f6",
        "colab": {
          "base_uri": "https://localhost:8080/"
        },
        "outputId": "125e14cb-34de-4230-dc00-ada6969b6356"
      },
      "source": [
        "nums = list(range(5))    # range เป็นฟังก์ชันในตัวที่สร้างลิสต์ของจำนวนเต็ม\n",
        "\n",
        "print(nums)         # พิมพ์ \"[0, 1, 2, 3, 4]\"\n",
        "\n",
        "print(nums[2:4])    # ตัดข้อมูลจากตำแหน่งที่ 2 ถึงก่อน 4 → \"[2, 3]\"\n",
        "print(nums[2:])     # ตัดตั้งแต่ตำแหน่งที่ 2 ถึงจบ → \"[2, 3, 4]\"\n",
        "print(nums[:2])     # ตัดตั้งแต่เริ่มต้นถึงก่อนตำแหน่ง 2 → \"[0, 1]\"\n",
        "print(nums[:])      # ตัดทั้งลิสต์ → \"[0, 1, 2, 3, 4]\"\n",
        "print(nums[:-1])    # ใช้อินเด็กซ์ติดลบ: ตัดถึงตัวก่อนสุดท้าย → \"[0, 1, 2, 3]\"\n",
        "\n",
        "nums[2:4] = [8, 9] # Assign a new sublist to a slice\n",
        "print(nums)         # Prints \"[0, 1, 8, 9, 4]\""
      ],
      "execution_count": null,
      "outputs": [
        {
          "output_type": "stream",
          "name": "stdout",
          "text": [
            "[0, 1, 2, 3, 4]\n",
            "[2, 3]\n",
            "[2, 3, 4]\n",
            "[0, 1]\n",
            "[0, 1, 2, 3, 4]\n",
            "[0, 1, 2, 3]\n",
            "[0, 1, 8, 9, 4]\n"
          ]
        }
      ]
    },
    {
      "cell_type": "markdown",
      "metadata": {
        "id": "UONpMhF4L9f_"
      },
      "source": [
        "####Loops (การวนซ้ำ)"
      ]
    },
    {
      "cell_type": "markdown",
      "metadata": {
        "id": "_DYz1j6QL9f_"
      },
      "source": [
        "สามารถเขียนการวนซ้ำได้ดังตัวอย่างนี้:"
      ]
    },
    {
      "cell_type": "code",
      "metadata": {
        "id": "4cCOysfWL9gA",
        "colab": {
          "base_uri": "https://localhost:8080/"
        },
        "outputId": "71405ca9-9a20-473d-bf82-7121404b6baa"
      },
      "source": [
        "animals = ['cat', 'dog', 'monkey']\n",
        "for animal in animals:\n",
        "    print(animal)"
      ],
      "execution_count": null,
      "outputs": [
        {
          "output_type": "stream",
          "name": "stdout",
          "text": [
            "cat\n",
            "dog\n",
            "monkey\n"
          ]
        }
      ]
    },
    {
      "cell_type": "markdown",
      "metadata": {
        "id": "KxIaQs7pL9gE"
      },
      "source": [
        "หากคุณต้องการเข้าถึง **ดัชนี (index)** ของแต่ละสมาชิกในลูป  \n",
        "ให้ใช้ฟังก์ชันในตัวของ Python ที่ชื่อว่า `enumerate`:\n",
        "\n"
      ]
    },
    {
      "cell_type": "code",
      "metadata": {
        "id": "JjGnDluWL9gF",
        "colab": {
          "base_uri": "https://localhost:8080/"
        },
        "outputId": "3eab0ba5-23d1-48b9-a7db-8686bd635b1e"
      },
      "source": [
        "animals = ['cat', 'dog', 'monkey']\n",
        "for idx, animal in enumerate(animals):\n",
        "    print('#{}: {}'.format(idx + 1, animal))"
      ],
      "execution_count": null,
      "outputs": [
        {
          "output_type": "stream",
          "name": "stdout",
          "text": [
            "#1: cat\n",
            "#2: dog\n",
            "#3: monkey\n"
          ]
        }
      ]
    },
    {
      "cell_type": "markdown",
      "metadata": {
        "id": "arrLCcMyL9gK"
      },
      "source": [
        "#### การใช้งาน List Comprehensions:\n",
        "\n",
        "ในงานเขียนโปรแกรม เรามักต้องการแปลงข้อมูลจากรูปแบบหนึ่งไปเป็นอีกรูปแบบหนึ่ง  \n",
        "ตัวอย่างง่าย ๆ เช่น การหาค่ากำลังสองของตัวเลขในลิสต์:\n",
        "\n",
        "\n",
        "\n",
        "\n"
      ]
    },
    {
      "cell_type": "code",
      "metadata": {
        "id": "IVNEwoMXL9gL",
        "colab": {
          "base_uri": "https://localhost:8080/"
        },
        "outputId": "035b5226-d8db-4f81-c81d-0a2185615cde"
      },
      "source": [
        "nums = [0, 1, 2, 3, 4]\n",
        "squares = []\n",
        "for x in nums:\n",
        "    squares.append(x ** 2)\n",
        "print(squares)"
      ],
      "execution_count": null,
      "outputs": [
        {
          "output_type": "stream",
          "name": "stdout",
          "text": [
            "[0, 1, 4, 9, 16]\n"
          ]
        }
      ]
    },
    {
      "cell_type": "markdown",
      "metadata": {
        "id": "7DmKVUFaL9gQ"
      },
      "source": [
        "**สามารถเขียนโค้ดด้านบนให้สั้นลงโดยใช้ list comprehension:**"
      ]
    },
    {
      "cell_type": "code",
      "metadata": {
        "id": "kZxsUfV6L9gR",
        "colab": {
          "base_uri": "https://localhost:8080/"
        },
        "outputId": "dcd7d538-ac13-4192-a6f2-7c295772d784"
      },
      "source": [
        "nums = [0, 1, 2, 3, 4]\n",
        "squares = [x ** 2 for x in nums]\n",
        "print(squares)"
      ],
      "execution_count": null,
      "outputs": [
        {
          "output_type": "stream",
          "name": "stdout",
          "text": [
            "[0, 1, 4, 9, 16]\n"
          ]
        }
      ]
    },
    {
      "cell_type": "markdown",
      "metadata": {
        "id": "-D8ARK7tL9gV"
      },
      "source": [
        "เรายังสามารถเพิ่มเงื่อนไขลงไปใน list comprehension ได้ด้วย เช่น เลือกเฉพาะเลขคู่:"
      ]
    },
    {
      "cell_type": "code",
      "metadata": {
        "id": "yUtgOyyYL9gV",
        "colab": {
          "base_uri": "https://localhost:8080/"
        },
        "outputId": "8a72171a-8a5b-4df5-a88a-5dd900bcbf31"
      },
      "source": [
        "nums = [0, 1, 2, 3, 4]\n",
        "even_squares = [x ** 2 for x in nums if x % 2 == 0]\n",
        "print(even_squares)"
      ],
      "execution_count": null,
      "outputs": [
        {
          "output_type": "stream",
          "name": "stdout",
          "text": [
            "[0, 4, 16]\n"
          ]
        }
      ]
    },
    {
      "cell_type": "markdown",
      "metadata": {
        "id": "H8xsUEFpL9gZ"
      },
      "source": [
        "####Dictionaries (ดิกชันนารี)"
      ]
    },
    {
      "cell_type": "markdown",
      "metadata": {
        "id": "kkjAGMAJL9ga"
      },
      "source": [
        "ดิกชันนารี (Dictionary) ใน Python ใช้เก็บคู่ของ **(คีย์, ค่า)**  \n",
        "ลักษณะคล้ายกับ `Map` ในภาษา Java หรือ object ใน Javascript\n",
        "\n",
        "คุณสามารถใช้งานได้แบบนี้:"
      ]
    },
    {
      "cell_type": "code",
      "metadata": {
        "id": "XBYI1MrYL9gb",
        "colab": {
          "base_uri": "https://localhost:8080/"
        },
        "outputId": "83746098-1d31-402b-f36b-b4a670f18665"
      },
      "source": [
        "d = {'cat': 'cute', 'dog': 'furry'}  # สร้างดิกชันนารีใหม่พร้อมข้อมูลบางรายการ\n",
        "print(d['cat'])                      # เข้าถึงค่าจากคีย์ 'cat' → พิมพ์ \"cute\"\n",
        "print('cat' in d)                    # ตรวจสอบว่ามีคีย์ 'cat' อยู่ในดิกหรือไม่ → True"
      ],
      "execution_count": null,
      "outputs": [
        {
          "output_type": "stream",
          "name": "stdout",
          "text": [
            "cute\n",
            "True\n"
          ]
        }
      ]
    },
    {
      "cell_type": "code",
      "metadata": {
        "id": "pS7e-G-HL9gf",
        "colab": {
          "base_uri": "https://localhost:8080/"
        },
        "outputId": "08232460-a455-4a4d-88a8-072f7da8dd95"
      },
      "source": [
        "d['fish'] = 'wet'    # เพิ่มข้อมูลใหม่ในดิกชันนารี โดยกำหนดว่า key 'fish' มีค่าเป็น 'wet'\n",
        "print(d['fish'])      # พิมพ์ค่าของ key 'fish' ซึ่งก็คือ \"wet\""
      ],
      "execution_count": null,
      "outputs": [
        {
          "output_type": "stream",
          "name": "stdout",
          "text": [
            "wet\n"
          ]
        }
      ]
    },
    {
      "cell_type": "code",
      "metadata": {
        "id": "tFY065ItL9gi",
        "colab": {
          "base_uri": "https://localhost:8080/",
          "height": 144
        },
        "outputId": "d0094a31-8dfa-40c9-c035-dc68e7030bad"
      },
      "source": [
        "print(d['monkey'])  # เกิด KeyError: 'monkey' ไม่ใช่คีย์ที่มีอยู่ในดิกชันนารี d"
      ],
      "execution_count": null,
      "outputs": [
        {
          "output_type": "error",
          "ename": "KeyError",
          "evalue": "'monkey'",
          "traceback": [
            "\u001b[0;31m---------------------------------------------------------------------------\u001b[0m",
            "\u001b[0;31mKeyError\u001b[0m                                  Traceback (most recent call last)",
            "\u001b[0;32m/tmp/ipython-input-30-2021276783.py\u001b[0m in \u001b[0;36m<cell line: 0>\u001b[0;34m()\u001b[0m\n\u001b[0;32m----> 1\u001b[0;31m \u001b[0mprint\u001b[0m\u001b[0;34m(\u001b[0m\u001b[0md\u001b[0m\u001b[0;34m[\u001b[0m\u001b[0;34m'monkey'\u001b[0m\u001b[0;34m]\u001b[0m\u001b[0;34m)\u001b[0m  \u001b[0;31m# เกิด KeyError: 'monkey' ไม่ใช่คีย์ที่มีอยู่ในดิกชันนารี d\u001b[0m\u001b[0;34m\u001b[0m\u001b[0;34m\u001b[0m\u001b[0m\n\u001b[0m",
            "\u001b[0;31mKeyError\u001b[0m: 'monkey'"
          ]
        }
      ]
    },
    {
      "cell_type": "code",
      "metadata": {
        "id": "8TjbEWqML9gl",
        "colab": {
          "base_uri": "https://localhost:8080/"
        },
        "outputId": "39bfb84e-d988-462d-89ba-e58c4ec9e30a"
      },
      "source": [
        "print(d.get('monkey', 'ไม่พบข้อมูลคีย์นี้'))  # ดึงค่าจากคีย์ 'monkey' หากไม่มีจะคืนค่าเริ่มต้น \"N/A\"\n",
        "print(d.get('fish', 'N/A'))    # ดึงค่าจากคีย์ 'fish' หากมีอยู่จะคืนค่า \"wet\""
      ],
      "execution_count": null,
      "outputs": [
        {
          "output_type": "stream",
          "name": "stdout",
          "text": [
            "ไม่พบข้อมูลคีย์นี้\n",
            "wet\n"
          ]
        }
      ]
    },
    {
      "cell_type": "code",
      "metadata": {
        "id": "0EItdNBJL9go",
        "colab": {
          "base_uri": "https://localhost:8080/"
        },
        "outputId": "67133006-f060-46fe-8ab5-fc3c8dbe8e57"
      },
      "source": [
        "del d['fish']        # ลบสมาชิกที่มีคีย์เป็น 'fish' ออกจากดิกชันนารี\n",
        "print(d.get('fish', 'N/A')) # 'fish' ไม่มีอยู่ในดิกแล้ว จึงคืนค่าเริ่มต้น \"N/A\""
      ],
      "execution_count": null,
      "outputs": [
        {
          "output_type": "stream",
          "name": "stdout",
          "text": [
            "N/A\n"
          ]
        }
      ]
    },
    {
      "cell_type": "markdown",
      "metadata": {
        "id": "wqm4dRZNL9gr"
      },
      "source": [
        "รายละเอียดอื่นๆของ ดิกชันนารี อ่านเพิ่มเติม [เอกสารประกอบ](https://docs.python.org/2/library/stdtypes.html#dict)."
      ]
    },
    {
      "cell_type": "markdown",
      "metadata": {
        "id": "IxwEqHlGL9gr"
      },
      "source": [
        "การวนลูปผ่านคีย์ในดิกชันนารีสามารถทำได้อย่างง่ายดาย:"
      ]
    },
    {
      "cell_type": "code",
      "metadata": {
        "id": "rYfz7ZKNL9gs",
        "colab": {
          "base_uri": "https://localhost:8080/"
        },
        "outputId": "98b42f09-1206-4eda-be48-5b0861e5aff6"
      },
      "source": [
        "d = {'person': 2, 'cat': 4, 'spider': 8}\n",
        "for animal, legs in d.items():\n",
        "    print('A {} has {} legs'.format(animal, legs))"
      ],
      "execution_count": null,
      "outputs": [
        {
          "output_type": "stream",
          "name": "stdout",
          "text": [
            "A person has 2 legs\n",
            "A cat has 4 legs\n",
            "A spider has 8 legs\n"
          ]
        }
      ]
    },
    {
      "cell_type": "markdown",
      "metadata": {
        "id": "17sxiOpzL9gz"
      },
      "source": [
        "#### การใช้งาน Dictionary Comprehensions:\n",
        "\n",
        "รูปแบบนี้คล้ายกับ list comprehensions  \n",
        "แต่ใช้สำหรับสร้าง **dictionary (พจนานุกรม)**"
      ]
    },
    {
      "cell_type": "code",
      "metadata": {
        "id": "8PB07imLL9gz",
        "colab": {
          "base_uri": "https://localhost:8080/"
        },
        "outputId": "7643a917-b63c-4e67-9388-28295239564a"
      },
      "source": [
        "nums = [0, 1, 2, 3, 4]\n",
        "even_num_to_square = {x: x ** 2 for x in nums if x % 2 == 0}\n",
        "print(even_num_to_square)\n",
        "\n",
        "#อธิบาย:\n",
        "#- เราสร้าง dictionary โดยใช้ค่าจากลิสต์ `nums`\n",
        "#- `x: x ** 2` หมายถึงให้ `x` เป็นคีย์ และ `x²` เป็นค่า\n",
        "#- เงื่อนไข `if x % 2 == 0` กรองเฉพาะเลขคู่เท่านั้น\n",
        "#เหมาะสำหรับกรองและแปลงข้อมูลในขั้นตอนเดียวอย่างมีประสิทธิภาพ\n"
      ],
      "execution_count": null,
      "outputs": [
        {
          "output_type": "stream",
          "name": "stdout",
          "text": [
            "{0: 0, 2: 4, 4: 16}\n"
          ]
        }
      ]
    },
    {
      "cell_type": "markdown",
      "metadata": {
        "id": "V9MHfUdvL9g2"
      },
      "source": [
        "####Sets"
      ]
    },
    {
      "cell_type": "markdown",
      "metadata": {
        "id": "Rpm4UtNpL9g2"
      },
      "source": [
        "ชุดข้อมูล (Set) คือ **กลุ่มของสมาชิกที่ไม่เรียงลำดับ** และ **ไม่มีสมาชิกซ้ำกัน**\n",
        "\n",
        "ลักษณะสำคัญของ `set`:\n",
        "- ไม่รับประกันลำดับของข้อมูล\n",
        "- ไม่สามารถเก็บข้อมูลซ้ำกันได้\n",
        "- เหมาะสำหรับการตรวจสอบสมาชิก หรือดำเนินการทางเซต เช่น การรวม, ตัดกัน, ต่างกัน"
      ]
    },
    {
      "cell_type": "code",
      "metadata": {
        "id": "MmyaniLsL9g2",
        "colab": {
          "base_uri": "https://localhost:8080/"
        },
        "outputId": "c924b1b6-b0f0-4032-dace-ccb7939f1225"
      },
      "source": [
        "animals = {'cat', 'dog'}\n",
        "print('cat' in animals)   # ตรวจสอบว่า 'cat' อยู่ในเซต → True\n",
        "print('fish' in animals)  # → False\n"
      ],
      "execution_count": null,
      "outputs": [
        {
          "output_type": "stream",
          "name": "stdout",
          "text": [
            "True\n",
            "False\n"
          ]
        }
      ]
    },
    {
      "cell_type": "code",
      "metadata": {
        "id": "ElJEyK86L9g6",
        "colab": {
          "base_uri": "https://localhost:8080/"
        },
        "outputId": "f6e07d42-f7db-43c2-dfec-bbd938098d0c"
      },
      "source": [
        "animals.add('fish')      # เพิ่มสมาชิก 'fish' เข้าไปในเซต\n",
        "print('fish' in animals) # ตรวจสอบว่า 'fish' อยู่ในเซตหรือไม่ → True\n",
        "print(len(animals))      # พิมพ์จำนวนสมาชิกทั้งหมดในเซต"
      ],
      "execution_count": null,
      "outputs": [
        {
          "output_type": "stream",
          "name": "stdout",
          "text": [
            "True\n",
            "3\n"
          ]
        }
      ]
    },
    {
      "cell_type": "code",
      "metadata": {
        "id": "5uGmrxdPL9g9",
        "colab": {
          "base_uri": "https://localhost:8080/"
        },
        "outputId": "9cc5b5f1-9cd9-490f-ea96-8891342816dd"
      },
      "source": [
        "animals.add('cat')       # การเพิ่มสมาชิก 'cat' ที่มีอยู่แล้วในเซตจะไม่เกิดผลใด ๆ\n",
        "print(len(animals))      # พิมพ์จำนวนสมาชิกทั้งหมดในเซต (ไม่มีการเปลี่ยนแปลงจากบรรทัดบน)\n",
        "\n",
        "animals.remove('cat')    # ลบสมาชิก 'cat' ออกจากเซต\n",
        "print(len(animals))      # พิมพ์จำนวนสมาชิกในเซตหลังจากลบ (ลดลง 1)"
      ],
      "execution_count": null,
      "outputs": [
        {
          "output_type": "stream",
          "name": "stdout",
          "text": [
            "3\n",
            "2\n"
          ]
        }
      ]
    },
    {
      "cell_type": "markdown",
      "metadata": {
        "id": "zk2DbvLKL9g_"
      },
      "source": [
        "#### _ลูป_: การวนซ้ำผ่านเซต (Set)\n",
        "\n",
        "การวนซ้ำสมาชิกในเซตสามารถใช้ไวยากรณ์เดียวกันกับลิสต์ได้\n",
        "แต่สิ่งสำคัญคือ:  \n",
        "**เซตเป็นข้อมูลที่ไม่เรียงลำดับ (unordered)**  \n",
        "ดังนั้นคุณ **ไม่สามารถคาดเดาลำดับของสมาชิก** ที่จะถูกวนซ้ำได้\n",
        "\n",
        "ผลลัพธ์ของลูปอาจแตกต่างกันไปทุกครั้งที่รัน แม้ข้อมูลจะเหมือนเดิม"
      ]
    },
    {
      "cell_type": "code",
      "metadata": {
        "id": "K47KYNGyL9hA",
        "colab": {
          "base_uri": "https://localhost:8080/"
        },
        "outputId": "d2a76024-a4fb-4ab8-9a94-c24c7bed0776"
      },
      "source": [
        "animals = {'cat', 'dog', 'fish'}\n",
        "for idx, animal in enumerate(animals):\n",
        "    print('#{}: {}'.format(idx + 1, animal))"
      ],
      "execution_count": null,
      "outputs": [
        {
          "output_type": "stream",
          "name": "stdout",
          "text": [
            "#1: fish\n",
            "#2: dog\n",
            "#3: cat\n"
          ]
        }
      ]
    },
    {
      "cell_type": "markdown",
      "metadata": {
        "id": "puq4S8buL9hC"
      },
      "source": [
        "#### Set Comprehensions: การสร้างเซตแบบกระชับ\n",
        "\n",
        "เช่นเดียวกับ `list` และ `dictionary`  \n",
        "เราสามารถสร้าง `set` ได้อย่างง่ายดายโดยใช้ **set comprehension**"
      ]
    },
    {
      "cell_type": "code",
      "metadata": {
        "id": "iw7k90k3L9hC",
        "colab": {
          "base_uri": "https://localhost:8080/"
        },
        "outputId": "a97f93d9-fd8e-4aa7-8a2f-fba683d2e8b8"
      },
      "source": [
        "from math import sqrt\n",
        "print({int(sqrt(x)) for x in range(30)})"
      ],
      "execution_count": null,
      "outputs": [
        {
          "output_type": "stream",
          "name": "stdout",
          "text": [
            "{0, 1, 2, 3, 4, 5}\n"
          ]
        }
      ]
    },
    {
      "cell_type": "markdown",
      "source": [
        "**อธิบาย:**\n",
        "- วนค่าจาก `x = 0` ถึง `29`\n",
        "- คำนวณ `sqrt(x)` และแปลงเป็นจำนวนเต็มด้วย `int()`\n",
        "- ใส่ลงใน `set` ซึ่งจะ **ตัดค่าที่ซ้ำกันอัตโนมัติ**\n",
        "\n",
        "**เหมาะสำหรับ:**\n",
        "- สร้างเซตที่กรองค่า\n",
        "- แปลงค่าทั้งชุดแบบกระชับในบรรทัดเดียว"
      ],
      "metadata": {
        "id": "mq1847NrzXGV"
      }
    },
    {
      "cell_type": "markdown",
      "metadata": {
        "id": "qPsHSKB1L9hF"
      },
      "source": [
        "####Tuples"
      ]
    },
    {
      "cell_type": "markdown",
      "metadata": {
        "id": "kucc0LKVL9hG"
      },
      "source": [
        "#### Tuples (ทูเพิล)\n",
        "\n",
        "**Tuple** คือ ลิสต์ของค่าที่เรียงลำดับแล้ว และ **ไม่สามารถเปลี่ยนแปลงได้** (immutable)  \n",
        "มีความคล้ายกับ `list` แต่มีข้อแตกต่างสำคัญบางประการ:\n",
        "\n",
        "- Tuple สามารถใช้เป็น **คีย์ใน dictionary** ได้ (lists ใช้ไม่ได้)\n",
        "- Tuple สามารถเป็นสมาชิกของ `set` ได้\n",
        "- เหมาะกับการเก็บข้อมูลที่ไม่ควรเปลี่ยนแปลง เช่น พิกัด, คู่ค่า, ค่าคงที่\n",
        "\n",
        "\n",
        "\n",
        "❗ หมายเหตุ: การพยายามเปลี่ยนค่าใน tuple จะทำให้เกิดข้อผิดพลาด:\n",
        "\n",
        "```python\n",
        "t[0] = 1  # TypeError: 'tuple' object does not support item assignment\n",
        "```\n",
        "\n",
        "Tuple จึงเหมาะกับข้อมูลที่ไม่ควรถูกแก้ไขในภายหลัง  \n",
        "เช่น พิกัดตำแหน่ง `(x, y)`, คู่ค่าคงที่ หรือค่าที่ใช้เป็นดัชนีหลัก\n"
      ]
    },
    {
      "cell_type": "code",
      "metadata": {
        "id": "9wHUyTKxL9hH",
        "colab": {
          "base_uri": "https://localhost:8080/"
        },
        "outputId": "18b9b989-fea5-47a1-9fc8-5753d733a5cc"
      },
      "source": [
        "d = {(x, x + 1): x for x in range(10)}  # สร้าง dictionary โดยใช้ tuple เป็นคีย์ เช่น (0,1), (1,2), ..., (9,10) โดยแต่ละค่าใน dict จะเป็น x\n",
        "t = (5, 6)       # สร้าง tuple ที่มีค่า (5, 6)\n",
        "print(type(t))   # แสดงชนิดข้อมูลของตัวแปร t → <class 'tuple'>\n",
        "print(d[t])      # เข้าถึงค่าจาก dict โดยใช้คีย์เป็น tuple (5,6) → คืนค่า 5\n",
        "print(d[(1, 2)]) # เข้าถึงค่าจาก dict โดยใช้คีย์เป็น tuple (1,2) → คืนค่า 1\n"
      ],
      "execution_count": null,
      "outputs": [
        {
          "output_type": "stream",
          "name": "stdout",
          "text": [
            "<class 'tuple'>\n",
            "5\n",
            "1\n"
          ]
        }
      ]
    },
    {
      "cell_type": "code",
      "metadata": {
        "id": "HoO8zYKzL9hJ",
        "colab": {
          "base_uri": "https://localhost:8080/",
          "height": 144
        },
        "outputId": "91f5d2bd-be6a-49ca-9118-7f8d2d910e52"
      },
      "source": [
        "t[0] = 1"
      ],
      "execution_count": null,
      "outputs": [
        {
          "output_type": "error",
          "ename": "TypeError",
          "evalue": "'tuple' object does not support item assignment",
          "traceback": [
            "\u001b[0;31m---------------------------------------------------------------------------\u001b[0m",
            "\u001b[0;31mTypeError\u001b[0m                                 Traceback (most recent call last)",
            "\u001b[0;32m/tmp/ipython-input-65-1253691622.py\u001b[0m in \u001b[0;36m<cell line: 0>\u001b[0;34m()\u001b[0m\n\u001b[0;32m----> 1\u001b[0;31m \u001b[0mt\u001b[0m\u001b[0;34m[\u001b[0m\u001b[0;36m0\u001b[0m\u001b[0;34m]\u001b[0m \u001b[0;34m=\u001b[0m \u001b[0;36m1\u001b[0m\u001b[0;34m\u001b[0m\u001b[0;34m\u001b[0m\u001b[0m\n\u001b[0m",
            "\u001b[0;31mTypeError\u001b[0m: 'tuple' object does not support item assignment"
          ]
        }
      ]
    },
    {
      "cell_type": "markdown",
      "metadata": {
        "id": "AXA4jrEOL9hM"
      },
      "source": [
        "###Functions"
      ]
    },
    {
      "cell_type": "markdown",
      "metadata": {
        "id": "WaRms-QfL9hN"
      },
      "source": [
        "ฟังก์ชันใน Python ถูกนิยามด้วยคำสงวน `def`  \n",
        "ตัวอย่างการประกาศและใช้งานฟังก์ชัน:"
      ]
    },
    {
      "cell_type": "code",
      "metadata": {
        "id": "kiMDUr58L9hN",
        "colab": {
          "base_uri": "https://localhost:8080/"
        },
        "outputId": "00d92389-0f87-4f4e-a46c-7093258719fc"
      },
      "source": [
        "def sign(x):\n",
        "    if x > 0:\n",
        "        return 'positive'\n",
        "    elif x < 0:\n",
        "        return 'negative'\n",
        "    else:\n",
        "        return 'zero'\n",
        "\n",
        "for x in [-1, 0, 1]:\n",
        "    print(sign(x))"
      ],
      "execution_count": null,
      "outputs": [
        {
          "output_type": "stream",
          "name": "stdout",
          "text": [
            "negative\n",
            "zero\n",
            "positive\n"
          ]
        }
      ]
    },
    {
      "cell_type": "markdown",
      "metadata": {
        "id": "U-QJFt8TL9hR"
      },
      "source": [
        "เรามักนิยามฟังก์ชันให้สามารถรับ **อาร์กิวเมนต์แบบกำหนดค่าเริ่มต้น (keyword arguments)** ได้  \n",
        "ตัวอย่าง:"
      ]
    },
    {
      "cell_type": "code",
      "metadata": {
        "id": "PfsZ3DazL9hR",
        "colab": {
          "base_uri": "https://localhost:8080/"
        },
        "outputId": "89e492cd-001f-4140-b84d-3149193fb411"
      },
      "source": [
        "def hello(name, loud=False):\n",
        "    if loud:\n",
        "        print('HELLO, {}'.format(name.upper()))\n",
        "    else:\n",
        "        print('Hello, {}!'.format(name))\n",
        "\n",
        "hello('Bob')\n",
        "hello('Fred', loud=True)"
      ],
      "execution_count": null,
      "outputs": [
        {
          "output_type": "stream",
          "name": "stdout",
          "text": [
            "Hello, Bob!\n",
            "HELLO, FRED\n"
          ]
        }
      ]
    },
    {
      "cell_type": "markdown",
      "source": [
        "คำอธิบาย:\n",
        "- `loud=False` คือค่าตั้งต้นของอาร์กิวเมนต์ `loud`\n",
        "- ผู้ใช้สามารถเลือกไม่ระบุค่าดังกล่าว ฟังก์ชันจะใช้ค่าเริ่มต้นให้\n",
        "- เหมาะกับการควบคุมพฤติกรรมเพิ่มเติมของฟังก์ชัน โดยไม่บังคับให้ระบุทุกอาร์กิวเมนต์"
      ],
      "metadata": {
        "id": "Y0FPVNI_0oqd"
      }
    },
    {
      "cell_type": "markdown",
      "metadata": {
        "id": "ObA9PRtQL9hT"
      },
      "source": [
        "###Classes"
      ]
    },
    {
      "cell_type": "markdown",
      "metadata": {
        "id": "hAzL_lTkL9hU"
      },
      "source": [
        "ไวยากรณ์สำหรับการนิยามคลาสในภาษา Python นั้นเข้าใจง่าย"
      ]
    },
    {
      "cell_type": "code",
      "metadata": {
        "id": "RWdbaGigL9hU",
        "colab": {
          "base_uri": "https://localhost:8080/"
        },
        "outputId": "10480c1f-e756-49db-c7cd-8bbbc926bb14"
      },
      "source": [
        "class Greeter:\n",
        "\n",
        "    # Constructor\n",
        "    def __init__(self, name):\n",
        "        self.name = name  # Create an instance variable\n",
        "\n",
        "    # Instance method\n",
        "    def greet(self, loud=False):\n",
        "        if loud:\n",
        "          print('HELLO, {}'.format(self.name.upper()))\n",
        "        else:\n",
        "          print('Hello, {}!'.format(self.name))\n",
        "\n",
        "g = Greeter('Fred')  # Construct an instance of the Greeter class\n",
        "g.greet()            # Call an instance method; prints \"Hello, Fred\"\n",
        "g.greet(loud=True)   # Call an instance method; prints \"HELLO, FRED!\"\n",
        "\n",
        "\n",
        "anusorn = Greeter(\"Anusorn\")\n",
        "anusorn.greet()\n",
        "\n"
      ],
      "execution_count": null,
      "outputs": [
        {
          "output_type": "stream",
          "name": "stdout",
          "text": [
            "Hello, Fred!\n",
            "HELLO, FRED\n",
            "Hello, Anusorn!\n"
          ]
        }
      ]
    },
    {
      "cell_type": "code",
      "source": [
        "# prompt: create class Animal with speak method and can print \"Qack\" if name of animal is \"duck\"\n",
        "\n",
        "class Animal:\n",
        "  def __init__(self, name):\n",
        "    self.name = name\n",
        "\n",
        "  def speak(self):\n",
        "    if self.name.lower() == \"duck\":\n",
        "      print(\"Quack\")\n",
        "    else:\n",
        "      print(\"Generic animal sound\")\n",
        "\n",
        "# Example usage:\n",
        "duck = Animal(\"duck\")\n",
        "duck.speak()\n",
        "\n",
        "dog = Animal(\"dog\")\n",
        "dog.speak()"
      ],
      "metadata": {
        "colab": {
          "base_uri": "https://localhost:8080/"
        },
        "id": "5kCgqi32vhpb",
        "outputId": "0fe0dc88-938f-42b6-ffe4-22e2257c475f"
      },
      "execution_count": null,
      "outputs": [
        {
          "output_type": "stream",
          "name": "stdout",
          "text": [
            "Quack\n",
            "Generic animal sound\n"
          ]
        }
      ]
    },
    {
      "cell_type": "markdown",
      "metadata": {
        "id": "3cfrOV4dL9hW"
      },
      "source": [
        "##Numpy"
      ]
    },
    {
      "cell_type": "markdown",
      "metadata": {
        "id": "fY12nHhyL9hX"
      },
      "source": [
        "### Numpy\n",
        "\n",
        "**Numpy** คือไลบรารีหลักสำหรับการคำนวณเชิงวิทยาศาสตร์ในภาษา Python  \n",
        "มันมีจุดเด่นคือ **อ็อบเจกต์อาร์เรย์หลายมิติ** (multidimensional array) ที่มีประสิทธิภาพสูง  \n",
        "พร้อมทั้งเครื่องมือมากมายที่ช่วยให้สามารถประมวลผลและจัดการข้อมูลในรูปแบบอาร์เรย์ได้อย่างสะดวก [tutorial](http://wiki.scipy.org/NumPy_for_Matlab_Users) เป็นแนวทางที่ดีในการเริ่มต้นใช้งาน Numpy ได้อย่างรวดเร็ว"
      ]
    },
    {
      "cell_type": "markdown",
      "metadata": {
        "id": "lZMyAdqhL9hY"
      },
      "source": [
        "ในการใช้งาน Numpy เราต้องทำการ **นำเข้า (import)** ไลบรารี `numpy` เข้ามาก่อน:"
      ]
    },
    {
      "cell_type": "code",
      "metadata": {
        "id": "58QdX8BLL9hZ"
      },
      "source": [
        "import numpy as np"
      ],
      "execution_count": null,
      "outputs": []
    },
    {
      "cell_type": "markdown",
      "source": [
        "คำอธิบาย:\n",
        "- `import numpy` คือการนำไลบรารี numpy เข้ามาใช้\n",
        "- `as np` คือการตั้งชื่อย่อ เพื่อให้ใช้งานได้สะดวก เช่น `np.array()` แทนที่จะต้องพิมพ์ `numpy.array()`\n",
        "\n",
        "นี่เป็นแนวปฏิบัติมาตรฐานที่นิยมใช้กันในวงกว้างในงานด้านวิทยาศาสตร์ข้อมูลและการคำนวณเชิงตัวเลข"
      ],
      "metadata": {
        "id": "wGVHE3Ux1Xg5"
      }
    },
    {
      "cell_type": "markdown",
      "metadata": {
        "id": "DDx6v1EdL9hb"
      },
      "source": [
        "###Arrays"
      ]
    },
    {
      "cell_type": "markdown",
      "metadata": {
        "id": "f-Zv3f7LL9hc"
      },
      "source": [
        "### อาร์เรย์ของ Numpy\n",
        "\n",
        "**อาร์เรย์ใน Numpy** คือ ตารางของค่าที่มีชนิดข้อมูลเดียวกันทั้งหมด  \n",
        "และสามารถเข้าถึงสมาชิกได้ด้วย **tuple ของจำนวนเต็มที่ไม่ติดลบ**\n",
        "\n",
        "- จำนวนมิติของอาร์เรย์เรียกว่า **อันดับ (rank)**  \n",
        "- ขนาดของอาร์เรย์ในแต่ละมิติ เรียกว่า **shape** ซึ่งมีลักษณะเป็น tuple ของจำนวนเต็ม  \n",
        "  เช่น `(3, 4)` หมายถึงอาร์เรย์ 2 มิติที่มี 3 แถว 4 คอลัมน์\n",
        "\n",
        "**ตัวอย่าง**:\n",
        "\n",
        "```python\n",
        "import numpy as np\n",
        "\n",
        "a = np.array([[1, 2, 3], [4, 5, 6]])\n",
        "print(\"Shape:\", a.shape)  # (2, 3)\n",
        "print(\"Rank (ndim):\", a.ndim)  # 2\n",
        "```\n",
        "ผลลัพธ์:\n",
        "```\n",
        "Shape: (2, 3)\n",
        "Rank (ndim): 2\n",
        "```\n"
      ]
    },
    {
      "cell_type": "code",
      "source": [
        "import numpy as np"
      ],
      "metadata": {
        "id": "GfP3xb_Z3aHE"
      },
      "execution_count": null,
      "outputs": []
    },
    {
      "cell_type": "markdown",
      "metadata": {
        "id": "_eMTRnZRL9hc"
      },
      "source": [
        "เราสามารถสร้าง **อาร์เรย์ของ Numpy** ได้โดยใช้ **ลิสต์ซ้อน (nested lists)**  \n",
        "และเข้าถึงสมาชิกของอาร์เรย์เหล่านั้นด้วย **วงเล็บเหลี่ยม** (`[]`)"
      ]
    },
    {
      "cell_type": "code",
      "metadata": {
        "id": "-l3JrGxCL9hc",
        "colab": {
          "base_uri": "https://localhost:8080/"
        },
        "outputId": "84f7e18b-7d94-484a-f7e4-855d086c4adf"
      },
      "source": [
        "a = np.array([1, 2, 3])  # สร้างอาร์เรย์แบบ 1 มิติ (rank 1 array) ที่มีสมาชิก [1, 2, 3]\n",
        "\n",
        "# พิมพ์ชนิดของตัวแปร (ndarray), รูปร่างของอาร์เรย์ (3,), และค่าที่ตำแหน่ง 0, 1, 2\n",
        "print(type(a), a.shape, a[0], a[1], a[2])\n",
        "\n",
        "a[0] = 5  # เปลี่ยนค่าที่ตำแหน่ง index 0 จาก 1 → 5\n",
        "print(a)  # พิมพ์อาร์เรย์ใหม่ → [5 2 3]\n"
      ],
      "execution_count": null,
      "outputs": [
        {
          "output_type": "stream",
          "name": "stdout",
          "text": [
            "<class 'numpy.ndarray'> (3,) 1 2 3\n",
            "[5 2 3]\n"
          ]
        }
      ]
    },
    {
      "cell_type": "code",
      "metadata": {
        "id": "ma6mk-kdL9hh"
      },
      "source": [
        "b = np.array([[1, 2, 3], [4, 5, 6]])  # สร้างอาร์เรย์ 2 มิติ (rank 2 array) ขนาด 2 แถว 3 คอลัมน์\n",
        "print(b)                             # พิมพ์อาร์เรย์ออกมา"
      ],
      "execution_count": null,
      "outputs": []
    },
    {
      "cell_type": "code",
      "metadata": {
        "id": "ymfSHAwtL9hj"
      },
      "source": [
        "print(b.shape)\n",
        "print(b[0, 0], b[0, 1], b[1, 0])"
      ],
      "execution_count": null,
      "outputs": []
    },
    {
      "cell_type": "markdown",
      "metadata": {
        "id": "F2qwdyvuL9hn"
      },
      "source": [
        "### Numpy ยังมีฟังก์ชันมากมายสำหรับสร้างอาร์เรย์\n",
        "\n",
        "นอกจาก `np.array()` แล้ว Numpy ยังให้ฟังก์ชันสำเร็จรูปที่ช่วยสร้างอาร์เรย์ในรูปแบบต่าง ๆ ได้สะดวก เช่น:\n",
        "\n",
        "```python\n",
        "import numpy as np\n",
        "\n",
        "a = np.zeros((2, 2))       # สร้างอาร์เรย์ 2×2 ที่มีค่าเป็น 0 ทั้งหมด\n",
        "b = np.ones((1, 2))        # สร้างอาร์เรย์ 1×2 ที่มีค่าเป็น 1 ทั้งหมด\n",
        "c = np.full((2, 2), 7)     # สร้างอาร์เรย์ 2×2 ที่มีค่าเป็น 7\n",
        "d = np.eye(2)              # สร้างเมทริกซ์เอกลักษณ์ (identity matrix) ขนาด 2×2\n",
        "e = np.random.random((2, 2)) # สร้างอาร์เรย์ 2×2 ที่มีค่าระหว่าง 0 ถึง 1 แบบสุ่ม\n",
        "```\n",
        "\n",
        "ผลลัพธ์:\n",
        "```python\n",
        "print(a)\n",
        "# [[0. 0.]\n",
        "#  [0. 0.]]\n",
        "```\n",
        "\n",
        "ฟังก์ชันเหล่านี้ช่วยให้คุณสร้างอาร์เรย์เพื่อใช้ในการทดลองหรือเตรียมข้อมูลเบื้องต้นได้อย่างรวดเร็ว  \n",
        "หากต้องการให้ผมแปลหรือสาธิต `np.arange()`, `linspace()`, หรือการใช้ `reshape()` ต่อก็ได้นะครับ 😄📐\n"
      ]
    },
    {
      "cell_type": "code",
      "metadata": {
        "id": "mVTN_EBqL9hn",
        "colab": {
          "base_uri": "https://localhost:8080/"
        },
        "outputId": "6ac738fb-a0db-41ad-afbe-b0904d8425ba"
      },
      "source": [
        "a = np.zeros((2,2))  # สร้างอาร์เรย์ 2×2 ที่มีค่าเป็น 0 ทั้งหมด\n",
        "print(a)"
      ],
      "execution_count": null,
      "outputs": [
        {
          "output_type": "stream",
          "name": "stdout",
          "text": [
            "[[0. 0.]\n",
            " [0. 0.]]\n"
          ]
        }
      ]
    },
    {
      "cell_type": "code",
      "metadata": {
        "id": "skiKlNmlL9h5",
        "colab": {
          "base_uri": "https://localhost:8080/"
        },
        "outputId": "e8332fd8-c967-41be-fa67-49f4b2ac7f41"
      },
      "source": [
        "b = np.ones((5,5))   # สร้างอาร์เรย์ 1×2 ที่มีค่าเป็น 1 ทั้งหมด\n",
        "print(b)"
      ],
      "execution_count": null,
      "outputs": [
        {
          "output_type": "stream",
          "name": "stdout",
          "text": [
            "[[1. 1. 1. 1. 1.]\n",
            " [1. 1. 1. 1. 1.]\n",
            " [1. 1. 1. 1. 1.]\n",
            " [1. 1. 1. 1. 1.]\n",
            " [1. 1. 1. 1. 1.]]\n"
          ]
        }
      ]
    },
    {
      "cell_type": "markdown",
      "source": [
        "### เมทริกซ์เอกลักษณ์ (Identity Matrix)\n",
        "\n",
        "**เมทริกซ์เอกลักษณ์** คือ **เมทริกซ์จัตุรัส** (มีแถวเท่ากับคอลัมน์)  \n",
        "ที่มีค่าเป็น `1` บนแนวทแยงมุมหลัก (จากซ้ายบนไปขวาล่าง)  \n",
        "และเป็น `0` ในตำแหน่งอื่น ๆ\n",
        "\n",
        "ตัวอย่าง:\n",
        "\n",
        "```python\n",
        "import numpy as np\n",
        "I = np.eye(3)\n",
        "print(I)\n",
        "```\n",
        "\n",
        "ผลลัพธ์:\n",
        "```\n",
        "[[1. 0. 0.]\n",
        " [0. 1. 0.]\n",
        " [0. 0. 1.]]\n",
        "```\n",
        "\n",
        "คุณสมบัติสำคัญของเมทริกซ์เอกลักษณ์ `I`:\n",
        "- `A × I = A` สำหรับเมทริกซ์ `A` ที่ขนาดตรงกัน\n",
        "- เป็น **เหมือนเลข 1 ของการคูณเมทริกซ์**\n",
        "\n",
        "ใช้บ่อยในการ:\n",
        "- แก้สมการเชิงเส้น\n",
        "- นิยามเมทริกซ์ผกผัน\n",
        "- การตั้งค่าค่าตั้งต้นในอัลกอริธึมต่าง ๆ เช่น Linear Algebra, Machine Learning\n",
        "\n",
        "ถ้าคุณอยากดูตัวอย่างการใช้ `np.eye()` กับ `dtype`, หรือการคูณเมทริกซ์กับ `I` ก็จัดให้ได้นะครับ 😄📐\n"
      ],
      "metadata": {
        "id": "HkjoGKS24hAw"
      }
    },
    {
      "cell_type": "code",
      "metadata": {
        "id": "HtFsr03bL9h7",
        "colab": {
          "base_uri": "https://localhost:8080/"
        },
        "outputId": "e90f505b-0f18-43e8-b8bf-2e386ec01247"
      },
      "source": [
        "c = np.full((2,2), 7) # สร้างอาร์เรย์ 2×2 ที่มีค่าเป็น 7\n",
        "print(c)"
      ],
      "execution_count": null,
      "outputs": [
        {
          "output_type": "stream",
          "name": "stdout",
          "text": [
            "[[7 7]\n",
            " [7 7]]\n"
          ]
        }
      ]
    },
    {
      "cell_type": "code",
      "metadata": {
        "id": "-QcALHvkL9h9",
        "colab": {
          "base_uri": "https://localhost:8080/"
        },
        "outputId": "34d47ffb-b9cc-4aac-dfc3-f50ed84e657e"
      },
      "source": [
        "d = np.eye(2)        #สร้างเมทริกซ์เอกลักษณ์ (identity matrix) ขนาด 2×2\n",
        "print(d)"
      ],
      "execution_count": null,
      "outputs": [
        {
          "output_type": "stream",
          "name": "stdout",
          "text": [
            "[[1. 0.]\n",
            " [0. 1.]]\n"
          ]
        }
      ]
    },
    {
      "cell_type": "code",
      "metadata": {
        "id": "RCpaYg9qL9iA",
        "colab": {
          "base_uri": "https://localhost:8080/"
        },
        "outputId": "30a3cc73-abf5-4e80-f5d2-e6ef3bf4884f"
      },
      "source": [
        "e = np.random.random((2,2)) # สร้างอาร์เรย์ที่มีค่าระหว่าง 0 ถึง 1 แบบสุ่มทั้งหมด\n",
        "print(e)"
      ],
      "execution_count": null,
      "outputs": [
        {
          "output_type": "stream",
          "name": "stdout",
          "text": [
            "[[0.49398666 0.0501223 ]\n",
            " [0.77275458 0.81349452]]\n"
          ]
        }
      ]
    },
    {
      "cell_type": "markdown",
      "metadata": {
        "id": "jI5qcSDfL9iC"
      },
      "source": [
        "###Array indexing"
      ]
    },
    {
      "cell_type": "markdown",
      "metadata": {
        "id": "M-E4MUeVL9iC"
      },
      "source": [
        "### Numpy มีหลายวิธีในการเข้าถึงสมาชิกของอาร์เรย์ (Indexing)\n",
        "\n",
        "ในไลบรารี Numpy  \n",
        "เราสามารถเข้าถึงค่าภายในอาร์เรย์ได้หลายรูปแบบ เช่น:\n",
        "\n",
        "1. **การเข้าถึงแบบใช้ตัวเลขดัชนี (Integer Indexing)**  \n",
        "   เช่น `a[0, 1]` → เข้าถึงค่าที่แถว 0 คอลัมน์ 1\n",
        "\n",
        "2. **การเฉือน (Slicing)**  \n",
        "   เช่น `a[:, 1:3]` → เลือกทุกแถว เฉพาะคอลัมน์ที่ 1 และ 2\n",
        "\n",
        "3. **การใช้ลิสต์ของดัชนี (Integer Array Indexing)**  \n",
        "   เช่น `a[[0, 2], [1, 2]]` → เลือกค่าจากตำแหน่ง (0,1) และ (2,2)\n",
        "\n",
        "4. **การใช้ Boolean Mask (Boolean Array Indexing)**  \n",
        "   เช่น `a[a > 3]` → เลือกเฉพาะสมาชิกที่มีค่ามากกว่า 3\n",
        "\n",
        "5. **การผสมผสานดัชนีและเฉือนพร้อมกัน**  \n",
        "   เช่น `a[1, :]` หรือ `a[1:2, :]` ซึ่งให้ผลต่างกันในแง่รูปร่างอาร์เรย์\n",
        "\n",
        "📌 เทคนิคเหล่านี้มีประโยชน์ในการเลือกข้อมูลย่อย  \n",
        "กรองข้อมูล หรือลดรูปร่างของอาร์เรย์ให้เหมาะกับการประมวลผล\n"
      ]
    },
    {
      "cell_type": "markdown",
      "metadata": {
        "id": "QYv4JyIEL9iD"
      },
      "source": [
        "### การเฉือนข้อมูล (Slicing)\n",
        "\n",
        "**Slicing** ใน NumPy มีลักษณะคล้ายกับการเฉือน (slice) ในลิสต์ของ Python  \n",
        "คือสามารถเลือกช่วงของข้อมูลได้โดยใช้ `:` เช่น `a[1:3]`\n",
        "\n",
        "แต่เนื่องจาก **อาร์เรย์ใน NumPy อาจมีหลายมิติ**  \n",
        "จึงต้อง **ระบุ slice สำหรับแต่ละมิติ** อย่างชัดเจน"
      ]
    },
    {
      "cell_type": "code",
      "metadata": {
        "id": "wLWA0udwL9iD"
      },
      "source": [
        "import numpy as np\n",
        "\n",
        "# สร้าง rank 2 array ที่มี shape (3, 4) 3x4 แบบนี้\n",
        "# [[ 1  2  3  4]\n",
        "#  [ 5  6  7  8]\n",
        "#  [ 9 10 11 12]]\n",
        "a = np.array([[1,2,3,4], [5,6,7,8], [9,10,11,12]])\n",
        "\n",
        "# ใช้ slicing ดึงเอา subarray ประกอบไปด้วย  2 แถวแรก\n",
        "# และ columns 1 และ 2; b ซึ่งเป็น array มี shape (2, 2):\n",
        "# [[2 3]\n",
        "#  [6 7]]\n",
        "b = a[:2, 1:3]\n",
        "print(b)"
      ],
      "execution_count": null,
      "outputs": []
    },
    {
      "cell_type": "markdown",
      "metadata": {
        "id": "KahhtZKYL9iF"
      },
      "source": [
        "### Slice คือมุมมองของอาร์เรย์ต้นฉบับ\n",
        "\n",
        "**การเฉือน (slice) ของอาร์เรย์ใน NumPy**  \n",
        "คือการสร้าง **\"มุมมอง\" (view)** ที่อ้างอิงข้อมูลเดียวกันกับอาร์เรย์ต้นฉบับ  \n",
        "ดังนั้น **ถ้าแก้ไขข้อมูลใน slice → ข้อมูลต้นฉบับจะถูกเปลี่ยนไปด้วย**\n",
        "\n",
        "💡 ถ้าไม่ต้องการให้ slice แก้ไขต้นฉบับ ให้ใช้ `.copy()` เช่น `b = a[0, :2].copy()`"
      ]
    },
    {
      "cell_type": "code",
      "metadata": {
        "id": "1kmtaFHuL9iG"
      },
      "source": [
        "print(a[0, 1])\n",
        "b[0, 0] = 77    # b[0, 0] is the same piece of data as a[0, 1]\n",
        "print(a[0, 1])"
      ],
      "execution_count": null,
      "outputs": []
    },
    {
      "cell_type": "markdown",
      "metadata": {
        "id": "_Zcf3zi-L9iI"
      },
      "source": [
        "### การผสมระหว่างการเข้าถึงแบบตัวเลขดัชนี (Integer Indexing) และการเฉือน (Slice Indexing)\n",
        "\n",
        "ใน NumPy:\n",
        "คุณสามารถ **ผสมการเข้าถึงแบบดัชนีตัวเลขกับ slice ได้ในบรรทัดเดียวกัน**  \n",
        "แต่ผลลัพธ์ที่ได้จะเป็นอาร์เรย์ที่มี **อันดับต่ำกว่า (lower rank)** อาร์เรย์ต้นฉบับ"
      ]
    },
    {
      "cell_type": "code",
      "metadata": {
        "id": "G6lfbPuxL9iJ"
      },
      "source": [
        "#สร้าง rank 2 array มี shape (3, 4)\n",
        "a = np.array([[ 1,  2,  3,  4],\n",
        "              [ 5,  6,  7,  8],\n",
        "              [ 9, 10, 11, 12]])\n",
        "\n",
        "print(a)"
      ],
      "execution_count": null,
      "outputs": []
    },
    {
      "cell_type": "markdown",
      "metadata": {
        "id": "NCye3NXhL9iL"
      },
      "source": [
        "### วิธีเข้าถึงข้อมูลแถวกลางของอาร์เรย์\n",
        "\n",
        "มี **2 วิธีหลัก** ที่สามารถใช้เข้าถึงข้อมูลใน **แถวกลางของอาร์เรย์** ได้:\n",
        "\n",
        "1. **ผสม Integer Indexing กับ Slicing**  \n",
        "   - เช่น `a[1, :]`  \n",
        "   - จะได้อาร์เรย์ **อันดับ 1 (Rank 1)** → รูปร่าง `(4,)`  \n",
        "   - ค่าที่ได้เป็นแถวเดี่ยว (1 มิติ)\n",
        "\n",
        "2. **ใช้เฉพาะ Slicing อย่างเดียว**  \n",
        "   - เช่น `a[1:2, :]` หรือ `a[[1], :]`  \n",
        "   - จะได้อาร์เรย์ **อันดับ 2 (Rank 2)** → รูปร่าง `(1, 4)`  \n",
        "   - ค่าที่ได้ยังคงเป็นอาร์เรย์ 2 มิติ\n",
        "\n",
        "📌 **ข้อสังเกตสำคัญ:**  \n",
        "ผลลัพธ์จากการผสม `Integer Indexing` กับ `Slicing` จะ **ลดอันดับของอาร์เรย์ลง**  \n",
        "ซึ่ง **แตกต่างจากวิธีของ MATLAB** ที่มักจะรักษาอันดับไว้แม้จะใช้ integer index"
      ]
    },
    {
      "cell_type": "code",
      "metadata": {
        "id": "EOiEMsmNL9iL"
      },
      "source": [
        "row_r1 = a[1, :]     # มุมมองแบบ Rank 1 ของแถวที่ 2 ของ a → ได้อาร์เรย์ 1 มิติ (shape = (4,))\n",
        "row_r2 = a[1:2, :]   # มุมมองแบบ Rank 2 ของแถวที่ 2 ของ a → ได้อาร์เรย์ 2 มิติ (shape = (1, 4))\n",
        "row_r3 = a[[1], :]   # มุมมองแบบ Rank 2 ของแถวที่ 2 ของ a เช่นกัน (shape = (1, 4))\n",
        "\n",
        "print(row_r1, row_r1.shape)  # พิมพ์ค่าและรูปร่างของ row_r1\n",
        "print(row_r2, row_r2.shape)  # พิมพ์ค่าและรูปร่างของ row_r2\n",
        "print(row_r3, row_r3.shape)  # พิมพ์ค่าและรูปร่างของ row_r3\n"
      ],
      "execution_count": null,
      "outputs": []
    },
    {
      "cell_type": "markdown",
      "source": [
        "# เราสามารถแยกความแตกต่างแบบเดียวกันนี้ได้เมื่อเข้าถึง \"คอลัมน์\" ของอาร์เรย์\n",
        "\n",
        "ใน NumPy:\n",
        "- `a[:, 1]` → เข้าถึงคอลัมน์ที่ 2 (index = 1) แบบ **อาร์เรย์ 1 มิติ (rank 1)** → shape = `(3,)`\n",
        "- `a[:, 1:2]` → เข้าถึงคอลัมน์ที่ 2 เช่นกัน แต่แบบ **อาร์เรย์ 2 มิติ (rank 2)** → shape = `(3, 1)`\n",
        "\n",
        "ตัวอย่าง:\n",
        "\n",
        "```python\n",
        "import numpy as np\n",
        "\n",
        "a = np.array([[ 1,  2,  3,  4],\n",
        "              [ 5,  6,  7,  8],\n",
        "              [ 9, 10, 11, 12]])\n",
        "\n",
        "col_r1 = a[:, 1]     # ได้อาร์เรย์ 1 มิติ\n",
        "col_r2 = a[:, 1:2]   # ได้อาร์เรย์ 2 มิติ\n",
        "\n",
        "print(col_r1, col_r1.shape)\n",
        "print()\n",
        "print(col_r2, col_r2.shape)\n",
        "```\n",
        "\n",
        "ผลลัพธ์:\n",
        "```\n",
        "[ 2  6 10] (3,)\n",
        "\n",
        "[[ 2]\n",
        " [ 6]\n",
        " [10]] (3, 1)\n",
        "```\n",
        "\n",
        "📌 รูปร่างต่างกันนี้สำคัญเมื่อทำงานกับการคูณเมทริกซ์หรือการ broadcast ค่าทางคณิตศาสตร์"
      ],
      "metadata": {
        "id": "q136teuN-Q37"
      }
    },
    {
      "cell_type": "markdown",
      "source": [
        "**ทดลองรัน**"
      ],
      "metadata": {
        "id": "INDSQ3m8-luz"
      }
    },
    {
      "cell_type": "code",
      "metadata": {
        "id": "JXu73pfDL9iN"
      },
      "source": [
        "a = np.array([[ 1,  2,  3,  4],\n",
        "              [ 5,  6,  7,  8],\n",
        "              [ 9, 10, 11, 12]])\n",
        "\n",
        "# เราสามารถแยกความแตกต่างแบบเดียวกันนี้ได้เมื่อเข้าถึง \"คอลัมน์\" ของอาร์เรย์:\n",
        "col_r1 = a[:, 1]    # ได้อาร์เรย์ 1 มิติ\n",
        "col_r2 = a[:, 1:2]  # ได้อาร์เรย์ 2 มิติ\n",
        "\n",
        "print(col_r1, col_r1.shape)\n",
        "print()\n",
        "print(col_r2, col_r2.shape)"
      ],
      "execution_count": null,
      "outputs": []
    },
    {
      "cell_type": "markdown",
      "metadata": {
        "id": "VP3916bOL9iP"
      },
      "source": [
        "### การเข้าถึงแบบ Integer Array Indexing\n",
        "\n",
        "เมื่อคุณใช้ **slicing (การเฉือน)** เพื่อเข้าถึงอาร์เรย์ใน NumPy  \n",
        "ผลลัพธ์ที่ได้จะเป็น **มุมมอง (view)** ของอาร์เรย์ต้นฉบับเสมอ  \n",
        "→ กล่าวคือเป็น **subarray** ที่มีโครงสร้างต่อเนื่องจากข้อมูลเดิม\n",
        "\n",
        "แต่ถ้าคุณใช้ **Integer Array Indexing**  \n",
        "คุณสามารถสร้างอาร์เรย์ใหม่ตามรูปแบบที่ต้องการ  \n",
        "โดยระบุอินเด็กซ์แบบเจาะจงในรูปของลิสต์หรือตำแหน่งเฉพาะ"
      ]
    },
    {
      "cell_type": "code",
      "metadata": {
        "id": "TBnWonIDL9iP"
      },
      "source": [
        "import numpy as np\n",
        "\n",
        "a = np.array([[1, 2],\n",
        "              [3, 4],\n",
        "              [5, 6]])\n",
        "\n",
        "# ตัวอย่างการเข้าถึงข้อมูลแบบ integer array indexing\n",
        "# จะคืนค่าเป็นอาร์เรย์ 1 มิติ (shape = (3,))\n",
        "print(a[[0, 1, 2], [0, 1, 0]])"
      ],
      "execution_count": null,
      "outputs": []
    },
    {
      "cell_type": "markdown",
      "source": [
        "**อธิบาย:**\n",
        "- `a[[0, 1, 2], [0, 1, 0]]` หมายถึง:\n",
        "  - แถวที่ 0, คอลัมน์ที่ 0 → `a[0,0]` → 1  \n",
        "  - แถวที่ 1, คอลัมน์ที่ 1 → `a[1,1]` → 4  \n",
        "  - แถวที่ 2, คอลัมน์ที่ 0 → `a[2,0]` → 5  \n",
        "- ผลลัพธ์คืออาร์เรย์ `[1, 4, 5]`\n",
        "\n",
        "📌 หรือเขียนแบบปกติโดยใช้การเข้าถึงทีละค่า:\n",
        "print(np.array([a[0, 0], a[1, 1], a[2, 0]]))  # ก็จะได้ [1 4 5] เหมือนกัน\n",
        "\n",
        "💡 **ประโยชน์ของ Integer Indexing:**\n",
        "- ใช้ดึงค่าจากหลายตำแหน่งพร้อมกัน\n",
        "- สามารถเลือกตำแหน่งที่ไม่ต่อเนื่องกัน\n",
        "- เหมาะกับการสุ่มเลือก (sampling), การเข้าถึงหลายตำแหน่งซับซ้อนในบรรทัดเดียว\n"
      ],
      "metadata": {
        "id": "6do9Nl0y_5lS"
      }
    },
    {
      "cell_type": "markdown",
      "source": [
        "**ตัวอย่างต่อไป**"
      ],
      "metadata": {
        "id": "N04l1OEwAe_2"
      }
    },
    {
      "cell_type": "markdown",
      "source": [
        "```python\n",
        "import numpy as np\n",
        "\n",
        "a = np.array([[1, 2],\n",
        "              [3, 4],\n",
        "              [5, 6]])\n",
        "```\n",
        "# ตัวอย่าง: ดึงสมาชิก \"ตัวเดียวกัน\" จาก array หลายครั้ง"
      ],
      "metadata": {
        "id": "MLfmSCzFB0cx"
      }
    },
    {
      "cell_type": "code",
      "metadata": {
        "id": "n7vuati-L9iR"
      },
      "source": [
        "### การใช้งาน Integer Array Indexing แบบใช้สมาชิกซ้ำ\n",
        "\n",
        "print(a[[0, 0], [1, 1]])\n",
        "\n",
        "# 🔍 **อธิบาย:**\n",
        "# - `a[[0, 0], [1, 1]]` หมายถึง:\n",
        "#   - แถวที่ 0 คอลัมน์ที่ 1 → `a[0, 1]` = 2\n",
        "#   - แถวที่ 0 คอลัมน์ที่ 1 อีกครั้ง → `a[0, 1]` = 2\n",
        "#  → ดังนั้นได้ `[2, 2]`\n",
        "\n",
        "\n",
        "\n",
        "# สามารถเขียนแบบปกติก็ได้เช่นกัน\n",
        "print(np.array([a[0, 1], a[0, 1]]))"
      ],
      "execution_count": null,
      "outputs": []
    },
    {
      "cell_type": "markdown",
      "metadata": {
        "id": "kaipSLafL9iU"
      },
      "source": [
        "### ทริคที่มีประโยชน์ในการใช้ Integer Array Indexing:\n",
        "**เราสามารถเลือกหรือแก้ไขสมาชิกเพียง 1 ตัวจากแต่ละแถวของเมทริกซ์ได้**"
      ]
    },
    {
      "cell_type": "code",
      "metadata": {
        "id": "ehqsV7TXL9iU"
      },
      "source": [
        "# สร้าง array ที่จะเลือก\n",
        "a = np.array([[ 1,  2,  3],\n",
        "              [ 4,  5,  6],\n",
        "              [ 7,  8,  9],\n",
        "              [10, 11, 12]])\n",
        "print(a)"
      ],
      "execution_count": null,
      "outputs": []
    },
    {
      "cell_type": "code",
      "metadata": {
        "id": "pAPOoqy5L9iV"
      },
      "source": [
        "# index ของคอลัมน์ที่จะเลือกในแต่ละแถว\n",
        "b = np.array([0, 2, 0, 1])\n",
        "\n",
        "# Select one element from each row of a using the indices in b\n",
        "print(a[np.arange(4), b])  # Prints \"[ 1  6  7 11]\""
      ],
      "execution_count": null,
      "outputs": []
    },
    {
      "cell_type": "markdown",
      "source": [
        "🔍 **อธิบาย:**\n",
        "- `np.arange(4)` → ได้ `[0, 1, 2, 3]` → หมายถึงแถวที่ 0 ถึง 3\n",
        "- `b = [0, 2, 0, 1]` → ตำแหน่งคอลัมน์ที่จะเลือกในแต่ละแถว\n",
        "- ผลลัพธ์:\n",
        "  - `a[0, 0]` → 1  \n",
        "  - `a[1, 2]` → 6  \n",
        "  - `a[2, 0]` → 7  \n",
        "  - `a[3, 1]` → 11  \n",
        "  → รวมได้ `[1 6 7 11]`"
      ],
      "metadata": {
        "id": "cfQ2ZZkoCywt"
      }
    },
    {
      "cell_type": "code",
      "metadata": {
        "id": "6v1PdI1DL9ib"
      },
      "source": [
        "# แก้ไขสมาชิกหนึ่งตัวจากแต่ละแถวของ a โดยใช้ดัชนีที่อยู่ใน b\n",
        "a[np.arange(4), b] += 10\n",
        "print(a)"
      ],
      "execution_count": null,
      "outputs": []
    },
    {
      "cell_type": "markdown",
      "metadata": {
        "id": "kaE8dBGgL9id"
      },
      "source": [
        "### การเข้าถึงแบบ Boolean Array Indexing\n",
        "\n",
        "**Boolean Array Indexing** คือเทคนิคที่ใช้ **เลือกสมาชิกบางตัวจากอาร์เรย์**  \n",
        "โดยระบุ **เงื่อนไข** ที่สมาชิกเหล่านั้นต้อง “ผ่าน” ก่อนจึงจะถูกเลือก\n",
        "\n",
        "📌 วิธีนี้ช่วยให้สามารถเลือกค่าที่ตรงเงื่อนไขโดยไม่ต้องวนลูปเอง"
      ]
    },
    {
      "cell_type": "code",
      "metadata": {
        "id": "32PusjtKL9id"
      },
      "source": [
        "import numpy as np\n",
        "\n",
        "a = np.array([[1, 2],\n",
        "              [3, 4],\n",
        "              [5, 6]])\n",
        "\n",
        "# หาสมาชิกใน a ที่มีค่ามากกว่า 2\n",
        "# บรรทัดนี้จะได้อาร์เรย์ Boolean ที่มีขนาดเท่ากับ a\n",
        "# โดยตำแหน่งที่เป็น True คือจุดที่ a มีค่ามากกว่า 2\n",
        "bool_idx = (a > 2)\n",
        "\n",
        "print(bool_idx)"
      ],
      "execution_count": null,
      "outputs": []
    },
    {
      "cell_type": "markdown",
      "source": [
        "🔍 **อธิบายเพิ่มเติม:**\n",
        "- `a > 2` จะเปรียบเทียบสมาชิกแต่ละตัวใน `a` กับเลข `2`\n",
        "- ถ้าค่ามากกว่า 2 → จะได้ `True`\n",
        "- ถ้าไม่ใช่ → จะได้ `False`\n",
        "- ค่า Boolean เหล่านี้สามารถใช้เพื่อ **เลือกสมาชิกที่ตรงเงื่อนไข** จาก `a`"
      ],
      "metadata": {
        "id": "gLxNnyiOF0xx"
      }
    },
    {
      "cell_type": "code",
      "metadata": {
        "id": "cb2IRMXaL9if"
      },
      "source": [
        "# เราใช้ Boolean Array Indexing เพื่อสร้างอาร์เรย์แบบ 1 มิติ (Rank 1)\n",
        "# ซึ่งประกอบด้วยสมาชิกของ a ที่ตรงกับตำแหน่งที่เป็น True ใน bool_idx\n",
        "print(a[bool_idx])\n",
        "\n",
        "# เราสามารถเขียนทั้งหมดนี้ในบรรทัดเดียวอย่างกระชับ:\n",
        "print(a[a > 2])"
      ],
      "execution_count": null,
      "outputs": []
    },
    {
      "cell_type": "markdown",
      "source": [
        "🔍 **อธิบายเพิ่มเติม:**\n",
        "- `bool_idx` คืออาร์เรย์ Boolean ที่ระบุว่าแต่ละสมาชิกของ `a` มากกว่า `2` หรือไม่\n",
        "- `a[bool_idx]` หรือ `a[a > 2]` → จะดึงเฉพาะสมาชิกที่เป็น `True` ตามตำแหน่ง"
      ],
      "metadata": {
        "id": "3WZTpr4JGJNC"
      }
    },
    {
      "cell_type": "markdown",
      "metadata": {
        "id": "CdofMonAL9ih"
      },
      "source": [
        "เพื่อความกระชับ เราได้ละรายละเอียดจำนวนมากเกี่ยวกับการเข้าถึงอาร์เรย์ (array indexing) ของ NumPy เอาไว้  แนะนำให้อ่านจากเอกสารประกอบ (documentation)\n"
      ]
    },
    {
      "cell_type": "markdown",
      "metadata": {
        "id": "jTctwqdQL9ih"
      },
      "source": [
        "###Datatypes"
      ]
    },
    {
      "cell_type": "markdown",
      "metadata": {
        "id": "kSZQ1WkIL9ih"
      },
      "source": [
        "### คำแปลและอธิบาย:\n",
        "\n",
        "**ทุกอาร์เรย์ของ NumPy คือกริด (ตาราง) ของข้อมูลชนิดเดียวกันทั้งหมด**  \n",
        "NumPy มีชนิดข้อมูลตัวเลขให้เลือกใช้อย่างหลากหลายในการสร้างอาร์เรย์  \n",
        "โดยปกติ NumPy จะพยายาม \"เดา\" ประเภทของข้อมูลให้อัตโนมัติเมื่อคุณสร้างอาร์เรย์  \n",
        "แต่ฟังก์ชันสร้างอาร์เรย์ส่วนมากมักมีพารามิเตอร์เสริมที่ให้คุณ **กำหนดชนิดข้อมูล (datatype)** เองได้อย่างชัดเจน"
      ]
    },
    {
      "cell_type": "code",
      "metadata": {
        "id": "4za4O0m5L9ih"
      },
      "source": [
        "x = np.array([1, 2])                  # ให้ numpy กำหนด\n",
        "y = np.array([1.0, 2.0])              # ให้ numpy กำหนด\n",
        "z = np.array([1, 2], dtype=np.int64)  # กำหนดชนิดข้อมูลเอง\n",
        "\n",
        "print(x.dtype, y.dtype, z.dtype)"
      ],
      "execution_count": null,
      "outputs": []
    },
    {
      "cell_type": "markdown",
      "metadata": {
        "id": "RLVIsZQpL9ik"
      },
      "source": [
        "อ่านเพิ่มเติม [documentation](http://docs.scipy.org/doc/numpy/reference/arrays.dtypes.html)."
      ]
    },
    {
      "cell_type": "markdown",
      "metadata": {
        "id": "TuB-fdhIL9ik"
      },
      "source": [
        "###Array math"
      ]
    },
    {
      "cell_type": "markdown",
      "metadata": {
        "id": "18e8V8elL9ik"
      },
      "source": [
        "### ฟังก์ชันคณิตศาสตร์พื้นฐานใน NumPy\n",
        "\n",
        "**ฟังก์ชันคณิตศาสตร์พื้นฐานใน NumPy จะทำงานแบบ \"elementwise\"**  \n",
        "กล่าวคือ จะคำนวณกับสมาชิกของอาร์เรย์แต่ละตัว **ทีละตำแหน่ง**\n",
        "\n",
        "📌 ฟังก์ชันเหล่านี้มีให้ใช้งาน 2 แบบ:\n",
        "1. แบบ **โอเปอเรเตอร์ (operator)** → เช่น `+`, `-`, `*`, `/`\n",
        "2. แบบ **ฟังก์ชันของ NumPy** → เช่น `np.add()`, `np.subtract()`, `np.multiply()`, `np.divide()`"
      ]
    },
    {
      "cell_type": "code",
      "metadata": {
        "id": "gHKvBrSKL9il"
      },
      "source": [
        "x = np.array([[1,2],[3,4]], dtype=np.float64)\n",
        "y = np.array([[5,6],[7,8]], dtype=np.float64)\n",
        "\n",
        "# Elementwise sum; both produce the array\n",
        "print(x + y)\n",
        "print(np.add(x, y))"
      ],
      "execution_count": null,
      "outputs": []
    },
    {
      "cell_type": "code",
      "metadata": {
        "id": "1fZtIAMxL9in"
      },
      "source": [
        "# Elementwise difference; both produce the array\n",
        "print(x - y)\n",
        "print(np.subtract(x, y))"
      ],
      "execution_count": null,
      "outputs": []
    },
    {
      "cell_type": "code",
      "metadata": {
        "id": "nil4AScML9io"
      },
      "source": [
        "# Elementwise product; both produce the array\n",
        "print(x * y)\n",
        "print(np.multiply(x, y))"
      ],
      "execution_count": null,
      "outputs": []
    },
    {
      "cell_type": "code",
      "metadata": {
        "id": "0JoA4lH6L9ip"
      },
      "source": [
        "# Elementwise division; both produce the array\n",
        "# [[ 0.2         0.33333333]\n",
        "#  [ 0.42857143  0.5       ]]\n",
        "print(x / y)\n",
        "print(np.divide(x, y))"
      ],
      "execution_count": null,
      "outputs": []
    },
    {
      "cell_type": "code",
      "metadata": {
        "id": "g0iZuA6bL9ir"
      },
      "source": [
        "# Elementwise square root; produces the array\n",
        "# [[ 1.          1.41421356]\n",
        "#  [ 1.73205081  2.        ]]\n",
        "print(np.sqrt(x))"
      ],
      "execution_count": null,
      "outputs": []
    },
    {
      "cell_type": "markdown",
      "metadata": {
        "id": "a5d_uujuL9it"
      },
      "source": [
        "โปรดสังเกตว่า **ต่างจาก MATLAB ที่ * ใช้สำหรับคูณเมทริกซ์**  \n",
        "ใน **NumPy**, เครื่องหมาย `*` หมายถึงการ **คูณแบบตามตำแหน่ง (elementwise multiplication)**\n",
        "\n",
        "หากต้องการ **คูณเมทริกซ์ (matrix multiplication)**, **คูณเวกเตอร์กับเมทริกซ์**, หรือ **หาผลคูณเชิงใน (dot product)**  \n",
        "ต้องใช้ฟังก์ชัน `dot` แทน ซึ่งมีให้ใช้งานได้ทั้ง:\n",
        "- แบบฟังก์ชันในโมดูล `numpy` → `np.dot(x, y)`\n",
        "- แบบเมทอดของออบเจกต์อาร์เรย์ → `x.dot(y)`\n",
        "\n",
        "📌 ใช้ `*` เมื่อคุณต้องการคูณแบบตรงตำแหน่ง เช่น scaling, element-wise loss  \n",
        "🧠 ใช้ `dot()` หรือ `@` เมื่อคุณต้องการคูณแบบคณิตศาสตร์เชิงเส้น (Linear Algebra)\n",
        "\n",
        "ตั้งแต่ Python 3.5 เป็นต้นไป คุณสามารถใช้เครื่องหมาย `@` แทน `dot()` ได้เช่นกัน:\n",
        "```python\n",
        "print(x @ y)\n",
        "print(v @ w)\n",
        "```"
      ]
    },
    {
      "cell_type": "code",
      "metadata": {
        "id": "I3FnmoSeL9iu"
      },
      "source": [
        "x = np.array([[1,2],[3,4]])\n",
        "y = np.array([[5,6],[7,8]])\n",
        "\n",
        "# คูณเมทริกซ์\n",
        "print(np.dot(x, y))    # หรือ x.dot(y)\n",
        "\n",
        "# หาผลคูณเชิงในของเวกเตอร์\n",
        "v = np.array([9,10])\n",
        "w = np.array([11, 12])\n",
        "\n",
        "# Inner product of vectors; both produce 219\n",
        "print(v.dot(w))\n",
        "print(np.dot(v, w))"
      ],
      "execution_count": null,
      "outputs": []
    },
    {
      "cell_type": "markdown",
      "source": [
        "### ผลคูณเชิงใน (Dot Product) คืออะไร?\n",
        "\n",
        "**ผลคูณเชิงใน** คือการคำนวณระหว่างเวกเตอร์สองตัวที่มีขนาดเท่ากัน  \n",
        "โดยนำสมาชิกแต่ละตำแหน่งมาคูณกันแล้วรวมผลลัพธ์เข้าด้วยกัน\n",
        "\n",
        "🔢 นิยามทางคณิตศาสตร์:\n",
        "\n",
        "ถ้า  \n",
        "- **𝑎 = [a₁, a₂, ..., aₙ]**  \n",
        "- **𝑏 = [b₁, b₂, ..., bₙ]**\n",
        "\n",
        "แล้ว  \n",
        "**𝑎 ⋅ 𝑏 = a₁×b₁ + a₂×b₂ + ... + aₙ×bₙ**\n",
        "\n",
        "---\n",
        "\n",
        "### ตัวอย่างใน NumPy\n",
        "\n",
        "```python\n",
        "import numpy as np\n",
        "\n",
        "a = np.array([1, 2, 3])\n",
        "b = np.array([4, 5, 6])\n",
        "\n",
        "result = np.dot(a, b)      # หรือ a @ b\n",
        "print(result)\n",
        "```\n",
        "\n",
        "📌 ผลลัพธ์:\n",
        "```\n",
        "1×4 + 2×5 + 3×6 = 4 + 10 + 18 = **32**\n",
        "```\n",
        "\n",
        "---\n",
        "\n",
        "### ใช้ dot ทำอะไรได้บ้าง?\n",
        "\n",
        "- คำนวณมุมระหว่างเวกเตอร์  \n",
        "- ตรวจสอบการตั้งฉาก (dot = 0 → ตั้งฉาก)\n",
        "- ใช้ใน **neural network**, **linear regression**, **คูณเมทริกซ์**, และอีกมากมาย\n"
      ],
      "metadata": {
        "id": "GVgoX2McI_r4"
      }
    },
    {
      "cell_type": "markdown",
      "metadata": {
        "id": "vmxPbrHASVeA"
      },
      "source": [
        "ใช้เครื่องหมาย @ แทน dot() ได้เช่นกัน ลองพิมพ์ออกสู่จอภาพ"
      ]
    },
    {
      "cell_type": "code",
      "metadata": {
        "id": "vyrWA-mXSdtt"
      },
      "source": [
        "print(v @ w)"
      ],
      "execution_count": null,
      "outputs": []
    },
    {
      "cell_type": "code",
      "metadata": {
        "id": "zvUODeTxL9iw"
      },
      "source": [
        "# Matrix / vector product; ทั้งหมดจะได้  rank 1 array [29 67]\n",
        "print(x.dot(v))\n",
        "print(np.dot(x, v))\n",
        "print(x @ v)"
      ],
      "execution_count": null,
      "outputs": []
    },
    {
      "cell_type": "code",
      "metadata": {
        "id": "3V_3NzNEL9iy"
      },
      "source": [
        "# Matrix / matrix product; both produce the rank 2 array\n",
        "# [[19 22]\n",
        "#  [43 50]]\n",
        "print(x.dot(y))\n",
        "print(np.dot(x, y))\n",
        "print(x @ y)"
      ],
      "execution_count": null,
      "outputs": []
    },
    {
      "cell_type": "markdown",
      "metadata": {
        "id": "FbE-1If_L9i0"
      },
      "source": [
        "Numpy provides many useful functions for performing computations on arrays; one of the most useful is `sum`:"
      ]
    },
    {
      "cell_type": "code",
      "metadata": {
        "id": "DZUdZvPrL9i0"
      },
      "source": [
        "x = np.array([[1,2],[3,4]])\n",
        "\n",
        "print(np.sum(x))  # Compute sum of all elements; prints \"10\"\n",
        "print(np.sum(x, axis=0))  # Compute sum of each column; prints \"[4 6]\"\n",
        "print(np.sum(x, axis=1))  # Compute sum of each row; prints \"[3 7]\""
      ],
      "execution_count": null,
      "outputs": []
    },
    {
      "cell_type": "markdown",
      "metadata": {
        "id": "ahdVW4iUL9i3"
      },
      "source": [
        "อ่านเพิ่มเติมเรื่องคณิตศาสตร์ใน [documentation](http://docs.scipy.org/doc/numpy/reference/routines.math.html).\n",
        "\n",
        "นอกจากการคำนวณฟังก์ชันทางคณิตศาสตร์โดยใช้อาร์เรย์แล้ว  \n",
        "เรายังมักจะ **ต้องแปลงรูปร่างหรือจัดการข้อมูลภายในอาร์เรย์ในรูปแบบอื่น ๆ ด้วย**\n",
        "\n",
        "📌 ตัวอย่างที่ง่ายที่สุดของการแปลงลักษณะนี้คือ **การทรานสโพส (transpose) เมทริกซ์**  \n",
        "คุณสามารถทรานสโพสเมทริกซ์ได้ง่าย ๆ โดยใช้ **แอตทริบิวต์ `.T`** ของอาร์เรย์\n",
        "\n",
        "💡 `a.T` คือ shorthand สำหรับ `a.transpose()`"
      ]
    },
    {
      "cell_type": "code",
      "metadata": {
        "id": "63Yl1f3oL9i3"
      },
      "source": [
        "print(x)\n",
        "print(\"transpose\\n\", x.T)"
      ],
      "execution_count": null,
      "outputs": []
    },
    {
      "cell_type": "code",
      "metadata": {
        "id": "mkk03eNIL9i4"
      },
      "source": [
        "v = np.array([[1,2,3]])\n",
        "print(v )\n",
        "print(\"transpose\\n\", v.T)"
      ],
      "execution_count": null,
      "outputs": []
    },
    {
      "cell_type": "markdown",
      "metadata": {
        "id": "REfLrUTcL9i7"
      },
      "source": [
        "###Broadcasting"
      ]
    },
    {
      "cell_type": "markdown",
      "metadata": {
        "id": "EygGAMWqL9i7"
      },
      "source": [
        "**Broadcasting** คือกลไกทรงพลังใน NumPy  \n",
        "ที่ช่วยให้สามารถทำ **การคำนวณเชิงคณิตศาสตร์ระหว่างอาร์เรย์ที่มีรูปร่างต่างกัน** ได้โดยอัตโนมัติ\n",
        "\n",
        "🎯 โดยทั่วไปจะใช้ในกรณี:\n",
        "- มีอาร์เรย์เล็กหนึ่งชุด (เช่นเวกเตอร์)  \n",
        "- และอีกอาร์เรย์ใหญ่ (เช่นเมทริกซ์)  \n",
        "- แล้วต้องการใช้อาร์เรย์เล็ก “ซ้ำ” ไปยังอาร์เรย์ใหญ่เพื่อดำเนินการ เช่น บวก ลบ คูณ"
      ]
    },
    {
      "cell_type": "code",
      "metadata": {
        "id": "WEEvkV1ZL9i7"
      },
      "source": [
        "### ✨ ตัวอย่าง:\n",
        "#  สมมุติว่าเราต้องการ **บวกเวกเตอร์ค่าคงที่เข้าไปในแต่ละแถวของเมทริกซ์**\n",
        "x = np.array([[1, 2, 3],\n",
        "              [4, 5, 6],\n",
        "              [7, 8, 9],\n",
        "              [10, 11, 12]])\n",
        "\n",
        "v = np.array([1, 0, 1])\n",
        "y = np.empty_like(x)   # Create an empty matrix with the same shape as x\n",
        "\n",
        "# Add the vector v to each row of the matrix x with an explicit loop\n",
        "for i in range(4):\n",
        "    y[i, :] = x[i, :] + v\n",
        "\n",
        "print(y)"
      ],
      "execution_count": null,
      "outputs": []
    },
    {
      "cell_type": "markdown",
      "metadata": {
        "id": "2OlXXupEL9i-"
      },
      "source": [
        "โค้ดนี้ใช้งานได้ดี;  \n",
        "อย่างไรก็ตาม หากเมทริกซ์ `x` มีขนาดใหญ่มาก การใช้ลูปแบบชัดเจน (explicit loop) ใน Python อาจทำงานได้ช้า\n"
      ]
    },
    {
      "cell_type": "markdown",
      "source": [
        "**ทดลองแบบที่ 2**"
      ],
      "metadata": {
        "id": "fstoYOxCLgGq"
      }
    },
    {
      "cell_type": "code",
      "source": [
        "x = np.array([[1, 2, 3],\n",
        "              [4, 5, 6],\n",
        "              [7, 8, 9],\n",
        "              [10, 11, 12]])\n",
        "\n",
        "# เวกเตอร์ค่าคงที่\n",
        "v = np.array([1, 0, 1])\n",
        "\n",
        "# เพิ่ม v ให้กับแต่ละแถวของ x → ใช้ broadcasting\n",
        "y = x + v\n",
        "\n",
        "print(y)"
      ],
      "metadata": {
        "id": "4i8IDhzlLcMW"
      },
      "execution_count": null,
      "outputs": []
    },
    {
      "cell_type": "markdown",
      "metadata": {
        "id": "08YyIURKL9jH"
      },
      "source": [
        "### คำแปลและคำอธิบาย:\n",
        "\n",
        "บรรทัด `y = x + v` สามารถทำงานได้ แม้ว่า `x` มีรูปร่างเป็น `(4, 3)` และ `v` มีรูปร่างเป็น `(3,)`  \n",
        "เนื่องจากกลไก **broadcasting**  \n",
        "บรรทัดนี้ทำงาน **ราวกับว่า `v` ถูกขยายเป็นอาร์เรย์ขนาด `(4, 3)`**  \n",
        "ที่มีแต่ละแถวเป็นสำเนาของ `v` แล้วจึงนำมาบวกกับ `x` แบบ elementwise\n",
        "\n",
        "---\n",
        "\n",
        "### 📐 กฎของการ broadcasting มีดังนี้:\n",
        "\n",
        "1. **ถ้าอาร์เรย์ทั้งสองมี rank ไม่เท่ากัน**  \n",
        "   → ให้เติมเลข 1 ข้างหน้ารูปร่างของอาร์เรย์ที่มี rank น้อยกว่า  \n",
        "   → เพื่อให้มีความยาวของ shape เท่ากัน\n",
        "\n",
        "2. **ในแต่ละมิติ**: ถ้าอาร์เรย์หนึ่งมีขนาด `1` หรือขนาดเท่ากันกับอีกอัน  \n",
        "   → ถือว่า **เข้ากันได้** ในมิตินั้น\n",
        "\n",
        "3. **สามารถทำ broadcasting ได้** หาก **เข้ากันได้ในทุกมิติ**\n",
        "\n",
        "4. **หลังการ broadcasting**: แต่ละอาร์เรย์จะทำงาน **ราวกับ** มีขนาดเท่ากับ  \n",
        "   → ค่าสูงสุดของแต่ละมิติจากอาร์เรย์ทั้งสอง\n",
        "\n",
        "5. ในมิติที่อาร์เรย์ใดมีขนาดเป็น `1`  \n",
        "   → จะทำงานราวกับอาร์เรย์นั้นถูก **คัดลอกซ้ำในมิตินั้น** จนครบขนาดที่ต้องการ\n",
        "\n",
        "---\n",
        "\n",
        "📌 ถ้าคำอธิบายนี้ยังไม่ชัดเจน แนะนำให้ดูจากเอกสาร NumPy หรือแหล่งอธิบายเพิ่มเติมประกอบ\n",
        "\n",
        "---\n",
        "\n",
        "### 🔧 ฟังก์ชันที่รองรับ broadcasting เรียกว่า **universal functions (ufuncs)**  \n",
        "คุณสามารถดูรายการทั้งหมดของ ufuncs ได้ในเอกสารของ NumPy\n",
        "\n",
        "---\n",
        "\n",
        "### 📌 ตัวอย่างการประยุกต์ใช้ broadcasting เช่น:\n",
        "\n",
        "- การบวกเวกเตอร์คงที่กับแต่ละแถวของเมทริกซ์\n",
        "- การปรับค่าความสว่างของภาพโดยบวกค่าคงที่กับพิกเซลทั้งหมด\n",
        "- การคำนวณ normalized vector โดยหารแต่ละเวกเตอร์ด้วย norm\n",
        "- การปรับ shape อัตโนมัติเพื่อให้คำนวณร่วมกันได้โดยไม่ต้องใช้ `reshape()`\n",
        "\n",
        "หากคำอธิบายนี้ยังไม่ชัดเจน  \n",
        "แนะนำให้ลองอ่านคำอธิบายจาก  \n",
        "[เอกสารของ NumPy](http://docs.scipy.org/doc/numpy/user/basics.broadcasting.html)  \n",
        "หรือจาก [บทความอธิบายนี้](http://wiki.scipy.org/EricsBroadcastingDoc)\n",
        "\n",
        "---\n",
        "\n",
        "### 🔧 ฟังก์ชันที่รองรับ broadcasting\n",
        "\n",
        "ฟังก์ชันที่สามารถทำงานร่วมกับ **broadcasting** ได้  \n",
        "เรียกว่า **ฟังก์ชันสากล (universal functions หรือ ufuncs)**\n",
        "\n",
        "คุณสามารถดูรายการฟังก์ชันทั้งหมดที่รองรับ broadcasting ได้จาก:  \n",
        "🔗 [รายการ ufuncs ในเอกสาร NumPy](http://docs.scipy.org/doc/numpy/reference/ufuncs.html#available-ufuncs)\n",
        "\n",
        "---\n",
        "\n",
        "💡 ufuncs เช่น: `np.add`, `np.multiply`, `np.sqrt`, `np.sin`, `np.exp`, `np.maximum`  \n",
        "ทั้งหมดสามารถทำงานกับอาร์เรย์ที่รูปร่างต่างกันได้ด้วยกลไก broadcasting"
      ]
    },
    {
      "cell_type": "code",
      "metadata": {
        "id": "EmQnwoM9L9jH"
      },
      "source": [
        "# Compute outer product of vectors\n",
        "v = np.array([1,2,3])  # v has shape (3,)\n",
        "w = np.array([4,5])    # w has shape (2,)\n",
        "# To compute an outer product, we first reshape v to be a column\n",
        "# vector of shape (3, 1); we can then broadcast it against w to yield\n",
        "# an output of shape (3, 2), which is the outer product of v and w:\n",
        "\n",
        "print(np.reshape(v, (3, 1)) * w)"
      ],
      "execution_count": null,
      "outputs": []
    },
    {
      "cell_type": "code",
      "metadata": {
        "id": "PgotmpcnL9jK"
      },
      "source": [
        "# Add a vector to each row of a matrix\n",
        "x = np.array([[1,2,3], [4,5,6]])\n",
        "# x has shape (2, 3) and v has shape (3,) so they broadcast to (2, 3),\n",
        "# giving the following matrix:\n",
        "\n",
        "print(x + v)"
      ],
      "execution_count": null,
      "outputs": []
    },
    {
      "cell_type": "code",
      "metadata": {
        "id": "T5hKS1QaL9jK"
      },
      "source": [
        "# Add a vector to each column of a matrix\n",
        "# x has shape (2, 3) and w has shape (2,).\n",
        "# If we transpose x then it has shape (3, 2) and can be broadcast\n",
        "# against w to yield a result of shape (3, 2); transposing this result\n",
        "# yields the final result of shape (2, 3) which is the matrix x with\n",
        "# the vector w added to each column. Gives the following matrix:\n",
        "\n",
        "print((x.T + w).T)"
      ],
      "execution_count": null,
      "outputs": []
    },
    {
      "cell_type": "code",
      "metadata": {
        "id": "JDUrZUl6L9jN"
      },
      "source": [
        "# Another solution is to reshape w to be a row vector of shape (2, 1);\n",
        "# we can then broadcast it directly against x to produce the same\n",
        "# output.\n",
        "print(x + np.reshape(w, (2, 1)))"
      ],
      "execution_count": null,
      "outputs": []
    },
    {
      "cell_type": "code",
      "metadata": {
        "id": "VzrEo4KGL9jP"
      },
      "source": [
        "# Multiply a matrix by a constant:\n",
        "# x has shape (2, 3). Numpy treats scalars as arrays of shape ();\n",
        "# these can be broadcast together to shape (2, 3), producing the\n",
        "# following array:\n",
        "print(x * 2)"
      ],
      "execution_count": null,
      "outputs": []
    },
    {
      "cell_type": "markdown",
      "metadata": {
        "id": "89e2FXxFL9jQ"
      },
      "source": [
        "### คำแปลและคำอธิบาย:\n",
        "\n",
        "**Broadcasting** มักทำให้โค้ดของคุณกระชับและทำงานได้เร็วขึ้น  \n",
        "ดังนั้นคุณควร **พยายามใช้ broadcasting เมื่อมีโอกาส**\n",
        "\n",
        "💡 หมายเหตุ: การใช้ broadcasting ช่วยลดความจำเป็นในการใช้ลูปแบบชัดเจน (explicit loops)  \n",
        "ซึ่งมักจะช้ากว่าใน Python โดยเฉพาะเมื่อทำงานกับข้อมูลจำนวนมากใน NumPy"
      ]
    },
    {
      "cell_type": "markdown",
      "metadata": {
        "id": "tEINf4bEL9jR"
      },
      "source": [
        "##Matplotlib"
      ]
    },
    {
      "cell_type": "markdown",
      "metadata": {
        "id": "0hgVWLaXL9jR"
      },
      "source": [
        "**Matplotlib** คือไลบรารีสำหรับการวาดกราฟ (plotting library)\n",
        "\n",
        "ในหัวข้อนี้จะเป็นการ **แนะนำเบื้องต้นเกี่ยวกับโมดูล `matplotlib.pyplot`**  \n",
        "ซึ่งเป็นระบบสำหรับวาดกราฟใน Python  \n",
        "โดยมีแนวคิดและรูปแบบการใช้งาน **คล้ายกับระบบการพล็อตของ MATLAB**\n",
        "\n",
        "📌 `matplotlib.pyplot` ช่วยให้สามารถ:\n",
        "- วาดกราฟเส้น (line plot)\n",
        "- พล็อตจุด (scatter plot)\n",
        "- วาด histogram, bar chart ฯลฯ\n",
        "ได้ด้วยคำสั่งที่กระชับและเข้าใจง่าย"
      ]
    },
    {
      "cell_type": "code",
      "metadata": {
        "id": "cmh_7c6KL9jR"
      },
      "source": [
        "import matplotlib.pyplot as plt"
      ],
      "execution_count": null,
      "outputs": []
    },
    {
      "cell_type": "code",
      "metadata": {
        "id": "ijpsmwGnL9jT"
      },
      "source": [
        "%matplotlib inline"
      ],
      "execution_count": null,
      "outputs": []
    },
    {
      "cell_type": "markdown",
      "metadata": {
        "id": "jOsaA5hGL9jS"
      },
      "source": [
        "โดยการรันคำสั่งพิเศษของ iPython นี้  \n",
        "เราจะสามารถ **แสดงกราฟให้อยู่ภายใน notebook ได้โดยตรง** (inline)"
      ]
    },
    {
      "cell_type": "markdown",
      "metadata": {
        "id": "U5Z_oMoLL9jV"
      },
      "source": [
        "###Plotting"
      ]
    },
    {
      "cell_type": "markdown",
      "metadata": {
        "id": "6QyFJ7dhL9jV"
      },
      "source": [
        "The most important function in `matplotlib` is plot, which allows you to plot 2D data. Here is a simple example:"
      ]
    },
    {
      "cell_type": "code",
      "source": [
        "print(np.arange(0, 3 * np.pi, 0.1))"
      ],
      "metadata": {
        "colab": {
          "base_uri": "https://localhost:8080/"
        },
        "id": "rscPPXUsN8q1",
        "outputId": "31f6328a-39e3-4979-852d-753637ded6f8"
      },
      "execution_count": null,
      "outputs": [
        {
          "output_type": "stream",
          "name": "stdout",
          "text": [
            "[0.  0.1 0.2 0.3 0.4 0.5 0.6 0.7 0.8 0.9 1.  1.1 1.2 1.3 1.4 1.5 1.6 1.7\n",
            " 1.8 1.9 2.  2.1 2.2 2.3 2.4 2.5 2.6 2.7 2.8 2.9 3.  3.1 3.2 3.3 3.4 3.5\n",
            " 3.6 3.7 3.8 3.9 4.  4.1 4.2 4.3 4.4 4.5 4.6 4.7 4.8 4.9 5.  5.1 5.2 5.3\n",
            " 5.4 5.5 5.6 5.7 5.8 5.9 6.  6.1 6.2 6.3 6.4 6.5 6.6 6.7 6.8 6.9 7.  7.1\n",
            " 7.2 7.3 7.4 7.5 7.6 7.7 7.8 7.9 8.  8.1 8.2 8.3 8.4 8.5 8.6 8.7 8.8 8.9\n",
            " 9.  9.1 9.2 9.3 9.4]\n"
          ]
        }
      ]
    },
    {
      "cell_type": "code",
      "metadata": {
        "id": "pua52BGeL9jW",
        "colab": {
          "base_uri": "https://localhost:8080/",
          "height": 448
        },
        "outputId": "3c0ea4f5-9714-4012-8d0d-f8cb11575d8e"
      },
      "source": [
        "# Compute the x and y coordinates for points on a sine curve\n",
        "x = np.arange(0, 3 * np.pi, 0.1)\n",
        "y = np.sin(x)\n",
        "\n",
        "# Plot the points using matplotlib\n",
        "plt.plot(x, y)"
      ],
      "execution_count": null,
      "outputs": [
        {
          "output_type": "execute_result",
          "data": {
            "text/plain": [
              "[<matplotlib.lines.Line2D at 0x7a36676bb590>]"
            ]
          },
          "metadata": {},
          "execution_count": 84
        },
        {
          "output_type": "display_data",
          "data": {
            "text/plain": [
              "<Figure size 640x480 with 1 Axes>"
            ],
            "image/png": "[encoded data removed]"
          },
          "metadata": {}
        }
      ]
    },
    {
      "cell_type": "markdown",
      "metadata": {
        "id": "9W2VAcLiL9jX"
      },
      "source": [
        "With just a little bit of extra work we can easily plot multiple lines at once, and add a title, legend, and axis labels:"
      ]
    },
    {
      "cell_type": "code",
      "metadata": {
        "id": "TfCQHJ5AL9jY",
        "colab": {
          "base_uri": "https://localhost:8080/",
          "height": 490
        },
        "outputId": "f298ec66-6141-4bb2-b220-22b82694a094"
      },
      "source": [
        "y_sin = np.sin(x)\n",
        "y_cos = np.cos(x)\n",
        "\n",
        "# Plot the points using matplotlib\n",
        "plt.plot(x, y_sin)\n",
        "plt.plot(x, y_cos)\n",
        "plt.xlabel('x axis label')\n",
        "plt.ylabel('y axis label')\n",
        "plt.title('Sine and Cosine')\n",
        "plt.legend(['Sine', 'Cosine'])"
      ],
      "execution_count": null,
      "outputs": [
        {
          "output_type": "execute_result",
          "data": {
            "text/plain": [
              "<matplotlib.legend.Legend at 0x7a36a3f00890>"
            ]
          },
          "metadata": {},
          "execution_count": 85
        },
        {
          "output_type": "display_data",
          "data": {
            "text/plain": [
              "<Figure size 640x480 with 1 Axes>"
            ],
            "image/png": "[encoded data removed]"
          },
          "metadata": {}
        }
      ]
    },
    {
      "cell_type": "markdown",
      "metadata": {
        "id": "R5IeAY03L9ja"
      },
      "source": [
        "###Subplots"
      ]
    },
    {
      "cell_type": "markdown",
      "metadata": {
        "id": "CfUzwJg0L9ja"
      },
      "source": [
        "You can plot different things in the same figure using the subplot function. Here is an example:"
      ]
    },
    {
      "cell_type": "code",
      "metadata": {
        "id": "dM23yGH9L9ja"
      },
      "source": [
        "# Compute the x and y coordinates for points on sine and cosine curves\n",
        "x = np.arange(0, 3 * np.pi, 0.1)\n",
        "y_sin = np.sin(x)\n",
        "y_cos = np.cos(x)\n",
        "\n",
        "# Set up a subplot grid that has height 2 and width 1,\n",
        "# and set the first such subplot as active.\n",
        "plt.subplot(2, 1, 1)\n",
        "\n",
        "# Make the first plot\n",
        "plt.plot(x, y_sin)\n",
        "plt.title('Sine')\n",
        "\n",
        "# Set the second subplot as active, and make the second plot.\n",
        "plt.subplot(2, 1, 2)\n",
        "plt.plot(x, y_cos)\n",
        "plt.title('Cosine')\n",
        "\n",
        "# Show the figure.\n",
        "plt.show()"
      ],
      "execution_count": null,
      "outputs": []
    },
    {
      "cell_type": "code",
      "source": [
        "# prompt: receive input from user and calculate the VAT with 7%\n",
        "\n",
        "def calculate_vat():\n",
        "  \"\"\"\n",
        "  Receives input from the user and calculates VAT with 7%.\n",
        "  \"\"\"\n",
        "  try:\n",
        "    price = float(input(\"Enter the price: \"))\n",
        "    vat_rate = 0.07\n",
        "    vat_amount = price * vat_rate\n",
        "    total_price = price + vat_amount\n",
        "    print(f\"Price: {price:.2f}\")\n",
        "    print(f\"VAT (7%): {vat_amount:.2f}\")\n",
        "    print(f\"Total price: {total_price:.2f}\")\n",
        "  except ValueError:\n",
        "    print(\"Invalid input. Please enter a number.\")\n",
        "\n",
        "calculate_vat()\n"
      ],
      "metadata": {
        "colab": {
          "base_uri": "https://localhost:8080/"
        },
        "id": "InzCvWu9Pcdz",
        "outputId": "bdab9401-1b02-4333-ed51-c86b7329c461"
      },
      "execution_count": null,
      "outputs": [
        {
          "output_type": "stream",
          "name": "stdout",
          "text": [
            "Enter the price: 100\n",
            "Price: 100.00\n",
            "VAT (7%): 7.00\n",
            "Total price: 107.00\n"
          ]
        }
      ]
    },
    {
      "cell_type": "markdown",
      "metadata": {
        "id": "gLtsST5SL9jc"
      },
      "source": [
        "You can read much more about the `subplot` function in the [documentation](http://matplotlib.org/api/pyplot_api.html#matplotlib.pyplot.subplot)."
      ]
    },
    {
      "cell_type": "markdown",
      "source": [
        "**ทดลองสร้าง Linear Regression เบื้องต้น**"
      ],
      "metadata": {
        "id": "HLDMDAgjOYtX"
      }
    },
    {
      "cell_type": "code",
      "source": [
        "# prompt: linear regression\n",
        "# ตัวกระตุ้น: การถดถอยเชิงเส้น (Linear Regression)\n",
        "\n",
        "# Simple Linear Regression Example\n",
        "# ตัวอย่างการถดถอยเชิงเส้นแบบง่าย\n",
        "\n",
        "# Generate some random data for demonstration\n",
        "# สร้างข้อมูลสุ่มบางส่วนสำหรับการสาธิต\n",
        "\n",
        "np.random.seed(0)    # for reproducibility\n",
        "                    # ตั้งค่า seed เพื่อให้สุ่มได้เหมือนเดิมทุกครั้ง (ทำให้สามารถทำซ้ำผลลัพธ์ได้)\n",
        "\n",
        "X = 2 * np.random.rand(100, 1)  # 100 data points, 1 feature\n",
        "                                # สร้างข้อมูล X ขนาด 100 แถว 1 คอลัมน์ มีค่าตั้งแต่ 0 ถึง 2\n",
        "\n",
        "y = 4 + 3 * X + np.random.randn(100, 1)\n",
        "# สร้างข้อมูลเป้าหมาย y ตามสมการ y = 4 + 3X + noise (ค่ารบกวน)\n",
        "\n",
        "# Add a bias term (intercept) to the feature matrix X\n",
        "# เพิ่มตัวออฟเซต (bias term) หรือค่าแกนตัด (intercept) เข้าไปใน X\n",
        "\n",
        "X_b = np.c_[np.ones((100, 1)), X]  # add x0 = 1 to each instance\n",
        "# ผนวกคอลัมน์ของค่า 1 เข้าไปด้านซ้ายของ X เพื่อแทน x₀ = 1\n",
        "\n",
        "# Calculate the optimal parameters using the Normal Equation\n",
        "# คำนวณพารามิเตอร์ที่ดีที่สุดด้วยสมการปกติ (Normal Equation)\n",
        "\n",
        "# theta_best = (X_b.T * X_b)^(-1) * X_b.T * y\n",
        "# สูตรการหาค่าพารามิเตอร์ theta: theta = (XᵀX)⁻¹ Xᵀ y\n",
        "\n",
        "theta_best = np.linalg.inv(X_b.T.dot(X_b)).dot(X_b.T).dot(y)\n",
        "# คำนวณค่าของ theta_best ตามสูตร Normal Equation\n",
        "\n",
        "# Make predictions using the calculated parameters\n",
        "# ทำนายค่าผลลัพธ์ด้วยพารามิเตอร์ที่ได้\n",
        "\n",
        "X_new = np.array([[0], [2]])  # New data points to predict\n",
        "# ข้อมูลใหม่ 2 จุดที่เราต้องการทำนายผลลัพธ์\n",
        "\n",
        "X_new_b = np.c_[np.ones((2, 1)), X_new]  # add x0 = 1 to each instance\n",
        "# เพิ่มค่า x₀ = 1 เข้าไปเหมือนตอนสร้าง X_b\n",
        "\n",
        "y_predict = X_new_b.dot(theta_best)\n",
        "# ทำนายค่า y โดยใช้พารามิเตอร์ที่ได้\n",
        "\n",
        "# Plot the data and the linear regression line\n",
        "# วาดกราฟข้อมูลและเส้นถดถอยเชิงเส้น\n",
        "\n",
        "plt.scatter(X, y, alpha=0.5)  # แสดงจุดข้อมูลจริงแบบกระจาย\n",
        "plt.plot(X_new, y_predict, \"r-\", label=\"Predictions\")  # วาดเส้นถดถอย\n",
        "\n",
        "plt.xlabel(\"X\")\n",
        "plt.ylabel(\"y\")\n",
        "plt.legend()\n",
        "plt.title(\"Simple Linear Regression\")\n",
        "plt.show()"
      ],
      "metadata": {
        "colab": {
          "base_uri": "https://localhost:8080/",
          "height": 472
        },
        "id": "F4hNn5u4obno",
        "outputId": "b1f28c14-3cc9-493b-f54f-dc3cb77aadc9"
      },
      "execution_count": null,
      "outputs": [
        {
          "output_type": "display_data",
          "data": {
            "text/plain": [
              "<Figure size 640x480 with 1 Axes>"
            ],
            "image/png": "[encoded data removed]"
          },
          "metadata": {}
        }
      ]
    }
  ]
}