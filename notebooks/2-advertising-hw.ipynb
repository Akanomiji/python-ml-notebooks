{
 "cells": [
  {
   "cell_type": "markdown",
   "metadata": {},
   "source": [
    "Assignment: Linear regression on the Advertising data\n",
    "=====================================================\n",
    "\n",
    "*Fraida Fund*\n",
    "\n",
    "Submit answers to the questions in PrairieLearn as you work through this\n",
    "notebook."
   ]
  },
  {
   "cell_type": "markdown",
   "metadata": {},
   "source": [
    "To illustrate principles of linear regression, we are going to use some\n",
    "data from the textbook “An Introduction to Statistical Learning\n",
    "withApplications in R” (Gareth James, Daniela Witten, Trevor Hastie,\n",
    "Robert Tibshirani) (available via NYU Library).\n",
    "\n",
    "The dataset is described as follows:\n",
    "\n",
    "> Suppose that we are statistical consultants hired by a client to\n",
    "> provide advice on how to improve sales of a particular product. The\n",
    "> `Advertising` data set consists of the sales of that product in 200\n",
    "> different markets, along with advertising budgets for the product in\n",
    "> each of those markets for three different media: TV, radio, and\n",
    "> newspaper.\n",
    ">\n",
    "> …\n",
    ">\n",
    "> It is not possible for our client to directly increase sales of the\n",
    "> product. On the other hand, they can control the advertising\n",
    "> expenditure in each of the three media. Therefore, if we determine\n",
    "> that there is an association between advertising and sales, then we\n",
    "> can instruct our client to adjust advertising budgets, thereby\n",
    "> indirectly increasing sales. In other words, our goal is to develop an\n",
    "> accurate model that can be used to predict sales on the basis of the\n",
    "> three media budgets.\n",
    "\n",
    "Sales are reported in thousands of units, and TV, radio, and newspaper\n",
    "budgets, are reported in thousands of dollars.\n",
    "\n",
    "For this assignment, you will fit a linear regression model to a small\n",
    "dataset. You will iteratively improve your linear regression model by\n",
    "examining the residuals at each stage, in order to identify problems\n",
    "with the model.\n",
    "\n",
    "Make sure to include your name and net ID in a text cell at the top of\n",
    "the notebook."
   ]
  },
  {
   "cell_type": "code",
   "execution_count": null,
   "metadata": {},
   "outputs": [],
   "source": [
    "from sklearn import metrics\n",
    "from sklearn.linear_model import LinearRegression\n",
    "from sklearn.model_selection import train_test_split\n",
    "\n",
    "import numpy as np\n",
    "import matplotlib.pyplot as plt\n",
    "import pandas as pd\n",
    "import seaborn as sns\n",
    "sns.set()\n",
    "\n",
    "from IPython.core.interactiveshell import InteractiveShell\n",
    "InteractiveShell.ast_node_interactivity = \"all\""
   ]
  },
  {
   "cell_type": "markdown",
   "metadata": {},
   "source": [
    "### 0. Read in and pre-process data\n",
    "\n",
    "In this section, you will read in the “Advertising” data, and make sure\n",
    "it is loaded correctly. Visually inspect the data using a pairplot, and\n",
    "note any meaningful observations. In particular, comment on which\n",
    "features appear to be correlated with product sales, and which features\n",
    "appear to be correlated with one another. Then, split the data into\n",
    "training data (70%) and test data (30%).\n",
    "\n",
    "**The code in this section is provided for you**."
   ]
  },
  {
   "cell_type": "markdown",
   "metadata": {},
   "source": [
    "#### Read in data"
   ]
  },
  {
   "cell_type": "code",
   "execution_count": null,
   "metadata": {},
   "outputs": [],
   "source": [
    "!wget 'https://www.statlearning.com/s/Advertising.csv' -O 'Advertising.csv'"
   ]
  },
  {
   "cell_type": "code",
   "execution_count": null,
   "metadata": {},
   "outputs": [],
   "source": [
    "df  = pd.read_csv('Advertising.csv', index_col=0)\n",
    "df.head()"
   ]
  },
  {
   "cell_type": "markdown",
   "metadata": {},
   "source": [
    "Note that in this dataset, the first column in the data file is the row\n",
    "label; that’s why we use `index_col=0` in the `read_csv` command. If we\n",
    "would omit that argument, then we would have an additional (unnamed)\n",
    "column in the dataset, containing the row number.\n",
    "\n",
    "(You can try removing the `index_col` argument and re-running the cell\n",
    "above, to see the effect and to understand why we used this argument.)"
   ]
  },
  {
   "cell_type": "markdown",
   "metadata": {},
   "source": [
    "#### Visually inspect the data"
   ]
  },
  {
   "cell_type": "code",
   "execution_count": null,
   "metadata": {},
   "outputs": [],
   "source": [
    "sns.pairplot(df);"
   ]
  },
  {
   "cell_type": "markdown",
   "metadata": {},
   "source": [
    "The most important panels here are on the bottom row, where `sales` is\n",
    "on the vertical axis and the advertising budgets are on the horizontal\n",
    "axes.\n",
    "\n",
    "Looking at this row, it appears that TV ad spending and radio ad\n",
    "spending are likely to be useful predictive features for `sales`; for\n",
    "newspaper ad spending, it is not clear from the pairplot whether there\n",
    "is a relationship."
   ]
  },
  {
   "cell_type": "markdown",
   "metadata": {},
   "source": [
    "#### Split up data\n",
    "\n",
    "We will use 70% of the data for training and the remaining 30% to\n",
    "evaluate the regression model on data *not* used for training."
   ]
  },
  {
   "cell_type": "code",
   "execution_count": null,
   "metadata": {},
   "outputs": [],
   "source": [
    "train, test = train_test_split(df, test_size=0.3, random_state=9)"
   ]
  },
  {
   "cell_type": "markdown",
   "metadata": {},
   "source": [
    "We will set the `random_state` to a constant so that every time you run\n",
    "this notebook, exactly the same data points will be assigned to test\n",
    "vs. training sets. This is helpful in the debugging stage."
   ]
  },
  {
   "cell_type": "code",
   "execution_count": null,
   "metadata": {},
   "outputs": [],
   "source": [
    "train.info()"
   ]
  },
  {
   "cell_type": "code",
   "execution_count": null,
   "metadata": {},
   "outputs": [],
   "source": [
    "test.info()"
   ]
  },
  {
   "cell_type": "markdown",
   "metadata": {},
   "source": [
    "### 1. Fit simple linear regression models\n",
    "\n",
    "Use the training data to fit a simple linear regression to predict\n",
    "product sales, for each of three features: TV ad budget, radio ad\n",
    "budget, and newspaper ad budget. In other words, you will fit *three*\n",
    "regression models, with each model being trained on one feature. For\n",
    "each of the three regression models, create a plot of the training data\n",
    "and the regression line, with product sales ($y$) on the vertical axis\n",
    "and the feature on which the model was trained ($x$) on the horizontal\n",
    "axis.\n",
    "\n",
    "Also, for each regression model, print the intercept and coefficients,\n",
    "and compute the MSE and R2 on the training data, and MSE and R2 on the\n",
    "test data.\n",
    "\n",
    "Comment on the results. Which type of ad spending seems to be associated\n",
    "with the largest increase in product sales? Which regression model is\n",
    "most effective at predicting product sales?\n",
    "\n",
    "**The code in this section is provided for you**. However, you will need\n",
    "to add comments, observations, and answers to the questions."
   ]
  },
  {
   "cell_type": "markdown",
   "metadata": {},
   "source": [
    "#### Fit a simple linear regression"
   ]
  },
  {
   "cell_type": "code",
   "execution_count": null,
   "metadata": {},
   "outputs": [],
   "source": [
    "reg_tv    = LinearRegression().fit(train[['TV']], train['sales'])\n",
    "reg_radio = LinearRegression().fit(train[['radio']], train['sales'])\n",
    "reg_news  = LinearRegression().fit(train[['newspaper']], train['sales'])"
   ]
  },
  {
   "cell_type": "markdown",
   "metadata": {},
   "source": [
    "#### Look at coefficients"
   ]
  },
  {
   "cell_type": "code",
   "execution_count": null,
   "metadata": {},
   "outputs": [],
   "source": [
    "print(\"TV       : \", reg_tv.coef_[0], reg_tv.intercept_)\n",
    "print(\"Radio    : \", reg_radio.coef_[0], reg_radio.intercept_)\n",
    "print(\"Newspaper: \", reg_news.coef_[0], reg_news.intercept_)"
   ]
  },
  {
   "cell_type": "markdown",
   "metadata": {},
   "source": [
    "#### Plot data and regression line"
   ]
  },
  {
   "cell_type": "code",
   "execution_count": null,
   "metadata": {},
   "outputs": [],
   "source": [
    "fig = plt.figure(figsize=(12,3))\n",
    "\n",
    "plt.subplot(1,3,1)\n",
    "sns.scatterplot(data=train, x=\"TV\", y=\"sales\");\n",
    "sns.lineplot(data=train, x=\"TV\", y=reg_tv.predict(train[['TV']]), color='red');\n",
    "\n",
    "plt.subplot(1,3,2)\n",
    "sns.scatterplot(data=train, x=\"radio\", y=\"sales\");\n",
    "sns.lineplot(data=train, x=\"radio\", y=reg_radio.predict(train[['radio']]), color='red');\n",
    "\n",
    "plt.subplot(1,3,3)\n",
    "sns.scatterplot(data=train, x=\"newspaper\", y=\"sales\");\n",
    "sns.lineplot(data=train, x=\"newspaper\", y=reg_news.predict(train[['newspaper']]), color='red');"
   ]
  },
  {
   "cell_type": "markdown",
   "metadata": {},
   "source": [
    "#### Compute R2, MSE for simple regression"
   ]
  },
  {
   "cell_type": "code",
   "execution_count": null,
   "metadata": {},
   "outputs": [],
   "source": [
    "y_pred_tr_tv    = reg_tv.predict(train[['TV']])\n",
    "y_pred_tr_radio = reg_radio.predict(train[['radio']])\n",
    "y_pred_tr_news  = reg_news.predict(train[['newspaper']])"
   ]
  },
  {
   "cell_type": "code",
   "execution_count": null,
   "metadata": {},
   "outputs": [],
   "source": [
    "r2_tr_tv    = metrics.r2_score(train['sales'], y_pred_tr_tv)\n",
    "r2_tr_radio = metrics.r2_score(train['sales'], y_pred_tr_radio)\n",
    "r2_tr_news  = metrics.r2_score(train['sales'], y_pred_tr_news)\n",
    "print(\"TV       : \", r2_tr_tv)\n",
    "print(\"Radio    : \", r2_tr_radio)\n",
    "print(\"Newspaper: \", r2_tr_news)"
   ]
  },
  {
   "cell_type": "code",
   "execution_count": null,
   "metadata": {},
   "outputs": [],
   "source": [
    "mse_tr_tv    = metrics.mean_squared_error(train['sales'], y_pred_tr_tv)\n",
    "mse_tr_radio = metrics.mean_squared_error(train['sales'], y_pred_tr_radio)\n",
    "mse_tr_news  = metrics.mean_squared_error(train['sales'], y_pred_tr_news)\n",
    "print(\"TV       : \", mse_tr_tv)\n",
    "print(\"Radio    : \", mse_tr_radio)\n",
    "print(\"Newspaper: \", mse_tr_news)"
   ]
  },
  {
   "cell_type": "code",
   "execution_count": null,
   "metadata": {},
   "outputs": [],
   "source": [
    "y_pred_ts_tv    = reg_tv.predict(test[['TV']])\n",
    "y_pred_ts_radio = reg_radio.predict(test[['radio']])\n",
    "y_pred_ts_news  = reg_news.predict(test[['newspaper']])"
   ]
  },
  {
   "cell_type": "code",
   "execution_count": null,
   "metadata": {},
   "outputs": [],
   "source": [
    "r2_ts_tv    = metrics.r2_score(test['sales'], y_pred_ts_tv)\n",
    "r2_ts_radio = metrics.r2_score(test['sales'], y_pred_ts_radio)\n",
    "r2_ts_news  = metrics.r2_score(test['sales'], y_pred_ts_news)\n",
    "print(\"TV       : \", r2_ts_tv)\n",
    "print(\"Radio    : \", r2_ts_radio)\n",
    "print(\"Newspaper: \", r2_ts_news)"
   ]
  },
  {
   "cell_type": "code",
   "execution_count": null,
   "metadata": {},
   "outputs": [],
   "source": [
    "mse_ts_tv    = metrics.mean_squared_error(test['sales'], y_pred_ts_tv)\n",
    "mse_ts_radio = metrics.mean_squared_error(test['sales'], y_pred_ts_radio)\n",
    "mse_ts_news  = metrics.mean_squared_error(test['sales'], y_pred_ts_news)\n",
    "print(\"TV       : \", mse_ts_tv)\n",
    "print(\"Radio    : \", mse_ts_radio)\n",
    "print(\"Newspaper: \", mse_ts_news)"
   ]
  },
  {
   "cell_type": "markdown",
   "metadata": {},
   "source": [
    "### 2. Explore the residuals for the single linear regression models\n",
    "\n",
    "We know that computing MSE or R2 is not sufficient to diagnose a problem\n",
    "with a linear regression.\n",
    "\n",
    "Create some additional plots as described below to help you identify any\n",
    "problems with the regression. Use training data for all of the items\n",
    "below.\n",
    "\n",
    "For each of the three regression models, you will compute the residuals\n",
    "($y - \\hat{y}$). Then, you’ll create three plots - each with three\n",
    "subplots, one for each regression model - as follows:\n",
    "\n",
    "**Plot 1**: Create a scatter plot of predicted sales ($\\hat{y}$) on the\n",
    "vertical axis, and actual sales ($y$) on the horizontal axis. Make sure\n",
    "both axes use the same scale (the range of the vertical axis should be\n",
    "the same as the range of the vertical axis) *and* that all three\n",
    "subplots use the same scale. Label each axes, and each plot. What would\n",
    "you expect this plot to look like for a model that explains the data\n",
    "well?\n",
    "\n",
    "**Plot 2**: Create a scatter plot with the residuals ($y - \\hat{y}$) on\n",
    "the vertical axis, and actual sales ($y$) on the horizontal axis. Use\n",
    "the same scale for all three subplots. Comment on your observations. Is\n",
    "there a pattern in the residuals (and if so, what might it indicate), or\n",
    "do they appear to have no pattern with respect to actual sales?\n",
    "\n",
    "**Plot 3**: For each of the three regression models AND each of the\n",
    "three features, create a scatter plot with the residuals ($y - \\hat{y}$)\n",
    "on the vertical axis, and the feature ($x$) on the horizontal axis. This\n",
    "plot will include nine subplots in total, for every combination of\n",
    "regression model and feature. Make sure to clearly label each axis, and\n",
    "also label each subplot with a title that indicates which regression\n",
    "model it uses. Is there a pattern in the residuals (and if so, what\n",
    "might it indicate), or do they appear to have no pattern with respect to\n",
    "each of the three features?\n",
    "\n",
    "**The code in this section is not provided for you**. You will need to\n",
    "write code, as well as comments, observations, and answers to the\n",
    "questions.\n",
    "\n",
    "------------------------------------------------------------------------\n",
    "\n",
    "Note that in general, to earn full credit, plots must:\n",
    "\n",
    "-   Be readable (especially text size).\n",
    "-   Have a label on each axis.\n",
    "-   Have an appropriate range for each axis. When there are multiple\n",
    "    subplots, if the goal is to compare similar things in different\n",
    "    subplots, in most cases it is appropriate for them all to use the\n",
    "    same range.\n",
    "-   If there are multiple subplots, or multiple data series in the same\n",
    "    plot, it must be made clear which is which."
   ]
  },
  {
   "cell_type": "markdown",
   "metadata": {},
   "source": [
    "### 3. Try a multiple linear regression\n",
    "\n",
    "Next, fit a multiple linear regression to predict product sales, using\n",
    "all three features to train a single model: TV ad budget, radio ad\n",
    "budget, and newspaper ad budget.\n",
    "\n",
    "Print the intercept and coefficients, and compute the MSE and R2 on the\n",
    "training data, and MSE and R2 on the test data. Comment on the results.\n",
    "Make sure to explain any differences between the coefficients of the\n",
    "multiple regression model, and the coefficients of the three simple\n",
    "linear regression models. If they are different, why?\n",
    "\n",
    "**The code in the first part of this section is provided for you**.\n",
    "However, you will need to add comments, observations, and answers to the\n",
    "questions.\n",
    "\n",
    "Also repeat the analysis of part (3) for this regression model. Use\n",
    "training data for all of these items:\n",
    "\n",
    "**Plot 1**: Create a scatter plot of predicted sales ($\\hat{y}$) on the\n",
    "vertical axis, and actual sales ($y$) on the horizontal axis. Make sure\n",
    "both axes use the same scale (the range of the vertical axis should be\n",
    "the same as the range of the vertical axis). Label each axes. Does this\n",
    "model explain the data more effectively than the simple linear\n",
    "regressions from the previous section?\n",
    "\n",
    "**Plot 2**: Create a scatter plot with the residuals ($y - \\hat{y}$) on\n",
    "the vertical axis, and actual sales ($y$) on the horizontal axis.\n",
    "Comment on your observations. Is there a pattern in the residuals (and\n",
    "if so, what might it indicate), or do they appear to have no pattern\n",
    "with respect to actual sales?\n",
    "\n",
    "**Plot 3**: For each of the three features, plot the residuals\n",
    "($y - \\hat{y}$) on the vertical axis, and the feature ($x$) on the\n",
    "horizontal axis. Make sure to clearly label each axis. Is there a\n",
    "pattern in the residuals (and if so, what might it indicate), or do they\n",
    "appear to have no pattern with respect to each of the three features?\n",
    "\n",
    "------------------------------------------------------------------------\n",
    "\n",
    "Note that in general, to earn full credit, plots must:\n",
    "\n",
    "-   Be readable (especially text size).\n",
    "-   Have a label on each axis.\n",
    "-   Have an appropriate range for each axis. When there are multiple\n",
    "    subplots, if the goal is to compare similar things in different\n",
    "    subplots, in most cases it is appropriate for them all to use the\n",
    "    same range.\n",
    "-   If there are multiple subplots, or multiple data series in the same\n",
    "    plot, it must be made clear which is which."
   ]
  },
  {
   "cell_type": "markdown",
   "metadata": {},
   "source": [
    "#### Fit a multiple linear regression"
   ]
  },
  {
   "cell_type": "code",
   "execution_count": null,
   "metadata": {},
   "outputs": [],
   "source": [
    "reg_multi = LinearRegression().fit(train[['TV', 'radio', 'newspaper']], train['sales'])"
   ]
  },
  {
   "cell_type": "markdown",
   "metadata": {},
   "source": [
    "#### Look at coefficients"
   ]
  },
  {
   "cell_type": "code",
   "execution_count": null,
   "metadata": {},
   "outputs": [],
   "source": [
    "print(\"Coefficients (TV, radio, newspaper):\", reg_multi.coef_)\n",
    "print(\"Intercept: \", reg_multi.intercept_)"
   ]
  },
  {
   "cell_type": "markdown",
   "metadata": {},
   "source": [
    "#### Compute R2, MSE for multiple regression"
   ]
  },
  {
   "cell_type": "code",
   "execution_count": null,
   "metadata": {},
   "outputs": [],
   "source": [
    "y_pred_tr_multi = reg_multi.predict(train[['TV', 'radio', 'newspaper']])\n",
    "\n",
    "r2_tr_multi  = metrics.r2_score(train['sales'], y_pred_tr_multi)\n",
    "mse_tr_multi = metrics.mean_squared_error(train['sales'], y_pred_tr_multi)\n",
    "\n",
    "print(\"Multiple regression R2:  \", r2_tr_multi)\n",
    "print(\"Multiple regression MSE: \", mse_tr_multi)\n"
   ]
  },
  {
   "cell_type": "code",
   "execution_count": null,
   "metadata": {},
   "outputs": [],
   "source": [
    "y_pred_ts_multi = reg_multi.predict(test[['TV', 'radio', 'newspaper']])\n",
    "\n",
    "r2_ts_multi  = metrics.r2_score(test['sales'], y_pred_ts_multi)\n",
    "mse_ts_multi = metrics.mean_squared_error(test['sales'], y_pred_ts_multi)\n",
    "\n",
    "print(\"Multiple regression R2:  \", r2_ts_multi)\n",
    "print(\"Multiple regression MSE: \", mse_ts_multi)\n"
   ]
  },
  {
   "cell_type": "markdown",
   "metadata": {},
   "source": [
    "### 4. Linear regression with interaction terms\n",
    "\n",
    "Our multiple linear regression includes additive effects of all three\n",
    "types of advertising media. However, it does not include *interaction*\n",
    "effects, in which combining different types of advertising media\n",
    "together results in a bigger boost in sales than just the additive\n",
    "effect of the individual media.\n",
    "\n",
    "The pattern in the residuals plots from parts (1) through (3) suggest\n",
    "that a model including an interaction effect may explain sales data\n",
    "better than a model including additive effects. Add four columns to each\n",
    "data frame (`train` and `test`):\n",
    "\n",
    "-   `newspaper` $\\times$ `radio` (name this column `newspaper_radio`)\n",
    "-   `TV` $\\times$ `radio` (name this column `TV_radio`)\n",
    "-   `newspaper` $\\times$ `TV` (name this column `newspaper_TV`)\n",
    "-   `newspaper` $\\times$ `radio` $\\times$ `TV` (name this column\n",
    "    `newspaper_radio_TV`)\n",
    "\n",
    "Note: you can use the `assign` function in `pandas` ([documentation\n",
    "here](https://pandas.pydata.org/docs/reference/api/pandas.DataFrame.assign.html))\n",
    "to create a new column and assign a value to it using operations on\n",
    "other columns.\n",
    "\n",
    "Then, train a linear regression model on all seven features: the three\n",
    "types of ad budgets, and the four interaction effects. Repeat the\n",
    "analysis of part (3) for the model including interaction effects. Are\n",
    "the interaction effects helpful for explaining the effect of ads on\n",
    "product sales? Are there any patterns evident in the residual plots that\n",
    "suggest further opportunities for improving the model?\n",
    "\n",
    "**The code in this section is not provided for you**. You will need to\n",
    "write code, in addition to comments, observations, and answers to the\n",
    "questions.\n",
    "\n",
    "------------------------------------------------------------------------\n",
    "\n",
    "Note that in general, to earn full credit, plots must:\n",
    "\n",
    "-   Be readable (especially text size).\n",
    "-   Have a label on each axis.\n",
    "-   Have an appropriate range for each axis. When there are multiple\n",
    "    subplots, if the goal is to compare similar things in different\n",
    "    subplots, in most cases it is appropriate for them all to use the\n",
    "    same range.\n",
    "-   If there are multiple subplots, or multiple data series in the same\n",
    "    plot, it must be made clear which is which."
   ]
  }
 ],
 "nbformat": 4,
 "nbformat_minor": 5,
 "metadata": {}
}
