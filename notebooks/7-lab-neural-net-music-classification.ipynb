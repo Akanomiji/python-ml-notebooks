{
 "cells": [
  {
   "cell_type": "markdown",
   "metadata": {},
   "source": [
    "Assignment: Neural Networks for Music Classification\n",
    "===================================================="
   ]
  },
  {
   "cell_type": "markdown",
   "metadata": {},
   "source": [
    "**TODO**: Edit this cell to fill in your NYU Net ID and your name:\n",
    "\n",
    "-   **Net ID**:\n",
    "-   **Name**:"
   ]
  },
  {
   "cell_type": "markdown",
   "metadata": {},
   "source": [
    "In this assignment, we will look at an audio classification problem.\n",
    "Given a sample of music, we want to determine which instrument (e.g.\n",
    "trumpet, violin, piano) is playing.\n",
    "\n",
    "*This assignment is closely based on one by Sundeep Rangan, from his\n",
    "[IntroML GitHub repo](https://github.com/sdrangan/introml/).*"
   ]
  },
  {
   "cell_type": "code",
   "execution_count": null,
   "metadata": {},
   "outputs": [],
   "source": [
    "import tensorflow as tf\n",
    "import numpy as np\n",
    "import matplotlib\n",
    "import matplotlib.pyplot as plt\n",
    "import seaborn as sns\n",
    "%matplotlib inline"
   ]
  },
  {
   "cell_type": "markdown",
   "metadata": {},
   "source": [
    "Audio Feature Extraction with Librosa\n",
    "-------------------------------------\n",
    "\n",
    "The key to audio classification is to extract the correct features. The\n",
    "`librosa` package in python has a rich set of methods for extracting the\n",
    "features of audio samples commonly used in machine learning tasks, such\n",
    "as speech recognition and sound classification."
   ]
  },
  {
   "cell_type": "code",
   "execution_count": null,
   "metadata": {},
   "outputs": [],
   "source": [
    "import librosa\n",
    "import librosa.display\n",
    "import librosa.feature"
   ]
  },
  {
   "cell_type": "markdown",
   "metadata": {},
   "source": [
    "In this lab, we will use a set of music samples from the website:\n",
    "\n",
    "<a href=\"http://theremin.music.uiowa.edu\" class=\"uri\">http://theremin.music.uiowa.edu</a>\n",
    "\n",
    "This website has a great set of samples for audio processing.\n",
    "\n",
    "We will use the `wget` command to retrieve one file to our Google Colab\n",
    "storage area. (We can run `wget` and many other basic Linux commands in\n",
    "Colab by prefixing them with a `!` or `%`.)"
   ]
  },
  {
   "cell_type": "code",
   "execution_count": null,
   "metadata": {},
   "outputs": [],
   "source": [
    "!wget \"http://theremin.music.uiowa.edu/sound files/MIS/Woodwinds/sopranosaxophone/SopSax.Vib.pp.C6Eb6.aiff\""
   ]
  },
  {
   "cell_type": "markdown",
   "metadata": {},
   "source": [
    "Now, if you click on the small folder icon on the far left of the Colab\n",
    "interface, you can see the files in your Colab storage. You should see\n",
    "the “SopSax.Vib.pp.C6Eb6.aiff” file appear there."
   ]
  },
  {
   "cell_type": "markdown",
   "metadata": {},
   "source": [
    "In order to listen to this file, we’l first convert it into the `wav`\n",
    "format. Again, we’l use a magic command to run a basic command-line\n",
    "utility: `ffmpeg`, a powerful tool for working with audio and video\n",
    "files."
   ]
  },
  {
   "cell_type": "code",
   "execution_count": null,
   "metadata": {},
   "outputs": [],
   "source": [
    "aiff_file = 'SopSax.Vib.pp.C6Eb6.aiff'\n",
    "wav_file = 'SopSax.Vib.pp.C6Eb6.wav'\n",
    "\n",
    "!ffmpeg -y -i $aiff_file $wav_file"
   ]
  },
  {
   "cell_type": "markdown",
   "metadata": {},
   "source": [
    "Now, we can play the file directly from Colab. If you press the ▶️\n",
    "button, you will hear a soprano saxaphone (with vibrato) playing four\n",
    "notes (C, C\\#, D, Eb)."
   ]
  },
  {
   "cell_type": "code",
   "execution_count": null,
   "metadata": {},
   "outputs": [],
   "source": [
    "import IPython.display as ipd\n",
    "ipd.Audio(wav_file) "
   ]
  },
  {
   "cell_type": "markdown",
   "metadata": {},
   "source": [
    "Next, use `librosa` command `librosa.load` to read the audio file with\n",
    "filename `audio_file` and get the samples `y` and sample rate `sr`."
   ]
  },
  {
   "cell_type": "code",
   "execution_count": null,
   "metadata": {},
   "outputs": [],
   "source": [
    "y, sr = librosa.load(aiff_file)"
   ]
  },
  {
   "cell_type": "markdown",
   "metadata": {},
   "source": [
    "Feature engineering from audio files is an entire subject in its own\n",
    "right. A commonly used set of features are called the Mel Frequency\n",
    "Cepstral Coefficients (MFCCs). These are derived from the so-called mel\n",
    "spectrogram, which is something like a regular spectrogram, but the\n",
    "power and frequency are represented in log scale, which more naturally\n",
    "aligns with human perceptual processing.\n",
    "\n",
    "You can run the code below to display the mel spectrogram from the audio\n",
    "sample.\n",
    "\n",
    "You can easily see the four notes played in the audio track. You also\n",
    "see the 'harmonics' of each notes, which are other tones at integer\n",
    "multiples of the fundamental frequency of each note."
   ]
  },
  {
   "cell_type": "code",
   "execution_count": null,
   "metadata": {},
   "outputs": [],
   "source": [
    "S = librosa.feature.melspectrogram(y=y, sr=sr, n_mels=128, fmax=8000)\n",
    "librosa.display.specshow(librosa.amplitude_to_db(S),\n",
    "                         y_axis='mel', fmax=8000, x_axis='time')\n",
    "plt.colorbar(format='%+2.0f dB')\n",
    "plt.title('Mel spectrogram')\n",
    "plt.tight_layout()"
   ]
  },
  {
   "cell_type": "markdown",
   "metadata": {},
   "source": [
    "Downloading the Data\n",
    "--------------------\n",
    "\n",
    "Using the MFCC features described above, [Prof. Juan\n",
    "Bello](http://steinhardt.nyu.edu/faculty/Juan_Pablo_Bello) at NYU\n",
    "Steinhardt and his former PhD student Eric Humphrey have created a\n",
    "complete data set that can used for instrument classification.\n",
    "Essentially, they collected a number of data files from the website\n",
    "above. For each audio file, the segmented the track into notes and then\n",
    "extracted 120 MFCCs for each note. The goal is to recognize the\n",
    "instrument from the 120 MFCCs. The process of feature extraction is\n",
    "quite involved. So, we will just use their processed data."
   ]
  },
  {
   "cell_type": "markdown",
   "metadata": {},
   "source": [
    "To retrieve their data, visit\n",
    "\n",
    "<a href=\"https://github.com/marl/dl4mir-tutorial/blob/master/README.md\" class=\"uri\">https://github.com/marl/dl4mir-tutorial/blob/master/README.md</a>\n",
    "\n",
    "and note the password listed on that page. Click on the link for\n",
    "“Instrument Dataset”, enter the password, click on `instrument_dataset`\n",
    "to open the folder, and download the four files there. (You can “direct\n",
    "download” straight from this site, you don’t need a Dropbox account.)\n",
    "\n",
    "Then, upload the files to your Google Colab storage: click on the folder\n",
    "icon on the left to see your storage, if it isn’t already open, and then\n",
    "click on “Upload”.\n",
    "\n",
    "🛑 Wait until *all* uploads have completed and the orange “circles”\n",
    "indicating uploads in progress are *gone*. (The training data especially\n",
    "will take some time to upload.) 🛑"
   ]
  },
  {
   "cell_type": "markdown",
   "metadata": {},
   "source": [
    "Then, load the files with:"
   ]
  },
  {
   "cell_type": "code",
   "execution_count": null,
   "metadata": {},
   "outputs": [],
   "source": [
    "Xtr = np.load('uiowa_train_data.npy')\n",
    "ytr = np.load('uiowa_train_labels.npy')\n",
    "Xts = np.load('uiowa_test_data.npy')\n",
    "yts = np.load('uiowa_test_labels.npy')"
   ]
  },
  {
   "cell_type": "markdown",
   "metadata": {},
   "source": [
    "Examine the data you have just loaded in:\n",
    "\n",
    "-   How many training samples are there?\n",
    "-   How many test samples are there?\n",
    "-   What is the number of features for each sample?\n",
    "-   How many classes (i.e. instruments) are there?\n",
    "\n",
    "Write some code to find these values and print them."
   ]
  },
  {
   "cell_type": "code",
   "execution_count": null,
   "metadata": {},
   "outputs": [],
   "source": [
    "# TODO 1 Print basic details of the data"
   ]
  },
  {
   "cell_type": "markdown",
   "metadata": {},
   "source": [
    "Then, standardize the training and test data, `Xtr` and `Xts`, by\n",
    "removing the mean of each feature and scaling to unit variance.\n",
    "\n",
    "You can do this manually, or using `sklearn`'s\n",
    "[StandardScaler](https://scikit-learn.org/stable/modules/generated/sklearn.preprocessing.StandardScaler.html).\n",
    "(For an example showing how to use a `StandardScaler`, you can refer to\n",
    "the notebook on regularization.)\n",
    "\n",
    "<small>Standardizing the input data can make the gradient descent work\n",
    "better, by making the loss function “easier” to descend.</small>"
   ]
  },
  {
   "cell_type": "code",
   "execution_count": null,
   "metadata": {},
   "outputs": [],
   "source": [
    "# TODO 2 Standardize the training and test data"
   ]
  },
  {
   "cell_type": "markdown",
   "metadata": {
    "collapsed": true
   },
   "source": [
    "Building a Neural Network Classifier\n",
    "------------------------------------\n",
    "\n",
    "Following the example in the demos you have seen, clear the keras\n",
    "session. Then, create a neural network `model` with:\n",
    "\n",
    "-   `nh=256` hidden units in a single dense hidden layer\n",
    "-   `sigmoid` activation\n",
    "-   select the input and output shapes, and output activation, according\n",
    "    to the problem requirements\n",
    "-   print the model summary"
   ]
  },
  {
   "cell_type": "code",
   "execution_count": null,
   "metadata": {},
   "outputs": [],
   "source": [
    "from tensorflow.keras.models import Model, Sequential\n",
    "from tensorflow.keras.layers import Dense, Activation\n",
    "from tensorflow.keras import optimizers\n",
    "import tensorflow.keras.backend as K"
   ]
  },
  {
   "cell_type": "code",
   "execution_count": null,
   "metadata": {},
   "outputs": [],
   "source": [
    "# TODO 3 construct the model\n",
    "# model =  ...\n",
    "# model.add( ...\n",
    " \n",
    "# make sure to print the model summary"
   ]
  },
  {
   "cell_type": "markdown",
   "metadata": {},
   "source": [
    "Create an optimizer and compile the model. Select the appropriate loss\n",
    "function for this multi-class classification problem, and use an\n",
    "accuracy metric. For the optimizer, use the Adam optimizer with a\n",
    "learning rate of 0.001"
   ]
  },
  {
   "cell_type": "code",
   "execution_count": null,
   "metadata": {},
   "outputs": [],
   "source": [
    "# TODO 4\n",
    "# opt = ...\n",
    "# model.compile(...)"
   ]
  },
  {
   "cell_type": "markdown",
   "metadata": {},
   "source": [
    "Fit the model for 10 epochs using the scaled data for both the training\n",
    "and validation. Use the `validation_data` option to pass the *test*\n",
    "data. Use a batch size of 128. Your final accuracy should be \\>99%."
   ]
  },
  {
   "cell_type": "code",
   "execution_count": null,
   "metadata": {},
   "outputs": [],
   "source": [
    "# TODO 5\n",
    "# hist = "
   ]
  },
  {
   "cell_type": "markdown",
   "metadata": {},
   "source": [
    "Plot the training and validation accuracy saved in `hist.history`\n",
    "dictionary, on the same plot. This gives one accuracy value per epoch.\n",
    "You should see that the validation accuracy saturates around 99%. After\n",
    "that it may “bounce around” a little due to the noise in the stochastic\n",
    "mini-batch gradient descent.\n",
    "\n",
    "Make sure to label each axis, and each series (training vs. validation)."
   ]
  },
  {
   "cell_type": "code",
   "execution_count": null,
   "metadata": {},
   "outputs": [],
   "source": [
    "# TODO 6A"
   ]
  },
  {
   "cell_type": "markdown",
   "metadata": {},
   "source": [
    "Plot the training and validation loss values saved in the `hist.history`\n",
    "dictionary, on the same plot. You should see that the training loss is\n",
    "steadily decreasing. Use the [`semilogy`\n",
    "plot](https://matplotlib.org/stable/api/_as_gen/matplotlib.pyplot.semilogy.html)\n",
    "so that the y-axis is log scale.\n",
    "\n",
    "Make sure to label each axis, and each series (training vs. validation)."
   ]
  },
  {
   "cell_type": "code",
   "execution_count": null,
   "metadata": {},
   "outputs": [],
   "source": [
    "# TODO 6B"
   ]
  },
  {
   "cell_type": "markdown",
   "metadata": {},
   "source": [
    "Varying the Learning Rate\n",
    "-------------------------\n",
    "\n",
    "One challenge in training neural networks is the selection of the\n",
    "learning rate. Repeat your model preparation and fitting code, but try\n",
    "four learning rates as shown in the vector `rates`. In each iteration of\n",
    "the loop:\n",
    "\n",
    "-   clear the session with `K.clear_session()` to free up memory from\n",
    "    models that are no longer in scope\n",
    "-   construct the network\n",
    "-   select the optimizer. Use the Adam optimizer with the learning rate\n",
    "    specific to this iteration\n",
    "-   train the model for 20 epochs\n",
    "-   save the history of training and validation accuracy and loss for\n",
    "    this model"
   ]
  },
  {
   "cell_type": "code",
   "execution_count": null,
   "metadata": {},
   "outputs": [],
   "source": [
    "rates = [0.1, 0.01,0.001,0.0001]\n",
    "\n",
    "# TODO 7"
   ]
  },
  {
   "cell_type": "markdown",
   "metadata": {},
   "source": [
    "Plot the training loss vs. the epoch number for all of the learning\n",
    "rates on one graph (use `semilogy` again). You should see that the lower\n",
    "learning rates are more stable, but converge slower, while with a\n",
    "learning rate that is too high, the gradient descent may fail to move\n",
    "towards weights that decrease the loss function.\n",
    "\n",
    "Make sure to label each axis, and each series (training and validation).\n",
    "\n",
    "**Comment on the results.**"
   ]
  },
  {
   "cell_type": "code",
   "execution_count": null,
   "metadata": {},
   "outputs": [],
   "source": [
    "# TODO 8"
   ]
  },
  {
   "cell_type": "markdown",
   "metadata": {},
   "source": [
    "Hidden layer size\n",
    "-----------------\n",
    "\n",
    "The size of the hidden layer controls the network's ability to learn\n",
    "complicated feature representations.\n",
    "\n",
    "Repeat your model preparation and fitting code, but loop over a range of\n",
    "hidden layer sizes: try all powers of 2 from 4 to 1024. In each\n",
    "iteration of the loop:\n",
    "\n",
    "-   clear the session with `K.clear_session()` to free up memory from\n",
    "    models that are no longer in scope\n",
    "-   construct the network with the hidden layer size specific to this\n",
    "    iteration.\n",
    "-   select the optimizer. Use the Adam optimizer with a 0.001 learning\n",
    "    rate.\n",
    "-   train the model for **40** epochs\n",
    "-   save the history of training and validation accuracy and losses for\n",
    "    this model"
   ]
  },
  {
   "cell_type": "code",
   "execution_count": null,
   "metadata": {},
   "outputs": [],
   "source": [
    "# TODO 9"
   ]
  },
  {
   "cell_type": "markdown",
   "metadata": {},
   "source": [
    "Plot the training loss vs. the epoch number for all of the hidden layer\n",
    "sizes on one graph (use `semilogy` again).\n",
    "\n",
    "Then, plot the validation loss vs. the epoch number for all of the\n",
    "hidden layer sizes on a second graph (use `semilogy` again).\n",
    "\n",
    "Make sure to label each axis, and each series.\n",
    "\n",
    "**Comment on the results.**"
   ]
  },
  {
   "cell_type": "code",
   "execution_count": null,
   "metadata": {},
   "outputs": [],
   "source": [
    "# TODO 10"
   ]
  }
 ],
 "nbformat": 4,
 "nbformat_minor": 0,
 "metadata": {
  "anaconda-cloud": {},
  "language_info": {
   "name": "python",
   "nbconvert_exporter": "python",
   "file_extension": ".py",
   "pygments_lexer": "ipython3",
   "mimetype": "text/x-python",
   "version": "3.6.7",
   "codemirror_mode": {
    "name": "ipython",
    "version": "3"
   }
  },
  "kernelspec": {
   "name": "python3",
   "display_name": "Python 3",
   "language": "python"
  },
  "colab": {
   "name": "7-lab-neural-net-music-classification.ipynb"
  }
 }
}
