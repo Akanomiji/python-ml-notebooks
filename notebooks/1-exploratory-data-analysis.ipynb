{
 "cells": [
  {
   "cell_type": "markdown",
   "metadata": {},
   "source": [
    "# Exploratory data analysis\n",
    "\n",
    "*Fraida Fund*"
   ],
   "id": "d04d5e55-ad40-49c9-8b89-73043f92b5dd"
  },
  {
   "cell_type": "markdown",
   "metadata": {},
   "source": [
    "## In this notebook\n",
    "\n",
    "In this notebook:\n",
    "\n",
    "-   We practice using `pandas` to read in and manipulate a data set. (We won’t have a separate tutorial on `pandas` - we will learn basic `pandas` techniques as we need them.)\n",
    "-   We learn a basic “recipe” for exploratory data analysis and apply it to an example"
   ],
   "id": "837d4ea6-71e6-4b80-badb-675a635895b7"
  },
  {
   "cell_type": "markdown",
   "metadata": {},
   "source": [
    "## Introduction"
   ],
   "id": "510f3d32-3767-4d63-867e-21d526fc277f"
  },
  {
   "cell_type": "markdown",
   "metadata": {},
   "source": [
    "The first step in applying machine learning to a real problem is *finding* or *creating* an appropriate data set with which to train your model."
   ],
   "id": "eaff6818-98ae-4b41-a763-208599844009"
  },
  {
   "cell_type": "markdown",
   "metadata": {},
   "source": [
    "### What makes data “good”?\n",
    "\n",
    "What makes a good data set?\n",
    "\n",
    "-   **Size**: the more *samples* are in the data set, the more examples your machine learning model will be able to learn from, and the better it will do. Often, a simple machine learning model trained on a large data set will outperform a “fancy” model on a small data set.\n",
    "-   **Quality**: Are there *predictive* features in the data? Are no values (or very few values) missing, noisy, or incorrect? Is the scenario in which the data collected similar to the scenario in which your model will be used? These are examples of questions that we might ask to evaluate the quality of a data set."
   ],
   "id": "12c4ff44-3ff2-49fc-b767-56f4ecc65f04"
  },
  {
   "cell_type": "markdown",
   "metadata": {},
   "source": [
    "One of the most important principles in machine learning is: **garbage in, garbage out**. If the data you use to train a machine learning model is problematic, or not well suited for the purpose, then even the best model will produce useless predictions."
   ],
   "id": "a1bedef2-7312-4d01-8cdd-8adb876dc8f6"
  },
  {
   "cell_type": "markdown",
   "metadata": {},
   "source": [
    "### Purpose of exploratory data analysis\n",
    "\n",
    "Once we have identified one or more candidate data sets for a particular problem, we perform some *exploratory data analysis*. This process helps us\n",
    "\n",
    "-   detect and possibly correct mistakes in the data\n",
    "-   check our assumptions about the data\n",
    "-   identify potential relationships between features\n",
    "-   assess the direction and rough size of relationships between features and the target variable\n",
    "\n",
    "Exploratory data analysis is important for understanding whether this data set is appropriate for the machine learning task at hand, and if any extra cleaning or processing steps are required before we use the data."
   ],
   "id": "12ece55b-e37f-472e-ade7-5a314977bfdf"
  },
  {
   "cell_type": "markdown",
   "metadata": {},
   "source": [
    "## “Recipe” for exploratory data analysis\n",
    "\n",
    "We will practice using a basic “recipe” for exploratory data analysis.\n",
    "\n",
    "1.  Set down *expectations* about the data\n",
    "2.  Load data and check that it is loaded correctly\n",
    "3.  Inspect the data to make sure it is consistent with your expectations (“sanity checks”), and clean or filter the data if needed\n",
    "4.  Explore relationships in the data to identify good candidate features and target variables\n",
    "\n",
    "Every exploratory data analysis is different, as specific characteristics of the data may lead you to explore different things in depth. However, this “recipe” can be a helpful starting point.\n",
    "\n",
    "**Note**: before we do anything with a dataset that we will use for machine learning, we should set aside a part of the data to use as a held-out test set! In this example, assume that we have already separated out a held-out test set."
   ],
   "id": "a2ab5a29-b2b8-41f3-9a3c-a5498f9cf328"
  },
  {
   "cell_type": "markdown",
   "metadata": {},
   "source": [
    "## Example: Brooklyn Bridge pedestrian data set"
   ],
   "id": "9990b16e-d420-489b-a46f-bffc6498deb8"
  },
  {
   "cell_type": "markdown",
   "metadata": {},
   "source": [
    "The Brooklyn Bridge is a bridge that connects Brooklyn and Manhattan. It supports vehicles, pedestrians, and bikers.\n",
    "\n",
    "![](https://brooklyneagle.com/wp-content/uploads/2019/01/7-Brooklyn-Bridge-pedestrians-in-bike-lane-to-right-of-white-stripe-January-2019-photo-by-Lore-Croghan-600x397.jpg)"
   ],
   "id": "2530facd-b52b-49f2-86dd-aa7832af007f"
  },
  {
   "cell_type": "markdown",
   "metadata": {},
   "source": [
    "Support you are developing a machine learning model to predict the volume of pedestrian traffic on the Brooklyn Bridge. There is a dataset available that you think may be useful as training data: [Brooklyn Bridge Automated Pedestrian Counts dataset](https://data.cityofnewyork.us/Transportation/Brooklyn-Bridge-Automated-Pedestrian-Counts-Demons/6fi9-q3ta), from the NYC Department of Transportation.\n",
    "\n",
    "We will practice applying the “recipe” for exploratory data analysis to this data.\n",
    "\n",
    "We will use the `pandas` library in Python, which includes many powerful utilities for managing data. You can refer to the [`pandas` reference](https://pandas.pydata.org/pandas-docs/stable/reference/index.html) for more details on the `pandas` functions used in this notebook."
   ],
   "id": "35b84a59-5007-4e18-a964-c260bdfb353f"
  },
  {
   "cell_type": "markdown",
   "metadata": {},
   "source": [
    "### Set down *expectations* about the data\n",
    "\n",
    "The first step is to codify your expectations about the data *before* you look at it:\n",
    "\n",
    "-   Read about *methodology* and *data codebook*\n",
    "-   How many rows and columns are in the data?\n",
    "-   What does each variable mean? What units are data recorded in? What is the expected range or typical value for each column?\n",
    "-   What variables do you think could be used as target variable? What variables could be used as features from which to learn?\n",
    "-   How was data collected? Identify sampling issues, timeliness issues, fairness issues, etc."
   ],
   "id": "cb774fd4-3c29-4e26-a85c-106db6263e5a"
  },
  {
   "cell_type": "markdown",
   "metadata": {},
   "source": [
    "For the Brooklyn Bridge dataset, you can review the associated documentation on the NYC Data website:\n",
    "\n",
    "-   [NYC Data Website](https://data.cityofnewyork.us/Transportation/Brooklyn-Bridge-Automated-Pedestrian-Counts-Demons/6fi9-q3ta)\n",
    "-   [Data dictionary](https://data.cityofnewyork.us/api/views/6fi9-q3ta/files/845905ea-21d4-4ec7-958a-a1a09214513d?download=true&filename=Brooklyn_Bridge_Automated_Pedestrian_Counts_Demonstration_Project_data_dictionary.xlsx)"
   ],
   "id": "2989fa22-e123-4111-9826-bf19ccbfa29a"
  },
  {
   "cell_type": "markdown",
   "metadata": {},
   "source": [
    "### Load data and check that it is loaded correctly\n",
    "\n",
    "The next step is to load the data in preparation for our exploratory data analysis. Then, we’ll check that it is loaded correctly.\n",
    "\n",
    "Some examples of the things we’ll look for include:\n",
    "\n",
    "-   Does the `DataFrame` have the correct number of rows and columns (consistent with our expectations from the first step)?\n",
    "-   Is the first row of “data” in the `DataFrame` real data, or is it column labels that were misinterpreted as data? (Similarly, are the column labels actually labels, or are they the first row of data?)\n",
    "-   Are the data types of every column consistent with our expectations?\n",
    "\n",
    "At this stage, we might also do some very basic manipulation of the data - for example, compute some fields that are derived directly from other fields. (For example, suppose you have a “distance” field in miles and you wanted to convert it to meters - you could do that here!)"
   ],
   "id": "01e109c1-1764-4416-9f71-721831e9a672"
  },
  {
   "cell_type": "markdown",
   "metadata": {},
   "source": [
    "First, we will import some useful libraries:\n",
    "\n",
    "-   In Python - libraries add powerful functionality\n",
    "-   You can import an entire library (`import foo`) or part (`from foo import bar`)\n",
    "-   You can define a nickname, which you will use to call functions of these libraries (many libraries have “conventional” nicknames)\n",
    "\n",
    "`pandas` is a popular Python library for working with data. It is conventionally imported with the `pd` nickname."
   ],
   "id": "0dda347e-4923-4b4b-8820-287642e46495"
  },
  {
   "cell_type": "code",
   "execution_count": null,
   "metadata": {},
   "outputs": [],
   "source": [
    "import pandas as pd\n",
    "import matplotlib.pyplot as plt\n",
    "import seaborn as sns\n",
    "\n",
    "# set up notebook to show all outputs, not only last one\n",
    "from IPython.core.interactiveshell import InteractiveShell\n",
    "InteractiveShell.ast_node_interactivity = \"all\""
   ],
   "id": "fb4a2728-09a9-471c-8755-8be705f91e78"
  },
  {
   "cell_type": "markdown",
   "metadata": {},
   "source": [
    "Now we are ready to read in our data!\n",
    "\n",
    "The main type of data structure in `pandas` is a `DataFrame`, which organizes data into a 2D table, like a spreadsheet. Unlike a `numpy` array, however, each column in a `DataFrame` can have different data types - for example, you can have a string column, an integer column, and a float column all in the same `DataFrame`.\n",
    "\n",
    "(The other major type of data in `pandas` is a `Series`, which is like a 1D array- any individual row or column from a `DataFrame` will be a `Series`.)"
   ],
   "id": "841266f3-eecd-4a43-b579-118c39c87a78"
  },
  {
   "cell_type": "markdown",
   "metadata": {},
   "source": [
    "You *can* create a `DataFrame` or a `Series` “by hand” - for example, try\n",
    "\n",
    "``` python\n",
    "pd.Series([1,2,3,99])\n",
    "```\n",
    "\n",
    "or\n",
    "\n",
    "``` python\n",
    "pd.DataFrame({'fruit': ['apple', 'banana', 'kiwi'], 'cost': [0.55, 0.99, 1.24]})\n",
    "```"
   ],
   "id": "095e751e-a40b-4247-aecd-bc579a41418c"
  },
  {
   "cell_type": "markdown",
   "metadata": {},
   "source": [
    "But usually, we’ll read in data from a file.\n",
    "\n",
    "Our data for this Brooklyn Bridge example is in CSV format, so will use the `read_csv` function in `pandas` to read in our data. This function accepts a URL or a path to a file, and will return our data as a `DataFrame`.\n",
    "\n",
    "Function documentation: [pandas reference](https://pandas.pydata.org/pandas-docs/stable/reference/api/pandas.read_csv.html)\n",
    "\n",
    "``` python\n",
    "pandas.read_csv(filepath_or_buffer, \n",
    "    sep=',', header='infer', \n",
    "    names=None,\n",
    "    ...)\n",
    "```\n",
    "\n",
    "`read_csv` is for “flat” text files, where each data point is on another row, and the fields in a row are separated by some delimiter (e.g. comma). Other pandas functions exist for loading other kinds of data (read from database, Excel file, etc.)"
   ],
   "id": "778415c7-1a0c-4e8e-b0df-44b214c637a9"
  },
  {
   "cell_type": "code",
   "execution_count": null,
   "metadata": {},
   "outputs": [],
   "source": [
    "url = 'https://data.cityofnewyork.us/api/views/6fi9-q3ta/rows.csv?accessType=DOWNLOAD'\n",
    "df = pd.read_csv(url)"
   ],
   "id": "f7517baa-7f01-4be5-8bfb-09ea4c049d2d"
  },
  {
   "cell_type": "markdown",
   "metadata": {},
   "source": [
    "We will want to verify that the data was loaded correctly. For *tabular* data, we can start by looking at the first few rows of data or the last few rows of data with the `head` and `tail` functions, respectively. (For data that is not tabular, such as image, text, or audio data, we would similarly start by looking at some samples.)"
   ],
   "id": "ef3b519b-7d6e-49f1-baf2-1388be0b96c3"
  },
  {
   "cell_type": "code",
   "execution_count": null,
   "metadata": {},
   "outputs": [],
   "source": [
    "df.head()"
   ],
   "id": "569b62c3-4411-47c3-906f-6c711025fdf3"
  },
  {
   "cell_type": "code",
   "execution_count": null,
   "metadata": {},
   "outputs": [],
   "source": [
    "df.tail()"
   ],
   "id": "ad840b0c-a4fa-45b5-9727-d4ef1907c888"
  },
  {
   "cell_type": "markdown",
   "metadata": {},
   "source": [
    "We can also get a few random rows:"
   ],
   "id": "c4acb4fa-b1f3-442a-8bc5-0fa34393f2bd"
  },
  {
   "cell_type": "code",
   "execution_count": null,
   "metadata": {},
   "outputs": [],
   "source": [
    "df.sample(5)"
   ],
   "id": "5f9b7dae-f1ae-4179-b04b-e0aeb7d60413"
  },
  {
   "cell_type": "markdown",
   "metadata": {},
   "source": [
    "Looking at some rows can help us spot obvious problems with data loading. For example, suppose we had tried to read in the data using a tab delimiter to separate fields on the same row, instead of a comma."
   ],
   "id": "17ce8364-62a1-4998-8b00-762afc45316f"
  },
  {
   "cell_type": "code",
   "execution_count": null,
   "metadata": {},
   "outputs": [],
   "source": [
    "df_bad  = pd.read_csv(url, sep='\\t')\n",
    "df_bad.head()"
   ],
   "id": "119be8e8-4d68-4a8e-9b94-3e71927fb6ca"
  },
  {
   "cell_type": "markdown",
   "metadata": {},
   "source": [
    "This “bad” version of the `DataFrame` has only a single column (because it believes tabs are used to separate fields in the same row, when actually commas are used). The variable names are combined together into one long column name. By looking at the first few rows of data, we can spot this obvious error.\n",
    "\n",
    "Here is another example of a “bad” `DataFrame`. Suppose we tell `read_csv` that the data file itself does not have a header row at the top, with column names in it; instead, we supply column names ourselves."
   ],
   "id": "d9b38058-ebb7-4f20-a08f-b123d4a971f4"
  },
  {
   "cell_type": "code",
   "execution_count": null,
   "metadata": {},
   "outputs": [],
   "source": [
    "col_names = [\"hour_beginning\", \"location\", \"Pedestrians\", \"Towards Manhattan\", \n",
    "    \"Towards Brooklyn\", \"weather_summary\", \"temperature\", \"precipitation\", \n",
    "    \"lat\", \"long\", \"events\", \"Location1\"]\n",
    "df_bad  = pd.read_csv(url, header=None, names=col_names)\n",
    "df_bad.head()"
   ],
   "id": "6a5bb671-8a35-412a-9053-66ba8e1fda9f"
  },
  {
   "cell_type": "markdown",
   "metadata": {},
   "source": [
    "In this example, the first row in the file *is* actually a column header, and we mistakenly read it in as data. (A similar problem can occur in reverse - if we told `read_csv` that the first row *is* a header when it is not, then our “column labels” would actually be the first row of data.)"
   ],
   "id": "4f8132d0-9cb3-4781-acc1-d3bdd9c28c7c"
  },
  {
   "cell_type": "markdown",
   "metadata": {},
   "source": [
    "We should always check the shape of the data frame - the number of rows and columns. This, too, should be checked against our assumptions about the data (in this case, what we know from the NYC Data website.)"
   ],
   "id": "22da312c-09b8-4a48-84d3-c5566bb48633"
  },
  {
   "cell_type": "code",
   "execution_count": null,
   "metadata": {},
   "outputs": [],
   "source": [
    "df.shape"
   ],
   "id": "804a0884-11bd-49c9-b637-9049d25ffe8a"
  },
  {
   "cell_type": "markdown",
   "metadata": {},
   "source": [
    "Check the names of the columns and their data types:"
   ],
   "id": "c7d26741-0701-45d8-bfb3-f939b2d84773"
  },
  {
   "cell_type": "code",
   "execution_count": null,
   "metadata": {},
   "outputs": [],
   "source": [
    "df.columns\n",
    "df.dtypes"
   ],
   "id": "04af52eb-4776-485b-b976-80ad2709b6f5"
  },
  {
   "cell_type": "markdown",
   "metadata": {},
   "source": [
    "The main data types we’ll see most often are `int64` (integer), `float64` (numeric), `bool` (True or False), or `object` (which includes string)."
   ],
   "id": "f4e0cbea-ef13-4d5a-8d0a-e7a83f97b4f9"
  },
  {
   "cell_type": "markdown",
   "metadata": {},
   "source": [
    "We can also get a quick summary with `info()`;"
   ],
   "id": "c466ffb6-7c32-4530-b940-910557997e82"
  },
  {
   "cell_type": "code",
   "execution_count": null,
   "metadata": {},
   "outputs": [],
   "source": [
    "df.info()"
   ],
   "id": "a5252634-ddd6-4cb9-b339-3079dca71b7d"
  },
  {
   "cell_type": "markdown",
   "metadata": {},
   "source": [
    "`pandas` infers the data type of each column automatically from the contents of the data.\n",
    "\n",
    "If the data type of a column is not what you expect it to be, this can often be a signal that the data needs cleaning. For example, if you expect a column to be numeric and it is read in as non-numeric, this indicates that there are probably some samples that include a non-numeric value in that column. (The [NYC Data website](https://data.cityofnewyork.us/Transportation/Brooklyn-Bridge-Automated-Pedestrian-Counts-Demons/6fi9-q3ta) indicates what type of data *should* be in each column, so you should reference that when checking this output. )"
   ],
   "id": "0bf86b44-9acf-4ba8-8c69-d33cbed5ab74"
  },
  {
   "cell_type": "markdown",
   "metadata": {},
   "source": [
    "We have a date/time column (`hour_beginning`) that was read in as a string. Let’s take a closer look at that. We can get one column of data either using a notation like a dictionary, as in\n",
    "\n",
    "``` python\n",
    "df['hour_beginning']\n",
    "```\n",
    "\n",
    "or using class attribute-like notation, as in\n",
    "\n",
    "``` python\n",
    "df.hour_beginning\n",
    "```\n",
    "\n",
    "(either one returns exactly the same thing!) (Note that if the column name includes spaces, you can only use the notation with the brackets, since it encloses the column name in quotes.)"
   ],
   "id": "2faaa416-1261-482e-b9d0-16977b02b33d"
  },
  {
   "cell_type": "markdown",
   "metadata": {},
   "source": [
    "`pandas` includes a `to_datetime` function to convert this string to a “native” date/time format, so we can use that now:"
   ],
   "id": "652207a0-85d0-4274-9c5e-4d9b9b8cbfa8"
  },
  {
   "cell_type": "code",
   "execution_count": null,
   "metadata": {},
   "outputs": [],
   "source": [
    "df['hour_beginning'] = pd.to_datetime(df['hour_beginning'])\n",
    "df.info()"
   ],
   "id": "3682f245-a67d-4aff-9640-8f7303ab9ba5"
  },
  {
   "cell_type": "markdown",
   "metadata": {},
   "source": [
    "You may notice that the `hour_beginning` variable includes the full date and time in one field. For our analysis, it would be more useful to have separate fields for the date, month, day of the week, and hour.\n",
    "\n",
    "We can create these additional fields by assigning the desired value to them directly - then, observe the effect:"
   ],
   "id": "38357dae-30ca-4c57-be4c-07fbca2a022b"
  },
  {
   "cell_type": "code",
   "execution_count": null,
   "metadata": {},
   "outputs": [],
   "source": [
    "df['hour'] = df['hour_beginning'].dt.hour\n",
    "df['month'] = df['hour_beginning'].dt.month\n",
    "df['date'] = df['hour_beginning'].dt.date\n",
    "df['day_name'] = df['hour_beginning'].dt.day_name()\n",
    "\n",
    "df.head()"
   ],
   "id": "32e43db5-b56d-4bb9-9c66-f2f72defda16"
  },
  {
   "cell_type": "markdown",
   "metadata": {},
   "source": [
    "### More `pandas` basics"
   ],
   "id": "e0500235-26e2-4c0e-b869-28a70342137e"
  },
  {
   "cell_type": "markdown",
   "metadata": {},
   "source": [
    "There are a few basic things that it’s helpful to be able to do in `pandas` without consulting documentation. Let’s run through these things here:\n",
    "\n",
    "-   get a column or a subset of columns from a `pandas` data frame (and understand what data type is returned in each case!)\n",
    "-   get a `numpy` array with values from a `pandas` data frame\n",
    "-   get a row or a subset of rows from a `pandas` data frame."
   ],
   "id": "83937616-2e6f-46fb-b5e9-0794bf80b2ee"
  },
  {
   "cell_type": "markdown",
   "metadata": {},
   "source": [
    "We will often need to select a single column or a subset of columns from a `pandas` data frame. For example, we may have a data frame that includes useful features, identifiers (such as names or ID numbers) that should not be used as features, and a target variable - and we will want to pass just the useful features to a function that will train a model.\n",
    "\n",
    "The syntax for selecting a subset of columns from a data frame named `df` is:\n",
    "\n",
    "    df[[\"name_col_1\", \"name_col_2\"]]\n",
    "\n",
    "etc., where `name_col_1` and `name_col_2` are the names of the columns that you want to select.\n",
    "\n",
    "Try this now:"
   ],
   "id": "00dbf6b1-db68-4e43-99b7-916c239f0243"
  },
  {
   "cell_type": "code",
   "execution_count": null,
   "metadata": {},
   "outputs": [],
   "source": [
    "df[[\"Towards Manhattan\", \"Towards Brooklyn\"]]"
   ],
   "id": "fe31bbf0-7c68-43b6-9fb9-84053e208529"
  },
  {
   "cell_type": "code",
   "execution_count": null,
   "metadata": {},
   "outputs": [],
   "source": [
    "df[[\"Towards Manhattan\", \"Towards Brooklyn\"]].info()"
   ],
   "id": "fea4364e-b5b9-485c-913a-cf7021aee585"
  },
  {
   "cell_type": "markdown",
   "metadata": {},
   "source": [
    "Note that the return value is a *data frame*.\n",
    "\n",
    "You can get these values as `numpy` array using `.to_numpy()` (or you may see code that does this using `.values` - but this syntax is being phased out). This will be a **2D** `numpy` array (with a row dimension and a column dimension)."
   ],
   "id": "9eddd88f-c70b-4f24-aa94-631ccfd2f607"
  },
  {
   "cell_type": "code",
   "execution_count": null,
   "metadata": {},
   "outputs": [],
   "source": [
    "df[[\"Towards Manhattan\", \"Towards Brooklyn\"]].to_numpy()"
   ],
   "id": "0debe1da-c99e-49ec-a197-c67bda3fa9b5"
  },
  {
   "cell_type": "code",
   "execution_count": null,
   "metadata": {},
   "outputs": [],
   "source": [
    "df[[\"Towards Manhattan\", \"Towards Brooklyn\"]].to_numpy().shape"
   ],
   "id": "9f15f684-15ab-48a9-a1ed-e2169de5c559"
  },
  {
   "cell_type": "markdown",
   "metadata": {},
   "source": [
    "If you need to select a single column, you can do it in a similar way, but passing only one entry in the list of columns to select - e.g.\n",
    "\n",
    "    df[[\"name_col_1\"]]\n",
    "\n",
    "and the return value will similarly be a data frame (and after `.to_numpy()`, will be a `numpy` array that is 2D)."
   ],
   "id": "10d8787f-8df4-4498-a8d6-dae26cf23246"
  },
  {
   "cell_type": "code",
   "execution_count": null,
   "metadata": {},
   "outputs": [],
   "source": [
    "df[[\"Pedestrians\"]]"
   ],
   "id": "036ec994-d531-4f1e-aee5-7311c5cfb8cf"
  },
  {
   "cell_type": "markdown",
   "metadata": {},
   "source": [
    "However, you could also select a single column by passing the column name as a string, instead of as a list, like\n",
    "\n",
    "    df[\"name_col_1\"]\n",
    "\n",
    "In this case, the return value will be a data *series*, and the `numpy` array returned by `.to_numpy()` is 1D."
   ],
   "id": "67f678ef-9858-4783-a6ae-05fa99e7e332"
  },
  {
   "cell_type": "code",
   "execution_count": null,
   "metadata": {},
   "outputs": [],
   "source": [
    "df[\"Pedestrians\"]"
   ],
   "id": "dd8a987e-75ab-4d78-a625-2435ed838eb1"
  },
  {
   "cell_type": "markdown",
   "metadata": {},
   "source": [
    "Note the differences in the outputs below, depending on whether a string or a list is used inside the `[]`. These differences have implications for further computation using broadcasting rules, or for passing values to functions that require specific types of inputs (e.g. specifically a data frame or 2D array, vs a data series or 1D array)."
   ],
   "id": "a94d14df-2d12-4749-92a9-5f53e4cda624"
  },
  {
   "cell_type": "code",
   "execution_count": null,
   "metadata": {},
   "outputs": [],
   "source": [
    "df[[\"Pedestrians\"]].info()"
   ],
   "id": "9cdeb135-17b5-4290-afd4-21831fcafe7c"
  },
  {
   "cell_type": "code",
   "execution_count": null,
   "metadata": {},
   "outputs": [],
   "source": [
    "df[\"Pedestrians\"].info()"
   ],
   "id": "7ac33dc7-7cd9-491d-af09-494e255abc2f"
  },
  {
   "cell_type": "code",
   "execution_count": null,
   "metadata": {},
   "outputs": [],
   "source": [
    "df[[\"Pedestrians\"]].to_numpy().shape"
   ],
   "id": "a1fbb237-46f2-4ff7-a528-85e8f103c6ab"
  },
  {
   "cell_type": "code",
   "execution_count": null,
   "metadata": {},
   "outputs": [],
   "source": [
    "df[\"Pedestrians\"].to_numpy().shape"
   ],
   "id": "eb8a8a23-a7eb-4441-a598-e49e52601cfb"
  },
  {
   "cell_type": "markdown",
   "metadata": {},
   "source": [
    "Next, let’s talk about getting a row or subset of rows!\n",
    "\n",
    "First, let’s note that the data we are working with right now has integer indices. These are shown in the first “column” of the print view:"
   ],
   "id": "98bc157e-50fe-47a5-b767-f613cf4a581f"
  },
  {
   "cell_type": "code",
   "execution_count": null,
   "metadata": {},
   "outputs": [],
   "source": [
    "df"
   ],
   "id": "4ac0ccb0-c8f1-47ad-9db4-c29f0660432f"
  },
  {
   "cell_type": "code",
   "execution_count": null,
   "metadata": {},
   "outputs": [],
   "source": [
    "df.index.to_numpy()"
   ],
   "id": "b7374744-2857-47f0-b38b-1e3753bf7a72"
  },
  {
   "cell_type": "markdown",
   "metadata": {},
   "source": [
    "To select rows by passing an integer index or list of indices, we will use either `.iloc[]` or `.loc[]`.\n",
    "\n",
    "As with column indexing, we can pass a single value (which will return a data series, 1D array) or a list of one or more values (which will return a data frame, 2D array, even if we pass a “list” of one value!)"
   ],
   "id": "3cf23426-6691-4ea6-a65a-f3d5ea92882c"
  },
  {
   "cell_type": "code",
   "execution_count": null,
   "metadata": {},
   "outputs": [],
   "source": [
    "df.iloc[0]"
   ],
   "id": "40c73273-8ea5-4782-bff5-a70916b6e3ba"
  },
  {
   "cell_type": "code",
   "execution_count": null,
   "metadata": {},
   "outputs": [],
   "source": [
    "df.loc[0]"
   ],
   "id": "0de60ba7-3ab2-4abe-b993-5166b51fb2e6"
  },
  {
   "cell_type": "code",
   "execution_count": null,
   "metadata": {},
   "outputs": [],
   "source": [
    "df.loc[0].info()"
   ],
   "id": "88b7a23f-1699-4366-a7da-70da2a4cb223"
  },
  {
   "cell_type": "code",
   "execution_count": null,
   "metadata": {},
   "outputs": [],
   "source": [
    "df.iloc[[0, 1, 2]]"
   ],
   "id": "9bb272e7-dcfd-4255-9c6c-e4f3d36eef96"
  },
  {
   "cell_type": "code",
   "execution_count": null,
   "metadata": {},
   "outputs": [],
   "source": [
    "df.loc[[0, 1, 2]]"
   ],
   "id": "a7db18cf-19b3-446c-8e08-61b5e6c1c756"
  },
  {
   "cell_type": "code",
   "execution_count": null,
   "metadata": {},
   "outputs": [],
   "source": [
    "df.loc[[0, 1, 2]].info()"
   ],
   "id": "b5c4f1db-5b55-4f95-a790-b52e6691c6e3"
  },
  {
   "cell_type": "markdown",
   "metadata": {},
   "source": [
    "Note that in either case, an array of indices can also be passed using a variable. (This will be useful in machine learning contexts, when we may have a large data frame and then an array of indices of samples used for training, and another array of indices of samples used for test/evaluation.)"
   ],
   "id": "c9fd8119-00b5-442c-9346-081e02ca62a8"
  },
  {
   "cell_type": "code",
   "execution_count": null,
   "metadata": {},
   "outputs": [],
   "source": [
    "idx = [0, 1, 2]\n",
    "df.loc[idx].info()"
   ],
   "id": "32d7a9ab-3543-4b17-a461-3b814a23180e"
  },
  {
   "cell_type": "markdown",
   "metadata": {},
   "source": [
    "Either `.iloc[]` or `.loc[]` can also be used to select specific rows and columns together.\n",
    "\n",
    "Since this data frame has columns with names, not integer indices, we will use the column names with `.loc[]`.\n",
    "\n",
    "If we use `.iloc[]` we would specify the integer index of the column instead."
   ],
   "id": "3909e18c-fc64-4348-a3cd-cd3c1b819975"
  },
  {
   "cell_type": "code",
   "execution_count": null,
   "metadata": {},
   "outputs": [],
   "source": [
    "df.loc[[0, 1, 2], ['Pedestrians']]"
   ],
   "id": "8897541d-aedc-4469-8f02-5aced282cfd9"
  },
  {
   "cell_type": "code",
   "execution_count": null,
   "metadata": {},
   "outputs": [],
   "source": [
    "df.iloc[[0, 1, 2], [2]]"
   ],
   "id": "d0d271f5-8efe-43a4-b0d2-527d10457852"
  },
  {
   "cell_type": "markdown",
   "metadata": {},
   "source": [
    "Of course, we can also specify multiple columns -"
   ],
   "id": "50ccb3ee-1646-4e96-ac0d-f536fc252eba"
  },
  {
   "cell_type": "code",
   "execution_count": null,
   "metadata": {},
   "outputs": [],
   "source": [
    "df.loc[[0, 1, 2], ['Pedestrians', 'hour']]"
   ],
   "id": "6cfc9444-1e29-44c6-8e5d-95dc40776ae1"
  },
  {
   "cell_type": "markdown",
   "metadata": {},
   "source": [
    "With respect to the dimension of the return values\n",
    "\n",
    "-   when we pass an array for both row index and column index, the return value will be a data frame (or, after `.to_numpy()`, a 2D array)\n",
    "-   when we pass a single value for either the row index or column index, and an array for the other index, the return value will be a data series (or, after `.to_numpy()`, a 1d array)\n",
    "-   when we pass a single value for both the row index and column index, the return value is just a single value, e.g. an integer or a string"
   ],
   "id": "2398c905-1619-423a-8344-98a879b07c3e"
  },
  {
   "cell_type": "code",
   "execution_count": null,
   "metadata": {},
   "outputs": [],
   "source": [
    "# data frame with one value\n",
    "df.loc[[0], ['Pedestrians']]\n",
    "#df.loc[[0], ['Pedestrians']].info()"
   ],
   "id": "e975b1a0-d0fd-44cd-8d95-e686c4ca9b16"
  },
  {
   "cell_type": "code",
   "execution_count": null,
   "metadata": {},
   "outputs": [],
   "source": [
    "# data series with one value\n",
    "df.loc[0, ['Pedestrians']]\n",
    "#df.loc[0, ['Pedestrians']].info()"
   ],
   "id": "cb7217e0-07d1-4b6f-b4a1-12d8edce42e0"
  },
  {
   "cell_type": "code",
   "execution_count": null,
   "metadata": {},
   "outputs": [],
   "source": [
    "# also data series with one value\n",
    "df.loc[[0], 'Pedestrians']\n",
    "#df.loc[[0], 'Pedestrians'].info()"
   ],
   "id": "036383e2-cb24-4d66-b9bb-a56bb8309c4b"
  },
  {
   "cell_type": "code",
   "execution_count": null,
   "metadata": {},
   "outputs": [],
   "source": [
    "# one value returned as an integer\n",
    "df.loc[0, 'Pedestrians']"
   ],
   "id": "82d3e34b-491a-489e-8a8e-a4f461a7035e"
  },
  {
   "cell_type": "markdown",
   "metadata": {},
   "source": [
    "As with `numpy` array slicing and indexing, we can also use `:` to mean “all” (rows or columns, depending on which dimension it is passed in), and things like `:2` or `100:` or `10:15`, with `.loc[]`:"
   ],
   "id": "058aae32-810a-4a4b-b51f-13c760b7661a"
  },
  {
   "cell_type": "code",
   "execution_count": null,
   "metadata": {},
   "outputs": [],
   "source": [
    "df.loc[[0, 1, 2], :]"
   ],
   "id": "b1865b35-ac50-4b9a-8aaa-679c803edad9"
  },
  {
   "cell_type": "code",
   "execution_count": null,
   "metadata": {},
   "outputs": [],
   "source": [
    "df.loc[:, ['Pedestrians', 'hour']]"
   ],
   "id": "743ca574-a1a0-446d-b6a4-5899a4f4fa54"
  },
  {
   "cell_type": "code",
   "execution_count": null,
   "metadata": {},
   "outputs": [],
   "source": [
    "df.loc[:2, ['Pedestrians', 'hour']]"
   ],
   "id": "ebdd79ef-c09e-4bb7-b46f-c23ca2092266"
  },
  {
   "cell_type": "code",
   "execution_count": null,
   "metadata": {},
   "outputs": [],
   "source": [
    "df.loc[100:, ['Pedestrians', 'hour']]"
   ],
   "id": "36e0d7aa-a7aa-42ff-921a-b3e15882520a"
  },
  {
   "cell_type": "code",
   "execution_count": null,
   "metadata": {},
   "outputs": [],
   "source": [
    "df.loc[10:15, ['Pedestrians', 'hour']]"
   ],
   "id": "96b42a88-2829-4c5c-b923-a458f5fb1538"
  },
  {
   "cell_type": "markdown",
   "metadata": {},
   "source": [
    "`.loc[]` can also accept an array of Boolean indices! For example:"
   ],
   "id": "8b4a5e43-a5c3-442b-b8e5-7e0a1edb65e8"
  },
  {
   "cell_type": "code",
   "execution_count": null,
   "metadata": {},
   "outputs": [],
   "source": [
    "# all samples recorded at 5AM\n",
    "df.loc[df.hour==5]"
   ],
   "id": "708fc295-a740-4b16-ad43-41085de468fa"
  },
  {
   "cell_type": "code",
   "execution_count": null,
   "metadata": {},
   "outputs": [],
   "source": [
    "# all samples recorded at 5AM or 6AM\n",
    "df.loc[(df.hour==5) | (df.hour==6)]"
   ],
   "id": "203ef337-39f8-45ab-835a-4d60849d7bd1"
  },
  {
   "cell_type": "code",
   "execution_count": null,
   "metadata": {},
   "outputs": [],
   "source": [
    "# all samples from January or February where there was some precipitation\n",
    "df.loc[(df.month <= 2) & (df.precipitation > 0)]"
   ],
   "id": "02640a19-d831-4df8-80d9-0472abf231be"
  },
  {
   "cell_type": "markdown",
   "metadata": {},
   "source": [
    "These basic techniques - including a good understanding of the dimension of return values - will come in handy whenever you are working with data in `pandas`."
   ],
   "id": "89a06ad2-8ecb-497a-be5c-8aa006608337"
  },
  {
   "cell_type": "markdown",
   "metadata": {},
   "source": [
    "### Inspect (and possibly clean/filter) the data\n",
    "\n",
    "Now we are ready to inspect the data.\n",
    "\n",
    "Some examples of the things we’ll look for include:\n",
    "\n",
    "-   Are there missing values? There may be rows *in* the data where some or all fields are missing (which can be denoted as None, NaN, or even 0 or -1 - which can be misleading when 0 or -1 are also valid values for that field.) There may also be rows *not in* the data, that we expect *should be* in the data.\n",
    "-   For numeric fields: Is the min and max of each field consistent with our expectation? Is the median consistent with our expectation?\n",
    "-   For non-numeric fields: Are the number of unique values in each field consistent with our expectations? Are the values of the factor levels (where these can reasonably be assessed) described consistently throughout the data?\n",
    "-   Are the relationships *between* variables consistent with our expectations? (We can evaluate this visually, and also by looking at summary statistics.)\n",
    "-   If the data is a time series, is the trend of each variable over time consistent with our expectations?\n",
    "\n",
    "For many of these “sanity checks”, we will need some *domain knowledge*. It’s hard to have reasonable expectations about the values in the data if you do not understand the topic that the data relates to."
   ],
   "id": "1ddee31b-d4b6-4487-a9ae-ee65ac8c3fd4"
  },
  {
   "cell_type": "markdown",
   "metadata": {},
   "source": [
    "#### Check whether data is complete"
   ],
   "id": "b7de6b96-1d25-4f02-a01c-09bfa87db747"
  },
  {
   "cell_type": "markdown",
   "metadata": {},
   "source": [
    "Let us start by checking whether the data is complete. First, we’ll check whether there are any rows in the data where some or all fields are missing.\n",
    "\n",
    "We can see the number of missing values in each column by summing up all the instances where the `isnull` function returns a True value:"
   ],
   "id": "4c600ea7-ace2-4fd3-854d-b60c72cb9fe9"
  },
  {
   "cell_type": "code",
   "execution_count": null,
   "metadata": {},
   "outputs": [],
   "source": [
    "df.isnull().sum()"
   ],
   "id": "93a7fed1-5755-441c-8a17-ea15df393219"
  },
  {
   "cell_type": "markdown",
   "metadata": {},
   "source": [
    "(Note that this only tells us about missing values that are explicitly denoted as such - for example, explicit `NaN` values. If a missing value is coded as something else - like a 0 or -1 - we wouldn’t know unless we noticed an unusually high frequency of 0 or -1 values.)"
   ],
   "id": "25769da4-06d4-4836-835e-d59e4d828b57"
  },
  {
   "cell_type": "markdown",
   "metadata": {},
   "source": [
    "We notice that the majority of rows are missing a value in the `events` field, which is used to mark dates that are holidays or other special events. This is reasonable, since most dates do not have any remarkable events.\n",
    "\n",
    "Let’s look at the rows that *do* have a value in the `events` field. To filter a dataframe, we’ll use the `.loc[]` operator. This accepts either an index (for example, we can do `df.loc[0]` to see the first record in the dataframe), an array of indices (for example, `df.loc[[0,1,2]]`), or an array of boolean values the length of the entire dataframe. That’s what we’ll use here."
   ],
   "id": "2cb776bd-479d-46f7-8604-6fd8122a6e01"
  },
  {
   "cell_type": "code",
   "execution_count": null,
   "metadata": {},
   "outputs": [],
   "source": [
    "df.loc[df['events'].notnull()]"
   ],
   "id": "bd99ab52-92a8-4511-a1fa-ecc7abbe9397"
  },
  {
   "cell_type": "markdown",
   "metadata": {},
   "source": [
    "We also notice a small number of rows missing weather information. It’s not clear why these are missing. Let’s take a closer look at some of those rows, by *filtering* the dataframe to only rows that meet a specific condition - in this case, that the `temperature` field is missing."
   ],
   "id": "5a77c4ef-649c-4557-84ec-4b2e589c17be"
  },
  {
   "cell_type": "code",
   "execution_count": null,
   "metadata": {},
   "outputs": [],
   "source": [
    "df.loc[df.temperature.isnull()]"
   ],
   "id": "8c03a84c-a72d-45d6-83a7-ec3bce44ef39"
  },
  {
   "cell_type": "markdown",
   "metadata": {},
   "source": [
    "We can see that for these particular instances, all of the weather information is missing. There’s no obvious reason or pattern. We’ll deal with these soon, when we try to clean/filter the data."
   ],
   "id": "5690e7e7-63f9-4957-a093-b4012c336ccb"
  },
  {
   "cell_type": "markdown",
   "metadata": {},
   "source": [
    "Before we do that, though, let’s check for the *other* kind of missing data: rows that are missing completely, that we expect *should* be present.\n",
    "\n",
    "In this example, the data is a time series, and we expect that there is exactly one row of data for every single hour over the time period in which this data was collected."
   ],
   "id": "3aa164b9-4255-41b1-8d0d-26e302554e47"
  },
  {
   "cell_type": "markdown",
   "metadata": {},
   "source": [
    "Let’s see if the data is complete, or if there are gaps in time.\n",
    "\n",
    "First, we will use [`pd.date_range`](https://pandas.pydata.org/pandas-docs/stable/reference/api/pandas.date_range.html) to get the list of hour intervals that we expect to find in the dataset. Then, we will find the difference between this list and the actual list of hour intervals in the dataset - these are missing intervals."
   ],
   "id": "55cb34a5-6593-48ef-af2f-c7c4928ea54d"
  },
  {
   "cell_type": "code",
   "execution_count": null,
   "metadata": {},
   "outputs": [],
   "source": [
    "# get beginning and end of date range\n",
    "min_dt = df.hour_beginning.min()\n",
    "max_dt = df.hour_beginning.max()\n",
    "print(min_dt)\n",
    "print(max_dt)"
   ],
   "id": "b46e8086-a2e5-41bc-abe4-d195efa8aeda"
  },
  {
   "cell_type": "code",
   "execution_count": null,
   "metadata": {},
   "outputs": [],
   "source": [
    "expected_range = pd.date_range(start = min_dt, end = max_dt, freq='H' )\n",
    "expected_range"
   ],
   "id": "361cbb42-d8a1-4ea4-a83c-efc9f55bd8b7"
  },
  {
   "cell_type": "code",
   "execution_count": null,
   "metadata": {},
   "outputs": [],
   "source": [
    "# then identify the missing hours\n",
    "missing_hours = expected_range.difference(df['hour_beginning'])\n",
    "print(missing_hours)"
   ],
   "id": "97be5e1d-cf4f-438f-a5e5-7dd9282ce1a7"
  },
  {
   "cell_type": "markdown",
   "metadata": {},
   "source": [
    "We had the expected number of rows (the output of `shape` matched the description of the data on the NYC Data website), but the data seems to be missing samples from August 2018 through December 2018, which is worth keeping in mind if we decide to use it:"
   ],
   "id": "193b3b5f-fe2f-4435-ae0f-9509c5120cfb"
  },
  {
   "cell_type": "code",
   "execution_count": null,
   "metadata": {},
   "outputs": [],
   "source": [
    "pd.unique(missing_hours.date)"
   ],
   "id": "21850121-a218-4308-8933-652c9a4bc3a9"
  },
  {
   "cell_type": "markdown",
   "metadata": {},
   "source": [
    "Let’s also check if any hour appears more than once in the data. We can use `pandas`’s `value_counts` function to find out how many times each unique value appears in the data:"
   ],
   "id": "cf342a0d-32e0-44b7-9c5a-7f2e7b673971"
  },
  {
   "cell_type": "code",
   "execution_count": null,
   "metadata": {},
   "outputs": [],
   "source": [
    "df['hour_beginning'].value_counts()"
   ],
   "id": "f2c0f77b-f4e3-4c1e-99b5-693a4b7fdb7b"
  },
  {
   "cell_type": "markdown",
   "metadata": {},
   "source": [
    "It looks like at least one hour appears twice in the data, which is unexpected! Let’s use filtering again to find out all of the instances where that occurs:"
   ],
   "id": "385832fa-de2a-4450-8e33-caf891673d03"
  },
  {
   "cell_type": "code",
   "execution_count": null,
   "metadata": {},
   "outputs": [],
   "source": [
    "hour_counts = df['hour_beginning'].value_counts()\n",
    "hour_counts.loc[hour_counts > 1]"
   ],
   "id": "ec0cc262-c5eb-4053-8a21-66644a2351d4"
  },
  {
   "cell_type": "markdown",
   "metadata": {},
   "source": [
    "It seems to happen exactly once. Let’s filter the dataframe to find the rows corresponding to the duplicate day.\n",
    "\n",
    "Here’s a useful clue - we can see that this hour appears twice because the clock is shifted for Daylight Savings time. (It’s not clear why there is no duplicate hour for that same event in 2017. Perhaps only one of those hours is recorded.)"
   ],
   "id": "c22f82e5-9bb3-4e79-b0a0-694319e19a7d"
  },
  {
   "cell_type": "code",
   "execution_count": null,
   "metadata": {},
   "outputs": [],
   "source": [
    "df.loc[df['hour_beginning']==\"2019-11-03 01:00:00\"]"
   ],
   "id": "acf43c26-1fad-457b-9a18-77947b3faab3"
  },
  {
   "cell_type": "markdown",
   "metadata": {},
   "source": [
    "#### Handle missing values"
   ],
   "id": "810bf155-9247-491e-97e0-5dfeb8fccc3a"
  },
  {
   "cell_type": "markdown",
   "metadata": {},
   "source": [
    "Now that we have evaluated the “completeness” of our data, we have to decide what to do about missing values.\n",
    "\n",
    "Some machine learning models cannot tolerate data with missing values. Depending on what *type* of data is missing and *why* it is missing, we can\n",
    "\n",
    "-   drop rows with missing values from the dataset\n",
    "-   fill in (“impute”) the missing values with some value: a 0, the mode of that column, the median of that column, or forward/back fill data from the nearest row that is not missing"
   ],
   "id": "a3c28bff-da29-487e-95be-3980472fb7dd"
  },
  {
   "cell_type": "markdown",
   "metadata": {},
   "source": [
    "For this data, let’s try the forward/back fill method. This makes some sense because the data has a logical order in time, and the missing value - weather - changes relatively slowly with respect to time. We can expect that the weather at any given hour is probably similar to the weather in the previous (or next) hour.\n",
    "\n",
    "For this to work, we’ll first have to sort the data by time. (Note that the data was not sorted originally.)"
   ],
   "id": "11fcf209-591f-4888-b88a-1e1e78cb2684"
  },
  {
   "cell_type": "code",
   "execution_count": null,
   "metadata": {},
   "outputs": [],
   "source": [
    "df = df.sort_values(by='hour_beginning')\n",
    "df.head()"
   ],
   "id": "c3097484-3f24-498d-8eb7-a8ffcd4603a2"
  },
  {
   "cell_type": "markdown",
   "metadata": {},
   "source": [
    "We can also “reset” the index now, so that if we ask for `df.loc[0]` we’ll get the first row in time, and so on."
   ],
   "id": "a62b515d-7527-4d96-923b-6aa0a910e030"
  },
  {
   "cell_type": "code",
   "execution_count": null,
   "metadata": {},
   "outputs": [],
   "source": [
    "df.reset_index(drop=True, inplace=True)\n",
    "df.head()"
   ],
   "id": "f0f91c09-c597-4bfa-b553-96bab2066b29"
  },
  {
   "cell_type": "markdown",
   "metadata": {},
   "source": [
    "Now we can fill in missing data using the `fillna` function ([reference](https://pandas.pydata.org/pandas-docs/stable/reference/api/pandas.DataFrame.fillna.html)). We will fill the missing weather data using the “forward fill” method, which caries the last valid observation forward to fill in NAs."
   ],
   "id": "73557c24-bb6d-4eec-aeaf-67c933f6487b"
  },
  {
   "cell_type": "code",
   "execution_count": null,
   "metadata": {},
   "outputs": [],
   "source": [
    "df['temperature'] = df['temperature'].fillna(method=\"ffill\")\n",
    "df['precipitation'] = df['precipitation'].fillna(method=\"ffill\")\n",
    "df['weather_summary'] = df['weather_summary'].fillna(method=\"ffill\")\n"
   ],
   "id": "5acc2813-9754-442d-a9d2-3fceb723bb8b"
  },
  {
   "cell_type": "markdown",
   "metadata": {},
   "source": [
    "Having imputed missing vaules in the weather-related columns, we can count the NAs again and find that there are only missing values in the `events` column."
   ],
   "id": "dcd53edd-e5f4-43ce-baf3-06a5f4872dc0"
  },
  {
   "cell_type": "code",
   "execution_count": null,
   "metadata": {},
   "outputs": [],
   "source": [
    "df.isnull().sum()"
   ],
   "id": "d5e014b9-b483-4bdd-a0c2-a01eabc10985"
  },
  {
   "cell_type": "markdown",
   "metadata": {},
   "source": [
    "#### Validating expectations"
   ],
   "id": "ce713fc4-36ce-413b-9219-64f3d10a0b32"
  },
  {
   "cell_type": "markdown",
   "metadata": {},
   "source": [
    "Now that we have some idea of the completeness of the data, let’s look at whether the data values are consistent with our expectations.\n",
    "\n",
    "To start, let’s look at summary statistics. The “five number summary” - extremes (min and max), median, and quartiles -can help us gain a better understanding of numeric fields in the data, and see whether they have reasonable values. We can use the `describe` function in `pandas` to compute this summary."
   ],
   "id": "ec40565d-ee54-4fa4-b6af-5dd8f6d006f8"
  },
  {
   "cell_type": "code",
   "execution_count": null,
   "metadata": {},
   "outputs": [],
   "source": [
    "df.describe()"
   ],
   "id": "5aac4565-711b-48bc-b174-47b2d765cbfa"
  },
  {
   "cell_type": "markdown",
   "metadata": {},
   "source": [
    "We can only compute those summary statistics for numerical variables. For categorical variables, we can use `value_counts()` to get frequency of each value.\n",
    "\n",
    "For example, let’s see how often each `weather` condition occurs, and whether it is reasonable for NYC:"
   ],
   "id": "a1e78af1-b13a-4b18-9150-a29d23c10cd9"
  },
  {
   "cell_type": "code",
   "execution_count": null,
   "metadata": {},
   "outputs": [],
   "source": [
    "df.weather_summary.value_counts()"
   ],
   "id": "2e839e80-1a74-4012-b0f6-2cff47f3539c"
  },
  {
   "cell_type": "markdown",
   "metadata": {},
   "source": [
    "It’s also useful to verify expected relationships.\n",
    "\n",
    "For example, we expect to see precipitation when the weather is rainy. We can use `groupby` in `pandas` to capture the effect between a categorical variable (`weather_summary`) and a numerical one, `precipitation`:"
   ],
   "id": "baf5fc2c-7ac1-449f-a539-bc381f3caf42"
  },
  {
   "cell_type": "code",
   "execution_count": null,
   "metadata": {},
   "outputs": [],
   "source": [
    "df.groupby('weather_summary')['precipitation'].describe()"
   ],
   "id": "ec80c100-74d5-440a-ac82-3880bce4e9c2"
  },
  {
   "cell_type": "markdown",
   "metadata": {},
   "source": [
    "Make special note of the `count` column, which shows us the prevalence of different weather conditions in this dataset. There are some weather conditions for which we have very few examples."
   ],
   "id": "544b721e-be65-4308-a17b-e1b871adcffa"
  },
  {
   "cell_type": "markdown",
   "metadata": {},
   "source": [
    "Similarly, we can validate our expectation of hotter weather in the summer months:"
   ],
   "id": "bb2ac7ef-6b19-47f1-8771-5e4ebb7ce6ee"
  },
  {
   "cell_type": "code",
   "execution_count": null,
   "metadata": {},
   "outputs": [],
   "source": [
    "df.groupby('month')['temperature'].describe()"
   ],
   "id": "c8416fc8-b8c6-4240-b675-db0e3214a1f3"
  },
  {
   "cell_type": "markdown",
   "metadata": {},
   "source": [
    "as well as during the middle of the day:"
   ],
   "id": "231ee9dd-c38d-48c8-8476-9a35711541f9"
  },
  {
   "cell_type": "code",
   "execution_count": null,
   "metadata": {},
   "outputs": [],
   "source": [
    "df.groupby('hour')['temperature'].describe()"
   ],
   "id": "f84d9e8c-591c-417b-a0b9-bb77b8050e54"
  },
  {
   "cell_type": "markdown",
   "metadata": {},
   "source": [
    "#### Create a pairplot"
   ],
   "id": "5554503d-aab7-4cbb-bd7d-b03b865935c0"
  },
  {
   "cell_type": "markdown",
   "metadata": {},
   "source": [
    "For tabular data with multiple numeric features, it is often useful to create a *pairplot*. A pairplot shows pairwise relationships between all numerical variables. It is a useful way to identify variables that have a relationship."
   ],
   "id": "37b608bf-8919-4d52-870a-eac4a801e164"
  },
  {
   "cell_type": "markdown",
   "metadata": {},
   "source": [
    "We can create a “default” pairplot with"
   ],
   "id": "c6275447-a6b4-4fec-aed2-a0c88af08737"
  },
  {
   "cell_type": "code",
   "execution_count": null,
   "metadata": {},
   "outputs": [],
   "source": [
    "sns.pairplot(df)"
   ],
   "id": "722fc835-037e-401c-9c4d-7b6a11307b30"
  },
  {
   "cell_type": "markdown",
   "metadata": {},
   "source": [
    "Here, each pane shows one numerical variable on the x-axis and another numerical variable on the y-axis, so that we can see if a relationship exists between them. The panes along the diagonal shows the empirical distribution of values for each feature in this data."
   ],
   "id": "b5ce5954-a20d-4f45-b049-ecc2466559ea"
  },
  {
   "cell_type": "markdown",
   "metadata": {},
   "source": [
    "But, it is difficult to see anything useful because there is so much going on in this plot. We can improve things somewhat by:\n",
    "\n",
    "-   specifying only the variables we want to include, and exluding variables that don’t contain useful information, such as `lat` and `long`, and\n",
    "-   making the points on the plot smaller and partially transparent, to help with the overplotting.\n",
    "\n",
    "We’ll also change the histograms on the diagonal, which show the frequency of values for each variable, into a density plot which shows the same information in a more useful format."
   ],
   "id": "6eaab1ee-c33c-4f5f-96e6-f1af320d9e51"
  },
  {
   "cell_type": "code",
   "execution_count": null,
   "metadata": {},
   "outputs": [],
   "source": [
    "sns.pairplot(df, \n",
    "             vars=['Pedestrians', 'temperature', 'precipitation', 'hour', 'month'],\n",
    "             diag_kind = 'kde',\n",
    "             plot_kws={'alpha':0.5, 'size': 0.1})"
   ],
   "id": "7ae72271-e95d-4efa-86d0-2362a65dc33e"
  },
  {
   "cell_type": "markdown",
   "metadata": {},
   "source": [
    "This plot validates the relationship between `temperature` and `hour`, and between `temperature` and `month`. However, we can also use this plot to identify useful features - features that appear to be related to the `target` variable."
   ],
   "id": "a07f6939-661c-412f-8dc6-711dbae16ed8"
  },
  {
   "cell_type": "markdown",
   "metadata": {},
   "source": [
    "### Explore relationships and identify target variable and features"
   ],
   "id": "153d8eec-e88f-41be-a029-bf8fcb4e3e82"
  },
  {
   "cell_type": "markdown",
   "metadata": {},
   "source": [
    "Finally, since our goal is to train a machine learning model, we want to identify:\n",
    "\n",
    "-   an appropriate target variable - something on which to train our model. (Either a direct target variable, or a proxy.)\n",
    "-   features that are predictive - if there is any noticeable relationship between the target variable and any other variable, this is likely to be a useful feature.\n",
    "-   features that are correlated with one another - if two features are highly correlated, this presents some difficulty to certain types of models, so we’ll want to know about it."
   ],
   "id": "70ef98ae-4eae-4cd4-9639-1ccfe5663eec"
  },
  {
   "cell_type": "markdown",
   "metadata": {},
   "source": [
    "The `Pedestrians` variable is the obvious target variable for this learning problem: it’s exactly the quantity we want to predict."
   ],
   "id": "3c98efb6-b5ba-40a6-92cf-ad5fa679c904"
  },
  {
   "cell_type": "markdown",
   "metadata": {},
   "source": [
    "To identify potential predictive features among the numeric variables in the data, we can use the pairplot. Look at the row of the pairplot in which `Pedestrians` is on the vertical axis, and each of the other variables in turn is on the horizontal axis. Which of these seem to show a relationship? (Note: the relationship does not necessarily need to be a linear relationship.)"
   ],
   "id": "af754b4c-e7e9-4117-aa5d-13534e060843"
  },
  {
   "cell_type": "markdown",
   "metadata": {},
   "source": [
    "We will also want to evaluate the categorical variables. For example, to look for a relationship between day of the week and pedestrian volume, we can group by `day_name`, then call the `describe` function on the `Pedestrians` column:"
   ],
   "id": "5eb7d461-6b77-434a-bdb2-53e0f7613893"
  },
  {
   "cell_type": "code",
   "execution_count": null,
   "metadata": {},
   "outputs": [],
   "source": [
    "df.groupby('day_name')['Pedestrians'].describe()"
   ],
   "id": "3805ef5f-36da-409c-ba13-5f5774c09975"
  },
  {
   "cell_type": "markdown",
   "metadata": {},
   "source": [
    "Similarly, we can see the effect of weather:"
   ],
   "id": "88be55c3-a1d7-4ced-ab00-22b4c89bdf42"
  },
  {
   "cell_type": "code",
   "execution_count": null,
   "metadata": {},
   "outputs": [],
   "source": [
    "df.groupby('weather_summary')['Pedestrians'].describe()"
   ],
   "id": "d5a1d1f8-a0a7-4922-9da9-8d60639036dd"
  },
  {
   "cell_type": "markdown",
   "metadata": {},
   "source": [
    "And the effect of various holidays:"
   ],
   "id": "be2d712f-20aa-4b44-b03f-2c27e24c53b1"
  },
  {
   "cell_type": "code",
   "execution_count": null,
   "metadata": {},
   "outputs": [],
   "source": [
    "df.groupby('events')['Pedestrians'].describe()"
   ],
   "id": "1f9a5edb-369e-4499-8ce0-183cf59c4402"
  },
  {
   "cell_type": "markdown",
   "metadata": {},
   "source": [
    "Now armed with information about these relationships, we can identify good candidate features for a machine learning model."
   ],
   "id": "0d672390-0489-46c0-94c3-512bb30377e0"
  }
 ],
 "nbformat": 4,
 "nbformat_minor": 5,
 "metadata": {}
}
