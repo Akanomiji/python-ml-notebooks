{
 "cells": [
  {
   "cell_type": "markdown",
   "metadata": {},
   "source": [
    "Computing regression coefficients\n",
    "---------------------------------\n",
    "\n",
    "This notebook walks through the steps involved in manual (pen and paper)\n",
    "computation of the optimal least squares regression coefficients.\n",
    "\n",
    "We’ll also show how to do each of these steps in Python, so that you can\n",
    "try other values for $X$ and $y$ and then check your work."
   ]
  },
  {
   "cell_type": "code",
   "execution_count": null,
   "metadata": {},
   "outputs": [],
   "source": [
    "import pandas as pd\n",
    "import seaborn as sns\n",
    "import numpy as np\n",
    "\n",
    "%matplotlib inline\n",
    "from IPython.core.interactiveshell import InteractiveShell\n",
    "InteractiveShell.ast_node_interactivity = \"all\""
   ]
  },
  {
   "cell_type": "markdown",
   "metadata": {},
   "source": [
    "We will start with the labeled data. Our training data includes four\n",
    "samples, with two features:\n",
    "\n",
    "$$ X = \n",
    "\\begin{bmatrix}\n",
    "1 & 2 \\\\\n",
    "2 & 3 \\\\\n",
    "4 & 1 \\\\\n",
    "5 & 5 \n",
    "\\end{bmatrix},\n",
    "y = \n",
    "\\begin{bmatrix}\n",
    "3  \\\\\n",
    "2 \\\\\n",
    "7 \\\\\n",
    "1 \n",
    "\\end{bmatrix}\n",
    "$$"
   ]
  },
  {
   "cell_type": "code",
   "execution_count": null,
   "metadata": {},
   "outputs": [],
   "source": [
    "X = [[1,2], [2, 3], [4, 1], [5, 5]]\n",
    "y = [3, 2, 7, 1]"
   ]
  },
  {
   "cell_type": "markdown",
   "metadata": {},
   "source": [
    "We can use `seaborn` to plot each column of $X$ versus $y$:"
   ]
  },
  {
   "cell_type": "code",
   "execution_count": null,
   "metadata": {},
   "outputs": [],
   "source": [
    "df = pd.DataFrame(X, columns = [ 'x1', 'x2'])\n",
    "df = df.assign(y=y)\n",
    "\n",
    "melted = df.melt(id_vars=['y'], value_vars=[ 'x1','x2'])\n",
    "g = sns.FacetGrid(melted, col='variable', col_wrap=3);\n",
    "g.map(sns.scatterplot, 'value', 'y');"
   ]
  },
  {
   "cell_type": "markdown",
   "metadata": {},
   "source": [
    "Next, we will create a matrix $A$ by horizontally “stacking” a vector of\n",
    "1s and the matrix $X$:\n",
    "\n",
    "$$ A = \n",
    "\\begin{bmatrix}\n",
    "1 & 1 & 2 \\\\\n",
    "1 & 2 & 3 \\\\\n",
    "1 & 4 & 1 \\\\\n",
    "1 & 5 & 5 \n",
    "\\end{bmatrix},\n",
    "$$\n",
    "\n",
    "This will enable us to also compute the intercept, $\\beta_0$, using the\n",
    "same matrix calculation as we use to compute $\\beta_1$ and $\\beta_2$."
   ]
  },
  {
   "cell_type": "code",
   "execution_count": null,
   "metadata": {},
   "outputs": [],
   "source": [
    "A = np.hstack((np.ones(4)[:,None], X))\n",
    "A"
   ]
  },
  {
   "cell_type": "markdown",
   "metadata": {},
   "source": [
    "The optimal least squares values for the vector $\\beta$ are\n",
    "\n",
    "$$\\beta^* = (A^T A)^{-1} A^{T} y$$\n",
    "\n",
    "Note that the least-squares solutions are the solutions of the matrix\n",
    "equation\n",
    "\n",
    "$$ A^T A \\beta = A^T y$$\n",
    "\n",
    "A matrix equation is in the form $Ax=b$, where $A$ is an $m \\times n$\n",
    "matrix and $b$ is a column vector with $m$ entries. It can be solved for\n",
    "$x$ by forming the augmented matrix $(A | b)$ and then using elementary\n",
    "row operations to get it in row reduced form.\n",
    "\n",
    "Thus, to get $\\beta$ we will:\n",
    "\n",
    "-   Compute the matrix $A^T A$ and the vector $A^T y$.\n",
    "-   Form the augmented matrix for the matrix equation\n",
    "    $A^T A \\beta = A^T y$: $(A^T A | A^T y)$\n",
    "-   Row reduce to find the estimate for $\\beta$."
   ]
  },
  {
   "cell_type": "markdown",
   "metadata": {},
   "source": [
    "The transpose of $A$, $A^T$, is the matrix whose rows are the columns of\n",
    "$A$:\n",
    "\n",
    "$$ A^T = \n",
    "\\begin{bmatrix}\n",
    "1 & 1 & 1 & 1 \\\\\n",
    "1 & 2 & 4 & 5 \\\\\n",
    "2 & 3 & 1 & 5 \n",
    "\\end{bmatrix}\n",
    "$$"
   ]
  },
  {
   "cell_type": "code",
   "execution_count": null,
   "metadata": {},
   "outputs": [],
   "source": [
    "A.T"
   ]
  },
  {
   "cell_type": "markdown",
   "metadata": {},
   "source": [
    "To solve\n",
    "\n",
    "$$ A^T A \\beta = A^T y$$\n",
    "\n",
    "we’ll need $A^T A$:\n",
    "\n",
    "$$ A^T A = \n",
    "\\begin{bmatrix}\n",
    "1 & 1 & 1 & 1 \\\\\n",
    "1 & 2 & 4 & 5 \\\\\n",
    "2 & 3 & 1 & 5 \n",
    "\\end{bmatrix}\n",
    "\\begin{bmatrix}\n",
    "1 & 1 & 2 \\\\\n",
    "1 & 2 & 3 \\\\\n",
    "1 & 4 & 1 \\\\\n",
    "1 & 5 & 5 \n",
    "\\end{bmatrix} = \n",
    "\\begin{bmatrix}\n",
    "4 & 12 & 11 \\\\\n",
    "12 & 46 & 37 \\\\\n",
    "11 & 37 & 39 \n",
    "\\end{bmatrix}\n",
    "$$"
   ]
  },
  {
   "cell_type": "code",
   "execution_count": null,
   "metadata": {},
   "outputs": [],
   "source": [
    "A.T.dot(A)"
   ]
  },
  {
   "cell_type": "markdown",
   "metadata": {},
   "source": [
    "and $A^T y$:\n",
    "\n",
    "$$ A^T y = \n",
    "\\begin{bmatrix}\n",
    "1 & 1 & 1 & 1 \\\\\n",
    "1 & 2 & 4 & 5 \\\\\n",
    "2 & 3 & 1 & 5 \n",
    "\\end{bmatrix}\n",
    "\\begin{bmatrix}\n",
    "3  \\\\\n",
    "2 \\\\\n",
    "7 \\\\\n",
    "1 \n",
    "\\end{bmatrix} =\n",
    "\\begin{bmatrix}\n",
    "13 \\\\\n",
    "40 \\\\\n",
    "24 \n",
    "\\end{bmatrix}\n",
    "$$"
   ]
  },
  {
   "cell_type": "code",
   "execution_count": null,
   "metadata": {},
   "outputs": [],
   "source": [
    "A.T.dot(y)"
   ]
  },
  {
   "cell_type": "markdown",
   "metadata": {},
   "source": [
    "Next, create the augmented matrix $(A^T A | A^T y)$:\n",
    "\n",
    "$$ (A^T A | A^T y)=\n",
    "\\begin{bmatrix}\n",
    "4  & 12 & 11 & | & 13 \\\\\n",
    "12 & 46 & 37 & | & 40 \\\\\n",
    "11 & 37 & 39 & | & 24\n",
    "\\end{bmatrix}\n",
    "$$"
   ]
  },
  {
   "cell_type": "code",
   "execution_count": null,
   "metadata": {},
   "outputs": [],
   "source": [
    "M1 = np.hstack([A.T.dot(A), A.T.dot(y)[:,None]])\n",
    "M1"
   ]
  },
  {
   "cell_type": "markdown",
   "metadata": {},
   "source": [
    "We will perform some elementary row operations on the augmented matrix\n",
    "to get $A^T A$ in row reduced form:"
   ]
  },
  {
   "cell_type": "code",
   "execution_count": null,
   "metadata": {},
   "outputs": [],
   "source": [
    "M2 = np.vstack([M1[0], M1[1]-3*M1[0], 4*M1[2]-11*M1[0]])\n",
    "M2"
   ]
  },
  {
   "cell_type": "code",
   "execution_count": null,
   "metadata": {},
   "outputs": [],
   "source": [
    "M3 = np.vstack([M2[0], M2[1], 5*M2[2]-8*M2[1]])\n",
    "M3"
   ]
  },
  {
   "cell_type": "code",
   "execution_count": null,
   "metadata": {},
   "outputs": [],
   "source": [
    "M4 = np.vstack([M3[0], 143*M3[1]-4*M3[2], M3[2]])\n",
    "M4"
   ]
  },
  {
   "cell_type": "code",
   "execution_count": null,
   "metadata": {},
   "outputs": [],
   "source": [
    "M5 = np.vstack([143/2*(M4[0]-12/1430*M4[1] - 11/143*M4[2]), M4[1], M4[2]])\n",
    "M5"
   ]
  },
  {
   "cell_type": "code",
   "execution_count": null,
   "metadata": {},
   "outputs": [],
   "source": [
    "M6 = np.vstack([M5[0]/286, M5[1]/1430, M5[2]/143])\n",
    "M6"
   ]
  },
  {
   "cell_type": "markdown",
   "metadata": {},
   "source": [
    "When we’re finished, our augmented matrix looks like this:\n",
    "\n",
    "$$\n",
    "\\begin{bmatrix}\n",
    "1 & 0 & 0 & | & \\frac{1597}{286} \\\\\n",
    "0 & 1 & 0 & | & \\frac{1115}{1430} \\\\\n",
    "0 & 0 & 1 & | & \\frac{-243}{143}\n",
    "\\end{bmatrix}\n",
    "$$\n",
    "\n",
    "and so\n",
    "\n",
    "$$ \\beta = \\left[ \\frac{1597}{286}, \\frac{1115}{1430}, \\frac{-243}{143} \\right] $$"
   ]
  },
  {
   "cell_type": "code",
   "execution_count": null,
   "metadata": {},
   "outputs": [],
   "source": [
    "M6[:,3]"
   ]
  },
  {
   "cell_type": "markdown",
   "metadata": {},
   "source": [
    "Compare this to the known solution:"
   ]
  },
  {
   "cell_type": "code",
   "execution_count": null,
   "metadata": {},
   "outputs": [],
   "source": [
    "np.linalg.inv( A.T.dot(A) ).dot(A.T.dot(y))"
   ]
  }
 ],
 "nbformat": 4,
 "nbformat_minor": 5,
 "metadata": {}
}
