{
 "cells": [
  {
   "cell_type": "markdown",
   "metadata": {},
   "source": [
    "In this notebook\n",
    "----------------\n",
    "\n",
    "Many college courses conclude by giving students the opportunity to\n",
    "evaluate the course and the instructor anonymously. In the article\n",
    "“Beauty in the Classroom: Professors’ Pulchritude and Putative\n",
    "Pedagogical Productivity”\n",
    "([PDF](https://www.nber.org/papers/w9853.pdf)), authors Daniel Hamermesh\n",
    "and Amy M. Parker suggest (based on a data set of teaching evaluation\n",
    "scores collected at UT Austin) that student evaluation scores can\n",
    "partially be predicted by features unrelated to teaching, such as the\n",
    "physical attractiveness of the instructor.\n",
    "\n",
    "In this notebook, we will use this data to try and predict a course- and\n",
    "instructor-specific “baseline” score (excluding the effect of teaching\n",
    "quality), against which to measure instructor performance."
   ]
  },
  {
   "cell_type": "markdown",
   "metadata": {},
   "source": [
    "### Attribution\n",
    "\n",
    "Parts of this lab are based on a lab assignment from the OpenIntro\n",
    "textbook “Introductory Statistics with Randomization and Simulation”\n",
    "that is released under a Creative Commons Attribution-ShareAlike 3.0\n",
    "Unported license. The book website is at\n",
    "<https://www.openintro.org/book/isrs/>."
   ]
  },
  {
   "cell_type": "markdown",
   "metadata": {},
   "source": [
    "### Data\n",
    "\n",
    "The data were gathered from end of semester student evaluations for a\n",
    "large sample of professors from the University of Texas at Austin. In\n",
    "addition, six students looked at a photograph of each professor in the\n",
    "sample, and rated the professors’ physical appearance. More\n",
    "specifically:\n",
    "\n",
    "> Each of the professors’ pictures was rated by each of six\n",
    "> undergraduate students: Three women and three men, with one of each\n",
    "> gender being a lower-division, two upper-division students (to accord\n",
    "> with the distribution of classes across the two levels). The raters\n",
    "> were told to use a 10 (highest) to 1 rating scale, to concentrate on\n",
    "> the physiognomy of the professor in the picture, to make their ratings\n",
    "> independent of age, and to keep 5 in mind as an average.\n",
    "\n",
    "We are using a slightly modified version of the original data set from\n",
    "the published paper. The dataset was released along with the textbook\n",
    "“Data Analysis Using Regression and Multilevel/Hierarchical Models”\n",
    "(Gelman and Hill, 2007).)"
   ]
  },
  {
   "cell_type": "markdown",
   "metadata": {},
   "source": [
    "### Setup\n",
    "\n",
    "We will start by importing relevant libraries, setting up our notebook,\n",
    "reading in the data, and checking that it was loaded correctly."
   ]
  },
  {
   "cell_type": "code",
   "execution_count": null,
   "metadata": {},
   "outputs": [],
   "source": [
    "import pandas as pd\n",
    "import matplotlib.pyplot as plt\n",
    "import seaborn as sns\n",
    "import numpy as np\n",
    "from sklearn import metrics\n",
    "from sklearn import model_selection\n",
    "from sklearn.linear_model import LinearRegression\n",
    "\n",
    "from IPython.core.interactiveshell import InteractiveShell\n",
    "InteractiveShell.ast_node_interactivity = \"all\""
   ]
  },
  {
   "cell_type": "code",
   "execution_count": null,
   "metadata": {},
   "outputs": [],
   "source": [
    "url = 'https://www.openintro.org/stat/data/evals.csv'\n",
    "df = pd.read_csv(url)\n",
    "df.head()\n",
    "df.columns\n",
    "df.shape"
   ]
  },
  {
   "cell_type": "markdown",
   "metadata": {},
   "source": [
    "Each row in the data frame represents a different course, and columns\n",
    "represent features of the courses and professors. Here’s the data\n",
    "dictionary:\n",
    "\n",
    "| variable        | description                                                                           |\n",
    "|-----------------|---------------------------------------------------------------------------------------|\n",
    "| `score`         | average professor evaluation score: (1) very unsatisfactory - (5) excellent.          |\n",
    "| `rank`          | rank of professor: teaching, tenure track, tenured.                                   |\n",
    "| `ethnicity`     | ethnicity of professor: not minority, minority.                                       |\n",
    "| `gender`        | gender of professor: female, male.                                                    |\n",
    "| `language`      | language of school where professor received education: english or non-english.        |\n",
    "| `age`           | age of professor.                                                                     |\n",
    "| `cls_perc_eval` | percent of students in class who completed evaluation.                                |\n",
    "| `cls_did_eval`  | number of students in class who completed evaluation.                                 |\n",
    "| `cls_students`  | total number of students in class.                                                    |\n",
    "| `cls_level`     | class level: lower, upper.                                                            |\n",
    "| `cls_profs`     | number of professors teaching sections in course in sample: single, multiple.         |\n",
    "| `cls_credits`   | number of credits of class: one credit (lab, PE, etc.), multi credit.                 |\n",
    "| `bty_f1lower`   | beauty rating of professor from lower level female: (1) lowest - (10) highest.        |\n",
    "| `bty_f1upper`   | beauty rating of professor from upper level female: (1) lowest - (10) highest.        |\n",
    "| `bty_f2upper`   | beauty rating of professor from second upper level female: (1) lowest - (10) highest. |\n",
    "| `bty_m1lower`   | beauty rating of professor from lower level male: (1) lowest - (10) highest.          |\n",
    "| `bty_m1upper`   | beauty rating of professor from upper level male: (1) lowest - (10) highest.          |\n",
    "| `bty_m2upper`   | beauty rating of professor from second upper level male: (1) lowest - (10) highest.   |\n",
    "| `bty_avg`       | average beauty rating of professor.                                                   |\n",
    "| `pic_outfit`    | outfit of professor in picture: not formal, formal.                                   |\n",
    "| `pic_color`     | color of professor’s picture: color, black & white.                                   |\n",
    "\n",
    "Source: [OpenIntro book](https://www.openintro.org/book/isrs/)."
   ]
  },
  {
   "cell_type": "markdown",
   "metadata": {},
   "source": [
    "Note that:\n",
    "\n",
    "-   `score` is the target variable - this is what we want our model to\n",
    "    predict. We expect that the score is a function of the teaching\n",
    "    quality, characteristics of the course, and non-teaching related\n",
    "    characteristics of the instructor. However, the “true” teaching\n",
    "    quality for each course is not known.\n",
    "-   the variables that begin with a `cls_` prefix are features that\n",
    "    relate to the course. These features could potentially affect\n",
    "    student evaluations: for example, students may rank one-credit lab\n",
    "    courses more highly than multi-credit lecture courses.\n",
    "-   variables such as `rank`, `ethnicity`, `gender`, `language`, `age`,\n",
    "    and the variables with a `bty_` prefix are features that relate to\n",
    "    the instructor. They do not necessarily to the quality of\n",
    "    instruction! These features may also affect student evaluations: for\n",
    "    example, students may rate instructors more highly if they are\n",
    "    physically attractive.\n",
    "-   variables with the `pic_` prefix describe the photograph that was\n",
    "    shown to the students who provided the `bty_` scores. This should\n",
    "    have no effect on the student evaluations, since those were\n",
    "    evaluations by students who were enrolled in the course (not the\n",
    "    students who were shown the photograph and asked to provide an\n",
    "    attractiveness score.) (For your reference: on the bottom of page 7\n",
    "    of the paper, the authors describe why they include this variable\n",
    "    and how they used it )"
   ]
  },
  {
   "cell_type": "markdown",
   "metadata": {},
   "source": [
    "### Explore data\n",
    "\n",
    "As always, start by exploring the data:"
   ]
  },
  {
   "cell_type": "code",
   "execution_count": null,
   "metadata": {},
   "outputs": [],
   "source": [
    "df.describe()"
   ]
  },
  {
   "cell_type": "code",
   "execution_count": null,
   "metadata": {},
   "outputs": [],
   "source": [
    "sns.pairplot(df, plot_kws={'alpha':0.5, 'size': 0.1})"
   ]
  },
  {
   "cell_type": "markdown",
   "metadata": {},
   "source": [
    "With so many numeric variables, the pair plot is hard to read. We can\n",
    "create a pairplot excluding some variables that we don’t expect to be\n",
    "useful for visualization: `cls_perc_eval`, `cls_did_eval`. We will also\n",
    "exclude the individual attractiveness ratings `bty_f1lower`,\n",
    "`bty_f1upper`, `bty_f2upper`, `bty_m1lower`, `bty_m1upper`,\n",
    "`bty_m2upper`, since the overall attractiveness rating is still\n",
    "represented by `bty_avg`."
   ]
  },
  {
   "cell_type": "code",
   "execution_count": null,
   "metadata": {},
   "outputs": [],
   "source": [
    "sns.pairplot(df, vars=['age', 'cls_students', 'bty_avg', 'score'], plot_kws={'alpha':0.5, 'size': 0.1})"
   ]
  },
  {
   "cell_type": "markdown",
   "metadata": {},
   "source": [
    "As part of our exploration of the data, we can also examine the effect\n",
    "of non-numeric variables related to the instructor and the class:\n",
    "`rank`, `ethnicity`, `gender`, `language`, `cls_level`, `cls_profs`,\n",
    "`cls_credits`."
   ]
  },
  {
   "cell_type": "code",
   "execution_count": null,
   "metadata": {},
   "outputs": [],
   "source": [
    "for feature in ['rank', 'ethnicity', 'gender', 'language', 'cls_level', 'cls_profs', 'cls_credits']:\n",
    "    df.groupby([feature])['score'].describe()"
   ]
  },
  {
   "cell_type": "markdown",
   "metadata": {},
   "source": [
    "#### Discussion Question 1\n",
    "\n",
    "Describe the relationship between `score` and the overall attractiveness\n",
    "rating `bty_avg`. Is there an apparent correlation? If so, is it a\n",
    "positive or a negative correlation? What about `age` and `cls_students`,\n",
    "do they appear to be correlated with `score`?\n",
    "\n",
    "Also describe the relationship between `score` and the categorical\n",
    "variables you explored above that are related to characteristics of the\n",
    "*instructor*: `rank`, `ethnicity`, `gender`, `language`. Which of these\n",
    "variables have an apparent correlation with `score`? Is it a positive or\n",
    "a negative correlation?\n",
    "\n",
    "Are any of the apparent relationships you observed unexpected to you?\n",
    "Explain.\n",
    "\n",
    "------------------------------------------------------------------------"
   ]
  },
  {
   "cell_type": "markdown",
   "metadata": {},
   "source": [
    "### Encoding categorical variables\n",
    "\n",
    "To represent a categorical variable (with no inherent ordering) in a\n",
    "regression, we can use *one hot encoding*. It works as follows:\n",
    "\n",
    "-   For a categorical variable $x$ with values $1,\\cdots,M$\n",
    "-   Represent with $M$ binary features:\n",
    "    $\\phi_1, \\phi_2, \\cdots , \\phi_M$\n",
    "-   Model in regression $w1_1 \\phi_1 + \\cdots + w_M \\phi_M$\n",
    "\n",
    "We can use the `get_dummies` function in `pandas` for one hot encoding.\n",
    "Create a copy of the dataframe with all categorical variables\n",
    "transformed into indicator (“dummy”) variables, and save it in a new\n",
    "data frame called `df_enc`.\n",
    "\n",
    "Compare the columns of the `df` data frame versus the `df_enc` data\n",
    "frame."
   ]
  },
  {
   "cell_type": "code",
   "execution_count": null,
   "metadata": {},
   "outputs": [],
   "source": [
    "df_enc = pd.get_dummies(df)\n",
    "df_enc.columns"
   ]
  },
  {
   "cell_type": "markdown",
   "metadata": {},
   "source": [
    "### Split data\n",
    "\n",
    "Next, we split the encoded data into a training set (70%) and test set\n",
    "(30%). We will be especially interested in evaluating the model\n",
    "performance on the test set. Since it was not used to train the model\n",
    "parameters (intercept and coefficients), the performance on this data\n",
    "gives us a better idea of how the model may perform on new data.\n",
    "\n",
    "We’ll use the `train_test_split` method in `sklearn`’s `model_selection`\n",
    "module. Since it randomly splits the data, we’ll pass a random “state”\n",
    "into the function that makes the split repeatable (same split every time\n",
    "we run this notebook) and ensures that everyone in the class will have\n",
    "exactly the same split."
   ]
  },
  {
   "cell_type": "code",
   "execution_count": null,
   "metadata": {},
   "outputs": [],
   "source": [
    "train, test = model_selection.train_test_split(df_enc, test_size=0.3, random_state=9)\n",
    "# why 9? see https://dilbert.com/strip/2001-10-25\n",
    "train.shape\n",
    "test.shape"
   ]
  },
  {
   "cell_type": "markdown",
   "metadata": {},
   "source": [
    "### Simple linear regression\n",
    "\n",
    "Now we are finally ready to train a regression model.\n",
    "\n",
    "Since the article is nominally abou the attractiveness of the\n",
    "instructor, we will train the simple linear regression on the `bty_avg`\n",
    "feature.\n",
    "\n",
    "In the cell that follows, write code to\n",
    "\n",
    "-   use `sklearn` to fit a simple linear regression model on the\n",
    "    training set, using `bty_avg` as the feature on which to train. Save\n",
    "    your fitted model in a variable `reg_simple`.\n",
    "-   print the intercept and coefficient of the model.\n",
    "-   use `predict` on the fitted model to estimate the evaluation score\n",
    "    on the training set, and save this array in `y_pred_train`.\n",
    "-   use `predict` on the fitted model to estimate the evaluation score\n",
    "    on the test set, and save this array in `y_pred_test`.\n",
    "\n",
    "Then run the cell after that one, which will show you the training data,\n",
    "the test data, and your regression line."
   ]
  },
  {
   "cell_type": "code",
   "execution_count": null,
   "metadata": {},
   "outputs": [],
   "source": [
    "reg_simple = LinearRegression().fit(train[['bty_avg']], train['score'])\n",
    "reg_simple.coef_\n",
    "reg_simple.intercept_\n",
    "\n",
    "y_pred_train = reg_simple.predict(train[['bty_avg']])\n",
    "y_pred_test = reg_simple.predict(test[['bty_avg']])"
   ]
  },
  {
   "cell_type": "code",
   "execution_count": null,
   "metadata": {},
   "outputs": [],
   "source": [
    "sns.scatterplot(data=train, x=\"bty_avg\", y=\"score\", color='blue', alpha=0.5);\n",
    "sns.scatterplot(data=test, x=\"bty_avg\", y=\"score\", color='green', alpha=0.5);\n",
    "sns.lineplot(data=train, x=\"bty_avg\", y=y_pred_train, color='red');"
   ]
  },
  {
   "cell_type": "markdown",
   "metadata": {},
   "source": [
    "### Evaluate simple linear regression performance\n",
    "\n",
    "Next, we will evaluate our model performance.\n",
    "\n",
    "In the following cell, write a *function* to compute key performance\n",
    "metrics for your model:\n",
    "\n",
    "-   compute the R2 score on your training data\n",
    "-   compute the MSE on your training data\n",
    "-   compute the MSE, divided by the sample variance of `score`, on your\n",
    "    training data. Recall that this metric tells us the ratio of average\n",
    "    error of your model to average error of prediction by mean.\n",
    "-   and compute the same three metrics for your test set"
   ]
  },
  {
   "cell_type": "code",
   "execution_count": null,
   "metadata": {},
   "outputs": [],
   "source": [
    "def regression_performance(y_true_train, y_pred_train, y_true_test, y_pred_test):\n",
    "\n",
    "    r2_train = metrics.r2_score(y_true_train, y_pred_train)\n",
    "    mse_train = metrics.mean_squared_error(y_true_train, y_pred_train)\n",
    "    norm_mse_train = metrics.mean_squared_error(y_true_train, y_pred_train)/(np.std(y_true_train)**2)\n",
    "\n",
    "    r2_test = metrics.r2_score(y_true_test, y_pred_test)\n",
    "    mse_test = metrics.mean_squared_error(y_true_test, y_pred_test)\n",
    "    norm_mse_test = metrics.mean_squared_error(y_true_test, y_pred_test)/(np.std(y_true_test)**2)\n",
    "\n",
    "    #print(\"Training:   %f %f %f\" % (r2_train, mse_train, norm_mse_train))\n",
    "    #print(\"Test:       %f %f %f\" % (r2_test, mse_test, norm_mse_test))\n",
    "\n",
    "    return [r2_train, mse_train, norm_mse_train, r2_test, mse_test, norm_mse_test]"
   ]
  },
  {
   "cell_type": "markdown",
   "metadata": {},
   "source": [
    "Call your function to print the performance of the simple linear\n",
    "regression. Is a simple linear regression on `bty_avg` better than a\n",
    "“dumb” model that predicts the mean value of `score` for all samples?"
   ]
  },
  {
   "cell_type": "code",
   "execution_count": null,
   "metadata": {},
   "outputs": [],
   "source": [
    "vals = regression_performance(train['score'], y_pred_train, test['score'], y_pred_test)"
   ]
  },
  {
   "cell_type": "markdown",
   "metadata": {},
   "source": [
    "### Multiple linear regression\n",
    "\n",
    "Next, we’ll see if we can improve model performance using multiple\n",
    "linear regression, with more features included.\n",
    "\n",
    "To start, we need to decide which features to use as input to our model.\n",
    "One possible approach is to use every feature in the dataset excluding\n",
    "the target variable, `score`.\n",
    "\n",
    "You can build and view this list of features by running:"
   ]
  },
  {
   "cell_type": "code",
   "execution_count": null,
   "metadata": {},
   "outputs": [],
   "source": [
    "features = df_enc.columns.drop(['score'])\n",
    "features"
   ]
  },
  {
   "cell_type": "markdown",
   "metadata": {},
   "source": [
    "In the following cell, write code to\n",
    "\n",
    "-   use `sklearn` to fit a linear regression model on the training set,\n",
    "    using the `features` array as the list of features to train on. Save\n",
    "    your fitted model in a variable `reg_multi`.\n",
    "-   print a table of the features used in the regression and the\n",
    "    coefficient assigned to each. If you have saved your fitted\n",
    "    regression in a variable named `reg_multi`, you can create and print\n",
    "    this table with:\n",
    "\n",
    "``` python\n",
    "df_coef = pd.DataFrame(data = \n",
    "                        {'feature': features, \n",
    "                         'coefficient': reg_multi.coef_})\n",
    "df_coef\n",
    "```"
   ]
  },
  {
   "cell_type": "code",
   "execution_count": null,
   "metadata": {},
   "outputs": [],
   "source": [
    "reg_multi = LinearRegression().fit(train[features], train['score'])\n",
    "df_coef = pd.DataFrame(data = \n",
    "                        {'feature': features, \n",
    "                         'coefficient': reg_multi.coef_})\n",
    "df_coef"
   ]
  },
  {
   "cell_type": "markdown",
   "metadata": {},
   "source": [
    "#### Discussion Question 2\n",
    "\n",
    "Look at the list of features and coefficients, especially those related\n",
    "to the attractiveness ratings.\n",
    "\n",
    "Are these results surprising, based on the results of the simple linear\n",
    "regression? Explain your answer.\n",
    "\n",
    "------------------------------------------------------------------------"
   ]
  },
  {
   "cell_type": "markdown",
   "metadata": {},
   "source": [
    "### Effect of collinearity\n",
    "\n",
    "Note especially the coefficients associated with each of the individual\n",
    "attractiveness rankings, and the coefficient associated with the average\n",
    "attractiveness ranking. Each of these features separately seems to have\n",
    "a large effect; however, because they are strongly *collinear*, they\n",
    "cancel one another out.\n",
    "\n",
    "(You should be able to see the collinearity clearly in the pairplot you\n",
    "created.)\n",
    "\n",
    "In the following cell, write code to\n",
    "\n",
    "-   create a new `features` array, that drops the *individual*\n",
    "    attractiveness rankings in addition to the `score` variable (but do\n",
    "    *not* drop the average attractiveness ranking)\n",
    "-   use `sklearn` to fit a linear regression model on the training set,\n",
    "    using the new `features` array as the list of features to train on.\n",
    "    Save your fitted model in a variable `reg_avgbty`.\n",
    "-   print a table of the features used in the regression and the\n",
    "    coefficient assigned to each."
   ]
  },
  {
   "cell_type": "code",
   "execution_count": null,
   "metadata": {},
   "outputs": [],
   "source": [
    "features = df_enc.columns.drop(['score', \n",
    "    'bty_f1lower', 'bty_f1upper', 'bty_f2upper', \n",
    "    'bty_m1lower', 'bty_m1upper', 'bty_m2upper'])\n",
    "reg_avgbty = LinearRegression().fit(train[features], train['score'])\n",
    "\n",
    "df_coef = pd.DataFrame(data = \n",
    "                        {'feature': features, \n",
    "                         'coefficient': reg_avgbty.coef_})\n",
    "df_coef"
   ]
  },
  {
   "cell_type": "markdown",
   "metadata": {},
   "source": [
    "#### Discussion Question 3\n",
    "\n",
    "Given the model parameters you have found, which is associated with the\n",
    "strongest effect (on average) on the evaluation score:\n",
    "\n",
    "-   Instructor ethnicity\n",
    "-   Instructor gender\n",
    "\n",
    "(Note that in general, we cannot use the coefficient to compare the\n",
    "effect of features that have a different range. But both ethnicity and\n",
    "gender are represented by binary one hot-encoded variables.)\n",
    "\n",
    "------------------------------------------------------------------------"
   ]
  },
  {
   "cell_type": "markdown",
   "metadata": {},
   "source": [
    "### Evaluate multiple regression model performance\n",
    "\n",
    "Evaluate the performance of your `reg_avgbty` model. In the next cell,\n",
    "write code to:\n",
    "\n",
    "-   use the `predict` function on your fitted regression to find\n",
    "    $\\hat{y}$ for all samples in the *training* set, and save this in an\n",
    "    array called `y_pred_train`\n",
    "-   use the `predict` function on your fitted regression to find\n",
    "    $\\hat{y}$ for all samples in the *test* set, and save this in an\n",
    "    array called `y_pred_test`\n",
    "-   call the `regression_performance` function you wrote in a previous\n",
    "    cell, and print the performance metrics on the training and test\n",
    "    set."
   ]
  },
  {
   "cell_type": "code",
   "execution_count": null,
   "metadata": {},
   "outputs": [],
   "source": [
    "y_pred_train = reg_avgbty.predict(train[features])\n",
    "y_pred_test = reg_avgbty.predict(test[features])\n",
    "\n",
    "vals = regression_performance(train['score'], y_pred_train, test['score'], y_pred_test)"
   ]
  },
  {
   "cell_type": "markdown",
   "metadata": {},
   "source": [
    "#### Discussion Question 4\n",
    "\n",
    "Based on the analysis above, what portion of the variation in instructor\n",
    "teaching evaluation can be explained by the factors unrelated to\n",
    "teaching performance, such as the physical characteristics of the\n",
    "instructor?\n",
    "\n",
    "------------------------------------------------------------------------"
   ]
  },
  {
   "cell_type": "markdown",
   "metadata": {},
   "source": [
    "#### Discussion Question 5\n",
    "\n",
    "Based on the analysis above, is your model better at predicting\n",
    "instructor teaching scores than a “dumb” model that just assigns the\n",
    "mean teaching score to every instructor? Explain.\n",
    "\n",
    "------------------------------------------------------------------------"
   ]
  },
  {
   "cell_type": "markdown",
   "metadata": {},
   "source": [
    "#### Discussion Question 6\n",
    "\n",
    "Suppose you are hired by the ECE department to develop a classifer that\n",
    "will identify high-performing faculty, who will then be awarded prizes\n",
    "for their efforts.\n",
    "\n",
    "Based on the analysis above, do you think it would be fair to use scores\n",
    "on teaching evaluations as an input to your classifier? Explain your\n",
    "answer.\n",
    "\n",
    "------------------------------------------------------------------------"
   ]
  },
  {
   "cell_type": "markdown",
   "metadata": {},
   "source": [
    "### Exploring unexpected correlation\n",
    "\n",
    "There are some features that we do *not* expect to be correlated with\n",
    "the instructor’s score.\n",
    "\n",
    "For example, consider the “features” related to the photograph used by\n",
    "the students who rated the instructor’s attractiveness.\n",
    "\n",
    "There is no reason that characteristics of an instructor’s photograph -\n",
    "whether it was in black and white or color, how the instructor was\n",
    "dressed in the photograph - should influence the ratings of students in\n",
    "the instructor’s class. (These students did not even see the\n",
    "photograph.)\n",
    "\n",
    "In the next cell, write code to\n",
    "\n",
    "-   create a new `features` array that drops the `score` variable, all\n",
    "    of the individual attractiveness rankings, and the variables related\n",
    "    to the photograph used for attractiveness rankings.\n",
    "-   use it to fit a model (saved in `reg_nopic`).\n",
    "-   use `reg_nopic` to predict the evaluation scores on both the\n",
    "    training and test set\n",
    "-   compute the same set of metrics as above."
   ]
  },
  {
   "cell_type": "code",
   "execution_count": null,
   "metadata": {},
   "outputs": [],
   "source": [
    "features = df_enc.columns.drop(['score', \n",
    "    'bty_f1lower', 'bty_f1upper', 'bty_f2upper', \n",
    "    'bty_m1lower', 'bty_m1upper', 'bty_m2upper', \n",
    "    'pic_outfit_formal', 'pic_outfit_not formal',\n",
    "    'pic_color_black&white', 'pic_color_color'])\n",
    "\n",
    "reg_nopic = LinearRegression().fit(train[features], train['score'])\n",
    "\n",
    "\n",
    "y_pred_train = reg_nopic.predict(train[features])\n",
    "y_pred_test = reg_nopic.predict(test[features])\n",
    "\n",
    "vals = regression_performance(train['score'], y_pred_train, test['score'], y_pred_test)\n"
   ]
  },
  {
   "cell_type": "markdown",
   "metadata": {},
   "source": [
    "#### Discussion Question 7\n",
    "\n",
    "Is your model less predictive when features related to the instructor\n",
    "photograph are excluded? Explain.\n",
    "\n",
    "------------------------------------------------------------------------"
   ]
  },
  {
   "cell_type": "markdown",
   "metadata": {},
   "source": [
    "Finally, we will observe the effect of excluding class-related variables\n",
    "(whether it is an upper-division or lower-division class, number of\n",
    "credits, etc.)\n",
    "\n",
    "In the next cell, write code to:\n",
    "\n",
    "-   create a new `features` array that drops the `score` variable, all\n",
    "    of the individual attractiveness rankings, the variables related to\n",
    "    the photograph used for attractiveness rankings, *and* all of the\n",
    "    variables that begin with the `cls` prefix.\n",
    "-   use it to fit a model (saved in `reg_nocls`).\n",
    "-   use `reg_nocls` to predict the evaluation scores on both the\n",
    "    training and test set\n",
    "-   compute the same set of metrics as above."
   ]
  },
  {
   "cell_type": "code",
   "execution_count": null,
   "metadata": {},
   "outputs": [],
   "source": [
    "features = df_enc.columns.drop(['score', \n",
    "    'bty_f1lower', 'bty_f1upper', 'bty_f2upper', \n",
    "    'bty_m1lower', 'bty_m1upper', 'bty_m2upper', \n",
    "    'pic_outfit_formal', 'pic_outfit_not formal',\n",
    "    'pic_color_black&white', 'pic_color_color',\n",
    "    'cls_credits_multi credit', 'cls_credits_one credit',\n",
    "    'cls_profs_multiple', 'cls_profs_single',\n",
    "    'cls_perc_eval', 'cls_did_eval', 'cls_students',\n",
    "    'cls_level_lower', 'cls_level_upper'])\n",
    "\n",
    "reg_nocls = LinearRegression().fit(train[features], train['score'])\n",
    "\n",
    "y_pred_train = reg_nocls.predict(train[features])\n",
    "y_pred_test = reg_nocls.predict(test[features])\n",
    "\n",
    "vals = regression_performance(train['score'], y_pred_train, test['score'], y_pred_test)"
   ]
  },
  {
   "cell_type": "markdown",
   "metadata": {},
   "source": [
    "When a machine learning model seems to use a feature that is not\n",
    "expected to be correlated with the target variable (such as the\n",
    "characteristics of the instructor’s photograph…), this can sometimes be\n",
    "a signal that information is “leaking” between the training and test\n",
    "set.\n",
    "\n",
    "In this dataset, each row represents a single course. However, some\n",
    "instructors teach more than one course, and an instructor might get\n",
    "similar evaluation scores on all of the courses he or she teaches.\n",
    "\n",
    "(According to the paper for which this dataset was collected, 94 faculty\n",
    "members taught the 463 courses represented in the dataset, with some\n",
    "faculty members teaching as many as 13 courses.)\n",
    "\n",
    "For example, consider the output of the following command, which prints\n",
    "all of the one credit courses in the data:"
   ]
  },
  {
   "cell_type": "code",
   "execution_count": null,
   "metadata": {},
   "outputs": [],
   "source": [
    "df.loc[df['cls_credits']=='one credit']"
   ]
  },
  {
   "cell_type": "markdown",
   "metadata": {},
   "source": [
    "We observe that 10 out of 27 one-credit courses are taught by what seems\n",
    "to be the same instructor - we don’t know his name, but let’s call him\n",
    "John. John is a teaching-track professor, minority ethnicity, male,\n",
    "English-language trained, 50 years old, average attractiveness 3.333,\n",
    "and whose photograph is in color and not formal.\n",
    "\n",
    "This provides a clue regarding the apparent importance of the\n",
    "`cls_credits` variable and other “unexpected” variables in predicting\n",
    "the teaching score.\n",
    "\n",
    "Certain variables may be used by the model to identify the instructor\n",
    "and then learn a relationship between the *individual instructor* and\n",
    "his or her typical evaluation score, instead of learning a true\n",
    "relationship between the *variable* and the evaluation score."
   ]
  },
  {
   "cell_type": "markdown",
   "metadata": {},
   "source": [
    "To explore this issue further, we will repeat our analysis using two\n",
    "different ways of splitting the dataset:\n",
    "\n",
    "1.  random split\n",
    "2.  random split that ensures that each individual *instructor* is\n",
    "    represented in the training data or the test data, but not both.\n",
    "\n",
    "In the latter case, if the regression model is “memorizing” individual\n",
    "instructors, rather than learning true relationships between\n",
    "instructor/course characteristics and teaching ratings, then the model\n",
    "will perform much worse on the test set for this type of split. This is\n",
    "because the instructors it has “learned” are not present in the test\n",
    "set.\n",
    "\n",
    "First, we will assign an “instructor ID” to each row in our data frame:"
   ]
  },
  {
   "cell_type": "code",
   "execution_count": null,
   "metadata": {},
   "outputs": [],
   "source": [
    "instructor_id = df[['rank', 'ethnicity', 'gender', 'language',\n",
    "        'pic_outfit', 'pic_color']].agg('-'.join, axis=1)\n",
    "instructor_id +=  '-' + df['age'].astype(str)\n",
    "instructor_id +=  '-' + df['bty_avg'].astype(str)\n",
    "\n",
    "df_enc = df_enc.assign(instructor_id = instructor_id)\n",
    "\n",
    "df_enc['instructor_id'].head()"
   ]
  },
  {
   "cell_type": "markdown",
   "metadata": {},
   "source": [
    "Now we will perform our splits, train a model, and print performance\n",
    "metrics according to the first scheme, in which an instructor may be\n",
    "present in both the training set and the test set."
   ]
  },
  {
   "cell_type": "code",
   "execution_count": null,
   "metadata": {},
   "outputs": [],
   "source": [
    "metrics_ss = np.zeros((10, 6))\n",
    "\n",
    "ss = model_selection.ShuffleSplit(n_splits=10, test_size=0.3, random_state=9)\n",
    "\n",
    "for i, split in enumerate( ss.split(df_enc) ):\n",
    "\n",
    "    train_idx, test_idx = split\n",
    "\n",
    "    train = df_enc.iloc[train_idx]\n",
    "    test = df_enc.iloc[test_idx]\n",
    "        \n",
    "    features = df_enc.columns.drop(['score', 'instructor_id'])\n",
    "\n",
    "    # train a multiple linear regression using \n",
    "    # the train dataset and the list of features created above\n",
    "    # save the fitted model in reg_rndsplit\n",
    "    # then use the model to create y_pred_train and y_pred_test, \n",
    "    # the model predictions on the training set and test set.\n",
    "    # Finally, use regression_performance to see the \n",
    "    # model performance\n",
    "    reg_rndsplit = LinearRegression().fit(train[features], train['score'])\n",
    "\n",
    "    y_pred_train = reg_rndsplit.predict(train[features])\n",
    "    y_pred_test = reg_rndsplit.predict(test[features])\n",
    "\n",
    "    metrics_ss[i] = regression_performance(train['score'], y_pred_train, test['score'], y_pred_test)\n",
    "    print(metrics_ss[i])\n",
    "\n"
   ]
  },
  {
   "cell_type": "code",
   "execution_count": null,
   "metadata": {},
   "outputs": [],
   "source": [
    "np.mean(metrics_ss, axis=0)"
   ]
  },
  {
   "cell_type": "markdown",
   "metadata": {},
   "source": [
    "Then, we will perform our splits, train a model, and get performance\n",
    "metrics according to the second scheme, in which an instructor may be\n",
    "present in either the training set or the test set, but not both."
   ]
  },
  {
   "cell_type": "code",
   "execution_count": null,
   "metadata": {},
   "outputs": [],
   "source": [
    "metrics_gss = np.zeros((10, 6))\n",
    "\n",
    "gss = model_selection.GroupShuffleSplit(n_splits=10, test_size=0.3, random_state=9)\n",
    "\n",
    "for i, split in enumerate( gss.split(df_enc, groups=instructor_id) ):\n",
    "    train_idx, test_idx = split\n",
    "    train = df_enc.iloc[train_idx]\n",
    "    test = df_enc.iloc[test_idx]\n",
    "        \n",
    "    features = df_enc.columns.drop(['score', 'instructor_id'])\n",
    "\n",
    "    # train a multiple linear regression using \n",
    "    # the train dataset and the list of features created above\n",
    "    # save the fitted model in reg_grpsplit\n",
    "    # then use the model to create y_pred_train and y_pred_test\n",
    "    # the model predictions on the training set and test set.\n",
    "    # Finally, use regression_performance to see the \n",
    "    # model performance\n",
    "    #\n",
    "    # reg_grpsplit = ...\n",
    "    # y_pred_train = ...\n",
    "    # y_pred_test  = ...\n",
    "\n",
    "\n",
    "    reg_grpsplit = LinearRegression().fit(train[features], train['score'])\n",
    "\n",
    "    y_pred_train = reg_grpsplit.predict(train[features])\n",
    "    y_pred_test = reg_grpsplit.predict(test[features])\n",
    "\n",
    "    metrics_gss[i] = regression_performance(train['score'], y_pred_train, test['score'], y_pred_test)\n",
    "    print(metrics_gss[i])"
   ]
  },
  {
   "cell_type": "code",
   "execution_count": null,
   "metadata": {},
   "outputs": [],
   "source": [
    "np.mean(metrics_gss, axis=0)"
   ]
  },
  {
   "cell_type": "markdown",
   "metadata": {},
   "source": [
    "#### Discussion Question 8\n",
    "\n",
    "Based on your analysis above, do you think your model will be useful to\n",
    "predict the teaching evaluation scores of a new faculty member at UT\n",
    "Austin, based on his or her physical characteristics and the\n",
    "characteristics of the course?\n",
    "\n",
    "------------------------------------------------------------------------"
   ]
  },
  {
   "cell_type": "markdown",
   "metadata": {},
   "source": [
    "### Data leakage\n",
    "\n",
    "In this case study, we saw evidence of data leakage: The identity of the\n",
    "instructor “leaked” into the data set, and then the model learned the\n",
    "instructor ID, not a true relationship between instructor\n",
    "characteristics and teaching evaluation scores.\n",
    "\n",
    "As a result, the model had overly optimistic error on the test set. The\n",
    "model appeared to generalize to new, unseen, data, but in fact would not\n",
    "generalize to different instructors."
   ]
  }
 ],
 "nbformat": 4,
 "nbformat_minor": 5,
 "metadata": {}
}
