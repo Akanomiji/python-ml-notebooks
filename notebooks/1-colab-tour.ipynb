{
 "cells": [
  {
   "cell_type": "markdown",
   "metadata": {},
   "source": [
    "Colab tour\n",
    "==========\n",
    "\n",
    "*Fraida Fund*\n",
    "\n",
    "[![Open In\n",
    "Colab](https://colab.research.google.com/assets/colab-badge.svg)](https://colab.research.google.com/github/ffund/ml-notebooks/blob/master/notebooks/1-colab-tour.ipynb)"
   ]
  },
  {
   "cell_type": "markdown",
   "metadata": {},
   "source": [
    "### Attribution\n",
    "\n",
    "-   Parts of this notebook are from Google’s own [Overview of Colab\n",
    "    features](https://colab.research.google.com/notebooks/basic_features_overview.ipynb).\n",
    "-   Parts of this notebook are from the [I/O example\n",
    "    notebook](https://colab.research.google.com/notebooks/io.ipynb)"
   ]
  },
  {
   "cell_type": "markdown",
   "metadata": {},
   "source": [
    "Introduction\n",
    "------------\n",
    "\n",
    "Colaboratory - “Colab” for short - is a web application that lets you\n",
    "develop Python code in a “notebook” format, directly in your browser.\n",
    "\n",
    "It is especially well suited for machine learning, because:\n",
    "\n",
    "-   It provides free access to GPUs, which will be very helpful later in\n",
    "    the course when we are working with neural networks. (There are some\n",
    "    limits to this free access, however.)\n",
    "-   It has many of the most popular machine learning libraries already\n",
    "    pre-installed, and you can manually install any other libraries you\n",
    "    might need (for example, for your project).\n",
    "-   It is easy to share Colab notebooks with others.\n",
    "\n",
    "All of the lab assignments and demos in this course are designed to run\n",
    "on Colab."
   ]
  },
  {
   "cell_type": "markdown",
   "metadata": {},
   "source": [
    "This notebook is a “tour” of Colab. You won’t necessarily use all the\n",
    "features demonstrated in this notebook right away, but they’ll be\n",
    "helpful over the course of the semester. So, review this notebook once,\n",
    "then keep it handy to refer back to when needed!"
   ]
  },
  {
   "cell_type": "markdown",
   "metadata": {},
   "source": [
    "Cell basics\n",
    "-----------"
   ]
  },
  {
   "cell_type": "markdown",
   "metadata": {},
   "source": [
    "A notebook is a list of “cells”. Each cell contains either text or\n",
    "executable code."
   ]
  },
  {
   "cell_type": "markdown",
   "metadata": {},
   "source": [
    "There are a few ways to create a new cell:\n",
    "\n",
    "You can click on the +Code or +Text buttons near the top left of the\n",
    "Colab interface:\n",
    "\n",
    "![Create a new Colab cell from the\n",
    "toolbar.](https://raw.githubusercontent.com/ffund/ml-notebooks/master/notebooks/images/colab-tour-newcell-0.png)\n",
    "\n",
    "You can move your mouse near the bottom of any existing cell to see\n",
    "+Code and +Text buttons appear, then click on one of those:\n",
    "\n",
    "![Create a new Colab cell from the bottom of existing\n",
    "cell.](https://raw.githubusercontent.com/ffund/ml-notebooks/master/notebooks/images/colab-tour-newcell-1.png)\n",
    "\n",
    "Or you can use Insert \\> Code cell or Insert \\> Text cell from the menu\n",
    "bar.\n",
    "\n",
    "![Create a new Colab cell from the menu\n",
    "bar.](https://raw.githubusercontent.com/ffund/ml-notebooks/master/notebooks/images/colab-tour-newcell-2.png)"
   ]
  },
  {
   "cell_type": "markdown",
   "metadata": {},
   "source": [
    "Double-click on any cell to edit the cell.\n",
    "\n",
    "To delete a cell, click on the trash icon that appears in the top right\n",
    "when you click on the cell:\n",
    "\n",
    "![Delete a Colab\n",
    "cell.](https://raw.githubusercontent.com/ffund/ml-notebooks/master/notebooks/images/colab-tour-delete-0.png)\n",
    "\n",
    "Or, you can right-click on a cell and choose “Delete cell”.\n",
    "\n",
    "![Delete a Colab cell from the context\n",
    "menu.](https://raw.githubusercontent.com/ffund/ml-notebooks/master/notebooks/images/colab-tour-delete-1.png)"
   ]
  },
  {
   "cell_type": "markdown",
   "metadata": {},
   "source": [
    "### Text cells\n",
    "\n",
    "Text cells can be used to explain your code, or to comment on the\n",
    "output.\n",
    "\n",
    "Text cells are formatted using markdown syntax to add headers, lists,\n",
    "bold or italic text, etc. To learn more, see this [markdown\n",
    "reference](https://colab.research.google.com/notebooks/markdown_guide.ipynb).\n",
    "\n",
    "You can also add math to text cells using\n",
    "[LaTeX](http://www.latex-project.org/). Just place the statement within\n",
    "a pair of **\\$** signs. For example,\n",
    "\n",
    "`$\\sqrt{3x-1}+(1+x)^2$`\n",
    "\n",
    "is rendered as\n",
    "\n",
    "$\\sqrt{3x-1}+(1+x)^2.$"
   ]
  },
  {
   "cell_type": "markdown",
   "metadata": {},
   "source": [
    "### Code cells\n",
    "\n",
    "Your Python code will go in code cells. For example:"
   ]
  },
  {
   "cell_type": "code",
   "execution_count": null,
   "metadata": {},
   "outputs": [],
   "source": [
    "a = 10\n",
    "a"
   ]
  },
  {
   "cell_type": "markdown",
   "metadata": {},
   "source": [
    "To run the code in the cell above, press the Play button that appears on\n",
    "the left side of the cell when you move your mouse over it. The output\n",
    "will appear immediately below the cell."
   ]
  },
  {
   "cell_type": "markdown",
   "metadata": {},
   "source": [
    "Colab also has some extra features to help you write Python code. One\n",
    "helpful feature is autocompletion. For example, run the following cell,\n",
    "which assigns a value to the variable named `course_description`:"
   ]
  },
  {
   "cell_type": "code",
   "execution_count": null,
   "metadata": {},
   "outputs": [],
   "source": [
    "course_description = \"Intro to Machine Learning\""
   ]
  },
  {
   "cell_type": "markdown",
   "metadata": {},
   "source": [
    "Now, suppose you want to print the course description. In the next cell,\n",
    "start to type\n",
    "\n",
    "``` python\n",
    "print(course_description)\n",
    "```"
   ]
  },
  {
   "cell_type": "code",
   "execution_count": null,
   "metadata": {},
   "outputs": [],
   "source": []
  },
  {
   "cell_type": "markdown",
   "metadata": {},
   "source": [
    "After you type the first few characters, you’ll see a menu near your\n",
    "cursor that offers to auto-complete the name of the variable you used\n",
    "earlier. You can press Tab to accept the offer.\n",
    "\n",
    "![Auto-complete in\n",
    "Colab.](https://raw.githubusercontent.com/ffund/ml-notebooks/master/notebooks/images/colab-tour-auto-0.png)"
   ]
  },
  {
   "cell_type": "markdown",
   "metadata": {},
   "source": [
    "You may also notice that Colab will show you documentation for a\n",
    "function immediately after you type the function name and open\n",
    "parentheses:\n",
    "\n",
    "![Colab shows documentation for a\n",
    "function.](https://raw.githubusercontent.com/ffund/ml-notebooks/master/notebooks/images/colab-tour-auto-1.png)"
   ]
  },
  {
   "cell_type": "markdown",
   "metadata": {},
   "source": [
    "Another interesting feature of Colab is that in addition to running\n",
    "Python code, you can also run commands on the underlying (Linux)\n",
    "operating system.\n",
    "\n",
    "To run a command on the underlying operating system, just preface the\n",
    "Linux command with a `!`. For example, try to run the [`pwd`\n",
    "command](https://man7.org/linux/man-pages/man1/pwd.1.html), which will\n",
    "**p**rint the name of your **w**orking **d**irectory:"
   ]
  },
  {
   "cell_type": "code",
   "execution_count": null,
   "metadata": {},
   "outputs": [],
   "source": [
    "!pwd"
   ]
  },
  {
   "cell_type": "markdown",
   "metadata": {},
   "source": [
    "### Running code cells"
   ]
  },
  {
   "cell_type": "markdown",
   "metadata": {},
   "source": [
    "You can run code cells one at a time, or run cells in groups.\n",
    "\n",
    "To run a single code cell, press the Play button that appears on the\n",
    "left side of the cell when you move your mouse over it:\n",
    "\n",
    "![Run a single code cell from the Play\n",
    "button](https://raw.githubusercontent.com/ffund/ml-notebooks/master/notebooks/images/colab-tour-run-0.png)\n",
    "\n",
    "Try to run the following cell. The output of the code will appear below\n",
    "the cell when it runs."
   ]
  },
  {
   "cell_type": "code",
   "execution_count": null,
   "metadata": {},
   "outputs": [],
   "source": [
    "print(\"Hello world\")"
   ]
  },
  {
   "cell_type": "markdown",
   "metadata": {},
   "source": [
    "You can also click on a cell (to make it the “focused” cell), then\n",
    "choose Runtime \\> Run the focused cell from the menu:\n",
    "\n",
    "![Run a single code cell from the\n",
    "menu](https://raw.githubusercontent.com/ffund/ml-notebooks/master/notebooks/images/colab-tour-run-1.png)"
   ]
  },
  {
   "cell_type": "markdown",
   "metadata": {},
   "source": [
    "As you can see, the runtime menu includes several other useful options.\n",
    "You can:\n",
    "\n",
    "-   Run all of the code cells in the entire notebook\n",
    "-   Run all of the code cells *before* the currently focused cell\n",
    "-   Run all of the code cells *after* the currently focused cell\n",
    "    (including the currently focused cell)\n",
    "\n",
    "These are especially helpful when you modify code. For example, suppose\n",
    "you have a notebook with:\n",
    "\n",
    "-   (Part 1) several cells that load in and prepare data\n",
    "-   (Part 2) several cells that prepare and train a machine learning\n",
    "    model on this data\n",
    "-   (Part 3) several cells that evaluate and visualize the effectiveness\n",
    "    of the model\n",
    "\n",
    "and you have run the entire notebook, but are not satisfied with the\n",
    "results. So, you modify the training procedure in the middle part of the\n",
    "notebook.\n",
    "\n",
    "You don’t have to re-run the cells that load in and prepare the data\n",
    "(Part 1), since those cells are not affected by the changes to the\n",
    "training procedure. But, you do need to re-run some of Part 2 and all of\n",
    "Part 3, so that you can train the model using the modified procedure and\n",
    "visualize the *new* results. In this case, you would select the cell you\n",
    "modified, and use Runtime \\> Run After to re-run that cell and all cells\n",
    "that follow.\n",
    "\n",
    "One common mistake to be careful of: students sometimes modify the code\n",
    "in a cell, re-run that cell, but forget to re-run all the later cells\n",
    "that depend on the modified cell."
   ]
  },
  {
   "cell_type": "markdown",
   "metadata": {},
   "source": [
    "When you run a cell, a number will appear in the left side of the cell,\n",
    "indicating the order in which the cell was executed. For example,\n",
    "consider the following set of three cells:"
   ]
  },
  {
   "cell_type": "code",
   "execution_count": null,
   "metadata": {},
   "outputs": [],
   "source": [
    "message = \"Hello world\""
   ]
  },
  {
   "cell_type": "code",
   "execution_count": null,
   "metadata": {},
   "outputs": [],
   "source": [
    "prefix = \"Message:\""
   ]
  },
  {
   "cell_type": "code",
   "execution_count": null,
   "metadata": {},
   "outputs": [],
   "source": [
    "print(prefix, message)"
   ]
  },
  {
   "cell_type": "markdown",
   "metadata": {},
   "source": [
    "If you run those three cells in order, you would expect to see\n",
    "consecutive execution numbers, like this:\n",
    "\n",
    "![Cells with consecutive execution\n",
    "numbers](https://raw.githubusercontent.com/ffund/ml-notebooks/master/notebooks/images/colab-tour-cell-order-0.png)"
   ]
  },
  {
   "cell_type": "markdown",
   "metadata": {},
   "source": [
    "Sometimes, you may have a cell that runs for a very long time, or is\n",
    "stuck, and needs to be interrupted. Use Runtime \\> Interrupt Execution\n",
    "to interrupt a running cell.\n",
    "\n",
    "Try it now - run the cell below, then interrupt it using the Runtime\n",
    "menu."
   ]
  },
  {
   "cell_type": "code",
   "execution_count": null,
   "metadata": {},
   "outputs": [],
   "source": [
    "import time\n",
    "print(\"Sleeping\")\n",
    "time.sleep(60) # sleep for a while; interrupt me!\n",
    "print(\"Done Sleeping\")"
   ]
  },
  {
   "cell_type": "markdown",
   "metadata": {},
   "source": [
    "Filesystems\n",
    "-----------"
   ]
  },
  {
   "cell_type": "markdown",
   "metadata": {},
   "source": [
    "Runtimes - under the hood\n",
    "-------------------------\n",
    "\n",
    "How does this all work? When you use Colab, a virtual machine is\n",
    "allocated especially for your use. This virtual machine includes:\n",
    "\n",
    "-   a compute resource - CPU or GPU\n",
    "-   a disk, with an operating system and key software (including Python\n",
    "    and many data science/machine learning libraries) preinstalled\n",
    "-   RAM\n",
    "\n",
    "You can do anything you need to do on this VM (including downloading\n",
    "files, installing software, and of course, running Python code) for as\n",
    "long as the VM is allocated to you."
   ]
  },
  {
   "cell_type": "markdown",
   "metadata": {},
   "source": [
    "### Runtime types\n",
    "\n",
    "Colab comes with three “types” of runtimes:\n",
    "\n",
    "-   no hardware acceleration (i.e. CPU)\n",
    "-   GPU\n",
    "-   TPU\n",
    "\n",
    "However, because GPU and TPU resources are relatively scarce, there are\n",
    "stricter limits imposed on their use. Therefore, you should use a CPU\n",
    "notebook unless you are doing something that benefits from hardware\n",
    "acceleration. If you overuse GPU runtimes when you don’t really need\n",
    "them, Colab will prevent you from using GPU runtimes when you *do* use\n",
    "them!"
   ]
  },
  {
   "cell_type": "markdown",
   "metadata": {},
   "source": [
    "To check what runtime type you are using, or to change the runtime type,\n",
    "click on Runtime \\> Change Runtime Type in the Colab menu. For a CPU\n",
    "runtime, make sure Hardware Acceleration is set to None. Then, choose\n",
    "Save.\n",
    "\n",
    "**Note**: When you change the runtime type, it restarts the runtime,\n",
    "which means that any variables etc. saved in memory will be gone. So\n",
    "it’s a good idea to set up your runtime *before* you start running any\n",
    "code in the notebook."
   ]
  },
  {
   "cell_type": "markdown",
   "metadata": {},
   "source": [
    "Once you have set or confirmed your desired runtime type, you can\n",
    "connect to a runtime. “Connecting to a runtime” means that you ask Colab\n",
    "to allocate a virtual machine (of the desired type) to you, and connect\n",
    "it to your session.\n",
    "\n",
    "There are two ways to connect to a runtime:\n",
    "\n",
    "-   Run any code cell - this will automatically connect your session to\n",
    "    a runtime, if you are not already connected. (If you have already\n",
    "    run the code cells above, your session is connected to a runtime!)\n",
    "-   Click the Connect button near the top right part of the Colab\n",
    "    interface.\n",
    "\n",
    "![Click here to connect to a Colab\n",
    "runtime](https://raw.githubusercontent.com/ffund/ml-notebooks/master/notebooks/images/colab-tour-connect-0.png)"
   ]
  },
  {
   "cell_type": "markdown",
   "metadata": {},
   "source": [
    "### Resource limits\n",
    "\n",
    "Colab is free to use, but several limitations apply to your usage:\n",
    "\n",
    "-   overall usage - there is a limit to how much Colab compute time you\n",
    "    can use per day or per week, especially if you are using GPU. If you\n",
    "    exceed this limit, you won’t be able to use Colab for a short\n",
    "    “cooling off” period.\n",
    "-   maximum VM lifetime - there is a limit to how long you can keep an\n",
    "    allocated runtime. After this limit is exceeded, you will be\n",
    "    disconnected from the runtime, and the virtual machine will be\n",
    "    recyled.\n",
    "-   idle timeout period - there is a limit to how long your session will\n",
    "    stay connected to a runtime if you are not actively using it. After\n",
    "    this limit is exceeded, you will be disconnected from the runtime.\n",
    "    Depending on the circumstances, it may be recyled, or you may be\n",
    "    able to re-connect to the same runtime.\n",
    "-   GPU availability - GPU availability is not guaranteed, and you may\n",
    "    not be able to access a GPU runtime on demand (especially if you\n",
    "    have a lot of recent GPU usage)."
   ]
  },
  {
   "cell_type": "markdown",
   "metadata": {},
   "source": [
    "The lab assignments and demos in this course are designed carefully to\n",
    "avoid bumping up against these limitations, so that you can use Colab\n",
    "throughout the semester!\n",
    "\n",
    "But, this applies only if you:\n",
    "\n",
    "-   don’t use GPU resources when not necessary.\n",
    "-   close your Colab tabs when you are done working."
   ]
  },
  {
   "cell_type": "markdown",
   "metadata": {},
   "source": [
    "In addition to the limits mentioned above, each Colab VM has some disk\n",
    "space and RAM allocated to it.\n",
    "\n",
    "Once you are connected to a runtime, you will see a bar graph in this\n",
    "space that shows you your current RAM and disk space usage. If you move\n",
    "your mouse over this bar graph, it will also show you your exact RAM and\n",
    "disk space usage, and the limits of your virtual machine.\n",
    "\n",
    "![Click here to connect to a Colab\n",
    "runtime](https://raw.githubusercontent.com/ffund/ml-notebooks/master/notebooks/images/colab-tour-connect-1.png)"
   ]
  },
  {
   "cell_type": "markdown",
   "metadata": {},
   "source": [
    "As mentioned above, despite the resource limits, Colab will be\n",
    "sufficient for all of the demos and homework assignments we will use in\n",
    "this course. In the fall, when you work on your project, we can discuss\n",
    "strategies including:\n",
    "\n",
    "-   modifying your project scope\n",
    "-   setting up your code to work well despite the resource limits (for\n",
    "    example, training your model in small steps, and saving the weights\n",
    "    to your Google Drive at each step in case the runtime is recycled)\n",
    "-   connecting your Colab session to a local runtime on your PC or one\n",
    "    on a Google Cloud Platform compute instance (with free credits)\n",
    "-   using NYU’s High Performance Computing resources instead\n",
    "\n",
    "These resources will be available to you at no charge - you should not\n",
    "pay for compute resources for this course."
   ]
  }
 ],
 "nbformat": 4,
 "nbformat_minor": 5,
 "metadata": {}
}
