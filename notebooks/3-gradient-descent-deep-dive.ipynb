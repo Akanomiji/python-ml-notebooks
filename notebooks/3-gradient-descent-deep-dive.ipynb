{
 "cells": [
  {
   "cell_type": "markdown",
   "metadata": {},
   "source": [
    "# Gradient descent in depth\n",
    "\n",
    "*Fraida Fund*"
   ],
   "id": "d76df798-cb54-4a13-bb49-81e71a24d311"
  },
  {
   "cell_type": "code",
   "execution_count": null,
   "metadata": {},
   "outputs": [],
   "source": [
    "import numpy as np\n",
    "import matplotlib.pyplot as plt\n",
    "from matplotlib import cm\n",
    "import pandas as pd\n",
    "import seaborn as sns\n",
    "sns.set()\n",
    "colors = sns.color_palette(\"hls\", 4)\n",
    "\n",
    "# for 3d interactive plots\n",
    "from ipywidgets import interact, fixed, widgets\n",
    "from mpl_toolkits import mplot3d\n",
    "\n",
    "from IPython.core.interactiveshell import InteractiveShell\n",
    "InteractiveShell.ast_node_interactivity = \"all\""
   ],
   "id": "992d8e25-4688-4f32-ba0a-4d6371acfad8"
  },
  {
   "cell_type": "markdown",
   "metadata": {},
   "source": [
    "## Gradient descent for simple linear regression"
   ],
   "id": "81064fb9-fe92-4d9f-b031-50a7573c36af"
  },
  {
   "cell_type": "markdown",
   "metadata": {},
   "source": [
    "### Generate data"
   ],
   "id": "478b5885-d451-4c7b-8b89-97f2415e5b35"
  },
  {
   "cell_type": "code",
   "execution_count": null,
   "metadata": {},
   "outputs": [],
   "source": [
    "def generate_linear_regression_data(n=100, d=1, coef=[5], intercept=1, sigma=0):\n",
    "  x = np.random.randn(n,d)\n",
    "  y = (np.dot(x, coef) + intercept).squeeze() + sigma * np.random.randn(n)\n",
    "  return x, y"
   ],
   "id": "9c8bed1d-9319-4530-ae17-b69347db7901"
  },
  {
   "cell_type": "code",
   "execution_count": null,
   "metadata": {},
   "outputs": [],
   "source": [
    "# y = 2 + 3x\n",
    "w_true = np.array([2, 3])\n",
    "n_samples = 100"
   ],
   "id": "de87f990-b5fa-4987-8458-65e23e4af9da"
  },
  {
   "cell_type": "code",
   "execution_count": null,
   "metadata": {},
   "outputs": [],
   "source": [
    "x, y = generate_linear_regression_data(n=n_samples, d=1, coef=w_true[1:], intercept= w_true[0])"
   ],
   "id": "cedce66f-fa96-4825-b21b-7e04d328ad92"
  },
  {
   "cell_type": "code",
   "execution_count": null,
   "metadata": {},
   "outputs": [],
   "source": [
    "# create the \"design matrix\" with a ones column at beginning\n",
    "X = np.hstack((np.ones((n_samples, 1)), x))\n",
    "X.shape"
   ],
   "id": "8b54bce5-9f2c-4c1a-b031-5068cca85818"
  },
  {
   "cell_type": "markdown",
   "metadata": {},
   "source": [
    "### Define a descent step"
   ],
   "id": "20a709b1-98e4-4173-982d-d103f62ffc8a"
  },
  {
   "cell_type": "markdown",
   "metadata": {},
   "source": [
    "In each gradient descent step, we will compute\n",
    "\n",
    "$$ \n",
    "w^{t+1} = w^t - \\alpha^t \\nabla L(w^t)  \n",
    "$$\n",
    "\n",
    "With a mean squared error loss function\n",
    "\n",
    "$$ \n",
    "\\begin{aligned}\n",
    "L(w) &= \\frac{1}{n} \\sum_{i=1}^n (y_i - \\langle w,x_i \\rangle)^2 \\\\\n",
    "     &= \\frac{1}{n} \\|y - Xw\\|^2 \n",
    "\\end{aligned}\n",
    "$$\n",
    "\n",
    "we will compute the weights at each step as\n",
    "\n",
    "$$\n",
    "\\begin{aligned} \n",
    "w^{t+1} &= w^t + \\frac{\\alpha^t}{n} \\sum_{i=1}^n (y_i - \\langle w^t,x_i \\rangle) x_i \\\\\n",
    "        &= w^t + \\frac{\\alpha^t}{n} X^T (y - X w^t)                  \n",
    "\\end{aligned}\n",
    "$$"
   ],
   "id": "b9115c55-652f-4ddd-aad1-f29655d92faf"
  },
  {
   "cell_type": "code",
   "execution_count": null,
   "metadata": {},
   "outputs": [],
   "source": [
    "def gd_step(w, X, y, lr):\n",
    "  # use current parameters to get y_hat\n",
    "  y_hat = np.dot(X,w)\n",
    "  error = y_hat-y\n",
    "  # compute gradient for this y_hat\n",
    "  grad = np.matmul(X.T, error)\n",
    "  # update weights\n",
    "  w_new = w - (lr/X.shape[0])*grad\n",
    "\n",
    "  # we don't have to actually compute MSE\n",
    "  # but I want to, for visualization \n",
    "  mse = np.mean(error**2, axis=0)\n",
    "\n",
    "  return (w_new, mse, grad)"
   ],
   "id": "135159d8-7391-41f5-9b8d-a4dd80f525c1"
  },
  {
   "cell_type": "markdown",
   "metadata": {},
   "source": [
    "Note: in the update rule, the signs are different from the expression above because we switched the order of the terms in the error expression: we used $\\hat{y} - y$."
   ],
   "id": "48635601-d180-4d70-8bc9-1b5214cd2363"
  },
  {
   "cell_type": "markdown",
   "metadata": {},
   "source": [
    "### Perform gradient descent"
   ],
   "id": "7f316927-8671-48f8-ac32-f6f2268d903c"
  },
  {
   "cell_type": "code",
   "execution_count": null,
   "metadata": {},
   "outputs": [],
   "source": [
    "# gradient descent settings: number of iterations, learning rate, starting point\n",
    "itr = 50\n",
    "lr = 0.1\n",
    "w_init = np.random.uniform(3,7,len(w_true))\n",
    "print(w_init)"
   ],
   "id": "544b15fb-6663-4382-a22c-1921931be5fb"
  },
  {
   "cell_type": "code",
   "execution_count": null,
   "metadata": {},
   "outputs": [],
   "source": [
    "w_steps = np.zeros((itr, len(w_init)))\n",
    "mse_steps = np.zeros(itr)\n",
    "grad_steps = np.zeros((itr, len(w_init)))\n",
    "\n",
    "w_star = w_init\n",
    "for i in range(itr):\n",
    "  w_star, mse, gradient = gd_step(w_star, X, y, lr)\n",
    "  w_steps[i] = w_star\n",
    "  mse_steps[i] = mse\n",
    "  grad_steps[i] = gradient"
   ],
   "id": "d3780c9c-1a26-47ba-bb18-77b33a827aae"
  },
  {
   "cell_type": "markdown",
   "metadata": {},
   "source": [
    "### Visualize"
   ],
   "id": "97124c8b-ff38-43a3-b354-7c1fc54d504b"
  },
  {
   "cell_type": "code",
   "execution_count": null,
   "metadata": {},
   "outputs": [],
   "source": [
    "plt.figure(figsize=(18,5))\n",
    "plt.subplot(1,3,1);\n",
    "\n",
    "for n, w in enumerate(w_true):\n",
    "  plt.axhline(y=w, linestyle='--', color=colors[n]);\n",
    "  sns.lineplot(x=np.arange(itr), y=w_steps[:,n], color=colors[n]);\n",
    "\n",
    "plt.xlabel(\"Iteration\");\n",
    "plt.ylabel(\"Coefficient Value\");\n",
    "\n",
    "plt.subplot(1,3, 2);\n",
    "sns.lineplot(x=np.arange(itr), y=mse_steps);\n",
    "#plt.yscale(\"log\")\n",
    "plt.xlabel(\"Iteration\");\n",
    "plt.ylabel(\"Training MSE\");\n",
    "\n",
    "\n",
    "plt.subplot(1, 3, 3);\n",
    "for n, w in enumerate(w_true):\n",
    "  sns.lineplot(x=np.arange(itr), y=grad_steps[:,n], color=colors[n]);\n",
    "plt.xlabel(\"Iteration\");\n",
    "plt.ylabel(\"Gradient\");\n",
    "\n",
    "plt.suptitle(\"Estimate after %d iterations with rate %s: %s\" % \n",
    "          (itr, \"{0:0.4f}\".format(lr), [\"{0:0.4f}\".format(w) for w in w_star]));"
   ],
   "id": "06f80aa4-cb57-4c4e-8434-83b8238a54f9"
  },
  {
   "cell_type": "markdown",
   "metadata": {},
   "source": [
    "### Other things to try\n",
    "\n",
    "-   What happens if we increase the learning rate?\n",
    "-   What happens if we decrease the learning rate?"
   ],
   "id": "2bd92964-78bb-4239-88b8-6d90e91e9257"
  },
  {
   "cell_type": "markdown",
   "metadata": {},
   "source": [
    "### Descent path on MSE contour"
   ],
   "id": "5ea53a2b-25ce-402d-9a35-e578358257b6"
  },
  {
   "cell_type": "markdown",
   "metadata": {},
   "source": [
    "Generating data for a multiple regression (with two features):"
   ],
   "id": "4d28eaf7-4112-4382-ad94-543ecada321e"
  },
  {
   "cell_type": "code",
   "execution_count": null,
   "metadata": {},
   "outputs": [],
   "source": [
    "w_true = [2, 6, 5]\n",
    "n_samples = 100\n",
    "x, y = generate_linear_regression_data(n=n_samples, d=2, coef=w_true[1:], intercept=w_true[0])\n",
    "X = np.hstack((np.ones((n_samples, 1)), x))\n",
    "X.shape"
   ],
   "id": "8d729d31-e06d-472c-b99d-2a1c294e0992"
  },
  {
   "cell_type": "code",
   "execution_count": null,
   "metadata": {},
   "outputs": [],
   "source": [
    "# gradient descent settings: number of iterations, learning rate, starting point\n",
    "itr = 50\n",
    "lr = 0.1\n",
    "w_init = np.random.uniform(3, 7, len(w_true))\n",
    "print(w_init)"
   ],
   "id": "b85c17b8-048d-4913-812d-deea47c79cc7"
  },
  {
   "cell_type": "code",
   "execution_count": null,
   "metadata": {},
   "outputs": [],
   "source": [
    "w_steps = np.zeros((itr, len(w_init)))\n",
    "mse_steps = np.zeros(itr)\n",
    "grad_steps = np.zeros((itr, len(w_init)))\n",
    "\n",
    "w_star = w_init\n",
    "for i in range(itr):\n",
    "  w_star, mse, gradient = gd_step(w_star, X, y, lr)\n",
    "  w_steps[i] = w_star\n",
    "  mse_steps[i] = mse\n",
    "  grad_steps[i] = gradient"
   ],
   "id": "9e1421da-0689-4043-8898-1ae79f4689b0"
  },
  {
   "cell_type": "code",
   "execution_count": null,
   "metadata": {},
   "outputs": [],
   "source": [
    "coefs = np.arange(2, 8, 0.05)\n",
    "\n",
    "coef_grid = np.array(np.meshgrid(coefs, coefs)).reshape(1, 2, coefs.shape[0], coefs.shape[0])\n",
    "y_hat_c = (w_true[0] + np.sum(coef_grid * x.reshape(x.shape[0], 2, 1, 1), axis=1) )\n",
    "mses_coefs = np.mean((y.reshape(-1, 1, 1)- y_hat_c)**2,axis=0)"
   ],
   "id": "16773445-f495-4f42-a47a-614a4d6ee01b"
  },
  {
   "cell_type": "code",
   "execution_count": null,
   "metadata": {},
   "outputs": [],
   "source": [
    "plt.figure(figsize=(5,5));\n",
    "X1, X2 = np.meshgrid(coefs, coefs);\n",
    "p = plt.contour(X1, X2, mses_coefs, levels=5);\n",
    "plt.clabel(p, inline=1, fontsize=10);\n",
    "plt.xlabel('w1');\n",
    "plt.ylabel('w2');\n",
    "sns.lineplot(x=w_steps[:,1], y=w_steps[:,2], color='black', sort=False, alpha=0.5);\n",
    "sns.scatterplot(x=w_steps[:,1], y=w_steps[:,2], hue=np.arange(itr), edgecolor=None);\n",
    "plt.scatter(w_true[1], w_true[2], c='black', marker='*');\n",
    "plt.title(\"Estimate after %d iterations with rate %s: %s\" % (itr, \"{0:0.4f}\".format(lr), [\"{0:0.4f}\".format(w) for w in w_star]));\n"
   ],
   "id": "2097a36b-37f8-48ab-a7d9-a044878ec195"
  },
  {
   "cell_type": "code",
   "execution_count": null,
   "metadata": {},
   "outputs": [],
   "source": [
    "def plot_3D(elev=20, azim=-20, X1=X1, X2=X2, mses_coefs=mses_coefs, \n",
    "            w_steps=w_steps, mse_steps=mse_steps):\n",
    "\n",
    "    plt.figure(figsize=(10,10))\n",
    "    ax = plt.subplot(projection='3d')\n",
    "\n",
    "    # Plot the surface.\n",
    "    ax.plot_surface(X1, X2, mses_coefs, alpha=0.5, cmap=cm.coolwarm,\n",
    "                          linewidth=0, antialiased=False)\n",
    "    ax.scatter3D(w_steps[:, 1], w_steps[:, 2], mse_steps, s=5, color='black')\n",
    "    ax.plot(w_steps[:, 1], w_steps[:, 2], mse_steps, color='gray')\n",
    "\n",
    "    ax.view_init(elev=elev, azim=azim)\n",
    "    ax.set_xlabel('w1')\n",
    "    ax.set_ylabel('w2')\n",
    "    ax.set_zlabel('MSE')\n",
    "    plt.show()\n",
    "\n",
    "interact(plot_3D, elev=widgets.IntSlider(min=-90, max=90, step=10, value=20), \n",
    "          azim=widgets.IntSlider(min=-90, max=90, step=10, value=20),\n",
    "         X1=fixed(X1), X2=fixed(X2), mses_coefs=fixed(mses_coefs),\n",
    "         w_steps=fixed(w_steps), mse_steps=fixed(mse_steps));"
   ],
   "id": "37f5031c-bb7f-492e-809d-cc1ae19d46a3"
  },
  {
   "cell_type": "markdown",
   "metadata": {},
   "source": [
    "## Stochastic gradient descent\n",
    "\n",
    "For stochastic gradient descent, we will compute the gradient and update the weights using one sample (or a mini-batch of samples) in each step.\n",
    "\n",
    "**A note on sampling**: In practice, the samples are often sampled without replacement, but the statistical guarantee of convergence is for sampling with replacement. In this example, we sample with replacement. You can read more about different varieties of gradient descent and stochastic gradient descent in [How is stochastic gradient descent implemented in the context of machine learning and deep learning](https://sebastianraschka.com/faq/docs/sgd-methods.html)."
   ],
   "id": "b7cdb922-adfe-485c-aca9-b34f68570f42"
  },
  {
   "cell_type": "markdown",
   "metadata": {},
   "source": [
    "### Define a stochastic descent step"
   ],
   "id": "069d045b-ab63-4762-b982-ba4dbf82c167"
  },
  {
   "cell_type": "code",
   "execution_count": null,
   "metadata": {},
   "outputs": [],
   "source": [
    "def sgd_step(w, X, y, lr, n):\n",
    "\n",
    "  idx_sample = np.random.choice(X.shape[0], n, replace=True)\n",
    "\n",
    "  X_sample = X[idx_sample, :]\n",
    "  y_sample = y[idx_sample]\n",
    "\n",
    "  # use current parameters to get y_hat\n",
    "  y_hat = np.dot(X_sample,w)\n",
    "  error = y_hat-y_sample\n",
    "  # compute gradient for this y_hat\n",
    "  grad = np.matmul(X_sample.T, error)\n",
    "  # update weights\n",
    "  w_new = w - (lr/n)*grad\n",
    "\n",
    "  # we don't have to actually compute MSE\n",
    "  # but I want to, for visualization \n",
    "  # note: MSE is computed on entire data, not sample\n",
    "  mse = np.mean((y-np.dot(X, w))**2, axis=0)\n",
    "\n",
    "  return (w_new, mse, grad)"
   ],
   "id": "2bf3f365-7f36-4d33-ad92-30a3001620ba"
  },
  {
   "cell_type": "markdown",
   "metadata": {},
   "source": [
    "### Perform stochastic gradient descent"
   ],
   "id": "3f799d50-69b4-47f1-a54c-6c98c6df5c79"
  },
  {
   "cell_type": "code",
   "execution_count": null,
   "metadata": {},
   "outputs": [],
   "source": [
    "# now we have another gradient descent option: how many samples in a \"batch\" \n",
    "itr = 50\n",
    "lr = 0.1\n",
    "n_batch = 1\n",
    "w_init = [w_true[0], 2, 8]"
   ],
   "id": "345f242f-abee-4afa-aa88-072a4ede6ed2"
  },
  {
   "cell_type": "code",
   "execution_count": null,
   "metadata": {},
   "outputs": [],
   "source": [
    "w_steps = np.zeros((itr, len(w_init)))\n",
    "mse_steps = np.zeros(itr)\n",
    "\n",
    "w_star = w_init\n",
    "for i in range(itr):\n",
    "  w_star, mse, grad = sgd_step(w_star, X, y, lr, n_batch)\n",
    "  w_steps[i] = w_star\n",
    "  mse_steps[i] = mse"
   ],
   "id": "4f7f988e-984f-48db-b046-a16ec698b1a2"
  },
  {
   "cell_type": "markdown",
   "metadata": {},
   "source": [
    "### Visualize"
   ],
   "id": "95be9cd6-42b5-4094-94cf-16c0f6ec5340"
  },
  {
   "cell_type": "code",
   "execution_count": null,
   "metadata": {},
   "outputs": [],
   "source": [
    "plt.figure(figsize=(18,5))\n",
    "plt.subplot(1,3,1);\n",
    "\n",
    "for n, w in enumerate(w_true):\n",
    "  plt.axhline(y=w, linestyle='--', color=colors[n]);\n",
    "  sns.lineplot(x=np.arange(itr), y=w_steps[:,n], color=colors[n], label='w' + str(n));\n",
    "plt.xlabel(\"Iteration\");\n",
    "plt.ylabel(\"Coefficient Value\");\n",
    "\n",
    "plt.subplot(1, 3, 2);\n",
    "sns.lineplot(x=np.arange(itr), y=mse_steps);\n",
    "#plt.yscale(\"log\")\n",
    "plt.xlabel(\"Iteration\");\n",
    "plt.ylabel(\"Training MSE\");\n",
    "\n",
    "\n",
    "plt.subplot(1, 3, 3);\n",
    "X1, X2 = np.meshgrid(coefs, coefs);\n",
    "p = plt.contour(X1, X2, mses_coefs, levels=5);\n",
    "plt.clabel(p, inline=1, fontsize=10);\n",
    "plt.xlabel('w1');\n",
    "plt.ylabel('w2');\n",
    "sns.lineplot(x=w_steps[:,1], y=w_steps[:,2], color='black', sort=False, alpha=0.5);\n",
    "sns.scatterplot(x=w_steps[:,1], y=w_steps[:,2], hue=np.arange(itr), edgecolor=None);\n",
    "plt.scatter(w_true[1], w_true[2], c='black', marker='*');\n",
    "\n",
    "plt.suptitle(\"Estimate after %d iterations with rate %s and batch size %d: %s\" % \n",
    "            (itr, \"{0:0.4f}\".format(lr), n_batch, [\"{0:0.4f}\".format(w) for w in w_star]));"
   ],
   "id": "911dbec6-3472-4d3d-8270-f1316771b089"
  },
  {
   "cell_type": "code",
   "execution_count": null,
   "metadata": {},
   "outputs": [],
   "source": [
    "def plot_3D(elev=20, azim=-20, X1=X1, X2=X2, mses_coefs=mses_coefs, \n",
    "            w_steps=w_steps, mse_steps=mse_steps):\n",
    "\n",
    "    plt.figure(figsize=(10,10))\n",
    "    ax = plt.subplot(projection='3d')\n",
    "\n",
    "\n",
    "    # Plot the surface.\n",
    "    ax.plot_surface(X1, X2, mses_coefs, alpha=0.5, cmap=cm.coolwarm,\n",
    "                          linewidth=0, antialiased=False)\n",
    "    ax.scatter3D(w_steps[:, 1], w_steps[:, 2], mse_steps, s=5, color='black')\n",
    "    ax.plot(w_steps[:, 1], w_steps[:, 2], mse_steps, color='gray')\n",
    "\n",
    "\n",
    "    ax.view_init(elev=elev, azim=azim)\n",
    "    ax.set_xlabel('w1')\n",
    "    ax.set_ylabel('w2')\n",
    "    ax.set_zlabel('MSE')\n",
    "    plt.show()\n",
    "\n",
    "interact(plot_3D, elev=widgets.IntSlider(min=-90, max=90, step=10, value=20), \n",
    "          azim=widgets.IntSlider(min=-90, max=90, step=10, value=20),\n",
    "         X1=fixed(X1), X2=fixed(X2), mses_coefs=fixed(mses_coefs),\n",
    "         w_steps=fixed(w_steps), mse_steps=fixed(mse_steps));\n"
   ],
   "id": "1f73df46-27dd-4fa3-ab6e-c1169569a4e9"
  },
  {
   "cell_type": "markdown",
   "metadata": {},
   "source": [
    "### Other things to try\n",
    "\n",
    "-   Increase number of samples used in each iteration?\n",
    "-   Increase learning rate?\n",
    "-   Decrease learning rate?\n",
    "-   Use decaying learning rate $\\alpha^t = \\frac{\\alpha_0}{1 + kt}$?"
   ],
   "id": "0aa49ea9-1164-4c0b-b77f-937e29f724d0"
  },
  {
   "cell_type": "markdown",
   "metadata": {},
   "source": [
    "## Gradient descent with noise"
   ],
   "id": "a6268fcf-459b-4703-bd92-ab9b47db835a"
  },
  {
   "cell_type": "markdown",
   "metadata": {},
   "source": [
    "### Generate noisy data\n",
    "\n",
    "This time, we will use the `sigma` argument in our `generate_linear_regression_data` function to generate data that does not perfectly fit a linear model. (Using the same coefficients as the previous example.)"
   ],
   "id": "1acaff64-c702-4ea5-948d-fba6a8573e09"
  },
  {
   "cell_type": "code",
   "execution_count": null,
   "metadata": {},
   "outputs": [],
   "source": [
    "x, y = generate_linear_regression_data(n=n_samples, d=2, coef=w_true[1:], intercept=w_true[0], sigma=3)\n",
    "X = np.column_stack((np.ones((n_samples, 1)), x))"
   ],
   "id": "7930a9d3-9b8b-477a-9204-deeb475afa40"
  },
  {
   "cell_type": "markdown",
   "metadata": {},
   "source": [
    "### Perform gradient descent on noisy data"
   ],
   "id": "724cfb7e-1917-4031-903c-e005669fa33b"
  },
  {
   "cell_type": "code",
   "execution_count": null,
   "metadata": {},
   "outputs": [],
   "source": [
    "itr = 50\n",
    "lr = 0.1\n",
    "w_init = [w_true[0], 2, 8]"
   ],
   "id": "604853bf-bee7-48ea-9ce1-ba0f156d3a3a"
  },
  {
   "cell_type": "code",
   "execution_count": null,
   "metadata": {},
   "outputs": [],
   "source": [
    "w_steps = np.zeros((itr, len(w_init)))\n",
    "mse_steps = np.zeros(itr)\n",
    "\n",
    "w_star = w_init\n",
    "for i in range(itr):\n",
    "  w_star, mse, gradient = gd_step(w_star, X, y, lr)\n",
    "  w_steps[i] = w_star\n",
    "  mse_steps[i] = mse"
   ],
   "id": "019e288b-26c7-4ccf-9d87-db7c9a6d2f04"
  },
  {
   "cell_type": "markdown",
   "metadata": {},
   "source": [
    "### Visualize gradient descent on noisy data\n",
    "\n",
    "This time, the gradient descent may not necessarily arrive at the “true” coefficient values. That’s not because it does not find the coefficients with minimum MSE; it’s because the coefficients with minimum MSE on the noisy training data are not necessarily the “true” coefficients."
   ],
   "id": "47ff0a63-fec6-4499-95e6-9818ebd0ea83"
  },
  {
   "cell_type": "code",
   "execution_count": null,
   "metadata": {},
   "outputs": [],
   "source": [
    "plt.figure(figsize=(18,5))\n",
    "plt.subplot(1,3,1);\n",
    "\n",
    "for n, w in enumerate(w_true):\n",
    "  plt.axhline(y=w, linestyle='--', color=colors[n]);\n",
    "  sns.lineplot(x=np.arange(itr), y=w_steps[:,n], color=colors[n], label='w' + str(n));\n",
    "plt.xlabel(\"Iteration\");\n",
    "plt.ylabel(\"Coefficient Value\");\n",
    "\n",
    "plt.subplot(1, 3, 2);\n",
    "sns.lineplot(x=np.arange(itr), y=mse_steps);\n",
    "#plt.yscale(\"log\")\n",
    "plt.xlabel(\"Iteration\");\n",
    "plt.ylabel(\"Training MSE\");\n",
    "\n",
    "plt.subplot(1, 3, 3);\n",
    "X1, X2 = np.meshgrid(coefs, coefs);\n",
    "p = plt.contour(X1, X2, mses_coefs, levels=5);\n",
    "plt.clabel(p, inline=1, fontsize=10);\n",
    "plt.xlabel('w1');\n",
    "plt.ylabel('w2');\n",
    "sns.lineplot(x=w_steps[:,1], y=w_steps[:,2], color='black', sort=False, alpha=0.5);\n",
    "sns.scatterplot(x=w_steps[:,1], y=w_steps[:,2], hue=np.arange(itr), edgecolor=None);\n",
    "plt.scatter(w_true[1], w_true[2], c='black', marker='*');\n",
    "\n",
    "plt.suptitle(\"Estimate after %d iterations with rate %s: %s\" % \n",
    "          (itr, \"{0:0.4f}\".format(lr), [\"{0:0.4f}\".format(w) for w in w_star]));"
   ],
   "id": "0dca5ecf-8286-44d4-987a-4e352d1c40b2"
  },
  {
   "cell_type": "markdown",
   "metadata": {},
   "source": [
    "### Perform stochastic gradient descent on noisy data"
   ],
   "id": "c9b8e554-0164-4711-b9a9-0988557d39ca"
  },
  {
   "cell_type": "code",
   "execution_count": null,
   "metadata": {},
   "outputs": [],
   "source": [
    "itr = 100\n",
    "lr = 0.1\n",
    "n_batch = 1\n",
    "w_init = [w_true[0], 2, 8]"
   ],
   "id": "344eef3b-1a33-44be-8e67-afca4badd7cf"
  },
  {
   "cell_type": "code",
   "execution_count": null,
   "metadata": {},
   "outputs": [],
   "source": [
    "w_steps = np.zeros((itr, len(w_init)))\n",
    "mse_steps = np.zeros(itr)\n",
    "\n",
    "w_star = w_init\n",
    "for i in range(itr):\n",
    "  w_star, mse, grad = sgd_step(w_star, X, y, lr, n_batch) \n",
    "  w_steps[i] = w_star\n",
    "  mse_steps[i] = mse"
   ],
   "id": "73cfafb7-3fd2-45d0-b60e-f351b39ebfea"
  },
  {
   "cell_type": "markdown",
   "metadata": {},
   "source": [
    "### Visualize stochastic gradient descent\n",
    "\n",
    "Note the “noise ball”!"
   ],
   "id": "68254c28-8ef8-4d0f-8ff2-e7aa3353f388"
  },
  {
   "cell_type": "code",
   "execution_count": null,
   "metadata": {},
   "outputs": [],
   "source": [
    "plt.figure(figsize=(18,5))\n",
    "plt.subplot(1,3,1);\n",
    "\n",
    "for n, w in enumerate(w_true):\n",
    "  plt.axhline(y=w, linestyle='--', color=colors[n]);\n",
    "  sns.lineplot(x=np.arange(itr), y=w_steps[:,n], color=colors[n], label='w' + str(n));\n",
    "plt.xlabel(\"Iteration\");\n",
    "plt.ylabel(\"Coefficient Value\");\n",
    "\n",
    "plt.subplot(1, 3, 2);\n",
    "sns.lineplot(x=np.arange(itr), y=mse_steps);\n",
    "#plt.yscale(\"log\")\n",
    "plt.xlabel(\"Iteration\");\n",
    "plt.ylabel(\"Training MSE\");\n",
    "\n",
    "plt.subplot(1, 3, 3);\n",
    "X1, X2 = np.meshgrid(coefs, coefs);\n",
    "p = plt.contour(X1, X2, mses_coefs, levels=5);\n",
    "plt.clabel(p, inline=1, fontsize=10);\n",
    "plt.xlabel('w1');\n",
    "plt.ylabel('w2');\n",
    "sns.lineplot(x=w_steps[:,1], y=w_steps[:,2], color='black', sort=False, alpha=0.5);\n",
    "sns.scatterplot(x=w_steps[:,1], y=w_steps[:,2], hue=np.arange(itr), edgecolor=None);\n",
    "plt.scatter(w_true[1], w_true[2], c='black', marker='*');\n",
    "\n",
    "plt.suptitle(\"Estimate after %d iterations with rate %s and batch size %d: %s\" % \n",
    "            (itr, \"{0:0.4f}\".format(lr), n_batch, [\"{0:0.4f}\".format(w) for w in w_star]));\n"
   ],
   "id": "2d917f13-f093-48b8-a162-4e76dd492df9"
  },
  {
   "cell_type": "markdown",
   "metadata": {},
   "source": [
    "## Interactive\n",
    "\n",
    "You can use this interactive to explore different gradient descent options and see the effect."
   ],
   "id": "b3805844-4a45-4f63-b1f5-4b11715637da"
  },
  {
   "cell_type": "code",
   "execution_count": null,
   "metadata": {},
   "outputs": [],
   "source": [
    "n_samples = 100\n",
    "w_true = [2, 6, 5]\n",
    "x, y = generate_linear_regression_data(n=n_samples, d=2, coef=w_true[1:], intercept=w_true[0], sigma=0)\n",
    "X = np.hstack((np.ones((n_samples, 1)), x))\n",
    "\n",
    "@interact(itr = widgets.IntSlider(min=10, max=200, step=10, value=100),\n",
    "          lr = widgets.FloatSlider(min=0.05, max=0.95, step=0.05, value=0.1),\n",
    "          n_batch = widgets.IntSlider(min=1, max=100, step=1, value=100),\n",
    "          sigma = widgets.FloatSlider(min=0, max=5, step=0.5, value=1),\n",
    "          X = fixed(X), y = fixed(y))\n",
    "def plot_gd(itr, lr, n_batch, sigma, X, y):\n",
    "\n",
    "  y = y + sigma * np.random.randn(n_samples)\n",
    "\n",
    "  w_init = [w_true[0], 3, 7]\n",
    "  w_steps = np.zeros((itr, len(w_init)))\n",
    "  mse_steps = np.zeros(itr)\n",
    "\n",
    "  w_star = w_init\n",
    "  for i in range(itr):\n",
    "    w_star, mse, grad = sgd_step(w_star, X, y, lr, n_batch)\n",
    "    w_steps[i] = w_star\n",
    "    mse_steps[i] = mse\n",
    "\n",
    "  plt.figure(figsize=(18,5))\n",
    "  plt.subplot(1,3,1);\n",
    "\n",
    "  for n, w in enumerate(w_true):\n",
    "    plt.axhline(y=w, linestyle='--', color=colors[n]);\n",
    "    sns.lineplot(x=np.arange(itr), y=w_steps[:,n], color=colors[n], label='w' + str(n));\n",
    "  plt.xlabel(\"Iteration\");\n",
    "  plt.ylabel(\"Coefficient Value\");\n",
    "\n",
    "  plt.subplot(1, 3, 2);\n",
    "  sns.lineplot(x=np.arange(itr), y=mse_steps);\n",
    "  #plt.yscale(\"log\")\n",
    "  plt.xlabel(\"Iteration\");\n",
    "  plt.ylabel(\"Training MSE\");\n",
    "\n",
    "  plt.subplot(1, 3, 3);\n",
    "  X1, X2 = np.meshgrid(coefs, coefs);\n",
    "  p = plt.contour(X1, X2, mses_coefs, levels=5);\n",
    "  plt.clabel(p, inline=1, fontsize=10);\n",
    "  plt.xlabel('w1');\n",
    "  plt.ylabel('w2');\n",
    "  sns.lineplot(x=w_steps[:,1], y=w_steps[:,2], color='black', sort=False, alpha=0.5);\n",
    "  sns.scatterplot(x=w_steps[:,1], y=w_steps[:,2], hue=np.arange(itr), edgecolor=None);\n",
    "  plt.scatter(w_true[1], w_true[2], c='black', marker='*');\n",
    "\n",
    "  plt.suptitle(\"Estimate after %d iterations with rate %s and batch size %d: %s\" % \n",
    "              (itr, \"{0:0.4f}\".format(lr), n_batch, [\"{0:0.4f}\".format(w) for w in w_star]));"
   ],
   "id": "8359748f-6d3a-4f77-b4a2-bd07980b142a"
  },
  {
   "cell_type": "markdown",
   "metadata": {},
   "source": [
    "## A less friendly loss surface"
   ],
   "id": "09686970-07c9-422d-8b7c-e5f938d57144"
  },
  {
   "cell_type": "code",
   "execution_count": null,
   "metadata": {},
   "outputs": [],
   "source": [
    "w_true = [2, 5, 4]"
   ],
   "id": "35ef07fb-5045-4afb-bf4d-a0adcf224e1d"
  },
  {
   "cell_type": "code",
   "execution_count": null,
   "metadata": {},
   "outputs": [],
   "source": [
    "n_samples = 1000\n",
    "d = 1\n",
    "sigma = 1\n",
    "\n",
    "x1 = np.random.randn(n_samples,d)\n",
    "x2 = x1 + (sigma/5)*np.random.randn(n_samples,1)\n",
    "x = np.column_stack([x1, x2])\n",
    "y = (np.dot(x, w_true[1:]) + w_true[0]).squeeze() + sigma * np.random.randn(n_samples)\n",
    "\n",
    "\n",
    "X = np.column_stack((np.ones((n_samples, 1)), x))"
   ],
   "id": "232a8aeb-8ea3-4f9a-87c0-865521a72e1b"
  },
  {
   "cell_type": "code",
   "execution_count": null,
   "metadata": {},
   "outputs": [],
   "source": [
    "sns.scatterplot(x=x1.squeeze(), y=x2.squeeze());\n",
    "plt.xlabel('x1');\n",
    "plt.ylabel('x2');"
   ],
   "id": "d6572df4-9b1a-41ed-a11a-aeddf863b1c8"
  },
  {
   "cell_type": "markdown",
   "metadata": {},
   "source": [
    "### MSE contour"
   ],
   "id": "cb3fa49e-d887-41be-854c-8ebc13b65fe9"
  },
  {
   "cell_type": "code",
   "execution_count": null,
   "metadata": {},
   "outputs": [],
   "source": [
    "coefs = np.arange(3, 7, 0.02)\n",
    "\n",
    "coef_grid = np.array(np.meshgrid(coefs, coefs)).reshape(1, 2, coefs.shape[0], coefs.shape[0])\n",
    "y_hat_c = (w_true[0] + np.sum(coef_grid * x.reshape(x.shape[0], 2, 1, 1), axis=1) )\n",
    "mses_coefs = np.mean((y.reshape(-1, 1, 1)- y_hat_c)**2,axis=0)"
   ],
   "id": "3318f47b-997b-4025-acb8-8b6945150fd8"
  },
  {
   "cell_type": "code",
   "execution_count": null,
   "metadata": {},
   "outputs": [],
   "source": [
    "plt.figure(figsize=(5,5));\n",
    "X1, X2 = np.meshgrid(coefs, coefs)\n",
    "p = plt.contour(X1, X2, mses_coefs, levels=15);\n",
    "plt.clabel(p, inline=1, fontsize=10);\n",
    "plt.xlabel('w1');\n",
    "plt.ylabel('w2');\n",
    "plt.scatter(w_true[1], w_true[2], c='black', marker='*');\n"
   ],
   "id": "4dcf9fee-1e9f-42f1-b28d-528b6695ce40"
  },
  {
   "cell_type": "markdown",
   "metadata": {},
   "source": [
    "### Perform gradient descent"
   ],
   "id": "c0609dad-ddc9-48c5-a3a6-f144508dbff9"
  },
  {
   "cell_type": "code",
   "execution_count": null,
   "metadata": {},
   "outputs": [],
   "source": [
    "itr = 100\n",
    "lr = 0.1\n",
    "w_init = [w_true[0], 3, 7]"
   ],
   "id": "647c6210-a103-4f50-9903-bb0507018b91"
  },
  {
   "cell_type": "code",
   "execution_count": null,
   "metadata": {},
   "outputs": [],
   "source": [
    "w_steps = np.zeros((itr, len(w_init)))\n",
    "mse_steps = np.zeros(itr)\n",
    "grad_steps = np.zeros((itr, len(w_init)))\n",
    "\n",
    "w_star = w_init\n",
    "for i in range(itr):\n",
    "  w_star, mse, gradient = gd_step(w_star, X, y, lr)\n",
    "  w_steps[i] = w_star\n",
    "  mse_steps[i] = mse\n",
    "  grad_steps[i] = gradient"
   ],
   "id": "4b7fce8b-3f10-4f36-a26b-e30fe09be36d"
  },
  {
   "cell_type": "markdown",
   "metadata": {},
   "source": [
    "### Visualize gradient descent"
   ],
   "id": "9fb44dc4-49d6-4142-a113-b9532439e46b"
  },
  {
   "cell_type": "code",
   "execution_count": null,
   "metadata": {},
   "outputs": [],
   "source": [
    "plt.figure(figsize=(18,5))\n",
    "plt.subplot(1,3,1);\n",
    "\n",
    "for n, w in enumerate(w_true):\n",
    "  plt.axhline(y=w, linestyle='--', color=colors[n]);\n",
    "  sns.lineplot(x=np.arange(itr), y=w_steps[:,n], color=colors[n], label='w' + str(n));\n",
    "plt.xlabel(\"Iteration\");\n",
    "plt.ylabel(\"Coefficient Value\");\n",
    "\n",
    "plt.subplot(1, 3, 2);\n",
    "sns.lineplot(x=np.arange(itr), y=mse_steps);\n",
    "#plt.yscale(\"log\")\n",
    "plt.xlabel(\"Iteration\");\n",
    "plt.ylabel(\"Training MSE\");\n",
    "\n",
    "\n",
    "plt.subplot(1, 3, 3);\n",
    "X1, X2 = np.meshgrid(coefs, coefs);\n",
    "p = plt.contour(X1, X2, mses_coefs, levels=5);\n",
    "plt.clabel(p, inline=1, fontsize=10);\n",
    "plt.xlabel('w1');\n",
    "plt.ylabel('w2');\n",
    "sns.lineplot(x=w_steps[:,1], y=w_steps[:,2], color='black', sort=False, alpha=0.5);\n",
    "sns.scatterplot(x=w_steps[:,1], y=w_steps[:,2], hue=np.arange(itr), edgecolor=None);\n",
    "plt.scatter(w_true[1], w_true[2], c='black', marker='*');\n",
    "\n",
    "plt.suptitle(\"Estimate after %d iterations with rate %s: %s\" % \n",
    "          (itr, \"{0:0.4f}\".format(lr), [\"{0:0.4f}\".format(w) for w in w_star]));"
   ],
   "id": "a3b72207-efe8-4e28-91b3-241e519a17b4"
  },
  {
   "cell_type": "markdown",
   "metadata": {},
   "source": [
    "### Other things to try\n",
    "\n",
    "-   What happens if we increase the learning rate (try e.g. 0.9)?\n",
    "-   What happens if we change the initial “guess”?"
   ],
   "id": "43b3ac32-5016-4df9-95a8-34fea95b5f84"
  },
  {
   "cell_type": "markdown",
   "metadata": {},
   "source": [
    "### Momentum"
   ],
   "id": "90114296-7370-49da-ad1c-8618f235c8a4"
  },
  {
   "cell_type": "code",
   "execution_count": null,
   "metadata": {},
   "outputs": [],
   "source": [
    "def gd_step_momentum(w, X, y, lr, eta, v):\n",
    "  # use current parameters to get y_hat, error\n",
    "  y_hat = np.dot(X,w)\n",
    "  error = y_hat-y\n",
    "  # compute gradient and velocity\n",
    "  grad = np.matmul(X.T, error)\n",
    "  v_new = eta*v - (lr/X.shape[0])*grad\n",
    "  # update weights\n",
    "  w_new = w + v_new\n",
    "\n",
    "  # we don't have to actually compute MSE\n",
    "  # but I want to, for visualization \n",
    "  mse = np.mean(error**2, axis=0)\n",
    "\n",
    "  return (w_new, mse, grad, v_new)"
   ],
   "id": "0258b371-7a7a-4396-aa52-b9fdc15587d1"
  },
  {
   "cell_type": "code",
   "execution_count": null,
   "metadata": {},
   "outputs": [],
   "source": [
    "itr = 100\n",
    "lr = 0.1\n",
    "eta = 0.9\n",
    "w_init = [w_true[0], 3, 7]"
   ],
   "id": "12ff7b44-3847-4def-9988-aa7142c068f5"
  },
  {
   "cell_type": "code",
   "execution_count": null,
   "metadata": {},
   "outputs": [],
   "source": [
    "w_steps = np.zeros((itr, len(w_init)))\n",
    "mse_steps = np.zeros(itr)\n",
    "grad_steps = np.zeros((itr, len(w_init)))\n",
    "v_steps = np.zeros((itr, len(w_init)))\n",
    "\n",
    "w_star = w_init\n",
    "velocity = np.zeros(len(w_init))\n",
    "for i in range(itr):\n",
    "  w_star, mse, gradient, velocity = gd_step_momentum(w_star, X, y, lr, eta, velocity)\n",
    "  w_steps[i] = w_star\n",
    "  mse_steps[i] = mse\n",
    "  grad_steps[i] = gradient\n",
    "  v_steps[i] = velocity"
   ],
   "id": "2be92344-3c6e-413b-be26-d14966e9737f"
  },
  {
   "cell_type": "code",
   "execution_count": null,
   "metadata": {},
   "outputs": [],
   "source": [
    "plt.figure(figsize=(18,5))\n",
    "plt.subplot(1,3,1);\n",
    "\n",
    "for n, w in enumerate(w_true):\n",
    "  plt.axhline(y=w, linestyle='--', color=colors[n]);\n",
    "  sns.lineplot(x=np.arange(itr), y=w_steps[:,n], color=colors[n], label='w' + str(n));\n",
    "plt.xlabel(\"Iteration\");\n",
    "plt.ylabel(\"Coefficient Value\");\n",
    "\n",
    "plt.subplot(1, 3, 2);\n",
    "for n, w in enumerate(w_true):\n",
    "  sns.lineplot(x=np.arange(itr), y=v_steps[:,n], color=colors[n]);\n",
    "plt.xlabel(\"Iteration\");\n",
    "plt.ylabel(\"Velocity\");\n",
    "\n",
    "\n",
    "plt.subplot(1, 3, 3);\n",
    "X1, X2 = np.meshgrid(coefs, coefs);\n",
    "p = plt.contour(X1, X2, mses_coefs, levels=5);\n",
    "plt.clabel(p, inline=1, fontsize=10);\n",
    "plt.xlabel('w1');\n",
    "plt.ylabel('w2');\n",
    "sns.lineplot(x=w_steps[:,1], y=w_steps[:,2], color='black', sort=False, alpha=0.5);\n",
    "sns.scatterplot(x=w_steps[:,1], y=w_steps[:,2], hue=np.arange(itr), edgecolor=None);\n",
    "plt.scatter(w_true[1], w_true[2], c='black', marker='*');\n",
    "\n",
    "plt.suptitle(\"Estimate after %d iterations with rate %s: %s\" % \n",
    "          (itr, \"{0:0.4f}\".format(lr), [\"{0:0.4f}\".format(w) for w in w_star]));\n"
   ],
   "id": "3fab1aba-09d9-47c1-9d7e-1d0cd685b05a"
  }
 ],
 "nbformat": 4,
 "nbformat_minor": 5,
 "metadata": {}
}
