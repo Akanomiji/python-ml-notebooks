{
 "cells": [
  {
   "cell_type": "markdown",
   "metadata": {},
   "source": [
    "Model Order Selection for Neural Data\n",
    "====================================="
   ]
  },
  {
   "cell_type": "markdown",
   "metadata": {},
   "source": [
    "**Name**: \\[Fill in your name here\\]\n",
    "\n",
    "**Net ID**: \\[Fill in your net ID here\\]"
   ]
  },
  {
   "cell_type": "markdown",
   "metadata": {},
   "source": [
    "**Attribution**: This notebook is a slightly adapted version of the\n",
    "[model order selection lab\n",
    "assignment](https://github.com/sdrangan/introml/blob/master/unit04_model_sel/lab_neural_partial.ipynb)\n",
    "by Prof. Sundeep Rangan."
   ]
  },
  {
   "cell_type": "markdown",
   "metadata": {},
   "source": [
    "Machine learning is a key tool for neuroscientists to understand how\n",
    "sensory and motor signals are encoded in the brain. In addition to\n",
    "improving our scientific understanding of neural phenomena,\n",
    "understanding neural encoding is critical for brain machine interfaces.\n",
    "In this notebook, you will use model selection for performing some\n",
    "simple analysis on real neural signals."
   ]
  },
  {
   "cell_type": "markdown",
   "metadata": {},
   "source": [
    "Loading the data\n",
    "----------------\n",
    "\n",
    "The data in this lab comes from neural recordings described in:\n",
    "\n",
    "<a href=\"http://jn.physiology.org/content/106/2/764.short\"> Stevenson,\n",
    "Ian H., et al. “Statistical assessment of the stability of neural\n",
    "movement representations.” Journal of neurophysiology 106.2 (2011):\n",
    "764-774</a>\n",
    "\n",
    "Neurons are the basic information processing units in the brain. Neurons\n",
    "communicate with one another via *spikes* or *action potentials* which\n",
    "are brief events where voltage in the neuron rapidly rises then falls.\n",
    "These spikes trigger the electro-chemical signals between one neuron and\n",
    "another. In this experiment, the spikes were recorded from 196 neurons\n",
    "in the primary motor cortex (M1) of a monkey using an electrode array\n",
    "implanted onto the surface of a monkey's brain. During the recording,\n",
    "the monkey performed several reaching tasks and the position and\n",
    "velocity of the hand was recorded as well.\n",
    "\n",
    "The goal of the experiment is to try to *read the monkey's brain*: That\n",
    "is, predict the hand motion from the neural signals from the motor\n",
    "cortex.\n",
    "\n",
    "We first load the key packages."
   ]
  },
  {
   "cell_type": "code",
   "execution_count": null,
   "metadata": {},
   "outputs": [],
   "source": [
    "import numpy as np\n",
    "import matplotlib.pyplot as plt\n",
    "import seaborn as sns\n",
    "\n",
    "import pickle\n",
    "\n",
    "from sklearn.linear_model import LinearRegression\n",
    "from sklearn.metrics import r2_score, mean_squared_error\n",
    "from sklearn.model_selection import train_test_split, KFold"
   ]
  },
  {
   "cell_type": "markdown",
   "metadata": {},
   "source": [
    "The full data is available on the CRCNS website\n",
    "<a href=\"http://crcns.org/data-sets/movements/dream\" class=\"uri\">http://crcns.org/data-sets/movements/dream</a>.\n",
    "However, the raw data files can be quite large. To make the lab easier,\n",
    "the [Kording lab](http://kordinglab.com/) at UPenn has put together an\n",
    "excellent [repository](https://github.com/KordingLab/Neural_Decoding)\n",
    "where they have created simple pre-processed versions of the data. You\n",
    "can download the file `example_data_s1.pickle` from the [Dropbox\n",
    "link](https://www.dropbox.com/sh/n4924ipcfjqc0t6/AADOv9JYMUBK1tlg9P71gSSra/example_data_s1.pickle?dl=0).\n",
    "Alternatively, you can directly run the following command. This may take\n",
    "a little while to download since the file is 26 MB."
   ]
  },
  {
   "cell_type": "code",
   "execution_count": null,
   "metadata": {},
   "outputs": [],
   "source": [
    "!wget 'https://www.dropbox.com/sh/n4924ipcfjqc0t6/AADOv9JYMUBK1tlg9P71gSSra/example_data_s1.pickle?dl=1' -O example_data_s1.pickle"
   ]
  },
  {
   "cell_type": "markdown",
   "metadata": {},
   "source": [
    "The file is a *pickle* data structure, which uses the Python package\n",
    "`pickle` to serialize Python objects into data files. Once you have\n",
    "downloaded the file, you can run the following command to retrieve the\n",
    "data from the pickle file."
   ]
  },
  {
   "cell_type": "code",
   "execution_count": null,
   "metadata": {},
   "outputs": [],
   "source": [
    "with open('example_data_s1.pickle', 'rb') as fp:\n",
    "    X,y = pickle.load(fp)"
   ]
  },
  {
   "cell_type": "markdown",
   "metadata": {},
   "source": [
    "The matrix `X` is matrix of spike counts from different neurons, where\n",
    "`X[i,j]` is the number of spikes from neuron `j` in time bin `i`.\n",
    "\n",
    "The matrix `y` has two columns:\n",
    "\n",
    "-   `y[i,0] =` velocity of the monkey's hand in the x-direction in time\n",
    "    bin `i`\n",
    "-   `y[i,1] =` velocity of the monkey's hand in the y-direction in time\n",
    "    bin `i`\n",
    "\n",
    "Our goal will be to predict `y` from `X`.\n",
    "\n",
    "Each time bin represent `tsamp=0.05` seconds of time. Using `X.shape`\n",
    "and `y.shape`, we can compute and print:\n",
    "\n",
    "-   `nt =` the total number of time bins\n",
    "-   `nneuron =` the total number of neurons\n",
    "-   `nout =` the total number of output variables to track = number of\n",
    "    columns in `y`\n",
    "-   `ttotal =` total time of the experiment is seconds."
   ]
  },
  {
   "cell_type": "code",
   "execution_count": null,
   "metadata": {},
   "outputs": [],
   "source": [
    "tsamp = 0.05  # sampling time in seconds\n",
    "\n",
    "nt, nneuron = X.shape\n",
    "nout = y.shape[1]\n",
    "ttotal = nt*tsamp\n",
    "\n",
    "print('Number of neurons = %d' % nneuron)\n",
    "print('Number of time samples = %d' % nt)\n",
    "print('Number of outputs = %d' % nout)\n",
    "print('Total time (secs) = %f' % ttotal)"
   ]
  },
  {
   "cell_type": "markdown",
   "metadata": {},
   "source": [
    "Then, we can plot the velocity against time, for each direction, for the\n",
    "first 1000 samples:"
   ]
  },
  {
   "cell_type": "code",
   "execution_count": null,
   "metadata": {},
   "outputs": [],
   "source": [
    "t_cutoff = 1000\n",
    "directions = ['x', 'y']\n",
    "\n",
    "fig, axes = plt.subplots(nrows=2, ncols=1, figsize=(15,7))\n",
    "for n in range(nout):\n",
    "  sns.lineplot(x=np.arange(0, t_cutoff)*tsamp, y=y[0:t_cutoff, n], label=directions[n], ax=axes[n]);\n",
    "\n",
    "  axes[n].set_ylabel(\"Velocity\")\n",
    "  axes[n].set_xlabel(\"Time (s)\")\n",
    "  axes[n].set_ylim(-50,50)"
   ]
  },
  {
   "cell_type": "markdown",
   "metadata": {},
   "source": [
    "We can also “zoom in” on a small slice of time in which the monkey is\n",
    "moving the hand, and see the neural activity at the same time."
   ]
  },
  {
   "cell_type": "code",
   "execution_count": null,
   "metadata": {},
   "outputs": [],
   "source": [
    "t_start = 490\n",
    "t_end = 580\n",
    "\n",
    "fig, axes = plt.subplots(nrows=7, ncols=8, figsize=(15,15))\n",
    "\n",
    "# Setting the range for all axes\n",
    "plt.setp(axes, xlim=(t_start, t_end), ylim=(0,12));\n",
    "\n",
    "for n in range(nout):\n",
    "  sns.lineplot(x=np.arange(t_start, t_end)*tsamp, y=y[t_start:t_end, n], ax=axes[n//2,n%2], color='red', label=directions[n])\n",
    "  plt.setp(axes[n//2,n%2], xlim=(t_start*tsamp, t_end*tsamp), ylim=(-50, +50));\n",
    "\n",
    "for n in range(nneuron):\n",
    "  sns.lineplot(x=np.arange(t_start, t_end)*tsamp, y=X[t_start:t_end, n], ax=axes[(n+2)//8,(n+2)%8], label=\"n%d\" % n, color='grey')\n",
    "  plt.setp(axes[(n+2)//8,(n+2)%8], xlim=(t_start*tsamp, t_end*tsamp), ylim=(0, +15));\n"
   ]
  },
  {
   "cell_type": "markdown",
   "metadata": {},
   "source": [
    "Fitting a linear model\n",
    "----------------------\n",
    "\n",
    "Let’s first try a linear regression model to fit the data.\n",
    "\n",
    "To start, we will split the data into a training set and a test set.\n",
    "We’l fit the model on the training set and then use the test set to\n",
    "estimate the model performance on new, unseen data."
   ]
  },
  {
   "cell_type": "markdown",
   "metadata": {},
   "source": [
    "**To shuffle or not to shuffle?**\n",
    "\n",
    "The `train_test_split` function has an optional `shuffle` argument.\n",
    "\n",
    "-   If you use `shuffle=False`, then `train_test_split` will take the\n",
    "    first part of the data as the training set and the second part of\n",
    "    the data as the test set, according to the ratio you specify in\n",
    "    `test_size` or `train_size`.\n",
    "-   If you use `shuffle=True`, then `train_test_split` will first\n",
    "    randomly shuffle the data. Then, it will take the first part of the\n",
    "    *shuffled* data as the training set and the second part of the\n",
    "    *shuffled* data as the test set, according to the ratio you specify\n",
    "    in `test_size` or `train_size`.\n",
    "\n",
    "According to the function\n",
    "[documentation](https://scikit-learn.org/stable/modules/generated/sklearn.model_selection.train_test_split.html),\n",
    "by default, `shuffle` is `True`:\n",
    "\n",
    "> **shuffle: bool, default=True**\n",
    ">\n",
    "> Whether or not to shuffle the data before splitting. If shuffle=False\n",
    "> then stratify must be None.\n",
    "\n",
    "so if you do not specify anything related to `shuffle`, your data will\n",
    "be randomly shuffled before it is split into training and test data.\n",
    "\n",
    "Under what conditions should you shuffle data? Suppose your dataset\n",
    "includes samples of a medical experiment on 1000 subjects, and the first\n",
    "500 samples in the data are from male subjects while the second 500\n",
    "samples are from female subjects. If you set `shuffle=False`, then your\n",
    "training set would have a much higher proportion of male subjects than\n",
    "your test set (with the specific numbers depending on the ratio you\n",
    "specify).\n",
    "\n",
    "On the other hand, suppose your dataset includes stock prices at closing\n",
    "time, with each sample representing a different date (in order). If you\n",
    "allow `train_test_split` to shuffle the data, then your model will be\n",
    "allowed to “learn” stock prices using prices from the day *after* the\n",
    "one it is trying to predict! Obviously, your model won’t be able to\n",
    "learn from future dates in production, so it shouldn’t be allowed to in\n",
    "the evaluation stage, either. (Predicting the past using the future is\n",
    "considered a type of data leakage.)\n",
    "\n",
    "With this in mind, it is usually inappropriate to shuffle time series\n",
    "data when splitting it up into smaller sets for training, validation, or\n",
    "testing.\n",
    "\n",
    "(There are more sophisticated ways to handle splitting time series data,\n",
    "but for now, splitting it up the usual way, just without shuffling\n",
    "first, will suffice.)"
   ]
  },
  {
   "cell_type": "markdown",
   "metadata": {},
   "source": [
    "Given the discussion above, use the `train_test_split` function to split\n",
    "the data into training and test sets, but with no shuffling. Let\n",
    "`Xtr,ytr` be the training data set and `Xts,yts` be the test data set.\n",
    "Use `test_size=0.33` so 1/3 of the data is used for evaluating the model\n",
    "performance."
   ]
  },
  {
   "cell_type": "code",
   "execution_count": null,
   "metadata": {},
   "outputs": [],
   "source": [
    "# TODO 1\n",
    "# Xtr, Xts, ytr, yts = ..."
   ]
  },
  {
   "cell_type": "markdown",
   "metadata": {},
   "source": [
    "Now, fit a linear regression on the training data `Xtr,ytr`. Make a\n",
    "prediction `yhat` using the test data, `Xts`. Compare `yhat` to `yts` to\n",
    "measure `rsq`, the R2 value. You can use the sklearn `r2_score` method.\n",
    "Print the `rsq` value. You should get `rsq` of around `0.45`."
   ]
  },
  {
   "cell_type": "code",
   "execution_count": null,
   "metadata": {},
   "outputs": [],
   "source": [
    "# TODO 2\n",
    "# yhat = ...\n",
    "# rsq = ..."
   ]
  },
  {
   "cell_type": "markdown",
   "metadata": {},
   "source": [
    "It is useful to plot the predicted vs. actual values. Since we have two\n",
    "predicted values for each sample - the velocity in the X direction and\n",
    "the velocity in the Y direction - you should make two subplots,\n",
    "\n",
    "-   one of predicted X direction vs. actual X direction,\n",
    "-   one of predicted Y direction vs. actual Y direction\n",
    "\n",
    "Make sure to carefully label each axis."
   ]
  },
  {
   "cell_type": "code",
   "execution_count": null,
   "metadata": {},
   "outputs": [],
   "source": [
    "# TODO 3A"
   ]
  },
  {
   "cell_type": "markdown",
   "metadata": {},
   "source": [
    "It can also be useful to visualize the actual and predicted values over\n",
    "time, for a slice of time. Create two subplots, both with time on the\n",
    "horizontal axis, but only including *the first 1000 rows* in the data.\n",
    "On the vertical axis,\n",
    "\n",
    "-   for one subplot: show the actual X direction as a line of one color,\n",
    "    and the predicted X direction as a line of another color.\n",
    "-   for the second subplot: show the actual Y direction as a line of one\n",
    "    color, and the predicted Y direction as a line of another color.\n",
    "\n",
    "Make sure to carefully label each axis (including units on the time\n",
    "axis!), and label the data series (i.e. which color is the actual value\n",
    "and which is the predicted value)."
   ]
  },
  {
   "cell_type": "code",
   "execution_count": null,
   "metadata": {},
   "outputs": [],
   "source": [
    "# TODO 3B"
   ]
  },
  {
   "cell_type": "markdown",
   "metadata": {},
   "source": [
    "Comment on this plot - does the model predict the hand velocity well?"
   ]
  },
  {
   "cell_type": "markdown",
   "metadata": {},
   "source": [
    "Fitting a model with delay\n",
    "--------------------------"
   ]
  },
  {
   "cell_type": "markdown",
   "metadata": {},
   "source": [
    "One way we can improve the model accuracy is to add features using\n",
    "delayed version of the existing features.\n",
    "\n",
    "Specifically, the model we used above tries to predict velocity in\n",
    "direction $k$ at time $i$ using\n",
    "\n",
    "$$\\hat{y}_{i,k} = w_{k,0} + \\sum_{d=1}^{\\text{nneuron}} w_{k,d} X_{i,d}  $$\n",
    "\n",
    "In this model, $\\hat{y}_{i,k}$ at the $i$th time bin was only dependent\n",
    "on $X_i$, the number of spikes of each neuron in time bin $i$. In signal\n",
    "processing, this is called a *memoryless* model."
   ]
  },
  {
   "cell_type": "markdown",
   "metadata": {},
   "source": [
    "However, in many physical systems, such as those that arise in\n",
    "neuroscience, there is a delay between the inputs and outputs. To model\n",
    "this effect, we could add additional features to each row of data,\n",
    "representing the number of spikes of each neuron in the *previous* row.\n",
    "Then, the output at time $i$ would be modeled as the effect of the\n",
    "neurons firing in time $i$ *and* the effect of the neurons firing in\n",
    "time $i-1$.\n",
    "\n",
    "We wouldn’t be able to use data from the past for the first row of data,\n",
    "since we don’t *have* data about neurons firing in the previous time\n",
    "step. But we can drop that row. If our original data matrix had `nt`\n",
    "rows and `nneuron` columns, our data matrix with delayed features would\n",
    "have `nt - 1` rows and `nneuron + 1 x nneuron` columns. (The first\n",
    "`nneuron` columns represent the number of spikes in each neuron for the\n",
    "current time, the next `nneuron` columns represent the number of spikes\n",
    "in each neuron for the previous time.)\n",
    "\n",
    "Furthermore, we can “look back” any number of time steps, so that the\n",
    "output at time $i$ is modeled as the effect of the neurons firing in\n",
    "time $i$, the neurons firing in time $i-1$, ..., all the way up to the\n",
    "effect of the neurons firing in time $i- \\text{dly}$ (where $\\text{dly}$\n",
    "is the maximum number of time steps we're going to “look back” on). Our\n",
    "data matrix with the additional delayed features would have `nt - dly`\n",
    "rows and `nneuron + dly x nneuron` columns."
   ]
  },
  {
   "cell_type": "markdown",
   "metadata": {},
   "source": [
    "Here is a function that accepts `X` and `y` data and a `dly` argument,\n",
    "and returns `X` and `y` with delayed features up to `dly` time steps\n",
    "backward."
   ]
  },
  {
   "cell_type": "code",
   "execution_count": null,
   "metadata": {},
   "outputs": [],
   "source": [
    "def create_dly_data(X,y,dly):\n",
    "    \"\"\"\n",
    "    Create delayed data\n",
    "    \"\"\"    \n",
    "    n,p = X.shape\n",
    "    Xdly = np.zeros((n-dly,(dly+1)*p))\n",
    "    for i in range(dly+1):\n",
    "        Xdly[:,i*p:(i+1)*p] = X[dly-i:n-i,:]\n",
    "    ydly = y[dly:]\n",
    "    \n",
    "    return Xdly, ydly"
   ]
  },
  {
   "cell_type": "markdown",
   "metadata": {},
   "source": [
    "To convince yourself that this works, try creating a data matrix that\n",
    "includes delayed features one time step back:"
   ]
  },
  {
   "cell_type": "code",
   "execution_count": null,
   "metadata": {},
   "outputs": [],
   "source": [
    "X_dly1, y_dly1 = create_dly_data(X, y, 1)"
   ]
  },
  {
   "cell_type": "markdown",
   "metadata": {},
   "source": [
    "Verify that the dimensions have changed, as expected:"
   ]
  },
  {
   "cell_type": "code",
   "execution_count": null,
   "metadata": {},
   "outputs": [],
   "source": [
    "# dimensions of original data matrix\n",
    "X.shape"
   ]
  },
  {
   "cell_type": "code",
   "execution_count": null,
   "metadata": {},
   "outputs": [],
   "source": [
    "# dimensions of data matrix with delayed features 1 time step back\n",
    "X_dly1.shape"
   ]
  },
  {
   "cell_type": "markdown",
   "metadata": {},
   "source": [
    "Check row 0 in the matrix with delayed features, and verify that it is\n",
    "the concatenation of row 1 and row 0 in the original data matrix. (Note\n",
    "that row 0 in the matrix with delayed features corresponds to row 1 in\n",
    "the original data matrix.)"
   ]
  },
  {
   "cell_type": "code",
   "execution_count": null,
   "metadata": {},
   "outputs": [],
   "source": [
    "X_dly1[0]"
   ]
  },
  {
   "cell_type": "code",
   "execution_count": null,
   "metadata": {},
   "outputs": [],
   "source": [
    "np.hstack((X[1], X[0]))"
   ]
  },
  {
   "cell_type": "code",
   "execution_count": null,
   "metadata": {},
   "outputs": [],
   "source": [
    "y_dly1[0]"
   ]
  },
  {
   "cell_type": "code",
   "execution_count": null,
   "metadata": {},
   "outputs": [],
   "source": [
    "y[1]"
   ]
  },
  {
   "cell_type": "markdown",
   "metadata": {},
   "source": [
    "Now fit an linear delayed model with `dly=2` delay lags. That is,\n",
    "\n",
    "-   Create delayed data `Xdly,ydly=create_dly_data(X,y,dly=2)`\n",
    "-   Split the data into training and test as before (again, do not\n",
    "    shuffle the data)\n",
    "-   Fit the model on the training data\n",
    "-   Measure the R2 score on the test data\n",
    "\n",
    "If you did this correctly, you should get a new R2 score around 0.60.\n",
    "This is significantly better than the memoryless model."
   ]
  },
  {
   "cell_type": "code",
   "execution_count": null,
   "metadata": {},
   "outputs": [],
   "source": [
    "# TODO 4\n",
    "\n",
    "# Create the delayed data\n",
    "\n",
    "# Split into training and test\n",
    "\n",
    "# Create linear regression object\n",
    "\n",
    "# Fit the model\n",
    "\n",
    "# Measure the new r2 score"
   ]
  },
  {
   "cell_type": "markdown",
   "metadata": {},
   "source": [
    "Plot the predicted vs. true values as before, with one subplot for X\n",
    "velocity and one plot for Y velocity."
   ]
  },
  {
   "cell_type": "code",
   "execution_count": null,
   "metadata": {},
   "outputs": [],
   "source": [
    "# TODO 5A"
   ]
  },
  {
   "cell_type": "markdown",
   "metadata": {},
   "source": [
    "Also plot the actual and predicted values over time for the first 1000\n",
    "samples, as you did before. Comment on this plot - does the model\n",
    "predict the hand velocity well?"
   ]
  },
  {
   "cell_type": "code",
   "execution_count": null,
   "metadata": {},
   "outputs": [],
   "source": [
    "# TODO 5B"
   ]
  },
  {
   "cell_type": "markdown",
   "metadata": {},
   "source": [
    "Selecting the optimal delay with K-fold CV\n",
    "------------------------------------------\n",
    "\n",
    "In the previous example, we fixed `dly=2`. We can now select the optimal\n",
    "delay using K-fold cross validation.\n",
    "\n",
    "Since we have a large number of data samples, it turns out that the\n",
    "optimal model order uses a very high delay. Using the above fitting\n",
    "method, the computations take too long. So, to simplify things, we will\n",
    "first just pretent that we have a very limited data set.\n",
    "\n",
    "We will compute `Xred` and `yred` by taking the first `nred=6000`\n",
    "samples of the data `X` and `y`. This is about 10% of the overall data."
   ]
  },
  {
   "cell_type": "code",
   "execution_count": null,
   "metadata": {},
   "outputs": [],
   "source": [
    "nred = 6000\n",
    "\n",
    "Xred = X[:nred]\n",
    "yred = y[:nred]"
   ]
  },
  {
   "cell_type": "markdown",
   "metadata": {},
   "source": [
    "We will look at model orders up to `dmax=15`. We will create a delayed\n",
    "data matrix, `Xdly,ydly`, using `create_dly_data` with the reduced data\n",
    "`Xred,yred` and `dly=dmax`."
   ]
  },
  {
   "cell_type": "code",
   "execution_count": null,
   "metadata": {},
   "outputs": [],
   "source": [
    "dmax = 15\n",
    "\n",
    "Xdly, ydly = create_dly_data(Xred,yred,dmax)"
   ]
  },
  {
   "cell_type": "code",
   "execution_count": null,
   "metadata": {},
   "outputs": [],
   "source": [
    "Xdly.shape"
   ]
  },
  {
   "cell_type": "code",
   "execution_count": null,
   "metadata": {},
   "outputs": [],
   "source": [
    "ydly.shape"
   ]
  },
  {
   "cell_type": "markdown",
   "metadata": {},
   "source": [
    "Note that we can use `Xdly, ydly` to get a data matrix for any delay *up\n",
    "to* `dmax`, not only for delay = `dmax`. For example, to get a data\n",
    "matrix with delay = 1:"
   ]
  },
  {
   "cell_type": "code",
   "execution_count": null,
   "metadata": {},
   "outputs": [],
   "source": [
    "dtest = 1\n",
    "X_dtest = Xdly[:,:(dtest+1)*nneuron]\n",
    "X_dtest.shape"
   ]
  },
  {
   "cell_type": "markdown",
   "metadata": {},
   "source": [
    "We are going to use K-fold CV with `nfold=10` to find the optimal delay,\n",
    "for all the values of delay in `dtest_list`:"
   ]
  },
  {
   "cell_type": "code",
   "execution_count": null,
   "metadata": {},
   "outputs": [],
   "source": [
    "dtest_list = np.arange(0, dmax+1)\n",
    "nd = len(dtest_list)\n",
    "\n",
    "print(dtest_list)"
   ]
  },
  {
   "cell_type": "markdown",
   "metadata": {},
   "source": [
    "You can refer to the example in the “Model order selection” section of\n",
    "the demo notebook. But, make sure to use `shuffle=False` in your `KFold`\n",
    "object, since for this example it would be inappropriate to shuffle the\n",
    "data."
   ]
  },
  {
   "cell_type": "code",
   "execution_count": null,
   "metadata": {},
   "outputs": [],
   "source": [
    "# Number of folds\n",
    "nfold = 10\n",
    " \n",
    "# TODO 6  Create a k-fold object\n",
    "# kf = KFold(...)\n",
    " \n",
    "# TODO 7\n",
    "# Initialize a matrix Rsq to hold values of the R^2 across the model orders and folds.\n",
    "# Rsq = ...\n",
    " \n",
    "# Loop over the folds\n",
    "for i, idx_split in enumerate(kf.split(Xdly)):\n",
    "    \n",
    "    # Get the training and validation data in the split\n",
    "    idx_tr, idx_val = idx_split        \n",
    " \n",
    "    for it, dtest in enumerate(dtest_list):\n",
    "        # TODO 8 \n",
    "        # don't call create_dly_data again\n",
    "        # just select the appropriate subset of columns of Xdly\n",
    "        # X_dtest = Xdly with the columns corresponding to only the `dtest+1` most recent times.\n",
    " \n",
    "        # TODO 9\n",
    "        # Split the data (X_dtest,ydly) into training and validation\n",
    "        # using idx_tr and idx_val\n",
    "        # Xtr = ...\n",
    "        # ytr = ...\n",
    "        # Xval = ...\n",
    "        # yval = ...\n",
    " \n",
    "        # TODO 10  Fit linear regression on training data\n",
    " \n",
    "        # TODO 11  Measure the R2 on validation data and store in the matrix Rsq"
   ]
  },
  {
   "cell_type": "markdown",
   "metadata": {},
   "source": [
    "Compute the mean and standard error of the R2 values for each model\n",
    "(each delay value) and plot it as a function of the delay. Use a\n",
    "`plt.errorbar` plot, as shown in the “Model selection using 1-SE rule”\n",
    "section of the demo notebook. Label your axes."
   ]
  },
  {
   "cell_type": "code",
   "execution_count": null,
   "metadata": {},
   "outputs": [],
   "source": [
    "# TODO 12"
   ]
  },
  {
   "cell_type": "markdown",
   "metadata": {},
   "source": [
    "Write code to find the delay that has the best validation R2. Print the\n",
    "best delay according to the “best R2” rule."
   ]
  },
  {
   "cell_type": "code",
   "execution_count": null,
   "metadata": {},
   "outputs": [],
   "source": [
    "# TODO 13"
   ]
  },
  {
   "cell_type": "markdown",
   "metadata": {},
   "source": [
    "Now write code to find the best delay using the one SE rule (i.e. find\n",
    "the simplest model whose validation R2 is within one SE of the model\n",
    "with the best R2). Print the best delay according to the “one SE rule.”"
   ]
  },
  {
   "cell_type": "code",
   "execution_count": null,
   "metadata": {},
   "outputs": [],
   "source": [
    "# TODO 14"
   ]
  },
  {
   "cell_type": "markdown",
   "metadata": {},
   "source": [
    "Fitting the selected model\n",
    "--------------------------"
   ]
  },
  {
   "cell_type": "markdown",
   "metadata": {},
   "source": [
    "Now that we have selected a model order, we can fit the (reduced) data\n",
    "to that model.\n",
    "\n",
    "Use your `Xdly` and `ydly` to fit a linear regression model using the\n",
    "best delay according to the one SE rule."
   ]
  },
  {
   "cell_type": "code",
   "execution_count": null,
   "metadata": {},
   "outputs": [],
   "source": [
    "# TODO 15"
   ]
  },
  {
   "cell_type": "markdown",
   "metadata": {},
   "source": [
    "Then, define a test set using data that was not used to train the model:"
   ]
  },
  {
   "cell_type": "code",
   "execution_count": null,
   "metadata": {},
   "outputs": [],
   "source": [
    "# TODO 16\n",
    "# if dopt_one_se is the optimal model order, you can use\n",
    "# Xts = X[nred+1:nred+1001+dopt_one_se]\n",
    "# yts = y[nred+1:nred+1001+dopt_one_se]\n",
    "# and then use \n",
    "# Xts_dly, yts_dly = create_dly_data(Xts,yts,dopt_one_se)"
   ]
  },
  {
   "cell_type": "markdown",
   "metadata": {},
   "source": [
    "Use your fitted model to find the R2 score on the test set."
   ]
  },
  {
   "cell_type": "code",
   "execution_count": null,
   "metadata": {},
   "outputs": [],
   "source": [
    "# TODO 17"
   ]
  },
  {
   "cell_type": "markdown",
   "metadata": {},
   "source": [
    "Also plot the actual and predicted values over time for the first 1000\n",
    "samples of the *test* data (similar to your plots in the previous\n",
    "sections). Comment on this plot - does the model predict the hand\n",
    "velocity well?"
   ]
  },
  {
   "cell_type": "code",
   "execution_count": null,
   "metadata": {},
   "outputs": [],
   "source": [
    "# TODO 18"
   ]
  }
 ],
 "nbformat": 4,
 "nbformat_minor": 0,
 "metadata": {
  "language_info": {
   "name": "python",
   "nbconvert_exporter": "python",
   "file_extension": ".py",
   "pygments_lexer": "ipython3",
   "mimetype": "text/x-python",
   "version": "3.6.7",
   "codemirror_mode": {
    "name": "ipython",
    "version": "3"
   }
  },
  "kernelspec": {
   "name": "python3",
   "display_name": "Python 3",
   "language": "python"
  },
  "colab": {
   "name": "4-neural-model-selection-hw.ipynb"
  }
 }
}
