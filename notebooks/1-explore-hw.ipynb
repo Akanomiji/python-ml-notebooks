{
 "cells": [
  {
   "cell_type": "markdown",
   "metadata": {},
   "source": [
    "Assignment: Exploratory data analysis\n",
    "=====================================\n",
    "\n",
    "**TODO**: Edit this cell to fill in your NYU Net ID and your name:\n",
    "\n",
    "-   **Net ID**:\n",
    "-   **Name**:"
   ]
  },
  {
   "cell_type": "markdown",
   "metadata": {},
   "source": [
    "Introduction\n",
    "------------\n",
    "\n",
    "In this assignment, we will practice using exploratory data analysis on\n",
    "Google’s COVID-19 Community Mobility data.\n",
    "\n",
    "This data was collected from Google Maps users around the world over the\n",
    "last few months - including you, *if* you have Google Maps on your phone\n",
    "and have turned on the Location History setting. It combines location\n",
    "history from a large number of users to capture the overall increase or\n",
    "decrease in time spent in places such as: retail and recreation\n",
    "facilities, groceries and pharmacies, parks, transit stations,\n",
    "workplaces, and residences.\n",
    "\n",
    "As you work through this notebook, you will see that some text and code\n",
    "cells are marked with a “TODO” at the top. You’ll have to edit these\n",
    "cells to fill in the code or answer the questions as indicated."
   ]
  },
  {
   "cell_type": "markdown",
   "metadata": {},
   "source": [
    "Learn about the data\n",
    "--------------------\n",
    "\n",
    "First, it is worthwhile to learn more about the data: how it is\n",
    "collected, what is included, how Google gets consent to collect this\n",
    "data, and how user privacy is protected. Google provides several\n",
    "resources for learning about the data:\n",
    "\n",
    "-   [Blog\n",
    "    post](https://www.blog.google/technology/health/covid-19-community-mobility-reports?hl=en)\n",
    "-   [About this\n",
    "    data](https://www.google.com/covid19/mobility/data_documentation.html?hl=en#about-this-data)\n",
    "-   [Understand the\n",
    "    data](https://support.google.com/covid19-mobility/answer/9825414?hl=en&ref_topic=9822927)"
   ]
  },
  {
   "cell_type": "markdown",
   "metadata": {},
   "source": [
    "Read in data\n",
    "------------\n",
    "\n",
    "Now you are ready to read the data into your notebook.\n",
    "\n",
    "Visit Google’s web page for the [COVID-19 Community\n",
    "Mobility](https://www.google.com/covid19/mobility/) project to get the\n",
    "URL for the data.\n",
    "\n",
    "(Specific instructions will depend on your browser and operating system,\n",
    "but on my laptop, I can get the URL by right-clicking on the button that\n",
    "says “Download global CSV” and choosing “Copy Link Address”.)\n",
    "\n",
    "Then, in the following cells, use that URL to read the data into a\n",
    "pandas Data Frame called `df`. (You can follow the example in the\n",
    "“Exploratory data analysis” notebook from this week’s lesson.)"
   ]
  },
  {
   "cell_type": "code",
   "execution_count": null,
   "metadata": {},
   "outputs": [],
   "source": [
    "import pandas as pd\n",
    "import seaborn as sns\n",
    "import matplotlib.pyplot as plt"
   ]
  },
  {
   "cell_type": "code",
   "execution_count": null,
   "metadata": {},
   "outputs": [],
   "source": [
    "# TODO Q1\n",
    "# url = ...\n",
    "# df = ..."
   ]
  },
  {
   "cell_type": "markdown",
   "metadata": {},
   "source": [
    "Use the `info()` and `head()` functions to show some basic information\n",
    "about the data and to look at the first few samples."
   ]
  },
  {
   "cell_type": "code",
   "execution_count": null,
   "metadata": {},
   "outputs": [],
   "source": [
    "# TODO Q2\n",
    "# use info()"
   ]
  },
  {
   "cell_type": "code",
   "execution_count": null,
   "metadata": {},
   "outputs": [],
   "source": [
    "# TODO Q3\n",
    "# use head()"
   ]
  },
  {
   "cell_type": "markdown",
   "metadata": {},
   "source": [
    "Basic data manipulations\n",
    "------------------------"
   ]
  },
  {
   "cell_type": "markdown",
   "metadata": {},
   "source": [
    "The data includes a date field, but it may have been read in as a\n",
    "string, rather than as a `datetime`. If that’s the case, use\n",
    "`to_datetime()` to convert the field into a datetime format. (You can\n",
    "follow the example in the “Exploratory data analysis” notebook from this\n",
    "week’s lesson.)\n",
    "\n",
    "Then, use `info()` again to make sure your change was applied. Note the\n",
    "difference in the output, relative to the cell above."
   ]
  },
  {
   "cell_type": "code",
   "execution_count": null,
   "metadata": {},
   "outputs": [],
   "source": [
    "# TODO Q4\n",
    "# df['date'] = ...\n"
   ]
  },
  {
   "cell_type": "markdown",
   "metadata": {},
   "source": [
    "Next, you are going to extract the subset of data for the location of\n",
    "your choice. You can choose any location *except* Brooklyn, New York.\n",
    "(You can’t choose Brooklyn because the example code I’m about to show\n",
    "you is for Brooklyn.)\n",
    "\n",
    "The data is reported for different regions, with different levels of\n",
    "granularity available. This is best explained by example:\n",
    "\n",
    "Suppose I want the overall trend from the entire U.S. I would use the\n",
    "subset of data where `country_region` is equal to “United States” and\n",
    "`sub_region_1` is null:\n",
    "\n",
    "    df_subset = df[(df['country_region'].eq(\"United States\")) & (df['sub_region_1'].isnull())]\n",
    "\n",
    "Suppose I want the overall trend from the entire state of New York: I\n",
    "would use the subset of data where `country_region` is equal to “United\n",
    "States”, `sub_region_1` is equal to “New York”, and `sub_region_2` is\n",
    "null:\n",
    "\n",
    "    df_subset = df[(df['country_region'].eq(\"United States\")) & (df['sub_region_1'].eq(\"New York\")) & (df['sub_region_2'].isnull())]\n",
    "\n",
    "Suppose I want the overall trend from Brooklyn, New York (Kings County):\n",
    "I would use the subset of data where `country_region` is equal to\n",
    "“United States”, `sub_region_1` is equal to “New York”, and\n",
    "`sub_region_2` is equal to “Kings County”:\n",
    "\n",
    "    df_subset = df[(df['country_region'].eq(\"United States\")) & (df['sub_region_1'].eq(\"New York\")) & (df['sub_region_2'].eq(\"Kings County\"))]\n",
    "\n",
    "In the following cell(s), fill in the code to create a data frame\n",
    "`df_subset` with data from a single location. You can go down to the\n",
    "`sub_region_1` level or the `sub_region_2` level - depending on the\n",
    "location you chose, the finer level of granularity may not be available."
   ]
  },
  {
   "cell_type": "code",
   "execution_count": null,
   "metadata": {},
   "outputs": [],
   "source": [
    "# TODO Q5\n",
    "# df_subset ="
   ]
  },
  {
   "cell_type": "markdown",
   "metadata": {},
   "source": [
    "Is the data complete, or is some data not available for the location you\n",
    "have chosen? In the following cell, write code to check for missing data\n",
    "in the `...percent_change_from_baseline` fields."
   ]
  },
  {
   "cell_type": "code",
   "execution_count": null,
   "metadata": {},
   "outputs": [],
   "source": [
    "# TODO Q6\n",
    "# df_subset"
   ]
  },
  {
   "cell_type": "markdown",
   "metadata": {},
   "source": [
    "**TODO** Q7: Edit this cell to answer the following question: Is the\n",
    "data complete, or is some relevant data missing? Why would some\n",
    "locations only have partial data available (missing some\n",
    "`...percent_change_from_baseline` fields for some dates)? **Include a\n",
    "short quote from the material you read in the “Learn about the data”\n",
    "section to answer this question.**"
   ]
  },
  {
   "cell_type": "markdown",
   "metadata": {},
   "source": [
    "For this data, the `date` field is important, but we don’t necessarily\n",
    "care about the absolute date. Instead, we care about how many days have\n",
    "elapsed since the first confirmed case of COVID-19 in this location, how\n",
    "many days have elapsed since a “stay at home” order or similar rule was\n",
    "established in this location (if there was one) and how many days have\n",
    "elapsed since it was lifted (if applicable).\n",
    "\n",
    "For example, in Brooklyn, New York, I might compute:\n",
    "\n",
    "    days_since_lockdown = (df_subset['date'] - pd.to_datetime('2020-03-20 00:00:00')).dt.days.values\n",
    "    # NYC lockdown March 20, 2020 https://www.nytimes.com/2020/03/20/us/coronavirus-today.html\n",
    "\n",
    "Compute “days since \\[some relevant COVID-19 date\\]” for your location.\n",
    "In a comment, explain the significance of the date you have chosen, and\n",
    "include a link to a news article or other reference supporting the\n",
    "significance of the date. (The news article does not have to be in\n",
    "English.)"
   ]
  },
  {
   "cell_type": "code",
   "execution_count": null,
   "metadata": {},
   "outputs": [],
   "source": [
    "# TODO Q8\n",
    "# days_since..."
   ]
  },
  {
   "cell_type": "markdown",
   "metadata": {},
   "source": [
    "Visualize data\n",
    "--------------\n",
    "\n",
    "Finally, we are going to visualize the changes in human mobility over\n",
    "this time, for the location you have chosen.\n",
    "\n",
    "In the following cell, create a figure with six subplots, arranged\n",
    "vertically. (You can refer to the example in the “Python + numpy”\n",
    "notebook from this week’s lesson.) On the horizontal axis, put the\n",
    "`days_since...` array you computed in the previous cell. On the vertical\n",
    "axes, show:\n",
    "\n",
    "-   `retail_and_recreation_percent_change_from_baseline` in the top\n",
    "    subplot\n",
    "-   `grocery_and_pharmacy_percent_change_from_baseline` in the next\n",
    "    subplot\n",
    "-   `parks_percent_change_from_baseline` in the next subplot\n",
    "-   `transit_stations_percent_change_from_baseline` in the next subplot\n",
    "-   `workplaces_percent_change_from_baseline` in the next subplot\n",
    "-   `residential_percent_change_from_baseline` in the bottom subplot"
   ]
  },
  {
   "cell_type": "code",
   "execution_count": null,
   "metadata": {},
   "outputs": [],
   "source": [
    "# TODO Q9"
   ]
  },
  {
   "cell_type": "markdown",
   "metadata": {},
   "source": [
    "**TODO** Q10: Answer the following question: Do the results seem to\n",
    "satisfy “common sense”? Explain, citing specific data from your plot to\n",
    "support your answer.\n",
    "\n",
    "**TODO** Q11: In the [Calibrate\n",
    "Region](https://support.google.com/covid19-mobility/checklist/9834261?hl=en&ref_topic=9822927)\n",
    "checklist, Google suggests a number of reasons why the data might *not*\n",
    "be useful for understanding the effect of COVID-19-related lockdowns, or\n",
    "why the data might be misleading. For the location you have chosen,\n",
    "briefly answer all of the questions in that checklist. Based on your\n",
    "answers, do you think there are any serious problems associated with\n",
    "using this data for understanding user mobility changes due to COVID-19?"
   ]
  }
 ],
 "nbformat": 4,
 "nbformat_minor": 5,
 "metadata": {}
}
