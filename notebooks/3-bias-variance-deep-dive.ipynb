{
 "cells": [
  {
   "cell_type": "markdown",
   "metadata": {},
   "source": [
    "# Bias/variance and model selection in depth\n",
    "\n",
    "*Fraida Fund*"
   ],
   "id": "25b2864e-d4fe-451f-a4e0-1186c3a553ea"
  },
  {
   "cell_type": "markdown",
   "metadata": {},
   "source": [
    "#### Attribution\n",
    "\n",
    "Parts of this notebook borrow from, or are inspired by, the following sources:\n",
    "\n",
    "-   The Introduction section is based on [Hyperparameters and Model Validation](https://jakevdp.github.io/PythonDataScienceHandbook/05.03-hyperparameters-and-model-validation.html), in the Python Data Science Handbook by Jake VanderPlas\n",
    "-   The section on polynomial models is based on [the model order selection demo notebook](https://colab.research.google.com/github/sdrangan/introml/blob/master/unit04_model_sel/demo_polyfit.ipynb) by Prof. Sundeep Rangan, and some of the text in that section is copied from that notebook.\n",
    "-   The section on uninformative features is based on [Cross Validation: The Right and Wrong Way](http://nbviewer.ipython.org/urls/raw.github.com/cs109/content/master/lec_10_cross_val.ipynb) from [Harvard CS109 Data Science](https://github.com/cs109/content)\n",
    "-   The simulation plots are based on the `scikit-learn` example [Single estimator versus bagging: bias-variance decomposition](https://scikit-learn.org/stable/auto_examples/ensemble/plot_bias_variance.html#sphx-glr-auto-examples-ensemble-plot-bias-variance-py)"
   ],
   "id": "2900fdce-caa7-4aa0-887d-d0bc96cfcf50"
  },
  {
   "cell_type": "markdown",
   "metadata": {},
   "source": [
    "## Introduction\n",
    "\n",
    "As a distinguished machine learning expert, you are hired as a consultant to solve a difficult problem for a client. You apply the best <sup>\\[1\\]</sup> machine learning model you know, and present the results to the client. The response?\n",
    "\n",
    "> Not good enough! We expect much better performance.\n",
    "\n",
    "As a machine learning expert, what should you do to improve your results?\n",
    "\n",
    "-   Find and correct a problem with the data (garbage in, garbage out!)\n",
    "-   Find and correct a problem with the model implementation/training\n",
    "-   Use a more complicated model (more flexible)\n",
    "-   Use a less complicated model (less flexible)\n",
    "-   Get more training samples\n",
    "-   Get more data to add features to each sample - for example, you could join two related datasets to get more potentially predictive features\n",
    "-   Add additional features using transformed versions of the features you already have\n",
    "\n",
    "Each of these possible solutions has the potential to improve results, or to have no effect. In some cases, they can actually make the performance even worse.\n",
    "\n",
    "How do you know which one to try?\n",
    "\n",
    "<small>\\[1\\] There is actually no “best” machine learning model in general - various models will perform better on different problems.</small>"
   ],
   "id": "e194dcc2-5ee5-4d22-a74f-4486d6fcc93f"
  },
  {
   "cell_type": "markdown",
   "metadata": {},
   "source": [
    "Your first instinct may be to try all of these potential solutions, and see which one improves performance. But that could be very expensive -\n",
    "\n",
    "-   Your time costs \\$ (you are getting paid for consulting on this problem!)\n",
    "-   You may need to use metered computing resources to train the model, which costs \\$\n",
    "-   Collecting data, especially labeled data, often costs \\$\n",
    "-   Your client is losing \\$ due to using a sub-optimal model in production while waiting for you to improve it"
   ],
   "id": "5f7e03d0-d9f9-4b37-8775-59b225c20982"
  },
  {
   "cell_type": "markdown",
   "metadata": {},
   "source": [
    "As a machine learning expert, your knowledge of the theoretical basics of machine learning, and your ability to *connect that knowledge* to practical solutions for real problems, should prepare you for this moment."
   ],
   "id": "b0bc2bc2-a90a-4b2e-b31a-80c0880809af"
  },
  {
   "cell_type": "markdown",
   "metadata": {},
   "source": [
    "Our previous work in this course has prepared us to evaluate some of these “next steps” to see whether they would be appropriate.\n",
    "\n",
    "**Find and correct a problem with the data (garbage in, garbage out!)**:\n",
    "\n",
    "-   We practiced using exploratory data analysis as a first step toward identifying problems or wrong assumptions related to the data.\n",
    "-   We also saw that when using models with good *interpretability*, we can inspect the fitted model as another step toward finding problems with the data. For example, in a case study on linear regression, we saw that the coefficients for certain features were high when common sense dictated that those features should not have any effect on the target variable.\n",
    "\n",
    "**Find and correct a problem with the model implementation/training**:\n",
    "\n",
    "-   We looked at, and will continue to look at, some problems that can arise with model training, for example learning rate too high/too low in gradient descent.\n",
    "\n",
    "**Get more data to add features to each sample**:\n",
    "\n",
    "-   We practiced inspecting the residuals. Plots of residuals against $y$ or against each of the features are a good way to see a 2D view of the results of the model, even when the dimension of the data is large.\n",
    "-   When there appears to be a pattern in the residuals, this indicates something “learnable” in the data that isn’t captured by our model.\n",
    "    -   For example, suppose we find that the residuals appear to be a function of $y$, but not of any feature $x$. This suggests that $y$ is partly a function of a “missing” feature, which we should try to identify (using domain knowledge) and add to our model.\n",
    "    -   Similarly, if the residuals appear to be a function of a feature $x$ that is in our data, but we are not using to train the model, we should absolutely add that feature to our model.\n",
    "-   Another thing to look for in a residuals plot: “outliers” or extreme values. These can sometimes indicate problems with the data,such as samples affected by measurement or recording error. (In this case, you might want to exclude these samples, and also figure out how to exclude them in production.) These can also indicate that the data is drawn from two distributions, where samples from the minority distribution appear as outliers. (In this case, you wouldn’t want to exclude these samples. You would want to add a feature to help you distinguish between the two populations, and then re-train your model with the added feature.)\n",
    "\n",
    "**Add additional features using transformed versions of the features you already have**:\n",
    "\n",
    "-   If the plot of residuals against a feature $x$ appears to have a non-linear pattern, we should consider adding a transformed version of that feature to our model."
   ],
   "id": "4aa6ad90-683a-458d-a2c1-e33d93c8d486"
  },
  {
   "cell_type": "markdown",
   "metadata": {},
   "source": [
    "It’s a good start. But to help us identify whether some of the other steps would be helpful, we need to understand *bias* and *variance*. Then, we’ll be on our way towards understanding when to:\n",
    "\n",
    "-   Use a more complicated model (more flexible)\n",
    "-   Use a less complicated model (less flexible)\n",
    "-   Get more training samples"
   ],
   "id": "61f729d7-9d86-4904-9304-9fa6a7e519ec"
  },
  {
   "cell_type": "code",
   "execution_count": null,
   "metadata": {},
   "outputs": [],
   "source": [
    "from sklearn import datasets\n",
    "from sklearn import metrics\n",
    "from sklearn import preprocessing\n",
    "from sklearn.linear_model import LinearRegression\n",
    "from sklearn.model_selection import train_test_split, KFold\n",
    "\n",
    "\n",
    "import numpy as np\n",
    "import matplotlib.pyplot as plt\n",
    "import pandas as pd\n",
    "import seaborn as sns\n",
    "sns.set()\n",
    "\n",
    "from IPython.core.interactiveshell import InteractiveShell\n",
    "InteractiveShell.ast_node_interactivity = \"all\""
   ],
   "id": "20a02e0e-4119-4eaa-ac9c-592b75efa238"
  },
  {
   "cell_type": "markdown",
   "metadata": {},
   "source": [
    "## Overfitting and underfitting: Polynomial data"
   ],
   "id": "ad1cc8bc-98e2-4e01-afca-149c1db4698f"
  },
  {
   "cell_type": "markdown",
   "metadata": {},
   "source": [
    "To illustrate the concept of overfitting, we will consider data generated by a polynomial of order $d$, with some added Gaussian noise:\n",
    "\n",
    "$$y_i = w_0 + w_1 x_{1} + \\cdots + w_d x_{i}^d + \\epsilon $$\n",
    "\n",
    "where $\\epsilon_i \\sim N(0, \\sigma^2)$.\n",
    "\n",
    "We can fit this model using a linear basis function regression."
   ],
   "id": "c7314515-08e1-4b45-98a7-c25167484f29"
  },
  {
   "cell_type": "markdown",
   "metadata": {},
   "source": [
    "Here is a function that generates polynomial data:"
   ],
   "id": "443aa785-f621-4aa9-8058-2eadd8122041"
  },
  {
   "cell_type": "code",
   "execution_count": null,
   "metadata": {},
   "outputs": [],
   "source": [
    "def generate_polynomial_regression_data(n=100, xrange=[-1,1], coefs=[1,0.5,0,2], sigma=0.5):\n",
    "  x = np.random.uniform(xrange[0], xrange[1], n)\n",
    "  y = np.polynomial.polynomial.polyval(x,coefs) + sigma * np.random.randn(n)\n",
    "\n",
    "  return x.reshape(-1,1), y"
   ],
   "id": "28d0b731-fb55-4771-8753-0d9b54443c62"
  },
  {
   "cell_type": "code",
   "execution_count": null,
   "metadata": {},
   "outputs": [],
   "source": [
    "coefs=[1,0.5,0,2]\n",
    "n_samples = 100\n",
    "sigma = 0.5"
   ],
   "id": "4cfe5786-8f25-43c9-85a2-ff4e4ba49daa"
  },
  {
   "cell_type": "code",
   "execution_count": null,
   "metadata": {},
   "outputs": [],
   "source": [
    "x_test, y_test = generate_polynomial_regression_data(n=n_samples, coefs=coefs, sigma=sigma)\n",
    "x_train, y_train = generate_polynomial_regression_data(n=n_samples, coefs=coefs, sigma=sigma)"
   ],
   "id": "87162785-3b20-4cbe-b238-497806786608"
  },
  {
   "cell_type": "code",
   "execution_count": null,
   "metadata": {},
   "outputs": [],
   "source": [
    "sns.scatterplot(x=x_test.squeeze(), y=y_test, label='Test points');\n",
    "plt.xlabel(\"x\");\n",
    "plt.ylabel(\"y\");\n",
    "plt.title(\"Data generated from $1 + 0.5x + 2x^3$\");"
   ],
   "id": "820e8a30-c46f-4963-b071-798a45a7870b"
  },
  {
   "cell_type": "markdown",
   "metadata": {},
   "source": [
    "In this case, since the data is generated synthetically, we know the “true” function that generated the data. We can plot this function along with the data:"
   ],
   "id": "d9762401-5b21-457e-9ece-ef641702e17e"
  },
  {
   "cell_type": "code",
   "execution_count": null,
   "metadata": {},
   "outputs": [],
   "source": [
    "sns.scatterplot(x=x_test.squeeze(), y=y_test, label='Test points');\n",
    "plt.xlabel(\"x\");\n",
    "plt.ylabel(\"y\");\n",
    "plt.title(\"Data generated from $1 + 0.5x + 2x^3$\");\n",
    "\n",
    "# Plot true function\n",
    "x_p = np.linspace(-1,1,100);\n",
    "y_p = np.polynomial.polynomial.polyval(x_p, coefs);\n",
    "sns.lineplot(x=x_p,y=y_p, color='red', label='True function');"
   ],
   "id": "ae92dec5-0804-4563-91b7-5054ace54ff0"
  },
  {
   "cell_type": "markdown",
   "metadata": {},
   "source": [
    "We can use “transformed” features to fit a linear regression to this data."
   ],
   "id": "404cc9c8-1f01-43e8-9f9f-548dd3c9f9c9"
  },
  {
   "cell_type": "code",
   "execution_count": null,
   "metadata": {},
   "outputs": [],
   "source": [
    "x_train_d3 = np.column_stack( [x_train**d for d in np.arange(1,4)])\n",
    "print(x_train_d3.shape)"
   ],
   "id": "38260658-7368-4c9e-85fe-75103a883cb5"
  },
  {
   "cell_type": "code",
   "execution_count": null,
   "metadata": {},
   "outputs": [],
   "source": [
    "reg_poly3 = LinearRegression().fit(x_train_d3,y_train)"
   ],
   "id": "ab0f4048-4d1a-422e-b288-10f96bcd43c9"
  },
  {
   "cell_type": "code",
   "execution_count": null,
   "metadata": {},
   "outputs": [],
   "source": [
    "print(reg_poly3.intercept_)\n",
    "print(reg_poly3.coef_)"
   ],
   "id": "085c5c1f-834f-4bad-8244-c5830286b35f"
  },
  {
   "cell_type": "markdown",
   "metadata": {},
   "source": [
    "That’s pretty good."
   ],
   "id": "5397cf33-9753-4785-ac1c-d096f72c7b03"
  },
  {
   "cell_type": "code",
   "execution_count": null,
   "metadata": {},
   "outputs": [],
   "source": [
    "sns.scatterplot(x=x_test.squeeze(), y=y_test, label='Test points');\n",
    "plt.xlabel(\"x\");\n",
    "plt.ylabel(\"y\");\n",
    "plt.title(\"Data generated from $1 + 0.5x + 2x^3$\");\n",
    "\n",
    "# Plot true function\n",
    "x_p = np.linspace(-1,1,100);\n",
    "y_p = np.polynomial.polynomial.polyval(x_p, coefs);\n",
    "sns.lineplot(x=x_p,y=y_p, color='red', label='True function');\n",
    "\n",
    "# Plot fitted function\n",
    "x_p = np.linspace(-1,1,100);\n",
    "x_p_d3 = np.column_stack( [x_p.reshape(-1,1)**d for d in np.arange(1,4)])\n",
    "y_p = reg_poly3.predict(x_p_d3);\n",
    "sns.lineplot(x=x_p, y=y_p, color='green', label='Model with d=3');"
   ],
   "id": "4bc2e643-bfd6-4863-a38c-d3fe948cfdab"
  },
  {
   "cell_type": "markdown",
   "metadata": {},
   "source": [
    "We can compute the error on the training set and on the test set:"
   ],
   "id": "182ab8c6-d80f-499a-a343-f0dfcd92464e"
  },
  {
   "cell_type": "code",
   "execution_count": null,
   "metadata": {},
   "outputs": [],
   "source": [
    "mse_poly3_train = metrics.mean_squared_error(y_train, reg_poly3.predict(x_train_d3))\n",
    "mse_poly3_train"
   ],
   "id": "ef449164-8757-4765-9ef9-0b8e0ad117c7"
  },
  {
   "cell_type": "code",
   "execution_count": null,
   "metadata": {},
   "outputs": [],
   "source": [
    "x_test_d3 = np.column_stack( [x_test**d for d in np.arange(1,4)])\n",
    "mse_poly3 = metrics.mean_squared_error(y_test, reg_poly3.predict(x_test_d3))\n",
    "mse_poly3"
   ],
   "id": "d561d988-fa80-4a06-b1fb-c098fdd3aa01"
  },
  {
   "cell_type": "markdown",
   "metadata": {},
   "source": [
    "In general, though, we don’t know the “true” model order."
   ],
   "id": "09926e2c-b8c6-4eed-875a-5d88a8bb4974"
  },
  {
   "cell_type": "markdown",
   "metadata": {},
   "source": [
    "Suppose we try fitting a linear regression (using transformed features) to this model, starting with $d=1$."
   ],
   "id": "2b47dbf0-bb2a-4e53-b433-a2b2aeba7305"
  },
  {
   "cell_type": "code",
   "execution_count": null,
   "metadata": {},
   "outputs": [],
   "source": [
    "reg_poly1 = LinearRegression().fit(x_train,y_train)"
   ],
   "id": "d11faa29-9f96-4591-8f47-59a61b0bdcdd"
  },
  {
   "cell_type": "code",
   "execution_count": null,
   "metadata": {},
   "outputs": [],
   "source": [
    "sns.scatterplot(x=x_test.squeeze(), y=y_test, label='Test points');\n",
    "plt.xlabel(\"x\");\n",
    "plt.ylabel(\"y\");\n",
    "plt.title(\"Data generated from $1 + 0.5x + 2x^3$\");\n",
    "\n",
    "# Plot true function\n",
    "x_p = np.linspace(-1,1,100);\n",
    "y_p = np.polynomial.polynomial.polyval(x_p, coefs);\n",
    "sns.lineplot(x=x_p,y=y_p, color='red', label='True function');\n",
    "\n",
    "# Plot fitted function\n",
    "x_p = np.linspace(-1,1,100);\n",
    "y_p = reg_poly1.predict(x_p.reshape(-1,1));\n",
    "sns.lineplot(x=x_p, y=y_p, color='green', label='Model with d=1');"
   ],
   "id": "72fb6422-bf70-42a9-9ddb-c81cfb3c8673"
  },
  {
   "cell_type": "markdown",
   "metadata": {},
   "source": [
    "This is an example of *under-fitting* or *under-modeling*. The estimated function is not able to capture the complexity of the relation between $x$ and $y$ - it is not flexible enough.\n",
    "\n",
    "We can compute the error of this model, too:"
   ],
   "id": "c833dc13-5037-49ea-b018-b96b3511c627"
  },
  {
   "cell_type": "code",
   "execution_count": null,
   "metadata": {},
   "outputs": [],
   "source": [
    "mse_poly1_train = metrics.mean_squared_error(y_train, reg_poly1.predict(x_train))\n",
    "mse_poly1_train"
   ],
   "id": "0290d26a-0380-4621-9710-b9a6e54b45c5"
  },
  {
   "cell_type": "code",
   "execution_count": null,
   "metadata": {},
   "outputs": [],
   "source": [
    "mse_poly1 = metrics.mean_squared_error(y_test, reg_poly1.predict(x_test))\n",
    "mse_poly1"
   ],
   "id": "2dcf38a4-83cc-4f6c-8fbe-d880388af387"
  },
  {
   "cell_type": "markdown",
   "metadata": {},
   "source": [
    "It has higher error than the model with $d=3$, which is what we expected."
   ],
   "id": "2857de45-261f-43e0-b390-df781c85db91"
  },
  {
   "cell_type": "markdown",
   "metadata": {},
   "source": [
    "Now suppose that we tried a model order that was too high, say $d=10$."
   ],
   "id": "a66abbdb-5878-47c4-9ff7-eee035f1d08c"
  },
  {
   "cell_type": "code",
   "execution_count": null,
   "metadata": {},
   "outputs": [],
   "source": [
    "x_train_d10 = np.column_stack( [x_train**d for d in np.arange(1,11)])\n",
    "print(x_train_d10.shape)"
   ],
   "id": "828ecb8a-47a5-40b8-b92b-c1f2493d72c4"
  },
  {
   "cell_type": "code",
   "execution_count": null,
   "metadata": {},
   "outputs": [],
   "source": [
    "reg_poly10 = LinearRegression().fit(x_train_d10,y_train)"
   ],
   "id": "598b902d-0ce3-4fec-900b-ecd8209b0770"
  },
  {
   "cell_type": "code",
   "execution_count": null,
   "metadata": {},
   "outputs": [],
   "source": [
    "sns.scatterplot(x=x_test.squeeze(), y=y_test, label='Test points');\n",
    "plt.xlabel(\"x\");\n",
    "plt.ylabel(\"y\");\n",
    "plt.title(\"Data generated from $1 + 0.5x + 2x^3$\");\n",
    "\n",
    "# Plot true function\n",
    "x_p = np.linspace(-1,1,100);\n",
    "y_p = np.polynomial.polynomial.polyval(x_p, coefs);\n",
    "sns.lineplot(x=x_p,y=y_p, color='red', label='True function');\n",
    "\n",
    "# Plot fitted function\n",
    "x_p = np.linspace(-1,1,100)\n",
    "x_p_d10 = np.column_stack( [x_p.reshape(-1,1)**d for d in np.arange(1,11)]) \n",
    "y_p = reg_poly10.predict(x_p_d10);\n",
    "sns.lineplot(x=x_p, y=y_p, color='green', label='Model with d=10');"
   ],
   "id": "2a59588f-f722-4a88-bb27-bbe0b2f00f6b"
  },
  {
   "cell_type": "markdown",
   "metadata": {},
   "source": [
    "The test error of this model is higher than the “true” model order, too. But, the training error is smaller!"
   ],
   "id": "dcc83461-6cd7-4bf4-b167-ff935c697790"
  },
  {
   "cell_type": "code",
   "execution_count": null,
   "metadata": {},
   "outputs": [],
   "source": [
    "mse_poly10_train = metrics.mean_squared_error(y_train, reg_poly10.predict(x_train_d10))\n",
    "mse_poly10_train"
   ],
   "id": "0e9e7223-7c71-4ca8-b8b7-034f6acf3dae"
  },
  {
   "cell_type": "code",
   "execution_count": null,
   "metadata": {},
   "outputs": [],
   "source": [
    "x_test_d10 = np.column_stack( [x_test**d for d in np.arange(1,11)])\n",
    "mse_poly10 = metrics.mean_squared_error(y_test, reg_poly10.predict(x_test_d10))\n",
    "mse_poly10"
   ],
   "id": "b024b3d6-1c91-4bb4-a2cb-beeff6e786fa"
  },
  {
   "cell_type": "markdown",
   "metadata": {},
   "source": [
    "This is called *over-fitting* or *over-modeling*. Because the model is very flexible, it is fitting the noise in the data and not the underlying relationship $y=t(x)$."
   ],
   "id": "591bd594-ba1e-4a28-99df-10a699f05d6b"
  },
  {
   "cell_type": "markdown",
   "metadata": {},
   "source": [
    "When we compare the estimated function with the true function we can see the overfitting and underfitting clearly. But, in a real problem, we would not have access to the true function (otherwise, we wouldn’t need to be estimating it). The question then is if we can determine the correct model order from data.\n",
    "\n",
    "This problem is known as the *model order selection* problem."
   ],
   "id": "e580c2aa-eb1a-439d-b1dd-4cf4661771ca"
  },
  {
   "cell_type": "markdown",
   "metadata": {},
   "source": [
    "One (bad) idea is for each model order to measure the MSE on the training data and select $d$ that minimizes the MSE. To do this, the code below loops over a model order `d = 1,2,...,14` and for each model order, fits a model and measures the MSE."
   ],
   "id": "1fdce20a-ddb3-4bcb-8d6f-59dab1a95d5f"
  },
  {
   "cell_type": "code",
   "execution_count": null,
   "metadata": {},
   "outputs": [],
   "source": [
    "dtest_list = np.arange(1,20)\n",
    "mse_tr = np.zeros(len(dtest_list))\n",
    "mse_test = np.zeros(len(dtest_list))\n",
    "\n",
    "\n",
    "for didx, dtest in enumerate(dtest_list):\n",
    "\n",
    "    # get transformed features\n",
    "    x_train_dtest = np.column_stack( [x_train**d for d in np.arange(1,(dtest+1))])\n",
    "    x_test_dtest = np.column_stack( [x_test**d for d in np.arange(1,(dtest+1))])\n",
    "\n",
    "    # fit data\n",
    "    reg_dtest = LinearRegression().fit(x_train_dtest,y_train)\n",
    "    \n",
    "    # measure MSE on training data\n",
    "    y_hat = reg_dtest.predict(x_train_dtest)\n",
    "    mse_tr[didx] = metrics.mean_squared_error(y_train, y_hat)\n",
    "\n",
    "    # measure MSE on test data\n",
    "    y_hat_test = reg_dtest.predict(x_test_dtest)\n",
    "    mse_test[didx] = metrics.mean_squared_error(y_test, y_hat_test)"
   ],
   "id": "5158803d-58b4-4a99-9e23-67d5e31703d8"
  },
  {
   "cell_type": "code",
   "execution_count": null,
   "metadata": {},
   "outputs": [],
   "source": [
    "sns.lineplot(x=dtest_list,y=mse_tr, marker=\"o\", label=\"Training\");\n",
    "sns.lineplot(x=dtest_list,y=mse_test, marker=\"o\", label=\"Test\");\n",
    "plt.xlabel('Model order');\n",
    "plt.ylabel('MSE');"
   ],
   "id": "12aa4dca-7033-46df-ae5f-4db6200ac8fc"
  },
  {
   "cell_type": "markdown",
   "metadata": {},
   "source": [
    "As we increase $d$, the training MSE always decreases. So minimizing MSE on the training data leads to selecting a very high $d$ which in turn results in over-fitting.\n",
    "\n",
    "On the test data, we observe that the test MSE is high at first (due to high bias), then decreases, then increases again (due to high variance). The model with the smallest MSE on this particular test set may or may not be the model that best reflects the true relationship. (The performance on this test set is still subject to the random draw of samples in the test set!)"
   ],
   "id": "ea8f2786-adcd-4b29-ad77-cdd4b8c84cee"
  },
  {
   "cell_type": "markdown",
   "metadata": {},
   "source": [
    "## Overfitting and underfitting: uninformative features"
   ],
   "id": "6d29424b-2d0d-44ee-bb1f-ae122639003d"
  },
  {
   "cell_type": "markdown",
   "metadata": {},
   "source": [
    "Overfitting and underfitting can occur even with a “regular” linear regression on the original features."
   ],
   "id": "cd5b84c9-5e2b-4078-ae30-e354a9eebb0d"
  },
  {
   "cell_type": "markdown",
   "metadata": {},
   "source": [
    "In a previous lesson, we introduced a Python function that generates data using\n",
    "\n",
    "$$y_i = w_0 + w_1 x_{i,1} + \\ldots + w_d x_{i,d} + \\epsilon_i $$\n",
    "\n",
    "where $\\epsilon_i \\sim N(0, \\sigma^2)$."
   ],
   "id": "9c800aa6-8655-4520-b15e-a0ff613e55b6"
  },
  {
   "cell_type": "markdown",
   "metadata": {},
   "source": [
    "Now, we will introduce a slight variation on this function: we will add the ability to include *uninformative* features. These features are not related to the target variable $y$."
   ],
   "id": "bd9f4339-70b0-4b09-a1c2-21517e67b035"
  },
  {
   "cell_type": "code",
   "execution_count": null,
   "metadata": {},
   "outputs": [],
   "source": [
    "def generate_linear_regression_data(n=100, d=1, coef=[5], intercept=1, sigma=0, uninformative=0):\n",
    "  x = np.random.uniform(-1,1,size=(n,d-uninformative))\n",
    "  y = (np.dot(x, coef) + intercept).squeeze() + sigma * np.random.randn(n)\n",
    "  if uninformative:\n",
    "    x = np.column_stack((x, np.random.randn(n,uninformative)))\n",
    "\n",
    "  return x, y"
   ],
   "id": "1a82ff12-bee1-4613-bdaa-357d176009aa"
  },
  {
   "cell_type": "markdown",
   "metadata": {},
   "source": [
    "For example, let’s generate some data with 2 informative features (with some noise), and 2 uninformative features:"
   ],
   "id": "f5a4a997-261d-46af-b06c-4f7dc45e8176"
  },
  {
   "cell_type": "code",
   "execution_count": null,
   "metadata": {},
   "outputs": [],
   "source": [
    "x, y = generate_linear_regression_data(n=100, d=4, coef=[5,5], intercept=1, sigma=1, uninformative=2)"
   ],
   "id": "9c71ed49-8d4c-43da-8dae-cf7b06126709"
  },
  {
   "cell_type": "code",
   "execution_count": null,
   "metadata": {},
   "outputs": [],
   "source": [
    "x.shape"
   ],
   "id": "0d6b4587-3e43-487e-a6d2-61ec5d1a2620"
  },
  {
   "cell_type": "code",
   "execution_count": null,
   "metadata": {},
   "outputs": [],
   "source": [
    "p = plt.figure(figsize=(10,10));\n",
    "for i in range(4):\n",
    "  p = plt.subplot(2,2,i+1);\n",
    "  p = plt.scatter(x[:,i],  y);\n",
    "  p = plt.xlabel(\"x\" + str(i+1));\n",
    "  p = plt.ylabel(\"y\");"
   ],
   "id": "6b314e62-af7f-4bde-b39e-fd304ebea8be"
  },
  {
   "cell_type": "markdown",
   "metadata": {},
   "source": [
    "Once we fit a linear regression model, it is apparent that $x_3$ and $x_4$ do not affect $y$ - the coefficients $w_3$ and $w_4$ are close to zero."
   ],
   "id": "1c265390-6dad-4882-9ee6-bed4ab4661f8"
  },
  {
   "cell_type": "code",
   "execution_count": null,
   "metadata": {},
   "outputs": [],
   "source": [
    "reg_demo = LinearRegression().fit(x, y)\n",
    "print(\"Coefficient list: \", reg_demo.coef_)\n",
    "print(\"Intercept: \" , reg_demo.intercept_)"
   ],
   "id": "7fb37ec1-6e5a-48bb-bc27-4a241a7dffbe"
  },
  {
   "cell_type": "markdown",
   "metadata": {},
   "source": [
    "What if we have many more uninformative features, though, and lots of noise relative to the true relationship?"
   ],
   "id": "7762bec7-f81d-401e-98e5-0b8333eb4f25"
  },
  {
   "cell_type": "code",
   "execution_count": null,
   "metadata": {},
   "outputs": [],
   "source": [
    "n_samples = 100\n",
    "d = 95\n",
    "informative = 20\n",
    "coef = np.repeat(1,informative)\n",
    "sigma = 1\n",
    "intercept = 1"
   ],
   "id": "cb6a0ccd-058e-4252-a03d-e1ab3adc908b"
  },
  {
   "cell_type": "code",
   "execution_count": null,
   "metadata": {},
   "outputs": [],
   "source": [
    "x_train, y_train = generate_linear_regression_data(n=n_samples, d=d, coef=coef, intercept=intercept, sigma=sigma, uninformative=d-informative)\n",
    "x_test, y_test = generate_linear_regression_data(n=n_samples, d=d, coef=coef, intercept=intercept, sigma=sigma, uninformative=d-informative)"
   ],
   "id": "183bef1c-d98e-4e6b-9e65-6cbd30f6a942"
  },
  {
   "cell_type": "code",
   "execution_count": null,
   "metadata": {},
   "outputs": [],
   "source": [
    "reg_all = LinearRegression().fit(x_train, y_train)"
   ],
   "id": "4c9a43f3-44c2-4dc5-8a4e-35748360b735"
  },
  {
   "cell_type": "markdown",
   "metadata": {},
   "source": [
    "The following plot shows the coefficient value for each feature:"
   ],
   "id": "7f4f8fdb-7639-445c-b8be-b3220e74f8f0"
  },
  {
   "cell_type": "code",
   "execution_count": null,
   "metadata": {},
   "outputs": [],
   "source": [
    "plt.figure(figsize=(20,5))\n",
    "plt.stem(np.arange(0, d),reg_all.coef_, bottom=0);\n",
    "plt.xticks(np.arange(0, d, 1.0), rotation=90);"
   ],
   "id": "c1967e52-ff2d-4c13-a4fc-be92f58cc251"
  },
  {
   "cell_type": "markdown",
   "metadata": {},
   "source": [
    "We observe that the informative features don’t necessarily have coefficients with the largest magnitudes. The random “relationship” between an uninformative feature $x$ and $y$ appears, in some cases, as strong or stronger than the true relationship between an informative $x$ and $y$."
   ],
   "id": "a9773c65-4009-4606-97ac-a183dc892797"
  },
  {
   "cell_type": "markdown",
   "metadata": {},
   "source": [
    "If we compute R2 on the training set, everything looks great:"
   ],
   "id": "02509ffa-bbba-4986-85f3-d5c09b71915f"
  },
  {
   "cell_type": "code",
   "execution_count": null,
   "metadata": {},
   "outputs": [],
   "source": [
    "y_hat = reg_all.predict(x_train)"
   ],
   "id": "b6c629c5-e1ac-4aed-98ba-f7dd146a6017"
  },
  {
   "cell_type": "code",
   "execution_count": null,
   "metadata": {},
   "outputs": [],
   "source": [
    "metrics.r2_score(y_train, y_hat)"
   ],
   "id": "8b6977d5-6d1a-41fc-8ad6-91555ed99b93"
  },
  {
   "cell_type": "markdown",
   "metadata": {},
   "source": [
    "R2 is great!"
   ],
   "id": "ced6ee59-889a-4e0b-9708-d8c49c92edf4"
  },
  {
   "cell_type": "markdown",
   "metadata": {},
   "source": [
    "But what happens if we try to use our model to predict $y$ for some new, unseen data, from the same distribution?"
   ],
   "id": "a659a052-fb48-4442-842f-79543497e793"
  },
  {
   "cell_type": "code",
   "execution_count": null,
   "metadata": {},
   "outputs": [],
   "source": [
    "y_test_hat = reg_all.predict(x_test)\n",
    "metrics.r2_score(y_test, y_test_hat)"
   ],
   "id": "66fadc91-2635-4166-be93-5c85b707879c"
  },
  {
   "cell_type": "markdown",
   "metadata": {},
   "source": [
    "That’s not good at all! Due to severe *over-fitting*, the model performs much worse on the test set than it did on the training set."
   ],
   "id": "6ef6b8fb-d3b7-44b8-af4f-a3fc62545e37"
  },
  {
   "cell_type": "markdown",
   "metadata": {},
   "source": [
    "Suppose that, to avoid overfitting, we decide to use only a subset of features. We don’t know a priori which features are the most informative. This problem is known as the *feature selection problem*.\n",
    "\n",
    "Perhaps we may decide to try adding one feature at a time to our model, in order, and measure the MSE.\n",
    "\n",
    "(Obviously, there are better ways to do feature selection! But for our demo, this will suffice.)"
   ],
   "id": "080ba190-1cef-4f42-9f8e-adafc383f583"
  },
  {
   "cell_type": "code",
   "execution_count": null,
   "metadata": {},
   "outputs": [],
   "source": [
    "dtest_list = np.arange(1,d)\n",
    "r2_tr = np.zeros(len(dtest_list))\n",
    "r2_test = np.zeros(len(dtest_list))\n",
    "\n",
    "column_order = np.random.permutation(x_train.shape[1])\n",
    "x_train_shuffle = x_train[:, column_order]\n",
    "x_test_shuffle  = x_test[:, column_order]\n",
    "\n",
    "\n",
    "for didx, dtest in enumerate(dtest_list):\n",
    "\n",
    "    # get data with the right number of features\n",
    "    x_train_dtest = x_train_shuffle[:, :dtest]\n",
    "    x_test_dtest = x_test_shuffle[:, :dtest]\n",
    "\n",
    "    # fit data\n",
    "    reg_dtest = LinearRegression().fit(x_train_dtest,y_train)\n",
    "    \n",
    "    # measure R2 on training data\n",
    "    y_hat = reg_dtest.predict(x_train_dtest)\n",
    "    r2_tr[didx] = metrics.r2_score(y_train, y_hat)\n",
    "\n",
    "    # measure R2 on test data\n",
    "    y_hat_test = reg_dtest.predict(x_test_dtest)\n",
    "    r2_test[didx] = metrics.r2_score(y_test, y_hat_test)"
   ],
   "id": "0ad227ff-4d85-48c2-8dde-3f78a9dae7d3"
  },
  {
   "cell_type": "code",
   "execution_count": null,
   "metadata": {},
   "outputs": [],
   "source": [
    "sns.lineplot(x=dtest_list,y=r2_tr, label=\"Training\");\n",
    "sns.lineplot(x=dtest_list,y=r2_test, label=\"Test\");\n",
    "plt.xlabel('Number of features in model');\n",
    "plt.ylabel('R2');"
   ],
   "id": "1ca024c6-ba6b-476d-823b-d7775821ad66"
  },
  {
   "cell_type": "markdown",
   "metadata": {},
   "source": [
    "As in the previous example, where the model performed better on the training set with higher $d$, we see again that adding complexity reduces the training error and increases R2 on the training data - but not on the test data."
   ],
   "id": "a44c4a30-5268-4008-aa6b-89a9ab6b9732"
  },
  {
   "cell_type": "markdown",
   "metadata": {},
   "source": [
    "## Bias and variance"
   ],
   "id": "836868f0-5dda-4b9b-a2c4-a7df95aa1089"
  },
  {
   "cell_type": "markdown",
   "metadata": {},
   "source": [
    "Recall that we are trying to estimate some value $y$, which is related to $x$ by some “true” function, $t(x)$.\n",
    "\n",
    "In general, $t(x)$ is not known to us. We do, however, have some “noisy” samples of $y$, generated from\n",
    "\n",
    "$$y = t(x) + \\epsilon$$\n",
    "\n",
    "where $\\epsilon \\sim N(0, \\sigma^2)$.\n",
    "\n",
    "We use these training samples to “learn” a function $f(x,w)$ parameterized by $w$ such that for samples in the training set,\n",
    "\n",
    "$$y \\approx f(x,w)$$\n",
    "\n",
    "Our ultimate goal, however, is to learn the function that will best approximate samples that we have not yet seen, but that have also been generated from\n",
    "\n",
    "$$y = t(x) + \\epsilon$$"
   ],
   "id": "a32d7a40-1233-4bdb-aeba-026356744911"
  },
  {
   "cell_type": "markdown",
   "metadata": {},
   "source": [
    "What might go wrong?"
   ],
   "id": "9c54ba22-8868-4270-af44-bf99d5afb19a"
  },
  {
   "cell_type": "markdown",
   "metadata": {},
   "source": [
    "### Bias\n",
    "\n",
    "We might try to learn a class of function that is simply not capable of expressing $t(x)$.\n",
    "\n",
    "We observed this in the polynomial example, when we tried learning\n",
    "\n",
    "$$t(x) = w_0 + w_1 x + w_2 x^2 + w_3 x^3$$\n",
    "\n",
    "using\n",
    "\n",
    "$$f(x,w) = w_0 + w_1 x$$\n",
    "\n",
    "(or any $d < 3$.)\n",
    "\n",
    "We also observed this in the example with many features, when we tried learning\n",
    "\n",
    "$$t(x) = w_0 + w_1 x_1 + \\ldots + w_{20} x_{20}$$\n",
    "\n",
    "using a smaller number of features, e.g.\n",
    "\n",
    "$$f(x,w) = w_0 + w_1 x_1 + \\ldots + w_{10} x_{10}$$"
   ],
   "id": "e224f7fe-7f84-4ca0-92c5-4fc73d639c89"
  },
  {
   "cell_type": "markdown",
   "metadata": {},
   "source": [
    "### Variance\n",
    "\n",
    "We might learn the right class of function, but due to the stochastic noise in the training samples, and the random draw of training samples, our parameter estimates are different from the “true” values.\n",
    "\n",
    "We observed this in the polynomial example, when we tried learning\n",
    "\n",
    "$$t(x) = w_0 + w_1 x + w_2 x^2 + w_3 x^3$$\n",
    "\n",
    "using\n",
    "\n",
    "$$f(x,w) = w_0 + w_1 x + \\ldots + w_d x^d$$\n",
    "\n",
    "with $d \\geq 3$. The more complex polynomial *is* capable of expressing $t(x)$ - if we would learn exactly the correct coefficients for $w_i, 0 \\leq i \\leq 3$ and $w_i = 0$ for $i > 3$. But, we had some error in the coefficient estimates, because our coefficient estimates are tuned to the noise in the training data. The more coefficients we learn, the more potential for error.\n",
    "\n",
    "We also observed this in the example with many features, when we tried learning\n",
    "\n",
    "$$t(x) = w_0 + w_1 x_1 + \\ldots + w_{20} x_{20}$$\n",
    "\n",
    "using\n",
    "\n",
    "$$f(x,w) = w_0 + w_1 x_1 + \\ldots + w_d x_d$$\n",
    "\n",
    "with $d \\geq 20$. Again, the model with extra uninformative features is *capable* of expressing $t(x)$ - if we would learn exactly the correct coefficients for $w_i, 0 \\leq i \\leq 20$ and $w_i = 0$ for $i > 20$. But, we had some error in the coefficient estimates, because our coefficient estimates are tuned to the noise in the training data. The more coefficients we learn, the more potential for error."
   ],
   "id": "cf0a1a1c-1ece-4718-9b56-d7b507dc9a05"
  },
  {
   "cell_type": "markdown",
   "metadata": {},
   "source": [
    "### Irreducible error\n",
    "\n",
    "Even if we learn exactly the right function, $f(x,w) = t(x)$, and we also learn the correct parameters, but still have error in our estimate of $y$ because of the stochastic “noise” in the data. We cannot “learn” $\\epsilon$, it is unpredictable."
   ],
   "id": "d33628fe-a277-4585-bd11-a77882e962f7"
  },
  {
   "cell_type": "markdown",
   "metadata": {},
   "source": [
    "### Decomposition of test MSE\n",
    "\n",
    "We know that the expected MSE on a new, unseen test point, can be decomposed into those three factors. Let us denote $E[f(x,w)]$ as $\\bar{f}(x,w)$, then\n",
    "\n",
    "$$\n",
    "\\begin{aligned}\n",
    "\\text{Test MSE} &= E [(y - \\hat{y})^2] \\\\\n",
    "&= E [(t(x) + \\epsilon - f(x,w))^2] \\\\\n",
    "&= E (\\epsilon)^2 + E [(t(x) - f(x,w))^2] \\\\\n",
    "&=  E (\\epsilon)^2 + E[t(x) - \\bar{f}(x,w)]^2 + E[(f(x,w) - \\bar{f}(x,w))^2] \\\\\n",
    "&= \\sigma^2 + \\text{Bias}^2 + \\text{Var}(f(x,w))\n",
    "\\end{aligned}\n",
    "$$\n",
    "\n",
    "where the expectation is over the draw of the training set and the noise."
   ],
   "id": "d74ab1dd-7317-4a05-ac55-c7ef46fcc37c"
  },
  {
   "cell_type": "markdown",
   "metadata": {},
   "source": [
    "-   The $\\sigma^2$ term captures the random noise in the data, which cannot be “learned”\n",
    "-   The $E[t(x) - \\bar{f}(x,w)]^2$ term captures any systematic difference between the function learned by our model and the true function, as will occur when the model cannot express the true function.\n",
    "-   The $E[(f(x,w) - \\bar{f}(x,w))^2]$ term captures the difference between the coefficient estimate due to a particular random training set, and the average coefficient estimate - in other words, the variance of the prediction over many fitted instances."
   ],
   "id": "601f7a0a-f0f6-4de0-a796-9b598ae63e8f"
  },
  {
   "cell_type": "markdown",
   "metadata": {},
   "source": [
    "### Bias and variance for linear regression"
   ],
   "id": "d67a93eb-2654-41f0-8662-46bfee60e816"
  },
  {
   "cell_type": "markdown",
   "metadata": {},
   "source": [
    "We shall state here the following results, without proof, for a linear regression trained using least squares, with $n$ samples and having $d$ parameters. We also assume that $n \\geq d$ and the data matrix is full rank."
   ],
   "id": "251fd84a-f203-44d9-81bf-282417487649"
  },
  {
   "cell_type": "markdown",
   "metadata": {},
   "source": [
    "**Bias**: If there is no under-modeling, then on average, the estimate of $y$ is unbiased, i.e.\n",
    "\n",
    "$$\\text{Bias}(f(x,w)) = 0$$"
   ],
   "id": "bbca4ec5-5b4f-4a98-879c-3f1f245afab3"
  },
  {
   "cell_type": "markdown",
   "metadata": {},
   "source": [
    "**Variance**: On average, the variance increases linearly with the number of parameters $d$ and inversely with the number of samples used for training $n$:\n",
    "\n",
    "$$\\text{Var}(f(x,w)) = \\frac{d}{n} \\sigma^2 $$\n",
    "\n",
    "where \\$ \\sigma^2\\$ is the stochastic noise variance."
   ],
   "id": "a024afeb-97e9-4c0f-ac8b-180672833187"
  },
  {
   "cell_type": "markdown",
   "metadata": {},
   "source": [
    "## Check your understanding with simulation"
   ],
   "id": "05884155-9574-4ccb-bc21-eb133c61e375"
  },
  {
   "cell_type": "markdown",
   "metadata": {},
   "source": [
    "For each of the following pairs of regression models, answer:\n",
    "\n",
    "-   Which model in each pair will have greater expected variance of its estimate of $y$?\n",
    "-   Which model in each pair will have greater bias?\n",
    "\n",
    "(Assume that the two models in each pair are identical except for the differences that are specified.)\n",
    "\n",
    "Then, we’ll check our answer with a simulation experiment, in which we:\n",
    "\n",
    "-   Draw a test set from the distribution of the data\n",
    "-   Many times:\n",
    "    -   Draw a training set from the distribution of the data\n",
    "    -   Fit each model on the training set\n",
    "    -   Compute error on the test set\n",
    "\n",
    "**Note**: we can’t do this when applying machine learning to a real problem with real data! Why not?\n",
    "\n",
    "**Note**: this procedure won’t give us the *exact* bias and variance of the model that we could compute using the closed form expression - why not?"
   ],
   "id": "8696c10f-f824-43aa-8d7d-b9ac0a835ac1"
  },
  {
   "cell_type": "markdown",
   "metadata": {},
   "source": [
    "### Constant model vs mean"
   ],
   "id": "a1df776c-a15c-4789-a604-352438926bf0"
  },
  {
   "cell_type": "markdown",
   "metadata": {},
   "source": [
    "Suppose that data is generated as\n",
    "\n",
    "$$y = 1 + \\epsilon$$\n",
    "\n",
    "where $\\epsilon \\sim N(0, \\sigma^2)$.\n",
    "\n",
    "We will consider two models:\n",
    "\n",
    "**Model A** is a constant model:\n",
    "\n",
    "$$\\hat{y} = 1$$\n",
    "\n",
    "**Model B** is the mean of the training samples.\n",
    "\n",
    "$$\\hat{y} = \\bar{y} = \\frac{1}{n} \\sum_{i=1}^n y_i $$"
   ],
   "id": "c5f44628-a2bc-4bf8-8daa-1c4aed9d3596"
  },
  {
   "cell_type": "code",
   "execution_count": null,
   "metadata": {},
   "outputs": [],
   "source": [
    "n_repeat = 1000\n",
    "n_test = 50\n",
    "n_train = 5\n",
    "sigma = 1"
   ],
   "id": "7ec9e58f-6cd8-4849-80ea-e6452e423605"
  },
  {
   "cell_type": "code",
   "execution_count": null,
   "metadata": {},
   "outputs": [],
   "source": [
    "# generate test data once\n",
    "x_test = np.random.uniform(-1, 1, size=(n_test, 1))\n",
    "y_test = np.ones(n_test) + sigma*np.random.randn(n_test)\n",
    "y_test_no_noise = np.ones(n_test)"
   ],
   "id": "e3acb71d-22c7-458b-9525-18b328b450b8"
  },
  {
   "cell_type": "code",
   "execution_count": null,
   "metadata": {},
   "outputs": [],
   "source": [
    "# prepare some matrices for storing simulation results\n",
    "y_predict = np.zeros((n_test, n_repeat, 2))\n",
    "\n",
    "y_test_err = np.zeros((n_test, n_repeat, 2))\n",
    "y_test_bias = np.zeros((n_test, 2))"
   ],
   "id": "35b070e1-dac2-49bd-9b0f-724a29233b56"
  },
  {
   "cell_type": "code",
   "execution_count": null,
   "metadata": {},
   "outputs": [],
   "source": [
    "# now simulate training the model many times, on different training data every time\n",
    "# and evaluate using the test data\n",
    "for i in range(n_repeat):\n",
    "\n",
    "  # train both models on newly generated training data\n",
    "  # note: we don't need X data since y is independent of X\n",
    "  y_train = np.ones(n_train) + sigma*np.random.randn(n_train)\n",
    "\n",
    "  # model A: predict constant always\n",
    "  y_predict[:, i, 0] = np.repeat(1, n_test) \n",
    "  # model B: predict mean of training samples\n",
    "  y_predict[:, i, 1] = np.mean(y_train)\n",
    "\n",
    "  # overall squared error is due to difference between f_t(x) + epsilon, model prediction f(x,w) \n",
    "  y_test_err[:, i, 0] = (y_test - y_predict[:, i, 0])**2\n",
    "  y_test_err[:, i, 1] = (y_test - y_predict[:, i, 1])**2"
   ],
   "id": "d731376f-ccd9-40ab-85d8-4263e775c3d8"
  },
  {
   "cell_type": "code",
   "execution_count": null,
   "metadata": {},
   "outputs": [],
   "source": [
    "# bias is due to difference between f_t(x) and mean of model prediction f(x,w) \n",
    "y_test_bias[:, 0] = (y_test_no_noise - y_predict[:, :, 0].mean(axis=1))**2\n",
    "y_test_bias[:, 1] = (y_test_no_noise - y_predict[:, :, 1].mean(axis=1))**2"
   ],
   "id": "8cc2eb50-b58a-49ee-8310-86218c90bdd6"
  },
  {
   "cell_type": "code",
   "execution_count": null,
   "metadata": {},
   "outputs": [],
   "source": [
    "# irreducible error is due to the difference between f_t(x) and f_t(x) + epsilon\n",
    "y_test_noise_var = (y_test_no_noise - y_test)**2"
   ],
   "id": "86878529-5820-47cd-b3c3-bd7f115c7435"
  },
  {
   "cell_type": "code",
   "execution_count": null,
   "metadata": {},
   "outputs": [],
   "source": [
    "p = plt.figure(figsize=(10,10));\n",
    "\n",
    "models = ['Model A', 'Model B']\n",
    "\n",
    "for midx, model in enumerate(models):\n",
    "  p = plt.subplot(2, 2, midx+1);\n",
    "  for i in range(n_repeat):\n",
    "    p = sns.lineplot(x=x_test.squeeze(), y=y_predict[:, i, midx], alpha=0.05, color='orange');\n",
    "  p = sns.lineplot(x=x_test.squeeze(), y=y_predict[:, :, midx].mean(axis=1), color='red', label='Mean of models');\n",
    "  p = sns.scatterplot(x=x_test[0:50].squeeze(), y=y_test[0:50], label='Test data');\n",
    "  p = plt.xlabel('x');\n",
    "  p = plt.ylabel('y');\n",
    "  p = plt.title(model);\n",
    "  p = plt.ylim(y_test.min()*1.1, y_test.max()*1.1)\n",
    " \n",
    "  p = plt.subplot(2, 2, midx+3);\n",
    "  p = sns.lineplot(x=x_test.squeeze(), y=y_test_err[:, :, midx].mean(axis=1), color='red', alpha=0.5, label='Total squared error', markers=True);\n",
    "  p = sns.lineplot(x=x_test.squeeze(), y=y_test_bias[:, midx], color='cyan', alpha=0.5, label='Bias^2');\n",
    "  p = sns.lineplot(x=x_test.squeeze(), y=y_predict[:, :, midx].var(axis=1), color='green', alpha=0.5, label='Variance');\n",
    "  p = sns.lineplot(x=x_test.squeeze(), y=y_test_noise_var, color='purple', alpha=0.2, label='Irreducible error');\n",
    "  p = plt.xlabel('x');\n",
    "  p = plt.ylabel('Error');\n",
    "  p = plt.title(\"MSE: %f \\n Irreducible error: %f \\n Bias^2: %f \\n Variance: %f \" % \n",
    "                (y_test_err[:,:,midx].mean(axis=(0,1)), \n",
    "                 y_test_noise_var.mean(), \n",
    "                 (y_test_bias[:, midx]).mean(),\n",
    "                  y_predict[:, :, midx].var(axis=1).mean() ) )\n",
    "  p = plt.ylim(0, 1.1* y_test_err[:, :, :].mean(axis=(1)).max() )\n",
    "\n",
    "plt.subplots_adjust(hspace=0.5)"
   ],
   "id": "056c42a3-8b10-4f78-9d46-f343458b8a19"
  },
  {
   "cell_type": "markdown",
   "metadata": {},
   "source": [
    "Question:\n",
    "\n",
    "-   Are the specific values of bias and variance consistent with our expectations?\n",
    "-   What would happen if \\$\\sigma = 0 \\$?\n",
    "-   What would happen if we used $\\hat{y} = 2$ for the constant model?\n",
    "-   What would happen if we would use $\\hat{y} = \\bar{y} + 2$ instead of $\\bar{y}$ for the mean model?"
   ],
   "id": "ca148a9d-9f73-448e-a905-fee9e56e11b8"
  },
  {
   "cell_type": "markdown",
   "metadata": {},
   "source": [
    "### Mean vs. linear model with d=1"
   ],
   "id": "e46c8be6-ce9c-4d63-b66f-f86ad5e47dd7"
  },
  {
   "cell_type": "markdown",
   "metadata": {},
   "source": [
    "Suppose that data is generated as\n",
    "\n",
    "$$y = 1 + \\epsilon$$\n",
    "\n",
    "where $\\epsilon \\sim N(0, \\sigma^2)$.\n",
    "\n",
    "We will consider two models:\n",
    "\n",
    "**Model A** is a linear model with $d=1$ (using an uninformative feature, since $y$ is not a function of any $x$), trained using least squares:\n",
    "\n",
    "$$\\hat{y} = w_0 + w_1 x$$\n",
    "\n",
    "**Model B** is the mean of the training samples.\n",
    "\n",
    "$$\\hat{y} = \\bar{y} = \\frac{1}{n} \\sum_{i=1}^n y_i $$"
   ],
   "id": "5bb2ce9e-a6f3-424b-9095-0e0d14b6f006"
  },
  {
   "cell_type": "code",
   "execution_count": null,
   "metadata": {},
   "outputs": [],
   "source": [
    "n_repeat = 1000\n",
    "n_test = 50\n",
    "n_train = 5\n",
    "sigma = 1"
   ],
   "id": "e4f16ab2-4c9b-4b46-b9b2-93f923377ff4"
  },
  {
   "cell_type": "code",
   "execution_count": null,
   "metadata": {},
   "outputs": [],
   "source": [
    "# generate test data once\n",
    "x_test = np.random.uniform(-1, 1, size=(n_test, 1))\n",
    "y_test = np.ones(n_test) + sigma*np.random.randn(n_test)\n",
    "y_test_no_noise = np.ones(n_test)"
   ],
   "id": "e3a12871-053b-4f4e-8739-8765f0a84c4d"
  },
  {
   "cell_type": "code",
   "execution_count": null,
   "metadata": {},
   "outputs": [],
   "source": [
    "# prepare some matrices for storing simulation results\n",
    "y_predict = np.zeros((n_test, n_repeat, 2))\n",
    "\n",
    "y_test_err = np.zeros((n_test, n_repeat, 2))\n",
    "y_test_bias = np.zeros((n_test, 2))"
   ],
   "id": "b8547d42-7066-4397-9a90-6d5ede569bdd"
  },
  {
   "cell_type": "code",
   "execution_count": null,
   "metadata": {},
   "outputs": [],
   "source": [
    "# now simulate training the model many times, on different training data every time\n",
    "# and evaluate using the test data\n",
    "for i in range(n_repeat):\n",
    "\n",
    "  # train both models on newly generated training data\n",
    "  y_train = np.ones(n_train) + sigma*np.random.randn(n_train)\n",
    "  x_train = np.random.uniform(-1,1, size=(n_train, 1))\n",
    "\n",
    "  # model A: fit linear model\n",
    "  reg_a = LinearRegression().fit(x_train, y_train)\n",
    "  y_predict[:, i, 0] = reg_a.predict(x_test)\n",
    "  # model B: predict mean of training samples\n",
    "  y_predict[:, i, 1] = np.mean(y_train)\n",
    "\n",
    "  # overall squared error is due to difference between f_t(x) + epsilon, model prediction f(x,w) \n",
    "  y_test_err[:, i, 0] = (y_test - y_predict[:, i, 0])**2\n",
    "  y_test_err[:, i, 1] = (y_test - y_predict[:, i, 1])**2"
   ],
   "id": "a509599f-8025-479f-95e8-97c90a32006e"
  },
  {
   "cell_type": "code",
   "execution_count": null,
   "metadata": {},
   "outputs": [],
   "source": [
    "# bias is due to difference between f_t(x) and mean of model prediction f(x,w) \n",
    "y_test_bias[:, 0] = (y_test_no_noise - y_predict[:, :, 0].mean(axis=1))**2\n",
    "y_test_bias[:, 1] = (y_test_no_noise - y_predict[:, :, 1].mean(axis=1))**2"
   ],
   "id": "6366b386-6876-4b05-b687-edbcdda1cb8b"
  },
  {
   "cell_type": "code",
   "execution_count": null,
   "metadata": {},
   "outputs": [],
   "source": [
    "# irreducible error is due to the difference between f_t(x) and f_t(x) + epsilon\n",
    "y_test_noise_var = (y_test_no_noise - y_test)**2"
   ],
   "id": "f4bab436-acef-4fd3-8fda-d3abbb85b318"
  },
  {
   "cell_type": "code",
   "execution_count": null,
   "metadata": {},
   "outputs": [],
   "source": [
    "p = plt.figure(figsize=(10,10));\n",
    "\n",
    "models = ['Model A', 'Model B']\n",
    "\n",
    "for midx, model in enumerate(models):\n",
    "  p = plt.subplot(2, 2, midx+1);\n",
    "  for i in range(n_repeat):\n",
    "    p = sns.lineplot(x=x_test.squeeze(), y=y_predict[:, i, midx], alpha=0.05, color='orange');\n",
    "  p = sns.lineplot(x=x_test.squeeze(), y=y_predict[:, :, midx].mean(axis=1), color='red', label='Mean of models');\n",
    "  p = sns.scatterplot(x=x_test[0:50].squeeze(), y=y_test[0:50], label='Test data');\n",
    "  p = plt.xlabel('x');\n",
    "  p = plt.ylabel('y');\n",
    "  p = plt.title(model);\n",
    "  p = plt.ylim(y_test.min()*1.1, y_test.max()*1.1)\n",
    "\n",
    "  p = plt.subplot(2, 2, midx+3);\n",
    "  p = sns.lineplot(x=x_test.squeeze(), y=y_test_err[:, :, midx].mean(axis=1), color='red', alpha=0.5, label='Total squared error', markers=True);\n",
    "  p = sns.lineplot(x=x_test.squeeze(), y=y_test_bias[:, midx], color='cyan', alpha=0.5, label='Bias^2');\n",
    "  p = sns.lineplot(x=x_test.squeeze(), y=y_predict[:, :, midx].var(axis=1), color='green', alpha=0.5, label='Variance');\n",
    "  p = sns.lineplot(x=x_test.squeeze(), y=y_test_noise_var, color='purple', alpha=0.2, label='Irreducible error');\n",
    "  p = plt.xlabel('x');\n",
    "  p = plt.ylabel('Error');\n",
    "  p = plt.title(\"MSE: %f \\n Irreducible error: %f \\n Bias^2: %f \\n Variance: %f \" % \n",
    "                (y_test_err[:,:,midx].mean(axis=(0,1)), \n",
    "                 y_test_noise_var.mean(), \n",
    "                 (y_test_bias[:, midx]).mean(),\n",
    "                  y_predict[:, :, midx].var(axis=1).mean() ) )\n",
    "  p = plt.ylim(0, 1.1* y_test_err[:, :, :].mean(axis=(1)).max() )\n",
    "\n",
    "plt.subplots_adjust(hspace=0.5)"
   ],
   "id": "036bb7ce-91e7-4ce0-804d-431f6c38fd0a"
  },
  {
   "cell_type": "markdown",
   "metadata": {},
   "source": [
    "### Linear model with 10 vs. 1000 training samples"
   ],
   "id": "bfd203f7-4937-47cb-a5f0-eaa316f8ad8f"
  },
  {
   "cell_type": "markdown",
   "metadata": {},
   "source": [
    "**Model A**:\n",
    "\n",
    "$$\\hat{y} = w_0 + w_1 x_1$$\n",
    "\n",
    "with least squares estimate of parameters, $n = 10$ training samples.\n",
    "\n",
    "**Model B**:\n",
    "\n",
    "$$\\hat{y} = w_0 + w_1 x_1$$\n",
    "\n",
    "with least squares estimate of parameters, $n = 1000$ training samples."
   ],
   "id": "f527bf76-784f-4cb3-ad0c-3bb7094f0c3d"
  },
  {
   "cell_type": "code",
   "execution_count": null,
   "metadata": {},
   "outputs": [],
   "source": [
    "n_repeat = 1000\n",
    "n_test = 50"
   ],
   "id": "9e304b9a-44b7-4ece-b9bd-0393f64762bb"
  },
  {
   "cell_type": "code",
   "execution_count": null,
   "metadata": {},
   "outputs": [],
   "source": [
    "y_predict = np.zeros((n_test, n_repeat, 2))\n",
    "\n",
    "y_test_err = np.zeros((n_test, n_repeat, 2))\n",
    "y_test_bias = np.zeros((n_test, 2))"
   ],
   "id": "d812a0a4-dcbb-4f10-b9c8-3d41401c0c6b"
  },
  {
   "cell_type": "code",
   "execution_count": null,
   "metadata": {},
   "outputs": [],
   "source": [
    "coef = [5]\n",
    "intercept = 1\n",
    "sigma = 2"
   ],
   "id": "3d307c12-4bfa-4342-8684-b40bbbabcf2d"
  },
  {
   "cell_type": "code",
   "execution_count": null,
   "metadata": {},
   "outputs": [],
   "source": [
    "# generate test data once\n",
    "x_test, y_test = generate_linear_regression_data(n=n_test, d=1, coef=[5], intercept=1, sigma=sigma)\n",
    "y_test_no_noise = intercept + np.dot(x_test, coef) \n",
    "# note: y_test is f_t(x) + epsilon\n",
    "# note: y_test_no_noise is f_t(x) \n",
    "\n",
    "# noise is due to the difference between f_t(x) and f_t(x) + epsilon\n",
    "y_test_noise_var = (y_test_no_noise - y_test)**2"
   ],
   "id": "28b31e6b-90ed-48d9-a0b9-5c4aa22a295c"
  },
  {
   "cell_type": "code",
   "execution_count": null,
   "metadata": {},
   "outputs": [],
   "source": [
    "# now simulate training the model many times, on different training data every time\n",
    "# and evaluate using the test data\n",
    "for i in range(n_repeat):\n",
    "\n",
    "  # train both models on newly generated training data\n",
    "  x, y = generate_linear_regression_data(n=1000, d=1, coef=coef, intercept=intercept, sigma=sigma)\n",
    "  x_a, y_a = x[0:10], y[0:10]\n",
    "  reg_a = LinearRegression().fit(x_a, y_a)\n",
    "\n",
    "  x_b, y_b = x, y\n",
    "  reg_b = LinearRegression().fit(x_b, y_b)\n",
    "\n",
    "  y_predict[:, i, 0] = reg_a.predict(x_test)\n",
    "  y_predict[:, i, 1] = reg_b.predict(x_test)\n",
    "\n",
    "  # overall squared error is due to difference between f_t(x) + epsilon, model prediction f(x,w) \n",
    "  y_test_err[:, i, 0] = (y_test - y_predict[:, i, 0])**2\n",
    "  y_test_err[:, i, 1] = (y_test - y_predict[:, i, 1])**2"
   ],
   "id": "541ae223-9cd3-4f0c-a06e-f09c2db1ba71"
  },
  {
   "cell_type": "code",
   "execution_count": null,
   "metadata": {},
   "outputs": [],
   "source": [
    "# bias is due to difference between f_t(x) and mean of model prediction f(x,w) \n",
    "y_test_bias[:, 0] = (y_test_no_noise - y_predict[:, :, 0].mean(axis=1))**2\n",
    "y_test_bias[:, 1] = (y_test_no_noise - y_predict[:, :, 1].mean(axis=1))**2"
   ],
   "id": "7a7205a9-9ca6-44da-98ee-02bdc50cd191"
  },
  {
   "cell_type": "code",
   "execution_count": null,
   "metadata": {},
   "outputs": [],
   "source": [
    "p = plt.figure(figsize=(10,10));\n",
    "\n",
    "models = ['Model A', 'Model B']\n",
    "\n",
    "for midx, model in enumerate(models):\n",
    "  p = plt.subplot(2, 2, midx+1);\n",
    "  for i in range(n_repeat):\n",
    "    p = sns.lineplot(x=x_test.squeeze(), y=y_predict[:, i, midx], alpha=0.05, color='orange');\n",
    "  p = sns.lineplot(x=x_test.squeeze(), y=y_predict[:, :, midx].mean(axis=1), color='red', label='Mean of models');\n",
    "  p = sns.scatterplot(x=x_test.squeeze(), y=y_test, label='Test data');\n",
    "  p = plt.xlabel('x');\n",
    "  p = plt.ylabel('y');\n",
    "  p = plt.title(model);\n",
    "  p = plt.ylim(y_test.min()*1.1, y_test.max()*1.1)\n",
    "\n",
    "  p = plt.subplot(2, 2, midx+3);\n",
    "  p = sns.lineplot(x=x_test.squeeze(), y=y_test_err[:, :, midx].mean(axis=1), color='red', alpha=0.5, label='Total squared error', markers=True);\n",
    "  p = sns.lineplot(x=x_test.squeeze(), y=y_test_bias[:, midx], color='cyan', alpha=0.5, label='Bias^2');\n",
    "  p = sns.lineplot(x=x_test.squeeze(), y=y_predict[:, :, midx].var(axis=1), color='green', alpha=0.5, label='Variance');\n",
    "  p = sns.lineplot(x=x_test.squeeze(), y=y_test_noise_var, color='purple', alpha=0.2, label='Irreducible error');\n",
    "  p = plt.xlabel('x');\n",
    "  p = plt.ylabel('Error');\n",
    "  p = plt.title(\"MSE: %f \\n Irreducible error: %f \\n Bias^2: %f \\n Variance: %f \" % \n",
    "                (y_test_err[:,:,midx].mean(axis=(0,1)), \n",
    "                 y_test_noise_var.mean(), \n",
    "                 (y_test_bias[:, midx]).mean(),\n",
    "                  y_predict[:, :, midx].var(axis=1).mean() ) )\n",
    "  p = plt.ylim(0, 1.1* y_test_err[:, :, :].mean(axis=(1)).max() )\n",
    "\n",
    "plt.subplots_adjust(hspace=0.5)"
   ],
   "id": "6b6ce45b-62de-4c9a-8396-c185cff953e4"
  },
  {
   "cell_type": "code",
   "execution_count": null,
   "metadata": {},
   "outputs": [],
   "source": [],
   "id": "c753760b-b5e6-4e25-80bb-091299197b40"
  },
  {
   "cell_type": "markdown",
   "metadata": {},
   "source": [
    "### Linear vs. polynomial model"
   ],
   "id": "b24f8c97-60bd-455f-a8a6-e8f0a8ae7e5e"
  },
  {
   "cell_type": "markdown",
   "metadata": {},
   "source": [
    "Data is generated as $y_i = 1 + 0.5x_i + 2x_i^3 + \\epsilon_i$.\n",
    "\n",
    "**Model A**:\n",
    "\n",
    "$$\\hat{y} = w_0 + w_1 x$$\n",
    "\n",
    "with least squares estimate of parameters.\n",
    "\n",
    "**Model B**:\n",
    "\n",
    "$$\\hat{y} = w_0 + w_1 x + w_2 x^2 + w_3 x^3$$\n",
    "\n",
    "with least squares estimate of parameters."
   ],
   "id": "9c4d00cb-92b0-4b91-978c-720d1d046ed7"
  },
  {
   "cell_type": "code",
   "execution_count": null,
   "metadata": {},
   "outputs": [],
   "source": [
    "n_repeat = 1000\n",
    "n_test = 50"
   ],
   "id": "7c980e45-416b-48f3-b993-1bc720299261"
  },
  {
   "cell_type": "code",
   "execution_count": null,
   "metadata": {},
   "outputs": [],
   "source": [
    "y_predict = np.zeros((n_test, n_repeat, 2))\n",
    "\n",
    "y_test_err = np.zeros((n_test, n_repeat, 2))\n",
    "y_test_bias = np.zeros((n_test, 2))"
   ],
   "id": "46bed98e-600c-4876-af3b-259725983133"
  },
  {
   "cell_type": "code",
   "execution_count": null,
   "metadata": {},
   "outputs": [],
   "source": [
    "coefs=[1,0.5,0,2]\n",
    "sigma = 3"
   ],
   "id": "31684203-eaea-4c80-a1ce-404332957c72"
  },
  {
   "cell_type": "code",
   "execution_count": null,
   "metadata": {},
   "outputs": [],
   "source": [
    "# generate test data once\n",
    "x_test, y_test = generate_polynomial_regression_data(n=n_test, coefs=coefs, sigma=sigma)\n",
    "y_test_no_noise = np.polynomial.polynomial.polyval(x_test, coefs).squeeze()\n",
    "# note: y_test is f_t(x) + epsilon\n",
    "# note: y_test_no_noise is f_t(x) \n",
    "\n",
    "# noise is due to the difference between f_t(x) and f_t(x) + epsilon\n",
    "y_test_noise_var = (y_test_no_noise - y_test)**2"
   ],
   "id": "f84fe3a8-0597-41c6-b926-cc9179e0f100"
  },
  {
   "cell_type": "code",
   "execution_count": null,
   "metadata": {},
   "outputs": [],
   "source": [
    "# now simulate training the model many times, on different training data every time\n",
    "# and evaluate using the test data\n",
    "for i in range(n_repeat):\n",
    "\n",
    "  # train both models on newly generated training data\n",
    "  x, y = generate_polynomial_regression_data(n=100, coefs=coefs, sigma=sigma)\n",
    "\n",
    "  x_a, y_a = x, y\n",
    "  reg_a = LinearRegression().fit(x_a, y_a)\n",
    "\n",
    "  x_b_d3 = np.column_stack( [x.reshape(-1,1)**d for d in np.arange(1,4)])\n",
    "  y_b = y\n",
    "  reg_b = LinearRegression().fit(x_b_d3, y_b)\n",
    "\n",
    "  y_predict[:, i, 0] = reg_a.predict(x_test)\n",
    "  x_test_d3 = np.column_stack( [x_test.reshape(-1,1)**d for d in np.arange(1,4)])\n",
    "  y_predict[:, i, 1] = reg_b.predict(x_test_d3)\n",
    "\n",
    "  # overall squared error is due to difference between f_t(x) + epsilon, model prediction f(x,w) \n",
    "  y_test_err[:, i, 0] = (y_test - y_predict[:, i, 0])**2\n",
    "  y_test_err[:, i, 1] = (y_test - y_predict[:, i, 1])**2"
   ],
   "id": "299f3cfd-8759-40d8-8e4d-cb8922f140ab"
  },
  {
   "cell_type": "code",
   "execution_count": null,
   "metadata": {},
   "outputs": [],
   "source": [
    "# bias is due to difference between f_t(x) and mean of model prediction f(x,w) \n",
    "y_test_bias[:, 0] = (y_test_no_noise - y_predict[:, :, 0].mean(axis=1))**2\n",
    "y_test_bias[:, 1] = (y_test_no_noise - y_predict[:, :, 1].mean(axis=1))**2"
   ],
   "id": "6fdecb31-dce0-4182-b252-69d1278f3135"
  },
  {
   "cell_type": "code",
   "execution_count": null,
   "metadata": {},
   "outputs": [],
   "source": [
    "p = plt.figure(figsize=(10,10));\n",
    "\n",
    "models = ['Model A', 'Model B']\n",
    "\n",
    "for midx, model in enumerate(models):\n",
    "  p = plt.subplot(2, 2, midx+1);\n",
    "  for i in range(n_repeat):\n",
    "    p = sns.lineplot(x=x_test.squeeze(), y=y_predict[:, i, midx], alpha=0.05, color='orange');\n",
    "  p = sns.lineplot(x=x_test.squeeze(), y=y_predict[:, :, midx].mean(axis=1), color='red', label='Mean of models');\n",
    "  p = sns.scatterplot(x=x_test.squeeze(), y=y_test, label='Test data');\n",
    "  p = plt.xlabel('x');\n",
    "  p = plt.ylabel('y');\n",
    "  p = plt.title(model);\n",
    "  p = plt.ylim(y_test.min()*1.1, y_test.max()*1.1)\n",
    "\n",
    "  p = plt.subplot(2, 2, midx+3);\n",
    "  p = sns.lineplot(x=x_test.squeeze(), y=y_test_err[:, :, midx].mean(axis=1), color='red', alpha=0.5, label='Total squared error', markers=True);\n",
    "  p = sns.lineplot(x=x_test.squeeze(), y=y_test_bias[:, midx], color='cyan', alpha=0.5, label='Bias^2');\n",
    "  p = sns.lineplot(x=x_test.squeeze(), y=y_predict[:, :, midx].var(axis=1), color='green', alpha=0.5, label='Variance');\n",
    "  p = sns.lineplot(x=x_test.squeeze(), y=y_test_noise_var, color='purple', alpha=0.2, label='Irreducible error');\n",
    "  p = plt.xlabel('x');\n",
    "  p = plt.ylabel('Error');\n",
    "  p = plt.title(\"MSE: %f \\n Irreducible error: %f \\n Bias^2: %f \\n Variance: %f \" % \n",
    "                (y_test_err[:,:,midx].mean(axis=(0,1)), \n",
    "                 y_test_noise_var.mean(), \n",
    "                 (y_test_bias[:, midx]).mean(),\n",
    "                  y_predict[:, :, midx].var(axis=1).mean() ) )\n",
    "  p = plt.ylim(0, 1.1* y_test_err[:, :, :].mean(axis=(1)).max() )\n",
    "\n",
    "plt.subplots_adjust(hspace=0.5)"
   ],
   "id": "770db67f-49c8-43fc-bbff-921184181b07"
  },
  {
   "cell_type": "markdown",
   "metadata": {},
   "source": [
    "Questions:\n",
    "\n",
    "-   What would happen if you increase or decrease $\\sigma$ in this example?"
   ],
   "id": "e580fd18-9697-40c7-8ed0-a2d0cd364d8b"
  },
  {
   "cell_type": "markdown",
   "metadata": {},
   "source": [
    "<!-- Double descent: https://colab.research.google.com/github/aslanides/aslanides.github.io/blob/master/colabs/2019-10-10-interpolation-regime.ipynb#scrollTo=nlaWee2cN7K7 \n",
    "https://mlu-explain.github.io/double-descent/\n",
    "https://mlu-explain.github.io/double-descent2/\n",
    "-->"
   ],
   "id": "c17e1a30-ac23-4ede-a4d9-ce44118cfa5b"
  }
 ],
 "nbformat": 4,
 "nbformat_minor": 5,
 "metadata": {}
}
