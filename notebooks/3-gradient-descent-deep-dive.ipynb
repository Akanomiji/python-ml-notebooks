{
 "cells": [
  {
   "cell_type": "markdown",
   "metadata": {},
   "source": [
    "# Gradient descent in depth\n",
    "\n",
    "*Fraida Fund*"
   ],
   "id": "0d47deb5-cc60-41f4-90be-2831a575c38e"
  },
  {
   "cell_type": "code",
   "execution_count": null,
   "metadata": {},
   "outputs": [],
   "source": [
    "import numpy as np\n",
    "import matplotlib.pyplot as plt\n",
    "from matplotlib import cm\n",
    "import pandas as pd\n",
    "import seaborn as sns\n",
    "sns.set()\n",
    "colors = sns.color_palette(\"hls\", 4)\n",
    "\n",
    "# for 3d interactive plots\n",
    "from ipywidgets import interact, fixed, widgets\n",
    "from mpl_toolkits import mplot3d\n",
    "\n",
    "from IPython.core.interactiveshell import InteractiveShell\n",
    "InteractiveShell.ast_node_interactivity = \"all\""
   ],
   "id": "7704134f-ee26-428b-8f94-73bf25df2484"
  },
  {
   "cell_type": "markdown",
   "metadata": {},
   "source": [
    "## Gradient descent for simple linear regression"
   ],
   "id": "1d8cc88a-4679-4b2a-82d6-9c162d6be798"
  },
  {
   "cell_type": "markdown",
   "metadata": {},
   "source": [
    "### Generate data"
   ],
   "id": "7f552771-4521-4e10-890b-b9c8cae15b4d"
  },
  {
   "cell_type": "code",
   "execution_count": null,
   "metadata": {},
   "outputs": [],
   "source": [
    "def generate_linear_regression_data(n=100, d=1, coef=[5], intercept=1, sigma=0):\n",
    "  x = np.random.randn(n,d)\n",
    "  y = (np.dot(x, coef) + intercept).squeeze() + sigma * np.random.randn(n)\n",
    "  return x, y"
   ],
   "id": "465b64f9-e249-4766-815c-14e4cd524f14"
  },
  {
   "cell_type": "code",
   "execution_count": null,
   "metadata": {},
   "outputs": [],
   "source": [
    "# y = 2 + 3x\n",
    "w_true = np.array([2, 3])\n",
    "n_samples = 100"
   ],
   "id": "a8c994b1-e714-40a7-9bc6-698a7d56ad45"
  },
  {
   "cell_type": "code",
   "execution_count": null,
   "metadata": {},
   "outputs": [],
   "source": [
    "x, y = generate_linear_regression_data(n=n_samples, d=1, coef=w_true[1:], intercept= w_true[0])"
   ],
   "id": "64441f3f-1ceb-42d0-9b0a-b47a184cec60"
  },
  {
   "cell_type": "code",
   "execution_count": null,
   "metadata": {},
   "outputs": [],
   "source": [
    "# create the \"design matrix\" with a ones column at beginning\n",
    "X = np.hstack((np.ones((n_samples, 1)), x))\n",
    "X.shape"
   ],
   "id": "e510f847-7a3f-4600-a07b-f280ab3fb635"
  },
  {
   "cell_type": "markdown",
   "metadata": {},
   "source": [
    "### Define a descent step"
   ],
   "id": "aad63728-b784-43a4-88a6-45bf46062483"
  },
  {
   "cell_type": "markdown",
   "metadata": {},
   "source": [
    "In each gradient descent step, we will compute\n",
    "\n",
    "$$ \n",
    "w^{t+1} = w^t - \\alpha^t \\nabla L(w^t)  \n",
    "$$\n",
    "\n",
    "With a mean squared error loss function\n",
    "\n",
    "$$ \n",
    "\\begin{aligned}\n",
    "L(w) &= \\frac{1}{n} \\sum_{i=1}^n (y_i - \\langle w,x_i \\rangle)^2 \\\\\n",
    "     &= \\frac{1}{n} \\|y - Xw\\|^2 \n",
    "\\end{aligned}\n",
    "$$\n",
    "\n",
    "we will compute the weights at each step as\n",
    "\n",
    "$$\n",
    "\\begin{aligned} \n",
    "w^{t+1} &= w^t + \\frac{\\alpha^t}{n} \\sum_{i=1}^n (y_i - \\langle w^t,x_i \\rangle) x_i \\\\\n",
    "        &= w^t + \\frac{\\alpha^t}{n} X^T (y - X w^t)                  \n",
    "\\end{aligned}\n",
    "$$"
   ],
   "id": "cd26c2a7-34a0-430a-8274-af8acbec3740"
  },
  {
   "cell_type": "code",
   "execution_count": null,
   "metadata": {},
   "outputs": [],
   "source": [
    "def gd_step(w, X, y, lr):\n",
    "  # use current parameters to get y_hat\n",
    "  y_hat = np.dot(X,w)\n",
    "  error = y_hat-y\n",
    "  # compute gradient for this y_hat\n",
    "  grad = np.matmul(X.T, error)\n",
    "  # update weights\n",
    "  w_new = w - (lr/X.shape[0])*grad\n",
    "\n",
    "  # we don't have to actually compute MSE\n",
    "  # but I want to, for visualization \n",
    "  mse = np.mean(error**2, axis=0)\n",
    "\n",
    "  return (w_new, mse, grad)"
   ],
   "id": "9412d745-9ba9-438c-8a4f-7babb7f0aabc"
  },
  {
   "cell_type": "markdown",
   "metadata": {},
   "source": [
    "Note: in the update rule, the signs are different from the expression above because we switched the order of the terms in the error expression: we used $\\hat{y} - y$."
   ],
   "id": "2ef70a70-6bd0-4653-9f53-9dd182808df3"
  },
  {
   "cell_type": "markdown",
   "metadata": {},
   "source": [
    "### Perform gradient descent"
   ],
   "id": "eeb60159-9373-4b10-bd90-3eb6f5ff7c66"
  },
  {
   "cell_type": "code",
   "execution_count": null,
   "metadata": {},
   "outputs": [],
   "source": [
    "# gradient descent settings: number of iterations, learning rate, starting point\n",
    "itr = 50\n",
    "lr = 0.1\n",
    "w_init = np.random.uniform(3,7,len(w_true))\n",
    "print(w_init)"
   ],
   "id": "1065adcc-dd0f-4bd6-a5c0-cdc645a1981b"
  },
  {
   "cell_type": "code",
   "execution_count": null,
   "metadata": {},
   "outputs": [],
   "source": [
    "w_steps = np.zeros((itr, len(w_init)))\n",
    "mse_steps = np.zeros(itr)\n",
    "grad_steps = np.zeros((itr, len(w_init)))\n",
    "\n",
    "w_star = w_init\n",
    "for i in range(itr):\n",
    "  w_star, mse, gradient = gd_step(w_star, X, y, lr)\n",
    "  w_steps[i] = w_star\n",
    "  mse_steps[i] = mse\n",
    "  grad_steps[i] = gradient"
   ],
   "id": "ddb23894-44dc-467c-9b2f-a43b0a75d49c"
  },
  {
   "cell_type": "markdown",
   "metadata": {},
   "source": [
    "### Visualize"
   ],
   "id": "e33ab55b-9eba-4848-b204-0076d896bbb6"
  },
  {
   "cell_type": "code",
   "execution_count": null,
   "metadata": {},
   "outputs": [],
   "source": [
    "plt.figure(figsize=(18,5))\n",
    "plt.subplot(1,3,1);\n",
    "\n",
    "for n, w in enumerate(w_true):\n",
    "  plt.axhline(y=w, linestyle='--', color=colors[n]);\n",
    "  sns.lineplot(x=np.arange(itr), y=w_steps[:,n], color=colors[n]);\n",
    "\n",
    "plt.xlabel(\"Iteration\");\n",
    "plt.ylabel(\"Coefficient Value\");\n",
    "\n",
    "plt.subplot(1,3, 2);\n",
    "sns.lineplot(x=np.arange(itr), y=mse_steps);\n",
    "#plt.yscale(\"log\")\n",
    "plt.xlabel(\"Iteration\");\n",
    "plt.ylabel(\"Training MSE\");\n",
    "\n",
    "\n",
    "plt.subplot(1, 3, 3);\n",
    "for n, w in enumerate(w_true):\n",
    "  sns.lineplot(x=np.arange(itr), y=grad_steps[:,n], color=colors[n]);\n",
    "plt.xlabel(\"Iteration\");\n",
    "plt.ylabel(\"Gradient\");\n",
    "\n",
    "plt.suptitle(\"Estimate after %d iterations with rate %s: %s\" % \n",
    "          (itr, \"{0:0.4f}\".format(lr), [\"{0:0.4f}\".format(w) for w in w_star]));"
   ],
   "id": "6d8dc18c-267c-4344-a6fe-50546538b2d5"
  },
  {
   "cell_type": "markdown",
   "metadata": {},
   "source": [
    "### Other things to try\n",
    "\n",
    "-   What happens if we increase the learning rate?\n",
    "-   What happens if we decrease the learning rate?"
   ],
   "id": "7c75a6ff-4b19-4e86-87fc-6794ec6d5148"
  },
  {
   "cell_type": "markdown",
   "metadata": {},
   "source": [
    "### Descent path on MSE contour"
   ],
   "id": "2a1f5401-dd63-47a4-a517-7ac042562414"
  },
  {
   "cell_type": "markdown",
   "metadata": {},
   "source": [
    "Generating data for a multiple regression (with two features):"
   ],
   "id": "cb5adc8b-4f6c-4034-8524-7c014fe43716"
  },
  {
   "cell_type": "code",
   "execution_count": null,
   "metadata": {},
   "outputs": [],
   "source": [
    "w_true = [2, 6, 5]\n",
    "n_samples = 100\n",
    "x, y = generate_linear_regression_data(n=n_samples, d=2, coef=w_true[1:], intercept=w_true[0])\n",
    "X = np.hstack((np.ones((n_samples, 1)), x))\n",
    "X.shape"
   ],
   "id": "c7627399-2cc3-4efe-a52e-09444bfb6b1a"
  },
  {
   "cell_type": "code",
   "execution_count": null,
   "metadata": {},
   "outputs": [],
   "source": [
    "# gradient descent settings: number of iterations, learning rate, starting point\n",
    "itr = 50\n",
    "lr = 0.1\n",
    "w_init = np.random.uniform(3, 7, len(w_true))\n",
    "print(w_init)"
   ],
   "id": "69c2605b-ae1a-4c7c-bfc3-0c4c5be6b36d"
  },
  {
   "cell_type": "code",
   "execution_count": null,
   "metadata": {},
   "outputs": [],
   "source": [
    "w_steps = np.zeros((itr, len(w_init)))\n",
    "mse_steps = np.zeros(itr)\n",
    "grad_steps = np.zeros((itr, len(w_init)))\n",
    "\n",
    "w_star = w_init\n",
    "for i in range(itr):\n",
    "  w_star, mse, gradient = gd_step(w_star, X, y, lr)\n",
    "  w_steps[i] = w_star\n",
    "  mse_steps[i] = mse\n",
    "  grad_steps[i] = gradient"
   ],
   "id": "0b639a92-045e-475e-a0a5-0a3fefb2a081"
  },
  {
   "cell_type": "code",
   "execution_count": null,
   "metadata": {},
   "outputs": [],
   "source": [
    "coefs = np.arange(2, 8, 0.05)\n",
    "\n",
    "coef_grid = np.array(np.meshgrid(coefs, coefs)).reshape(1, 2, coefs.shape[0], coefs.shape[0])\n",
    "y_hat_c = (w_true[0] + np.sum(coef_grid * x.reshape(x.shape[0], 2, 1, 1), axis=1) )\n",
    "mses_coefs = np.mean((y.reshape(-1, 1, 1)- y_hat_c)**2,axis=0)"
   ],
   "id": "e50182bd-4624-4489-9a8b-f91c7904e13c"
  },
  {
   "cell_type": "code",
   "execution_count": null,
   "metadata": {},
   "outputs": [],
   "source": [
    "plt.figure(figsize=(5,5));\n",
    "X1, X2 = np.meshgrid(coefs, coefs);\n",
    "p = plt.contour(X1, X2, mses_coefs, levels=5);\n",
    "plt.clabel(p, inline=1, fontsize=10);\n",
    "plt.xlabel('w1');\n",
    "plt.ylabel('w2');\n",
    "sns.lineplot(x=w_steps[:,1], y=w_steps[:,2], color='black', sort=False, alpha=0.5);\n",
    "sns.scatterplot(x=w_steps[:,1], y=w_steps[:,2], hue=np.arange(itr), edgecolor=None);\n",
    "plt.scatter(w_true[1], w_true[2], c='black', marker='*');\n",
    "plt.title(\"Estimate after %d iterations with rate %s: %s\" % (itr, \"{0:0.4f}\".format(lr), [\"{0:0.4f}\".format(w) for w in w_star]));\n"
   ],
   "id": "d7191b86-1022-4aeb-92b7-a24753570008"
  },
  {
   "cell_type": "code",
   "execution_count": null,
   "metadata": {},
   "outputs": [],
   "source": [
    "def plot_3D(elev=20, azim=-20, X1=X1, X2=X2, mses_coefs=mses_coefs, \n",
    "            w_steps=w_steps, mse_steps=mse_steps):\n",
    "\n",
    "    plt.figure(figsize=(10,10))\n",
    "    ax = plt.subplot(projection='3d')\n",
    "\n",
    "    # Plot the surface.\n",
    "    ax.plot_surface(X1, X2, mses_coefs, alpha=0.5, cmap=cm.coolwarm,\n",
    "                          linewidth=0, antialiased=False)\n",
    "    ax.scatter3D(w_steps[:, 1], w_steps[:, 2], mse_steps, s=5, color='black')\n",
    "    ax.plot(w_steps[:, 1], w_steps[:, 2], mse_steps, color='gray')\n",
    "\n",
    "    ax.view_init(elev=elev, azim=azim)\n",
    "    ax.set_xlabel('w1')\n",
    "    ax.set_ylabel('w2')\n",
    "    ax.set_zlabel('MSE')\n",
    "    plt.show()\n",
    "\n",
    "interact(plot_3D, elev=widgets.IntSlider(min=-90, max=90, step=10, value=20), \n",
    "          azim=widgets.IntSlider(min=-90, max=90, step=10, value=20),\n",
    "         X1=fixed(X1), X2=fixed(X2), mses_coefs=fixed(mses_coefs),\n",
    "         w_steps=fixed(w_steps), mse_steps=fixed(mse_steps));"
   ],
   "id": "be548300-ad65-4d62-86e0-4ccc8ff143f6"
  },
  {
   "cell_type": "markdown",
   "metadata": {},
   "source": [
    "## Stochastic gradient descent\n",
    "\n",
    "For stochastic gradient descent, we will compute the gradient and update the weights using one sample (or a mini-batch of samples) in each step.\n",
    "\n",
    "**A note on sampling**: In practice, the samples are often sampled without replacement, but the statistical guarantee of convergence is for sampling with replacement. In this example, we sample with replacement. You can read more about different varieties of gradient descent and stochastic gradient descent in [How is stochastic gradient descent implemented in the context of machine learning and deep learning](https://sebastianraschka.com/faq/docs/sgd-methods.html)."
   ],
   "id": "1b749f20-ae9a-4bdf-8b2f-032feb628a18"
  },
  {
   "cell_type": "markdown",
   "metadata": {},
   "source": [
    "### Define a stochastic descent step"
   ],
   "id": "4537c5e5-a255-46ad-9ba6-bdea624366c0"
  },
  {
   "cell_type": "code",
   "execution_count": null,
   "metadata": {},
   "outputs": [],
   "source": [
    "def sgd_step(w, X, y, lr, n):\n",
    "\n",
    "  idx_sample = np.random.choice(X.shape[0], n, replace=True)\n",
    "\n",
    "  X_sample = X[idx_sample, :]\n",
    "  y_sample = y[idx_sample]\n",
    "\n",
    "  # use current parameters to get y_hat\n",
    "  y_hat = np.dot(X_sample,w)\n",
    "  error = y_hat-y_sample\n",
    "  # compute gradient for this y_hat\n",
    "  grad = np.matmul(X_sample.T, error)\n",
    "  # update weights\n",
    "  w_new = w - (lr/n)*grad\n",
    "\n",
    "  # we don't have to actually compute MSE\n",
    "  # but I want to, for visualization \n",
    "  # note: MSE is computed on entire data, not sample\n",
    "  mse = np.mean((y-np.dot(X, w))**2, axis=0)\n",
    "\n",
    "  return (w_new, mse, grad)"
   ],
   "id": "fb36fd2f-c3cc-4670-be9f-e28ef83c6303"
  },
  {
   "cell_type": "markdown",
   "metadata": {},
   "source": [
    "### Perform stochastic gradient descent"
   ],
   "id": "f2756069-ad5b-47d2-b01f-30f1f8d05cda"
  },
  {
   "cell_type": "code",
   "execution_count": null,
   "metadata": {},
   "outputs": [],
   "source": [
    "# now we have another gradient descent option: how many samples in a \"batch\" \n",
    "itr = 50\n",
    "lr = 0.1\n",
    "n_batch = 1\n",
    "w_init = [w_true[0], 2, 8]"
   ],
   "id": "e8431bc3-4265-4ebe-8bd8-5ca0cf870517"
  },
  {
   "cell_type": "code",
   "execution_count": null,
   "metadata": {},
   "outputs": [],
   "source": [
    "w_steps = np.zeros((itr, len(w_init)))\n",
    "mse_steps = np.zeros(itr)\n",
    "\n",
    "w_star = w_init\n",
    "for i in range(itr):\n",
    "  w_star, mse, grad = sgd_step(w_star, X, y, lr, n_batch)\n",
    "  w_steps[i] = w_star\n",
    "  mse_steps[i] = mse"
   ],
   "id": "fe03ad57-6cac-4691-b5df-de0a20718e96"
  },
  {
   "cell_type": "markdown",
   "metadata": {},
   "source": [
    "### Visualize"
   ],
   "id": "a282410d-c118-4401-b76e-e80a3b728856"
  },
  {
   "cell_type": "code",
   "execution_count": null,
   "metadata": {},
   "outputs": [],
   "source": [
    "plt.figure(figsize=(18,5))\n",
    "plt.subplot(1,3,1);\n",
    "\n",
    "for n, w in enumerate(w_true):\n",
    "  plt.axhline(y=w, linestyle='--', color=colors[n]);\n",
    "  sns.lineplot(x=np.arange(itr), y=w_steps[:,n], color=colors[n], label='w' + str(n));\n",
    "plt.xlabel(\"Iteration\");\n",
    "plt.ylabel(\"Coefficient Value\");\n",
    "\n",
    "plt.subplot(1, 3, 2);\n",
    "sns.lineplot(x=np.arange(itr), y=mse_steps);\n",
    "#plt.yscale(\"log\")\n",
    "plt.xlabel(\"Iteration\");\n",
    "plt.ylabel(\"Training MSE\");\n",
    "\n",
    "\n",
    "plt.subplot(1, 3, 3);\n",
    "X1, X2 = np.meshgrid(coefs, coefs);\n",
    "p = plt.contour(X1, X2, mses_coefs, levels=5);\n",
    "plt.clabel(p, inline=1, fontsize=10);\n",
    "plt.xlabel('w1');\n",
    "plt.ylabel('w2');\n",
    "sns.lineplot(x=w_steps[:,1], y=w_steps[:,2], color='black', sort=False, alpha=0.5);\n",
    "sns.scatterplot(x=w_steps[:,1], y=w_steps[:,2], hue=np.arange(itr), edgecolor=None);\n",
    "plt.scatter(w_true[1], w_true[2], c='black', marker='*');\n",
    "\n",
    "plt.suptitle(\"Estimate after %d iterations with rate %s and batch size %d: %s\" % \n",
    "            (itr, \"{0:0.4f}\".format(lr), n_batch, [\"{0:0.4f}\".format(w) for w in w_star]));"
   ],
   "id": "ee5533d5-09c8-491f-8a9c-4ac6a5a333a7"
  },
  {
   "cell_type": "code",
   "execution_count": null,
   "metadata": {},
   "outputs": [],
   "source": [
    "def plot_3D(elev=20, azim=-20, X1=X1, X2=X2, mses_coefs=mses_coefs, \n",
    "            w_steps=w_steps, mse_steps=mse_steps):\n",
    "\n",
    "    plt.figure(figsize=(10,10))\n",
    "    ax = plt.subplot(projection='3d')\n",
    "\n",
    "\n",
    "    # Plot the surface.\n",
    "    ax.plot_surface(X1, X2, mses_coefs, alpha=0.5, cmap=cm.coolwarm,\n",
    "                          linewidth=0, antialiased=False)\n",
    "    ax.scatter3D(w_steps[:, 1], w_steps[:, 2], mse_steps, s=5, color='black')\n",
    "    ax.plot(w_steps[:, 1], w_steps[:, 2], mse_steps, color='gray')\n",
    "\n",
    "\n",
    "    ax.view_init(elev=elev, azim=azim)\n",
    "    ax.set_xlabel('w1')\n",
    "    ax.set_ylabel('w2')\n",
    "    ax.set_zlabel('MSE')\n",
    "    plt.show()\n",
    "\n",
    "interact(plot_3D, elev=widgets.IntSlider(min=-90, max=90, step=10, value=20), \n",
    "          azim=widgets.IntSlider(min=-90, max=90, step=10, value=20),\n",
    "         X1=fixed(X1), X2=fixed(X2), mses_coefs=fixed(mses_coefs),\n",
    "         w_steps=fixed(w_steps), mse_steps=fixed(mse_steps));\n"
   ],
   "id": "bb0ab0a8-04a2-4887-9e5d-f8177e3c8e81"
  },
  {
   "cell_type": "markdown",
   "metadata": {},
   "source": [
    "### Other things to try\n",
    "\n",
    "-   Increase number of samples used in each iteration?\n",
    "-   Increase learning rate?\n",
    "-   Decrease learning rate?\n",
    "-   Use decaying learning rate $\\alpha^t = \\frac{\\alpha_0}{1 + kt}$?"
   ],
   "id": "b1899fd4-475c-476d-876d-93bce9cfe760"
  },
  {
   "cell_type": "markdown",
   "metadata": {},
   "source": [
    "## Gradient descent with noise"
   ],
   "id": "76b16d20-a6ee-4c1a-8269-9b27ccbbe232"
  },
  {
   "cell_type": "markdown",
   "metadata": {},
   "source": [
    "### Generate noisy data\n",
    "\n",
    "This time, we will use the `sigma` argument in our `generate_linear_regression_data` function to generate data that does not perfectly fit a linear model. (Using the same coefficients as the previous example.)"
   ],
   "id": "180d0b5c-e8e7-438b-9184-70bb5aa4defa"
  },
  {
   "cell_type": "code",
   "execution_count": null,
   "metadata": {},
   "outputs": [],
   "source": [
    "x, y = generate_linear_regression_data(n=n_samples, d=2, coef=w_true[1:], intercept=w_true[0], sigma=3)\n",
    "X = np.column_stack((np.ones((n_samples, 1)), x))"
   ],
   "id": "5b312bb8-cc24-45ac-adb0-cb1d8cad572e"
  },
  {
   "cell_type": "markdown",
   "metadata": {},
   "source": [
    "### Perform gradient descent on noisy data"
   ],
   "id": "57b35716-4ff6-4199-a3ef-311b5d1b3d33"
  },
  {
   "cell_type": "code",
   "execution_count": null,
   "metadata": {},
   "outputs": [],
   "source": [
    "itr = 50\n",
    "lr = 0.1\n",
    "w_init = [w_true[0], 2, 8]"
   ],
   "id": "99436fa8-5fae-4391-aced-a987e2cc4b35"
  },
  {
   "cell_type": "code",
   "execution_count": null,
   "metadata": {},
   "outputs": [],
   "source": [
    "w_steps = np.zeros((itr, len(w_init)))\n",
    "mse_steps = np.zeros(itr)\n",
    "\n",
    "w_star = w_init\n",
    "for i in range(itr):\n",
    "  w_star, mse, gradient = gd_step(w_star, X, y, lr)\n",
    "  w_steps[i] = w_star\n",
    "  mse_steps[i] = mse"
   ],
   "id": "14af5852-8519-4a54-a446-801990f35b0c"
  },
  {
   "cell_type": "markdown",
   "metadata": {},
   "source": [
    "### Visualize gradient descent on noisy data\n",
    "\n",
    "This time, the gradient descent may not necessarily arrive at the “true” coefficient values. That’s not because it does not find the coefficients with minimum MSE; it’s because the coefficients with minimum MSE on the noisy training data are not necessarily the “true” coefficients."
   ],
   "id": "b416aaf1-26f3-41a9-88d3-d3d437701afa"
  },
  {
   "cell_type": "code",
   "execution_count": null,
   "metadata": {},
   "outputs": [],
   "source": [
    "plt.figure(figsize=(18,5))\n",
    "plt.subplot(1,3,1);\n",
    "\n",
    "for n, w in enumerate(w_true):\n",
    "  plt.axhline(y=w, linestyle='--', color=colors[n]);\n",
    "  sns.lineplot(x=np.arange(itr), y=w_steps[:,n], color=colors[n], label='w' + str(n));\n",
    "plt.xlabel(\"Iteration\");\n",
    "plt.ylabel(\"Coefficient Value\");\n",
    "\n",
    "plt.subplot(1, 3, 2);\n",
    "sns.lineplot(x=np.arange(itr), y=mse_steps);\n",
    "#plt.yscale(\"log\")\n",
    "plt.xlabel(\"Iteration\");\n",
    "plt.ylabel(\"Training MSE\");\n",
    "\n",
    "plt.subplot(1, 3, 3);\n",
    "X1, X2 = np.meshgrid(coefs, coefs);\n",
    "p = plt.contour(X1, X2, mses_coefs, levels=5);\n",
    "plt.clabel(p, inline=1, fontsize=10);\n",
    "plt.xlabel('w1');\n",
    "plt.ylabel('w2');\n",
    "sns.lineplot(x=w_steps[:,1], y=w_steps[:,2], color='black', sort=False, alpha=0.5);\n",
    "sns.scatterplot(x=w_steps[:,1], y=w_steps[:,2], hue=np.arange(itr), edgecolor=None);\n",
    "plt.scatter(w_true[1], w_true[2], c='black', marker='*');\n",
    "\n",
    "plt.suptitle(\"Estimate after %d iterations with rate %s: %s\" % \n",
    "          (itr, \"{0:0.4f}\".format(lr), [\"{0:0.4f}\".format(w) for w in w_star]));"
   ],
   "id": "33316252-3bf2-4d97-ae6c-405387bf128f"
  },
  {
   "cell_type": "markdown",
   "metadata": {},
   "source": [
    "### Perform stochastic gradient descent on noisy data"
   ],
   "id": "cbb23590-0ada-4270-b765-8cf418a193db"
  },
  {
   "cell_type": "code",
   "execution_count": null,
   "metadata": {},
   "outputs": [],
   "source": [
    "itr = 100\n",
    "lr = 0.1\n",
    "n_batch = 1\n",
    "w_init = [w_true[0], 2, 8]"
   ],
   "id": "eadfdaf8-7143-4011-bc4b-9656109da5c5"
  },
  {
   "cell_type": "code",
   "execution_count": null,
   "metadata": {},
   "outputs": [],
   "source": [
    "w_steps = np.zeros((itr, len(w_init)))\n",
    "mse_steps = np.zeros(itr)\n",
    "\n",
    "w_star = w_init\n",
    "for i in range(itr):\n",
    "  w_star, mse, grad = sgd_step(w_star, X, y, lr, n_batch) \n",
    "  w_steps[i] = w_star\n",
    "  mse_steps[i] = mse"
   ],
   "id": "fc158cea-e270-436b-9f7e-ac6e6775faa0"
  },
  {
   "cell_type": "markdown",
   "metadata": {},
   "source": [
    "### Visualize stochastic gradient descent\n",
    "\n",
    "Note the “noise ball”!"
   ],
   "id": "e2e3c994-ecef-4d57-8963-545e02dcbcef"
  },
  {
   "cell_type": "code",
   "execution_count": null,
   "metadata": {},
   "outputs": [],
   "source": [
    "plt.figure(figsize=(18,5))\n",
    "plt.subplot(1,3,1);\n",
    "\n",
    "for n, w in enumerate(w_true):\n",
    "  plt.axhline(y=w, linestyle='--', color=colors[n]);\n",
    "  sns.lineplot(x=np.arange(itr), y=w_steps[:,n], color=colors[n], label='w' + str(n));\n",
    "plt.xlabel(\"Iteration\");\n",
    "plt.ylabel(\"Coefficient Value\");\n",
    "\n",
    "plt.subplot(1, 3, 2);\n",
    "sns.lineplot(x=np.arange(itr), y=mse_steps);\n",
    "#plt.yscale(\"log\")\n",
    "plt.xlabel(\"Iteration\");\n",
    "plt.ylabel(\"Training MSE\");\n",
    "\n",
    "plt.subplot(1, 3, 3);\n",
    "X1, X2 = np.meshgrid(coefs, coefs);\n",
    "p = plt.contour(X1, X2, mses_coefs, levels=5);\n",
    "plt.clabel(p, inline=1, fontsize=10);\n",
    "plt.xlabel('w1');\n",
    "plt.ylabel('w2');\n",
    "sns.lineplot(x=w_steps[:,1], y=w_steps[:,2], color='black', sort=False, alpha=0.5);\n",
    "sns.scatterplot(x=w_steps[:,1], y=w_steps[:,2], hue=np.arange(itr), edgecolor=None);\n",
    "plt.scatter(w_true[1], w_true[2], c='black', marker='*');\n",
    "\n",
    "plt.suptitle(\"Estimate after %d iterations with rate %s and batch size %d: %s\" % \n",
    "            (itr, \"{0:0.4f}\".format(lr), n_batch, [\"{0:0.4f}\".format(w) for w in w_star]));\n"
   ],
   "id": "10dc3c4d-f8af-451e-8b96-7940d29b299c"
  },
  {
   "cell_type": "markdown",
   "metadata": {},
   "source": [
    "## Interactive\n",
    "\n",
    "You can use this interactive to explore different gradient descent options and see the effect."
   ],
   "id": "6c5c034f-dbb6-4dec-8475-e0a658f8e1fe"
  },
  {
   "cell_type": "code",
   "execution_count": null,
   "metadata": {},
   "outputs": [],
   "source": [
    "n_samples = 100\n",
    "w_true = [2, 6, 5]\n",
    "x, y = generate_linear_regression_data(n=n_samples, d=2, coef=w_true[1:], intercept=w_true[0], sigma=0)\n",
    "X = np.hstack((np.ones((n_samples, 1)), x))\n",
    "\n",
    "@interact(itr = widgets.IntSlider(min=10, max=200, step=10, value=100),\n",
    "          lr = widgets.FloatSlider(min=0.05, max=0.95, step=0.05, value=0.1),\n",
    "          n_batch = widgets.IntSlider(min=1, max=100, step=1, value=100),\n",
    "          sigma = widgets.FloatSlider(min=0, max=5, step=0.5, value=1),\n",
    "          X = fixed(X), y = fixed(y))\n",
    "def plot_gd(itr, lr, n_batch, sigma, X, y):\n",
    "\n",
    "  y = y + sigma * np.random.randn(n_samples)\n",
    "\n",
    "  w_init = [w_true[0], 3, 7]\n",
    "  w_steps = np.zeros((itr, len(w_init)))\n",
    "  mse_steps = np.zeros(itr)\n",
    "\n",
    "  w_star = w_init\n",
    "  for i in range(itr):\n",
    "    w_star, mse, grad = sgd_step(w_star, X, y, lr, n_batch)\n",
    "    w_steps[i] = w_star\n",
    "    mse_steps[i] = mse\n",
    "\n",
    "  plt.figure(figsize=(18,5))\n",
    "  plt.subplot(1,3,1);\n",
    "\n",
    "  for n, w in enumerate(w_true):\n",
    "    plt.axhline(y=w, linestyle='--', color=colors[n]);\n",
    "    sns.lineplot(x=np.arange(itr), y=w_steps[:,n], color=colors[n], label='w' + str(n));\n",
    "  plt.xlabel(\"Iteration\");\n",
    "  plt.ylabel(\"Coefficient Value\");\n",
    "\n",
    "  plt.subplot(1, 3, 2);\n",
    "  sns.lineplot(x=np.arange(itr), y=mse_steps);\n",
    "  #plt.yscale(\"log\")\n",
    "  plt.xlabel(\"Iteration\");\n",
    "  plt.ylabel(\"Training MSE\");\n",
    "\n",
    "  plt.subplot(1, 3, 3);\n",
    "  X1, X2 = np.meshgrid(coefs, coefs);\n",
    "  p = plt.contour(X1, X2, mses_coefs, levels=5);\n",
    "  plt.clabel(p, inline=1, fontsize=10);\n",
    "  plt.xlabel('w1');\n",
    "  plt.ylabel('w2');\n",
    "  sns.lineplot(x=w_steps[:,1], y=w_steps[:,2], color='black', sort=False, alpha=0.5);\n",
    "  sns.scatterplot(x=w_steps[:,1], y=w_steps[:,2], hue=np.arange(itr), edgecolor=None);\n",
    "  plt.scatter(w_true[1], w_true[2], c='black', marker='*');\n",
    "\n",
    "  plt.suptitle(\"Estimate after %d iterations with rate %s and batch size %d: %s\" % \n",
    "              (itr, \"{0:0.4f}\".format(lr), n_batch, [\"{0:0.4f}\".format(w) for w in w_star]));\n",
    "  plt.show()"
   ],
   "id": "3ab75156-80a6-415e-9ca3-bcb4dca16581"
  },
  {
   "cell_type": "markdown",
   "metadata": {},
   "source": [
    "## A less friendly loss surface"
   ],
   "id": "f0e8f3c0-7a13-4521-8406-04d058e36f71"
  },
  {
   "cell_type": "code",
   "execution_count": null,
   "metadata": {},
   "outputs": [],
   "source": [
    "w_true = [2, 5, 4]"
   ],
   "id": "79c23e89-ff38-4d6f-aa5b-251ed037ca8c"
  },
  {
   "cell_type": "code",
   "execution_count": null,
   "metadata": {},
   "outputs": [],
   "source": [
    "n_samples = 1000\n",
    "d = 1\n",
    "sigma = 1\n",
    "\n",
    "x1 = np.random.randn(n_samples,d)\n",
    "x2 = x1 + (sigma/5)*np.random.randn(n_samples,1)\n",
    "x = np.column_stack([x1, x2])\n",
    "y = (np.dot(x, w_true[1:]) + w_true[0]).squeeze() + sigma * np.random.randn(n_samples)\n",
    "\n",
    "\n",
    "X = np.column_stack((np.ones((n_samples, 1)), x))"
   ],
   "id": "94865838-f480-463c-8dde-925aa3465bed"
  },
  {
   "cell_type": "code",
   "execution_count": null,
   "metadata": {},
   "outputs": [],
   "source": [
    "sns.scatterplot(x=x1.squeeze(), y=x2.squeeze());\n",
    "plt.xlabel('x1');\n",
    "plt.ylabel('x2');"
   ],
   "id": "75d0f780-ce69-4a8c-a563-554ba8b50f30"
  },
  {
   "cell_type": "markdown",
   "metadata": {},
   "source": [
    "### MSE contour"
   ],
   "id": "83d7d8a3-3023-49f9-9253-a947a7ea205c"
  },
  {
   "cell_type": "code",
   "execution_count": null,
   "metadata": {},
   "outputs": [],
   "source": [
    "coefs = np.arange(3, 7, 0.02)\n",
    "\n",
    "coef_grid = np.array(np.meshgrid(coefs, coefs)).reshape(1, 2, coefs.shape[0], coefs.shape[0])\n",
    "y_hat_c = (w_true[0] + np.sum(coef_grid * x.reshape(x.shape[0], 2, 1, 1), axis=1) )\n",
    "mses_coefs = np.mean((y.reshape(-1, 1, 1)- y_hat_c)**2,axis=0)"
   ],
   "id": "99390d7a-dce0-4f96-a6c9-4ef47c97345d"
  },
  {
   "cell_type": "code",
   "execution_count": null,
   "metadata": {},
   "outputs": [],
   "source": [
    "plt.figure(figsize=(5,5));\n",
    "X1, X2 = np.meshgrid(coefs, coefs)\n",
    "p = plt.contour(X1, X2, mses_coefs, levels=15);\n",
    "plt.clabel(p, inline=1, fontsize=10);\n",
    "plt.xlabel('w1');\n",
    "plt.ylabel('w2');\n",
    "plt.scatter(w_true[1], w_true[2], c='black', marker='*');\n"
   ],
   "id": "23fe4caf-d282-414c-b101-08cfd349d095"
  },
  {
   "cell_type": "markdown",
   "metadata": {},
   "source": [
    "### Perform gradient descent"
   ],
   "id": "c2a3cb23-b482-4426-b81d-b7f563625aa6"
  },
  {
   "cell_type": "code",
   "execution_count": null,
   "metadata": {},
   "outputs": [],
   "source": [
    "itr = 100\n",
    "lr = 0.1\n",
    "w_init = [w_true[0], 3, 7]"
   ],
   "id": "c3112f93-3d8b-4192-b40a-1e96acea6009"
  },
  {
   "cell_type": "code",
   "execution_count": null,
   "metadata": {},
   "outputs": [],
   "source": [
    "w_steps = np.zeros((itr, len(w_init)))\n",
    "mse_steps = np.zeros(itr)\n",
    "grad_steps = np.zeros((itr, len(w_init)))\n",
    "\n",
    "w_star = w_init\n",
    "for i in range(itr):\n",
    "  w_star, mse, gradient = gd_step(w_star, X, y, lr)\n",
    "  w_steps[i] = w_star\n",
    "  mse_steps[i] = mse\n",
    "  grad_steps[i] = gradient"
   ],
   "id": "132e6b6a-2564-466e-9ba0-c99c133a2af0"
  },
  {
   "cell_type": "markdown",
   "metadata": {},
   "source": [
    "### Visualize gradient descent"
   ],
   "id": "b828ff43-1946-426b-9604-d3dff18f6988"
  },
  {
   "cell_type": "code",
   "execution_count": null,
   "metadata": {},
   "outputs": [],
   "source": [
    "plt.figure(figsize=(18,5))\n",
    "plt.subplot(1,3,1);\n",
    "\n",
    "for n, w in enumerate(w_true):\n",
    "  plt.axhline(y=w, linestyle='--', color=colors[n]);\n",
    "  sns.lineplot(x=np.arange(itr), y=w_steps[:,n], color=colors[n], label='w' + str(n));\n",
    "plt.xlabel(\"Iteration\");\n",
    "plt.ylabel(\"Coefficient Value\");\n",
    "\n",
    "plt.subplot(1, 3, 2);\n",
    "sns.lineplot(x=np.arange(itr), y=mse_steps);\n",
    "#plt.yscale(\"log\")\n",
    "plt.xlabel(\"Iteration\");\n",
    "plt.ylabel(\"Training MSE\");\n",
    "\n",
    "\n",
    "plt.subplot(1, 3, 3);\n",
    "X1, X2 = np.meshgrid(coefs, coefs);\n",
    "p = plt.contour(X1, X2, mses_coefs, levels=5);\n",
    "plt.clabel(p, inline=1, fontsize=10);\n",
    "plt.xlabel('w1');\n",
    "plt.ylabel('w2');\n",
    "sns.lineplot(x=w_steps[:,1], y=w_steps[:,2], color='black', sort=False, alpha=0.5);\n",
    "sns.scatterplot(x=w_steps[:,1], y=w_steps[:,2], hue=np.arange(itr), edgecolor=None);\n",
    "plt.scatter(w_true[1], w_true[2], c='black', marker='*');\n",
    "\n",
    "plt.suptitle(\"Estimate after %d iterations with rate %s: %s\" % \n",
    "          (itr, \"{0:0.4f}\".format(lr), [\"{0:0.4f}\".format(w) for w in w_star]));"
   ],
   "id": "3b39d9e9-36fa-4ddb-8a68-da8417ae99da"
  },
  {
   "cell_type": "markdown",
   "metadata": {},
   "source": [
    "### Other things to try\n",
    "\n",
    "-   What happens if we increase the learning rate (try e.g. 0.9)?\n",
    "-   What happens if we change the initial “guess”?"
   ],
   "id": "242b3b13-8301-462d-ac06-efc1e8378879"
  },
  {
   "cell_type": "markdown",
   "metadata": {},
   "source": [
    "### Momentum"
   ],
   "id": "cc9b0fa7-fca7-4963-a6c0-591db8cf907d"
  },
  {
   "cell_type": "code",
   "execution_count": null,
   "metadata": {},
   "outputs": [],
   "source": [
    "def gd_step_momentum(w, X, y, lr, eta, v):\n",
    "  # use current parameters to get y_hat, error\n",
    "  y_hat = np.dot(X,w)\n",
    "  error = y_hat-y\n",
    "  # compute gradient and velocity\n",
    "  grad = np.matmul(X.T, error)\n",
    "  v_new = eta*v - (lr/X.shape[0])*grad\n",
    "  # update weights\n",
    "  w_new = w + v_new\n",
    "\n",
    "  # we don't have to actually compute MSE\n",
    "  # but I want to, for visualization \n",
    "  mse = np.mean(error**2, axis=0)\n",
    "\n",
    "  return (w_new, mse, grad, v_new)"
   ],
   "id": "396c2198-9946-42a6-a71a-053a5cce8568"
  },
  {
   "cell_type": "code",
   "execution_count": null,
   "metadata": {},
   "outputs": [],
   "source": [
    "itr = 100\n",
    "lr = 0.1\n",
    "eta = 0.9\n",
    "w_init = [w_true[0], 3, 7]"
   ],
   "id": "4de778ff-623b-4a2e-9532-2503478d3b52"
  },
  {
   "cell_type": "code",
   "execution_count": null,
   "metadata": {},
   "outputs": [],
   "source": [
    "w_steps = np.zeros((itr, len(w_init)))\n",
    "mse_steps = np.zeros(itr)\n",
    "grad_steps = np.zeros((itr, len(w_init)))\n",
    "v_steps = np.zeros((itr, len(w_init)))\n",
    "\n",
    "w_star = w_init\n",
    "velocity = np.zeros(len(w_init))\n",
    "for i in range(itr):\n",
    "  w_star, mse, gradient, velocity = gd_step_momentum(w_star, X, y, lr, eta, velocity)\n",
    "  w_steps[i] = w_star\n",
    "  mse_steps[i] = mse\n",
    "  grad_steps[i] = gradient\n",
    "  v_steps[i] = velocity"
   ],
   "id": "aaa64360-bb8e-4c66-86c3-6f81f771015f"
  },
  {
   "cell_type": "code",
   "execution_count": null,
   "metadata": {},
   "outputs": [],
   "source": [
    "plt.figure(figsize=(18,5))\n",
    "plt.subplot(1,3,1);\n",
    "\n",
    "for n, w in enumerate(w_true):\n",
    "  plt.axhline(y=w, linestyle='--', color=colors[n]);\n",
    "  sns.lineplot(x=np.arange(itr), y=w_steps[:,n], color=colors[n], label='w' + str(n));\n",
    "plt.xlabel(\"Iteration\");\n",
    "plt.ylabel(\"Coefficient Value\");\n",
    "\n",
    "plt.subplot(1, 3, 2);\n",
    "for n, w in enumerate(w_true):\n",
    "  sns.lineplot(x=np.arange(itr), y=v_steps[:,n], color=colors[n]);\n",
    "plt.xlabel(\"Iteration\");\n",
    "plt.ylabel(\"Velocity\");\n",
    "\n",
    "\n",
    "plt.subplot(1, 3, 3);\n",
    "X1, X2 = np.meshgrid(coefs, coefs);\n",
    "p = plt.contour(X1, X2, mses_coefs, levels=5);\n",
    "plt.clabel(p, inline=1, fontsize=10);\n",
    "plt.xlabel('w1');\n",
    "plt.ylabel('w2');\n",
    "sns.lineplot(x=w_steps[:,1], y=w_steps[:,2], color='black', sort=False, alpha=0.5);\n",
    "sns.scatterplot(x=w_steps[:,1], y=w_steps[:,2], hue=np.arange(itr), edgecolor=None);\n",
    "plt.scatter(w_true[1], w_true[2], c='black', marker='*');\n",
    "\n",
    "plt.suptitle(\"Estimate after %d iterations with rate %s: %s\" % \n",
    "          (itr, \"{0:0.4f}\".format(lr), [\"{0:0.4f}\".format(w) for w in w_star]));\n"
   ],
   "id": "4c426b43-d26a-4ee1-8568-90c2d3df8a69"
  }
 ],
 "nbformat": 4,
 "nbformat_minor": 5,
 "metadata": {}
}
