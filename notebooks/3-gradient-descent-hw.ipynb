{
 "cells": [
  {
   "cell_type": "markdown",
   "metadata": {},
   "source": [
    "For this question you will change some parameters in the “Deep dive:\n",
    "gradient descent” notebook, re-run the notebook with the new parameters,\n",
    "and answer questions about the results. You do not have to write any new\n",
    "code, and you should not submit any code. (Copy the relevant output\n",
    "images to a regular document, answer the questions there, and submit\n",
    "that document - don’t submit a Colab notebook.)\n",
    "\n",
    "1.  Re-run the “Descent path” section with three different learning\n",
    "    rates: `lr = 0.0002`, `lr = 0.002`, and `lr = 0.02` (and leave other\n",
    "    parameters at their default settings). For each learning rate,\n",
    "\n",
    "-   Show the plot of coeffient value vs. iteration, and the plot of the\n",
    "    descent path on the MSE contour.\n",
    "-   What is the estimate of $w$ after 50 iterations?\n",
    "-   Describe whether the gradient descent diverges, converges within 50\n",
    "    iterations, or starts to converge but does not get close enough to\n",
    "    the optimum value within 50 iterations.\n",
    "\n",
    "1.  Re-run the “Stochastic gradient descent” section with `lr=0.1` and\n",
    "    `n=1`, then with `lr=0.01` and `n=10`, and finally with `lr = 0.001`\n",
    "    and `n = 100` (and leave the other parameters at their default\n",
    "    settings). For each,\n",
    "\n",
    "-   Show the plot of coeffient value vs. iteration, and the plot of the\n",
    "    descent path on the MSE contour.\n",
    "-   Comment on the descent path. Does it converge smoothly to the\n",
    "    optimal solution?"
   ]
  }
 ],
 "nbformat": 4,
 "nbformat_minor": 5,
 "metadata": {}
}
