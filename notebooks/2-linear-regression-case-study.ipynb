{
 "cells": [
  {
   "cell_type": "markdown",
   "metadata": {},
   "source": [
    "In this notebook\n",
    "----------------\n",
    "\n",
    "Many college courses conclude by giving students the opportunity to\n",
    "evaluate the course and the instructor anonymously. In the article\n",
    "“Beauty in the Classroom: Professors’ Pulchritude and Putative\n",
    "Pedagogical Productivity”\n",
    "([PDF](https://www.nber.org/papers/w9853.pdf)), authors Daniel Hamermesh\n",
    "and Amy M. Parker suggest (based on a data set of teaching evaluation\n",
    "scores collected at UT Austin) that student evaluation scores can\n",
    "partially be predicted by features unrelated to teaching, such as the\n",
    "physical attractiveness of the instructor.\n",
    "\n",
    "In this lab, we will use this data to try and predict the average\n",
    "instructor rating with a multiple linear regression."
   ]
  },
  {
   "cell_type": "markdown",
   "metadata": {},
   "source": [
    "### Attribution\n",
    "\n",
    "Parts of this lab are based on a lab assignment from the OpenIntro\n",
    "textbook “Introductory Statistics with Randomization and Simulation”\n",
    "that is released under a Creative Commons Attribution-ShareAlike 3.0\n",
    "Unported license. The book website is at\n",
    "<https://www.openintro.org/book/isrs/>. You can read a PDF copy of the\n",
    "book for free and watch video lectures associated with the book at that\n",
    "URL. You can also see the lab assignment that this notebook is based on."
   ]
  },
  {
   "cell_type": "markdown",
   "metadata": {},
   "source": [
    "### Data\n",
    "\n",
    "The data were gathered from end of semester student evaluations for a\n",
    "large sample of professors from the University of Texas at Austin. In\n",
    "addition, six students looked at a photograph of each professor in the\n",
    "sample, and rated the professors’ physical appearance. More\n",
    "specifically:\n",
    "\n",
    "> Each of the professors’ pictures was rated by each of six\n",
    "> undergraduate students: Three women and three men, with one of each\n",
    "> gender being a lower-division, two upper-division students (to accord\n",
    "> with the distribution of classes across the two levels). The raters\n",
    "> were told to use a 10 (highest) to 1 rating scale, to concentrate on\n",
    "> the physiognomy of the professor in the picture, to make their ratings\n",
    "> independent of age, and to keep 5 in mind as an average.\n",
    "\n",
    "We are using a slightly modified version of the original data set from\n",
    "the published paper. The dataset was released along with the textbook\n",
    "“Data Analysis Using Regression and Multilevel/Hierarchical Models”\n",
    "(Gelman and Hill, 2007).)"
   ]
  },
  {
   "cell_type": "markdown",
   "metadata": {},
   "source": [
    "### Setup\n",
    "\n",
    "We will start by importing relevant libraries, setting up our notebook,\n",
    "reading in the data, and checking that it was loaded correctly."
   ]
  },
  {
   "cell_type": "code",
   "execution_count": null,
   "metadata": {},
   "outputs": [],
   "source": [
    "import pandas as pd\n",
    "import matplotlib.pyplot as plt\n",
    "import seaborn as sns\n",
    "import numpy as np\n",
    "from sklearn import metrics\n",
    "from sklearn import model_selection\n",
    "from sklearn.linear_model import LinearRegression\n",
    "\n",
    "\n",
    "from IPython.core.interactiveshell import InteractiveShell\n",
    "InteractiveShell.ast_node_interactivity = \"all\"\n",
    "%matplotlib inline"
   ]
  },
  {
   "cell_type": "code",
   "execution_count": null,
   "metadata": {},
   "outputs": [],
   "source": [
    "url = 'https://www.openintro.org/stat/data/evals.csv'\n",
    "df = pd.read_csv(url)\n",
    "df.head()\n",
    "df.columns\n",
    "df.shape"
   ]
  },
  {
   "cell_type": "markdown",
   "metadata": {},
   "source": [
    "Each row in the data frame represents a different course, and columns\n",
    "represent variables about the courses and professors. The data\n",
    "dictionary is reproduced here from the OpenIntro lab:\n",
    "\n",
    "| variable        | description                                                                           |\n",
    "|-----------------|---------------------------------------------------------------------------------------|\n",
    "| `score`         | average professor evaluation score: (1) very unsatisfactory - (5) excellent.          |\n",
    "| `rank`          | rank of professor: teaching, tenure track, tenured.                                   |\n",
    "| `ethnicity`     | ethnicity of professor: not minority, minority.                                       |\n",
    "| `gender`        | gender of professor: female, male.                                                    |\n",
    "| `language`      | language of school where professor received education: english or non-english.        |\n",
    "| `age`           | age of professor.                                                                     |\n",
    "| `cls_perc_eval` | percent of students in class who completed evaluation.                                |\n",
    "| `cls_did_eval`  | number of students in class who completed evaluation.                                 |\n",
    "| `cls_students`  | total number of students in class.                                                    |\n",
    "| `cls_level`     | class level: lower, upper.                                                            |\n",
    "| `cls_profs`     | number of professors teaching sections in course in sample: single, multiple.         |\n",
    "| `cls_credits`   | number of credits of class: one credit (lab, PE, etc.), multi credit.                 |\n",
    "| `bty_f1lower`   | beauty rating of professor from lower level female: (1) lowest - (10) highest.        |\n",
    "| `bty_f1upper`   | beauty rating of professor from upper level female: (1) lowest - (10) highest.        |\n",
    "| `bty_f2upper`   | beauty rating of professor from second upper level female: (1) lowest - (10) highest. |\n",
    "| `bty_m1lower`   | beauty rating of professor from lower level male: (1) lowest - (10) highest.          |\n",
    "| `bty_m1upper`   | beauty rating of professor from upper level male: (1) lowest - (10) highest.          |\n",
    "| `bty_m2upper`   | beauty rating of professor from second upper level male: (1) lowest - (10) highest.   |\n",
    "| `bty_avg`       | average beauty rating of professor.                                                   |\n",
    "| `pic_outfit`    | outfit of professor in picture: not formal, formal.                                   |\n",
    "| `pic_color`     | color of professor’s picture: color, black & white.                                   |"
   ]
  },
  {
   "cell_type": "markdown",
   "metadata": {},
   "source": [
    "### Explore data\n",
    "\n",
    "As always, start by exploring the data:"
   ]
  },
  {
   "cell_type": "code",
   "execution_count": null,
   "metadata": {},
   "outputs": [],
   "source": [
    "df.describe()"
   ]
  },
  {
   "cell_type": "code",
   "execution_count": null,
   "metadata": {},
   "outputs": [],
   "source": [
    "sns.pairplot(df, plot_kws={'alpha':0.5, 'size': 0.1})"
   ]
  },
  {
   "cell_type": "markdown",
   "metadata": {},
   "source": [
    "With so many numeric variables, the pair plot is hard to read. We can\n",
    "create a pairplot excluding some variables that we don’t expect to be\n",
    "useful for visualization: `cls_perc_eval`, `cls_did_eval`. We will also\n",
    "exclude the individual attractiveness ratings `bty_f1lower`,\n",
    "`bty_f1upper`, `bty_f2upper`, `bty_m1lower`, `bty_m1upper`,\n",
    "`bty_m2upper`, since the overall attractiveness rating is still\n",
    "represented by `bty_avg`."
   ]
  },
  {
   "cell_type": "code",
   "execution_count": null,
   "metadata": {},
   "outputs": [],
   "source": [
    "sns.pairplot(df, vars=['age', 'cls_students', 'bty_avg', 'score'], plot_kws={'alpha':0.5, 'size': 0.1})"
   ]
  },
  {
   "cell_type": "markdown",
   "metadata": {},
   "source": [
    "As part of our exploration of the data, we can also examine the effect\n",
    "of non-numeric variables related to the instructor and the class:\n",
    "`rank`, `ethnicity`, `gender`, `language`, `cls_level`, `cls_profs`,\n",
    "`cls_credits`."
   ]
  },
  {
   "cell_type": "code",
   "execution_count": null,
   "metadata": {},
   "outputs": [],
   "source": [
    "for feature in ['rank', 'ethnicity', 'gender', 'language', 'cls_level', 'cls_profs', 'cls_credits']:\n",
    "    df.groupby([feature])['score'].describe()"
   ]
  },
  {
   "cell_type": "markdown",
   "metadata": {},
   "source": [
    "#### Question 1\n",
    "\n",
    "Describe the relationship between `score` and the overall attractiveness\n",
    "rating `bty_avg`. Is there an apparent correlation? If so, is it a\n",
    "positive or a negative correlation? What about `age` and `cls_students`,\n",
    "do they appear to be correlated with `score`?\n",
    "\n",
    "Also describe the relationship between `score` and the categorical\n",
    "variables you explored above that are related to characteristics of the\n",
    "*instructor*: `rank`, `ethnicity`, `gender`, `language`. Which of these\n",
    "variables have an apparent correlation with `score`? Is it a positive or\n",
    "a negative correlation?\n",
    "\n",
    "Are any of the apparent relationships you observed unexpected to you?\n",
    "Explain.\n",
    "\n",
    "------------------------------------------------------------------------"
   ]
  },
  {
   "cell_type": "markdown",
   "metadata": {},
   "source": [
    "### Encoding categorical variables\n",
    "\n",
    "For *one hot encoding* of categorical variables, we can use the\n",
    "`get_dummies` function in `pandas`. Create a copy of the dataframe with\n",
    "all categorical variables transformed into indicator (“dummy”)\n",
    "variables, and save it in a new data frame called `df_enc`. Compare the\n",
    "columns of the `df` data frame versus the `df_enc` data frame."
   ]
  },
  {
   "cell_type": "code",
   "execution_count": null,
   "metadata": {},
   "outputs": [],
   "source": [
    "df_enc = pd.get_dummies(df)\n",
    "df_enc.columns"
   ]
  },
  {
   "cell_type": "markdown",
   "metadata": {},
   "source": [
    "### Split data\n",
    "\n",
    "Next, we split the encoded data into a training set (70%) and test set\n",
    "(30%). We will be especially interested in evaluating the model\n",
    "performance on the test set. Since it was not used to train the model\n",
    "parameters (intercept and coefficients), the performance on this data\n",
    "gives us a better idea of how the model may perform on new data.\n",
    "\n",
    "We’ll use the `train_test_split` method in `sklearn`’s `model_selection`\n",
    "module. Since it randomly splits the data, we’ll pass a random “state”\n",
    "into the function that makes the split repeatable (same split every time\n",
    "we run this notebook) and ensures that everyone in the class will have\n",
    "exactly the same split."
   ]
  },
  {
   "cell_type": "code",
   "execution_count": null,
   "metadata": {},
   "outputs": [],
   "source": [
    "train, test = model_selection.train_test_split(df_enc, test_size=0.3, random_state=9)\n",
    "# why 9? see https://dilbert.com/strip/2001-10-25\n",
    "train.shape\n",
    "test.shape"
   ]
  },
  {
   "cell_type": "markdown",
   "metadata": {},
   "source": [
    "### Simple linear regression\n",
    "\n",
    "Now we are finally ready to train a regression model.\n",
    "\n",
    "Since the article is nominally abou the attractiveness of the\n",
    "instructor, we will train the simple linear regression on the `bty_avg`\n",
    "feature.\n",
    "\n",
    "In the cell that follows, write code to\n",
    "\n",
    "-   use `sklearn` to fit a simple linear regression model on the\n",
    "    training set, using `bty_avg` as the feature on which to train. Save\n",
    "    your fitted model in a variable `reg_simple`.\n",
    "-   print the intercept and coefficient of the model.\n",
    "-   use `predict` on the fitted model to estimate the evaluation score\n",
    "    on the training set, and save this array in `y_pred_train`.\n",
    "-   use `predict` on the fitted model to estimate the evaluation score\n",
    "    on the test set, and save this array in `y_pred_test`.\n",
    "\n",
    "Then run the cell after that one, which will show you the training data,\n",
    "the test data, and your regression line."
   ]
  },
  {
   "cell_type": "code",
   "execution_count": null,
   "metadata": {},
   "outputs": [],
   "source": [
    "# TODO 1\n",
    "# reg_simple = ...\n",
    "# y_pred_train = ...\n",
    "# y_pred_test = ...\n"
   ]
  },
  {
   "cell_type": "code",
   "execution_count": null,
   "metadata": {},
   "outputs": [],
   "source": [
    "sns.scatterplot(data=train, x=\"bty_avg\", y=\"score\", color='blue', alpha=0.5);\n",
    "sns.scatterplot(data=test, x=\"bty_avg\", y=\"score\", color='green', alpha=0.5);\n",
    "sns.lineplot(data=train, x=\"bty_avg\", y=y_pred_train, color='red');"
   ]
  },
  {
   "cell_type": "markdown",
   "metadata": {},
   "source": [
    "### Evaluate simple linear regression performance\n",
    "\n",
    "Now we will evaluate our model performance.\n",
    "\n",
    "In the following cell, write a *function* to compute key performance\n",
    "metrics for your model:\n",
    "\n",
    "-   compute the R2 score on your training data, and print it\n",
    "-   compute the RSS per sample on your training data, and print it\n",
    "-   compute the RSS per sample, divided by the sample variance of\n",
    "    `score`, on your training data, and print it. Recall that this\n",
    "    metric tells us the ratio of average error of your model to average\n",
    "    error of prediction by mean.\n",
    "-   and compute the same three metrics for your test set"
   ]
  },
  {
   "cell_type": "code",
   "execution_count": null,
   "metadata": {},
   "outputs": [],
   "source": [
    "# TODO 2 fill in the function -\n",
    "\n",
    "def print_regression_performance(y_true_train, y_pred_train, y_true_test, y_pred_test):\n",
    "    # ...\n"
   ]
  },
  {
   "cell_type": "markdown",
   "metadata": {},
   "source": [
    "Call your function to print the performance of the simple linear\n",
    "regression. Is a simple linear regression on `bty_avg` better than a\n",
    "“dumb” model that predicts the mean value of `score` for all samples?"
   ]
  },
  {
   "cell_type": "code",
   "execution_count": null,
   "metadata": {},
   "outputs": [],
   "source": [
    "print_regression_performance(train['score'], y_pred_train, test['score'], y_pred_test)"
   ]
  },
  {
   "cell_type": "markdown",
   "metadata": {},
   "source": [
    "### Multiple linear regression\n",
    "\n",
    "Next, we’ll see if we can improve model performance using multiple\n",
    "linear regression, with more features included.\n",
    "\n",
    "To start, we need to decide which features to use as input to our model.\n",
    "One possible approach is to use every feature in the dataset excluding\n",
    "the target variable, `score`.\n",
    "\n",
    "You can build and view this list of features by running:"
   ]
  },
  {
   "cell_type": "code",
   "execution_count": null,
   "metadata": {},
   "outputs": [],
   "source": [
    "features = df_enc.columns.drop(['score'])\n",
    "features"
   ]
  },
  {
   "cell_type": "markdown",
   "metadata": {},
   "source": [
    "In the following cell, write code to\n",
    "\n",
    "-   use `sklearn` to fit a linear regression model on the training set,\n",
    "    using the `features` array as the list of features to train on. Save\n",
    "    your fitted model in a variable `reg_multi`.\n",
    "-   print a table of the features used in the regression and the\n",
    "    coefficient assigned to each. If you have saved your fitted\n",
    "    regression in a variable named `reg_multi`, you can create and print\n",
    "    this table with:\n",
    "\n",
    "``` python\n",
    "df_coef = pd.DataFrame(data = \n",
    "                        {'feature': features, \n",
    "                         'coefficient': reg_multi.coef_})\n",
    "df_coef\n",
    "```"
   ]
  },
  {
   "cell_type": "code",
   "execution_count": null,
   "metadata": {},
   "outputs": [],
   "source": [
    "# TODO 3 \n",
    "# reg_multi = ...\n"
   ]
  },
  {
   "cell_type": "markdown",
   "metadata": {},
   "source": [
    "#### Question 2\n",
    "\n",
    "Look at the list of features and coefficients, especially those related\n",
    "to the attractiveness ratings.\n",
    "\n",
    "Are these results surprising, based on the results of the simple linear\n",
    "regression? Explain your answer.\n",
    "\n",
    "------------------------------------------------------------------------"
   ]
  },
  {
   "cell_type": "markdown",
   "metadata": {},
   "source": [
    "### Effect of collinearity\n",
    "\n",
    "Note especially the coefficients associated with each of the individual\n",
    "attractiveness rankings, and the coefficient associated with the average\n",
    "attractiveness ranking. Each of these features separately seems to have\n",
    "a large effect; however, because they are strongly *collinear*, they\n",
    "cancel one another out.\n",
    "\n",
    "(You should be able to see the collinearity clearly in the pairplot you\n",
    "created.)\n",
    "\n",
    "In the following cell, write code to\n",
    "\n",
    "-   create a new `features` array, that drops the *individual*\n",
    "    attractiveness rankings in addition to the `score` variable (but do\n",
    "    *not* drop the average attractiveness ranking)\n",
    "-   use `sklearn` to fit a linear regression model on the training set,\n",
    "    using the new `features` array as the list of features to train on.\n",
    "    Save your fitted model in a variable `reg_avgbty`.\n",
    "-   print a table of the features used in the regression and the\n",
    "    coefficient assigned to each."
   ]
  },
  {
   "cell_type": "code",
   "execution_count": null,
   "metadata": {},
   "outputs": [],
   "source": [
    "# TODO 4 \n",
    "# features = ...\n",
    "# reg_avgbty = ...\n"
   ]
  },
  {
   "cell_type": "markdown",
   "metadata": {},
   "source": [
    "#### Question 3\n",
    "\n",
    "Given the model parameters you have found, rank the following features\n",
    "from “strongest effect” to “weakest effect” in terms of their effect (on\n",
    "average) on the evaluation score:\n",
    "\n",
    "-   Instructor ethnicity\n",
    "-   Instructor gender\n",
    "\n",
    "(Note that in general, we cannot use the coefficient to compare the\n",
    "effect of features that have a different range. Both ethnicity and\n",
    "gender are represented by binary one hot-encoded variables.)\n",
    "\n",
    "------------------------------------------------------------------------"
   ]
  },
  {
   "cell_type": "markdown",
   "metadata": {},
   "source": [
    "### Evaluate multiple regression model performance\n",
    "\n",
    "Evaluate the performance of your `reg_avgbty` model. In the next cell,\n",
    "write code to:\n",
    "\n",
    "-   use the `predict` function on your fitted regression to find\n",
    "    $\\hat{y}$ for all samples in the *training* set, and save this in an\n",
    "    array called `y_pred_train`\n",
    "-   use the `predict` function on your fitted regression to find\n",
    "    $\\hat{y}$ for all samples in the *test* set, and save this in an\n",
    "    array called `y_pred_test`\n",
    "-   call the `print_regression_performance` function you wrote in a\n",
    "    previous cell, and print the performance metrics on the training and\n",
    "    test set."
   ]
  },
  {
   "cell_type": "code",
   "execution_count": null,
   "metadata": {},
   "outputs": [],
   "source": [
    "# TODO 5 \n",
    "# y_pred_train = ...\n",
    "# y_pred_test = ...\n"
   ]
  },
  {
   "cell_type": "markdown",
   "metadata": {},
   "source": [
    "#### Question 4\n",
    "\n",
    "Based on the analysis above, what portion of the variation in instructor\n",
    "teaching evaluation can be explained by the factors unrelated to\n",
    "teaching performance, such as the physical characteristics of the\n",
    "instructor?\n",
    "\n",
    "------------------------------------------------------------------------"
   ]
  },
  {
   "cell_type": "markdown",
   "metadata": {},
   "source": [
    "#### Question 5\n",
    "\n",
    "Based on the analysis above, is your model better at predicting\n",
    "instructor teaching scores than a “dumb” model that just assigns the\n",
    "mean teaching score to every instructor? Explain.\n",
    "\n",
    "------------------------------------------------------------------------"
   ]
  },
  {
   "cell_type": "markdown",
   "metadata": {},
   "source": [
    "#### Question 6\n",
    "\n",
    "Suppose you are hired by the ECE department to develop a classifer that\n",
    "will identify high-performing faculty, who will then be awarded prizes\n",
    "for their efforts.\n",
    "\n",
    "Based on the analysis above, do you think it would be fair to use scores\n",
    "on teaching evaluations as an input to your classifier? Explain your\n",
    "answer.\n",
    "\n",
    "------------------------------------------------------------------------"
   ]
  },
  {
   "cell_type": "markdown",
   "metadata": {},
   "source": [
    "### Exploring unexpected correlation\n",
    "\n",
    "There are some features that we do *not* expect to be correlated with\n",
    "the instructor’s score.\n",
    "\n",
    "For example, consider the “features” related to the photograph used by\n",
    "the students who rated the instructor’s attractiveness.\n",
    "\n",
    "There is no reason that characteristics of an instructor’s photograph -\n",
    "whether it was in black and white or color, how the instructor was\n",
    "dressed in the photograph - should influence the ratings of students in\n",
    "the instructor’s class. These students most likely did not even see the\n",
    "photograph.\n",
    "\n",
    "In the next cell, write code to\n",
    "\n",
    "-   create a new `features` array that drops the `score` variable, all\n",
    "    of the individual attractiveness rankings, and the variables related\n",
    "    to the photograph used for attractiveness rankings.\n",
    "-   use it to fit a model (saved in `reg_nopic`).\n",
    "-   use `reg_nopic` to predict the evaluation scores on both the\n",
    "    training and test set\n",
    "-   compute the same set of metrics as above."
   ]
  },
  {
   "cell_type": "code",
   "execution_count": null,
   "metadata": {},
   "outputs": [],
   "source": [
    "# TODO 6 \n",
    "# features = ...\n",
    "# reg_nopic = ...\n",
    "\n"
   ]
  },
  {
   "cell_type": "markdown",
   "metadata": {},
   "source": [
    "#### Question 7\n",
    "\n",
    "Is your model less predictive when features related to the instructor\n",
    "photograph are excluded? Explain.\n",
    "\n",
    "------------------------------------------------------------------------"
   ]
  },
  {
   "cell_type": "markdown",
   "metadata": {},
   "source": [
    "Finally, we will observe the effect of excluding class-related variables\n",
    "(whether it is an upper-division or lower-division class, number of\n",
    "credits, etc.)\n",
    "\n",
    "In the next cell, write code to:\n",
    "\n",
    "-   create a new `features` array that drops the `score` variable, all\n",
    "    of the individual attractiveness rankings, the variables related to\n",
    "    the photograph used for attractiveness rankings, *and* all of the\n",
    "    variables that begin with the `cls` prefix.\n",
    "-   use it to fit a model (saved in `reg_nocls`).\n",
    "-   use `reg_nocls` to predict the evaluation scores on both the\n",
    "    training and test set\n",
    "-   compute the same set of metrics as above."
   ]
  },
  {
   "cell_type": "code",
   "execution_count": null,
   "metadata": {},
   "outputs": [],
   "source": [
    "# TODO 7 \n",
    "# features = ...\n",
    "# reg_nocls = ...\n"
   ]
  },
  {
   "cell_type": "markdown",
   "metadata": {},
   "source": [
    "When a machine learning model seems to use a feature that is not\n",
    "expected to be correlated with the target variable (such as the\n",
    "characteristics of the instructor’s photograph…), this can sometimes be\n",
    "a signal that information is “leaking” between the training and test\n",
    "set.\n",
    "\n",
    "In this dataset, each row represents a single course. However, some\n",
    "instructors teach more than one course, and an instructor might get\n",
    "similar evaluation scores on all of the courses he or she teaches.\n",
    "(According to the paper for which this dataset was collected, 94 faculty\n",
    "members taught the 463 courses represented in the dataset, with some\n",
    "faculty members teaching as many as 13 courses.)\n",
    "\n",
    "For example, consider the output of the following command, which prints\n",
    "all of the one credit courses in the data:"
   ]
  },
  {
   "cell_type": "code",
   "execution_count": null,
   "metadata": {},
   "outputs": [],
   "source": [
    "df.loc[df['cls_credits']=='one credit']"
   ]
  },
  {
   "cell_type": "markdown",
   "metadata": {},
   "source": [
    "We observe that 10 out of 27 one-credit courses are taught by what seems\n",
    "to be the same instructor - an individual who is a teaching-track\n",
    "professor, minority ethnicity, male, English-language trained, 50 years\n",
    "old, average attractiveness 3.333, and whose photograph is in color and\n",
    "not formal.\n",
    "\n",
    "This provides a clue regarding the apparent importance of the\n",
    "`cls_credits` variable and other “unexpected” variables in predicting\n",
    "the teaching score. Certain variables may be used by the model to\n",
    "identify the instructor and then learn a relationship between the\n",
    "individual instructor and his or her typical evaluation score, instead\n",
    "of learning a true relationship between the variable and the evaluation\n",
    "score.\n",
    "\n",
    "To explore this issue further, we will repeat our analysis using two\n",
    "different ways of splitting the dataset:\n",
    "\n",
    "1.  random split\n",
    "2.  random split that ensures that each individual *instructor* is\n",
    "    represented in the training data or the test data, but not both.\n",
    "\n",
    "In the latter case, if the regression model is effectively identifying\n",
    "individual instructors, rather than learning true relationships between\n",
    "instructor/course characteristics and teaching ratings, then the model\n",
    "will perform much worse on the test set for this type of split. This is\n",
    "because the instructors it has “learned” are not present in the test\n",
    "set.\n",
    "\n",
    "First, we will assign an “instructor ID” to each row in our data frame:"
   ]
  },
  {
   "cell_type": "code",
   "execution_count": null,
   "metadata": {},
   "outputs": [],
   "source": [
    "instructor_id = df[['rank', 'ethnicity', 'gender', 'language',\n",
    "        'pic_outfit', 'pic_color']].agg('-'.join, axis=1)\n",
    "instructor_id +=  '-' + df['age'].astype(str)\n",
    "instructor_id +=  '-' + df['bty_avg'].astype(str)\n",
    "\n",
    "df_enc = df_enc.assign(instructor_id = instructor_id)\n",
    "\n",
    "df_enc['instructor_id'].head()"
   ]
  },
  {
   "cell_type": "markdown",
   "metadata": {},
   "source": [
    "Now we will perform our splits, train a model, and print performance\n",
    "metrics according to the first scheme, in which an instructor may be\n",
    "present in both the training set and the test set.\n",
    "\n",
    "In the following cell, add code as indicated:"
   ]
  },
  {
   "cell_type": "code",
   "execution_count": null,
   "metadata": {},
   "outputs": [],
   "source": [
    "\n",
    "ss = model_selection.ShuffleSplit(n_splits=10, test_size=0.3, random_state=9)\n",
    "\n",
    "for train_idx, test_idx in ss.split(df_enc):\n",
    "    train = df_enc.iloc[train_idx]\n",
    "    test = df_enc.iloc[test_idx]\n",
    "        \n",
    "    features = df_enc.columns.drop(['score', 'instructor_id'])\n",
    "    print('----')\n",
    "\n",
    "    # TODO 8: add code to train a multiple linear regression using \n",
    "    # the train dataset and the list of features created above\n",
    "    # save the fitted model in reg_rndsplit\n",
    "    # then use the model to create y_pred_train and y_pred_test, \n",
    "    # the model predictions on the training set and test set.\n",
    "    # Finally, use print_regression_performance to see the \n",
    "    # model performance\n",
    "    #\n",
    "    # reg_rndsplit = ...\n",
    "    # y_pred_train = ...\n",
    "    # y_pred_test = ...\n",
    "\n",
    "\n",
    "    print_regression_performance(train['score'], y_pred_train, test['score'], y_pred_test)\n"
   ]
  },
  {
   "cell_type": "markdown",
   "metadata": {},
   "source": [
    "Then, we will perform our splits, train a model, and print performance\n",
    "metrics according to the second scheme, in which an instructor may be\n",
    "present in either the training set or the test set, but not both.\n",
    "\n",
    "In the following cell, add code as indicated:"
   ]
  },
  {
   "cell_type": "code",
   "execution_count": null,
   "metadata": {},
   "outputs": [],
   "source": [
    "\n",
    "gss = model_selection.GroupShuffleSplit(n_splits=10, test_size=0.3, random_state=9)\n",
    "for train_idx, test_idx in gss.split(df_enc, groups=instructor_id):\n",
    "    train = df_enc.iloc[train_idx]\n",
    "    test = df_enc.iloc[test_idx]\n",
    "        \n",
    "    features = df_enc.columns.drop(['score', 'instructor_id'])\n",
    "\n",
    "    # TODO 9: add code to train a multiple linear regression using \n",
    "    # the train dataset and the list of features created above\n",
    "    # save the fitted model in reg_grpsplit\n",
    "    # then use the model to create y_pred_train and y_pred_test\n",
    "    # the model predictions on the training set and test set.\n",
    "    # Finally, use print_regression_performance to see the \n",
    "    # model performance\n",
    "    #\n",
    "    # reg_grpsplit = ...\n",
    "    # y_pred_train = ...\n",
    "    # y_pred_test  = ...\n",
    "\n",
    "\n",
    "    print_regression_performance(train['score'], y_pred_train, test['score'], y_pred_test)\n"
   ]
  },
  {
   "cell_type": "markdown",
   "metadata": {},
   "source": [
    "#### Question 8\n",
    "\n",
    "Based on your analysis above, do you think your model will be useful to\n",
    "predict the teaching evaluation scores of a new faculty member at UT\n",
    "Austin, based on his or her physical characteristics and the\n",
    "characteristics of the course?\n",
    "\n",
    "------------------------------------------------------------------------"
   ]
  },
  {
   "cell_type": "markdown",
   "metadata": {},
   "source": [
    "### Data leakage\n",
    "\n",
    "In this case study, we saw evidence of data leakage: The identity of the\n",
    "instructor “leaked” into the data set, and then the model learned the\n",
    "instructor ID, not a true relationship between instructor\n",
    "characteristics and teaching evaluation scores.\n",
    "\n",
    "As a result, the model had overly optimistic error on the test set. The\n",
    "model appeared to generalize to new, unseen, data, but in fact would not\n",
    "generalize to different instructors."
   ]
  },
  {
   "cell_type": "markdown",
   "metadata": {},
   "source": [
    "Another example of data leakage:\n",
    "\n",
    "You have been hired to develop a new spam classifier for NYU Tandon\n",
    "email. To collect a dataset for the spam classification task, you get\n",
    "5,000 NYU Tandon students, faculty, and staff who agree to manually\n",
    "label every email they receive for the week of March 15-March 21 as\n",
    "“spam” (about 5%) or “not spam” (about 95%). They then share all the\n",
    "emails and labels with you. For example, here are a few of the emails\n",
    "you got from Volunteer 1, who is a member of the ECE department:\n",
    "\n",
    "| Subject                                     | From                         | To                 | Label    |\n",
    "|---------------------------------------------|------------------------------|--------------------|----------|\n",
    "| April Funding Opportunities                 | Office of Sponsored Programs | All Tandon Faculty | Not Spam |\n",
    "| ML TA meeting next week                     | Student 23451 (redacted)     | Fraida Fund        | Not Spam |\n",
    "| Pass/fail option for students this semester | Ivan Selesnick               | ECE Faculty        | Not Spam |\n",
    "| A question about quiz1                      | Student 19245 (redacted)     | Fraida Fund        | Not Spam |\n",
    "| Re: your account is locked                  | PayPall                      | Fraida Fund        | Spam     |\n",
    "| Fwd: Gradescope Webinar                     | Ivan Selesnick               | ECE Faculty        | Not Spam |\n",
    "| Memo to Faculty on COVID-19 Protocols       | Provost Katherine Fleming    | All Tandon Faculty | Not Spam |\n",
    "\n",
    "You assign the emails from volunteers 1-2,500 to a training set and use\n",
    "it to fit a classifier, then compute the classifier accuracy on the\n",
    "emails from volunteers 2,501-5,000.\n",
    "\n",
    "Your classifier does really well on the emails from volunteers\n",
    "2,501-5,000 - in fact, it is 99.9999% accurate! But when you deploy it\n",
    "in production, it misses a lot of spam. Based on the description above,\n",
    "what mistake did you make that caused your performance estimate to be\n",
    "overly optimistic? How would you fix it?"
   ]
  },
  {
   "cell_type": "markdown",
   "metadata": {},
   "source": [
    "Also potential for data leakage when:\n",
    "\n",
    "-   Learning from adjacent temporal data\n",
    "-   Learning from data that includes duplicate\n",
    "-   Learning from a feature that is a proxy for target variable"
   ]
  },
  {
   "cell_type": "markdown",
   "metadata": {},
   "source": [
    "How can we detect data leakage?\n",
    "\n",
    "-   Surprising patterns in data (via exploratory data analysis)\n",
    "-   Performance is “too good to be true”\n",
    "-   Features that shouldn’t be important (based on common sense/domain\n",
    "    knowledge) play a role in reducing error\n",
    "-   Early testing in production"
   ]
  }
 ],
 "nbformat": 4,
 "nbformat_minor": 5,
 "metadata": {}
}
